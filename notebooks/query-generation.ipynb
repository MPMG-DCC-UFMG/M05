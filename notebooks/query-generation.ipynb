{
 "cells": [
  {
   "cell_type": "code",
   "execution_count": 1,
   "metadata": {},
   "outputs": [
    {
     "name": "stderr",
     "output_type": "stream",
     "text": [
      "[nltk_data] Downloading package stopwords to\n",
      "[nltk_data]     /dados01/workspace/ufmg.m07dcc/nltk_data...\n",
      "[nltk_data]   Package stopwords is already up-to-date!\n"
     ]
    },
    {
     "data": {
      "text/plain": [
       "True"
      ]
     },
     "execution_count": 1,
     "metadata": {},
     "output_type": "execute_result"
    }
   ],
   "source": [
    "import nltk\n",
    "nltk.download('stopwords')"
   ]
  },
  {
   "cell_type": "code",
   "execution_count": 2,
   "metadata": {},
   "outputs": [],
   "source": [
    "import requests\n",
    "import random\n",
    "import json\n",
    "import requests\n",
    "import pandas as pd\n",
    "from tqdm import tqdm\n",
    "from math import ceil\n",
    "import matplotlib.pyplot as plt\n",
    "from datetime import datetime\n",
    "from elasticsearch import Elasticsearch\n",
    "from rake_nltk import Rake\n",
    "import string\n",
    "es = Elasticsearch()\n",
    "from collections import Counter\n",
    "from random import randint\n",
    "import gc\n",
    "import uuid\n",
    "QUERY_NUM = 50"
   ]
  },
  {
   "cell_type": "markdown",
   "metadata": {},
   "source": [
    "### Utils"
   ]
  },
  {
   "cell_type": "code",
   "execution_count": 3,
   "metadata": {},
   "outputs": [],
   "source": [
    "def replace_all(text, dic):\n",
    "    for i, j in dic.items():\n",
    "        text = text.replace(i, j)\n",
    "    return text\n",
    "\n",
    "def format_query(query):\n",
    "    query = replace_all(query, {\"['\": \"\", \"']\": \"\", \"'\": \"\"})\n",
    "    query = query.lower() \n",
    "    query = \" \".join(query.split())\n",
    "    return query\n",
    "\n",
    "def extract_term(query_dict):\n",
    "    query = \"\"\n",
    "    for key, value in query_dict.items():\n",
    "        if type(value) == dict:\n",
    "            value = value.get(\"label\", \"\")\n",
    "            value = str(value) if value else \"\"\n",
    "            query += \" \" + value\n",
    "    return query\n",
    "\n",
    "def load_query_json(entry):\n",
    "    entry = replace_all(entry, {'\"\"': '\"', '\"{': '{', '}\"': '}'})\n",
    "    return json.loads(entry)\n",
    "\n",
    "def process_query_dict(row):\n",
    "    try:\n",
    "        entry = load_query_json(row)\n",
    "        query = extract_term(entry)\n",
    "        query = format_query(query)\n",
    "        return query\n",
    "    except:\n",
    "        return ''"
   ]
  },
  {
   "cell_type": "markdown",
   "metadata": {},
   "source": [
    "## Motivação"
   ]
  },
  {
   "cell_type": "code",
   "execution_count": 4,
   "metadata": {},
   "outputs": [],
   "source": [
    "queries = ['Ação', 'Ação civil pública', 'Ação originária', 'Ação cautelar', 'Ação rescisória', 'Ação trabalhista', 'Acidente de trabalho', 'Acórdão', 'Acordo', 'Agravo', 'agravo de instrumento', 'agravo de petição', 'Alçada', 'A quo', 'Arbitragem', 'Arquivado', 'Arquivo provisório', 'Audiência de instrução e julgamento', 'Autônomo', 'Autos', 'Autuação', 'Aviso-prévio', 'Avulso', 'Bis in idem', 'Caput', 'CTPS', 'Carga', 'Carta precatória', 'Carta rogatória', 'Carta de sentença', 'Celetista', 'Consolidado', 'Certidão de objeto e pé', 'Certificado digital', 'Citação', 'Coisa julgada', 'Cipa', 'CNDT', 'Comissão de Conciliação Prévia', 'Conciliação', 'Composição', 'Conclusos', 'Conflito de competência', 'Contrarrazões', 'Contribuição sindical ', 'Assistencial', 'Confederativa', 'Cooperativa', 'Correição', 'Custas', 'DSR', 'Decadência', 'Décimo terceiro salário', 'Decisão interlocutória', 'Declaração de pobreza', 'Desembargador', 'Deserção', 'Despacho', 'Dilação', 'Diligência', 'Dissídio', 'Dissídio coletivo', 'Dissídio individual', 'Distribuição', 'Edital', 'E-doc', 'Efeito suspensivo', 'Embargos', 'de declaração', 'à execução que', 'de terceiro', 'Ementa', 'Empregado', 'Empregador', 'Execução', 'Ex nunc', 'Ex officio', 'Exordial', 'Ex tunc', 'Estatutário', 'FAT', 'Férias', 'FGTS', 'Foro', 'Gorjeta', 'GRU', 'Habeas corpus', 'Habeas data', 'Hasta Pública', 'Homologação', 'Honorários', 'Hora extra', 'Impedimento', 'Instância', 'grau de jurisdição', 'Intempestivo', 'Jornada de trabalho', 'Juiz', 'Juiz classista', 'Jurisdição', 'Jurisprudência', 'Juros de mora', 'Jus postulandi', 'Justa causa', 'Justiça gratuita', 'Laudo', 'Leilão judicial', 'Licitação', 'Lide', 'Liminar', 'Liquidação', 'Litigante de má fé', 'Litisconsórcio', 'Litispendência', 'Lockout', 'Mandado judicial', 'Mandado de segurança', 'Medida cautelar', 'Mérito da ação', 'Ministério do Trabalho', 'Ministério Público do Trabalho', 'Normas regulamentares', 'Notificação', 'Obreiro', 'Oficial de justiça', 'Ônus da prova', 'Orientação jurisprudencial', 'Ouvidoria', 'PAT', 'Parecer', 'Partes', 'Penhora', 'Perícia', 'Petição', 'Plantão judiciário', 'Portaria', 'Praça pública', 'Precad', 'Precatório', 'Preliminar', 'Preposto', 'Prescrição', 'Prioridade', 'Processo', 'Processos pendentes', 'Procuração', 'ad judicia', 'Protelatório', 'Procrastinatório', 'Provimento', 'PJe-JT', 'Recesso', 'Reclamado', 'Reclamante', 'Recolhimento previdenciário', 'Recurso ordinário', 'Recurso', 'ex officio', 'Redução a termo', 'Relator', 'Relatório', 'Responsabilidade solidária', 'Subsidiária', 'Revelia', 'Revisor', 'Rito', 'Rito ou procedimento sumário', 'Rito ou procedimento sumaríssimo', 'Salário', 'Segredo de justiça', 'Seguro desemprego', 'Sentença', 'Sessão de julgamento', 'Sindicato', 'Sisdoc', 'Sobrestado', 'Sobreaviso', 'Substabelecimento', 'Sucumbência', 'Súmula', 'Suspeição', 'Sustentação oral', 'SRTE', 'Testemunha', 'Transação', 'Trânsito em julgado', 'Turma', 'Tutela', 'Ulterior', 'Vara do Trabalho', 'Vínculo empregatício', 'Voto']"
   ]
  },
  {
   "cell_type": "code",
   "execution_count": 5,
   "metadata": {},
   "outputs": [
    {
     "data": {
      "text/plain": [
       "192"
      ]
     },
     "execution_count": 5,
     "metadata": {},
     "output_type": "execute_result"
    }
   ],
   "source": [
    "len(queries)"
   ]
  },
  {
   "cell_type": "markdown",
   "metadata": {},
   "source": [
    "## Consultas baseadas em auto complete"
   ]
  },
  {
   "cell_type": "markdown",
   "metadata": {},
   "source": [
    "### Termos completos"
   ]
  },
  {
   "cell_type": "code",
   "execution_count": 6,
   "metadata": {},
   "outputs": [],
   "source": [
    "# http://www.mpf.mp.br/es/sala-de-imprensa/glossario-de-termos-juridicos\n",
    "# https://transparencia.campogrande.ms.gov.br/downloads/glossario-de-termos/\n",
    "\n",
    "# https://www.mpmg.mp.br/data/files/DD/D1/9F/BD/8B44A7109CEB34A7760849A8/MPMG%20para%20jornalistas.pdf\n",
    "# glossario do proprio mpmg ainda não explroado"
   ]
  },
  {
   "cell_type": "code",
   "execution_count": 7,
   "metadata": {},
   "outputs": [
    {
     "name": "stdout",
     "output_type": "stream",
     "text": [
      "Quantidade de termos 781\n"
     ]
    }
   ],
   "source": [
    "glos1 = [\"A contento\",  \"Abertura de falência\",  \"Abolitio criminis\",  \"Ab-rogação\",  \"Abuso de autoridade\",  \"Abuso de poder\",  \"Ação\",  \"Ação cautelar\",  \"Ação cível originária\",  \"Ação civil pública\",  \"Ação de execução\",  \"Ação de improbidade administrativa\",  \"Ação de jurisdição voluntária\",  \"Ação de reintegração de posse\",  \"Ação declaratória\",  \"Ação Declaratória de Constitucionalidade (ADC)\",  \"Ação Direta de Inconstitucionalidade (ADI)\",  \"Ação penal\",  \"Ação popular\",  \"Ação regressiva\",  \"Ação rescisória\",  \"Acautelar\",  \"Acórdão\",  \"Ad argumentandum tantum\",  \"Ad cautelam\",  \"Ad hoc\",  \"Ad nutum\",  \"Ad referendum\",  \"ADCT\",  \"Adição da denúncia\",  \"Aditamento\",  \"Administração Pública\",  \"Advocacia administrativa\",  \"Advogado dativo ou assistente judiciário\",  \"Advocacia-Geral da União\",  \"Agravo\",  \"Agravo de instrumento\",  \"Agravo retido\",  \"Ajuizar\",  \"Alvará de soltura\",  \"Amicus curiae\",  \"Anistia\",  \"Antecipação de tutela\",  \"Anulação\",  \"Apelação\",  \"Arbitragem\",  \"Aresto\",  \"Argüição de Descumprimento de Preceito Fundamental (ADPF) –\",  \"Argüição de Inconstitucionalidade –\",  \"Argüição de suspeição –\",  \"Arresto\",  \"Assistência judiciária\",  \"Ato administrativo\",  \"Ato jurídico\",  \"Audiência pública\",  \"Autarquia\",  \"Auto-acusação falsa\",  \"Auto-executoriedade administrativa\",  \"Autos\",  \"Autuação\",  \"Baixa dos autos\",  \"Bem inalienável\",  \"Bem público\",  \"Bens dominiais\",  \"Bens imóveis\",  \"Bens públicos\",  \"Bens semoventes\",  \"Bis in idem\",  \"Bitributação\",  \"Busca e apreensão\",  \"Cabo eleitoral\",  \"Caducar\",  \"Calúnia\",  \"Câmaras de Coordenação e Revisão\",  \"Capacidade civil\",  \"Capacidade processual\",  \"Carta precatória\",  \"Carta rogatória\",  \"Cidadania\",  \"Citação\",  \"Cláusula leonina\",  \"Cláusula pétrea\",  \"Cláusulas exorbitantes\",  \"Coação\",  \"Coisa julgada\",  \"Comarca\",  \"Common law\",  \"Competência\",  \"Concessa venia\",  \"Concorrência pública\",  \"Concussão\",  \"Condescendência criminosa\",  \"Conflito de competência\",  \"Conselho Nacional de Justiça\",  \"Conselho Nacional do Ministério Público\",  \"Consumidor\",  \"Contencioso\",  \"Contencioso administrativo\",  \"Contenda\",  \"Contrabando\",  \"Contraditório\",  \"Contrafração\",  \"Contravenção\",  \"Contribuição de melhoria\",  \"Contribuição social\",  \"Corpus juris civilis\",  \"Correição parcial\",  \"Corrupção ativa\",  \"Corrupção passiva\",  \"Crime\",  \"Crime culposo\",  \"Crime de responsabilidade\",  \"Crime doloso\",  \"Crime hediondo\",  \"Crime político\",  \"Custos legis\",  \"Dano material\",  \"Dano moral\",  \"Data venia\",  \"De facto\",  \"De jure\",  \"Decadência\",  \"Decisão\",  \"Decisão interlocutória\",  \"Decisão judicial\",  \"Decisão monocrática\",  \"Deferir\",  \"Demanda\",  \"Denegar\",  \"Denúncia\",  \"Denunciação caluniosa\",  \"Denunciação da lide\",  \"Deportação\",  \"Deprecada\",  \"Deprecado\",  \"Deprecante\",  \"Deprecar\",  \"Derrogação\",  \"Desacato\",  \"Desaforamento\",  \"Descaminho\",  \"Despacho\",  \"Detração\",  \"Difamação\",  \"Dilação\",  \"Diligência\",  \"Direito de petição\",  \"Direitos coletivos\",  \"Direitos difusos\",  \"Direitos individuais homogêneos\",  \"Divisas\",  \"Dolo\",  \"Domínio público\",  \"Doutrina\",  \"Duplo grau de jurisdição\",  \"Economicidade\",  \"Edital\",  \"Efeito suspensivo\",  \"Embargos\",  \"Embargos à execução\",  \"Embargos de declaração\",  \"Embargos de divergência\",  \"Embargos de terceiro\",  \"Embargos infringentes\",  \"Ementa\",  \"Emolumento\",  \"Empresas de economia mista\",  \"Empresa pública\",  \"Enriquecimento ilícito\",  \"Entrância\",  \"Erga omnes\",  \"Estado de defesa\",  \"Estado de Direito\",  \"Estado de emergência\",  \"Estado de sítio\",  \"Estágio confirmatório ou estágio probatório\",  \"Estelionato\",  \"Ex nunc\",  \"Ex officio\",  \"Ex tunc\",  \"Ex vi legis\",  \"Exação\",  \"Exceção da verdade\",  \"Exceção de suspeição\",  \"Exceptio veritatis\",  \"Excesso de exação\",  \"Excesso de poder\",  \"Expulsão\",  \"Extemporâneo\",  \"Extra petita\",  \"Extradição\",  \"Extrajudicial\",  \"Facultas agendi\",  \"Falso testemunho\",  \"Feito\",  \"Flagrante delito\",  \"Foro especial ou privilegiado\",  \"Fraude processual\",  \"Freios e contrapesos\",  \"Fumus boni juris\",  \"Função jurisdicional\",  \"Garantia constitucional\",  \"Golpe de Estado\",  \"Grau de jurisdição\",  \"Grau de parentesco\",  \"H\",  \"Habeas corpus\",  \"Habeas data\",  \"Hipossuficiente\",  \"Homicídio\",  \"Homicídio culposo\",  \"Homicídio doloso\",  \"Homicídio qualificado\",  \"Homologação\",  \"Impeachment\",  \"Impetrar\",  \"Imprescritível\",  \"Improbidade\",  \"Improbidade administrativa\",  \"Improbus litigator\",  \"Impugnar\",  \"Imunidade\",  \"In casu\",  \"In pari causa\",  \"In rem verso\",  \"In verbis\",  \"Inaudita altera par\",  \"Inamovibilidade\",  \"Incapacidade\",  \"Incapacidade civil\",  \"Incidente de uniformização de jurisprudência\",  \"Incompetência\",  \"Inconstitucionalidade\",  \"Independência funcional\",  \"Indiciar\",  \"Indivisibilidade\",  \"Infraconstitucional\",  \"Infligir –\",  \"Injunção\",  \"Injúria\",  \"Inquérito\",  \"Inquérito Civil Público\",  \"Instância\",  \"Interdição\",  \"Interesses coletivos ou difusos\",  \"Interpelação judicial\",  \"Intervenção federal\",  \"Instrução\",  \"Intimação\",  \"Isonomia\",  \"Juiz togado\",  \"Juiz classista\",  \"Juizados especiais\",  \"Julgamento\",  \"Jure et facto\",  \"Júri\",  \"Juris tantum\",  \"Jurisdição\",  \"Jurisprudência\",  \"Justiça Federal\",  \"Lato sensu\",  \"Lavrar\",  \"Legítima defesa\",  \"Lei\",  \"Lei marcial\",  \"Lei Orgânica do Ministério Público da União\",  \"Leis excepcionais\",  \"Leis temporárias\",  \"Lex legum\",  \"Libelo\",  \"Liberdade assistida\",  \"Liberdade condicional\",  \"Liberdade de pensamento\",  \"Liberdade de reunião\",  \"Liberdade política\",  \"Liberdade provisória\",  \"Licenciamento ambiental\",  \"Licitação\",  \"Lide\",  \"Liminar\",  \"Litis contestatio\",  \"Litisconsórcio\",  \"Litisconsorte\",  \"Locupletamento\",  \"Ma-fé\",  \"Malversação\",  \"Mandado\",  \"Mandado de busca e apreensão\",  \"Mandado de citação\",  \"Mandado de injunção\",  \"Mandado de segurança\",  \"Mandamus\",  \"Mandato\",  \"Manifestação\",  \"Manutenção de posse\",  \"Medida cautelar\",  \"Medida de segurança\",  \"Medida disciplinar\",  \"Medida liminar\",  \"Mens legis\",  \"Mérito\",  \"Meritum causae\",  \"Minervae suffragium\",  \"Ministério Público\",  \"Ministério Público da União\",  \"Ministério Público do Distrito Federal e Territórios\",  \"Ministério Público do Trabalho\",  \"Ministério Público Federal\",  \"Ministério Público Militar\",  \"Modus operandi\",  \"Mutatis mutandis\",  \"Negativa de autoria\",  \"Negligência\",  \"Nepotismo\",  \"Nexo causal\",  \"Non bis in idem\",  \"Norma\",  \"Notificação\",  \"Notícia-crime\",  \"Notitia criminis\",  \"Nulidade\",  \"Numerus apertus\",  \"Numerus clausus\",  \"OAB\",  \"Obligatio faciendi\",  \"Obligatio non faciendi\",  \"Occasio legis\",  \"Oficial de Justiça\",  \"Ofício\",  \"Onus probandi\",  \"Paciente\",  \"Parecer\",  \"Pari passu\",  \"Parquet\",  \"Parte\",  \"Patrimônio público\",  \"Pátrio poder\",  \"Peças\",  \"Peculato\",  \"Pedido\",  \"Pedido de reconsideração\",  \"Periculum in mora\",  \"Permissa venia\",  \"Pessoas jurídicas de direito privado\",  \"Pessoas jurídicas de direito público externo\",  \"Pessoas jurídicas de direito público interno\",  \"Petição\",  \"Plágio\",  \"Plebiscito\",  \"Poder constituinte\",  \"Poder de polícia\",  \"Polícia judiciária\",  \"Prazo dilatório\",  \"Precário\",  \"Precatória\",  \"Precatório\",  \"Preclusão\",  \"Prejudicado\",  \"Preliminar\",  \"Preposto\",  \"Prescrição\",  \"Prescrição da pretensão punitiva\",  \"Presunção\",  \"Pretório\",  \"Prevaricação\",  \"Prevenção\",  \"Prima facie\",  \"Princípio da individualização da pena\",  \"Princípio do devido processo legal\",  \"Princípios\",  \"Prisão em flagrante\",  \"Prisão especial\",  \"Prisão preventiva\",  \"Prisão preventiva para extradição\",  \"Prisão temporária\",  \"Privilegium fori\",  \"Privilegium immunitatis\",  \"Procedimento administrativo\",  \"Processo\",  \"Processo administrativo\",  \"Procurador do Estado\",  \"Procurador federal\",  \"Procurador da República\",  \"Procurador de Justiça\",  \"Procurador do Distrito Federal\",  \"Procurador-geral da República\",  \"Procurador regional da República\",  \"Procuradoria da República\",  \"Procuradoria Federal dos Direitos do Cidadão\",  \"Procuradoria Geral da República\",  \"Procuradoria Regional da República\",  \"Proferir\",  \"Prolação\",  \"Promotor\",  \"Promotor natural\",  \"Protelar\",  \"Provas\",  \"Provimento\",  \"Quadrilha\",  \"Qualificação do crime\",  \"Queixa\",  \"Queixa-crime\",  \"Qui tacet, consentire videtur\",  \"Quinto constitucional\",  \"Quorum\",  \"Reclamação\",  \"Reclusão\",  \"Recomendação\",  \"Reconvenção\",  \"Recurso\",  \"Recurso especial\",  \"Recurso extraordinário\",  \"Recurso ordinário criminal\",  \"Recurso ordinário em habeas corpus\",  \"Referendo\",  \"Reincidência\",  \"Reintegração\",  \"Relator\",  \"Relatório\",  \"Remição de pena\",  \"Representação\",  \"Repristinação\",  \"Res judicata\",  \"Res judicata pro veritate habetur lat\",  \"Responsabilidade civil\",  \"Revel\",  \"Revelia\",  \"Revisão criminal\",  \"Revisor\",  \"Segredo de Justiça\",  \"Sentença\",  \"Seqüestro\",  \"Sine qua non\",  \"Sigilo funcional\",  \"Sonegar\",  \"Stricto sensu\",  \"STF\",  \"STJ\",  \"Sub judice\",  \"Suborno\",  \"Subprocurador-geral da República\",  \"Sucumbência\",  \"Súmula\",  \"Superveniência\",  \"Sursis\",  \"Suspeição\",  \"Suspensão de segurança\",  \"Taxa\",  \"Tergiversação\",  \"Termo de Ajustamento de Conduta\",  \"Tipicidade\",  \"Tipo penal\",  \"Título executivo\",  \"Tráfico internacional de pessoas\",  \"Tráfico de influência\",  \"Transação penal\",  \"Transitar em julgado\",  \"Tribunal do júri\",  \"Tribunal Regional Federal\",  \"Tributo\",  \"Turpis causa\",  \"Tutela\",  \"Tutela antecipada\",  \"Última instância\",  \"Ultra petita\",  \"Una voce\",  \"Única instância\",  \"Unidade\",  \"Uniformização de jurisprudência\",  \"Usucapião\",  \"Usufruto\",  \"Usura\",  \"Usurpação\",  \"Vacatio legis\",  \"Vara\",  \"Vênia\",  \"Verbi gratia (v.g.)\",  \"Vista\",  \"Violação de sigilo funcional\",  \"Violência arbitrária\",  \"Voto\",  \"Writ\",  \"Zona eleitoral\"]\n",
    "glos2 = [\"Abertura de Crédito Adicional\", \"Ação Governamental\", \"Adimplente\", \"Adjudicação\", \"Administração Direta\", \"Administração Financeira\", \"Administração Indireta\", \"Administrador Público\", \"Ad valorem\", \"Ajuste\", \"Alíquota\", \"Amortização de Empréstimo\", \"Anulação do Empenho\", \"Aplicações Diretas\", \"Arquivado\", \"Arrecadação\", \"Atividade (orçamento)\", \"Atividade Econômica\", \"Ativo\", \"Ativo Circulante\", \"Ativo Compensado\", \"Ativo Financeiro\", \"Ativo Líquido\", \"Ativo Patrimonial\", \"Ativo Permanente\", \"Ativo Realizável a Longo Prazo\", \"Autarquia\", \"Autarquia de Regime Especial\", \"Baixado\", \"Balanço\", \"Balanço patrimonial\", \"Beneficiário\", \"Cadastro de Fornecedores\", \"Cadastro Único\", \"Cancelado\", \"Cargo ou Emprego\", \"Cartão de Pagamento do Governo Federal\", \"Chamamento Público\", \"Ciclo Orçamentário\", \"Classe\", \"CNAE (Classificação Nacional de Atividade Econômica)\", \"CNPJ (Cadastro Nacional de Pessoas Jurídicas)\", \"Cobertura Orçamentária\", \"Competência Tributária\", \"Compra\", \"Concedente\", \"Concluído\", \"Concorrência\", \"Concurso\", \"Conta Contábil\", \"Contragarantia\", \"Contrapartida\", \"Contratado\", \"Contrato\", \"Contratante\", \"Contrato de repasse\", \"Controle Social\", \"Convenente\", \"Convênio\", \"Convite\", \"Cotação de preços\", \"CPF (Cadastro de Pessoas Físicas)\", \"Data Base\", \"Decreto\", \"Decreto-Lei\", \"Déficit\", \"Déficit Financeiro\", \"Déficit Orçamentário\", \"Déficit Orçamentário Bruto\", \"Déficit Patrimonial\", \"Déficit Primário\", \"Denúncia\", \"Descentralização de Crédito\", \"Descentralização de Recursos Financeiros\", \"Despesa Empenhada\", \"Despesa Liquidada\", \"Despesa Paga\", \"Despesa Pública\", \"Despesas Correntes\", \"Despesas de Capital\", \"Despesas de Custeio\", \"Destaque de Crédito\", \"DF - Documento de Arrecadação de Receitas Federais (DARF)\", \"Dispensa de Licitação\", \"Dívida Ativa\", \"Dívida Consolidada\", \"Dívida Fundada Pública\", \"Dívida Flutuante Pública\", \"Dívida Não Consolidada\", \"Dívida Pública\", \"Dívida Pública Externa\", \"Dotação\", \"DR - Documento de Arrecadação dos Estados e Municípios (DAR)\", \"Elemento de Despesa\", \"Empenho\", \"Empresa Pública\", \"Encargos Especiais\", \"Encargos de Financiamento\", \"Encargos Previdenciários da União\", \"Encargos Sociais\", \"Entidade sem fins lucrativos\", \"Entidade Vinculada\", \"Espelho da Despesa\", \"Espelho da Receita\", \"Estágios da Despesa\", \"Estágios da Receita\", \"Estimativa da Receita\", \"Etapa\", \"Excesso de Arrecadação\", \"Excluído\", \"Execução Financeira\", \"Execução Orçamentária da Despesa\", \"Executor\", \"Exercício Financeiro\", \"Exercícios Anteriores\", \"Fato Gerador\", \"Favorecidos\", \"Fim da Vigência (convênio)\", \"FL - Folha de Pagamento\", \"Função\", \"Função ou Cargo de Confiança\", \"Fundação Pública\", \"Fundo\", \"Fundos de Participação\", \"Fundo de Participação dos Estados (FPE)\", \"Fundo de Participação dos Municípios (FPM)\", \"Gestão\", \"Gestor\", \"GF - Guia de Recolhimento do FGTS e de Informações à Previdência Social\", \"GP - Guia de Recolhimento da Previdência Social\", \"GR - Guia de Recolhimento da União\", \"Grupo de Despesa\", \"Guia de Recebimento (GR)\", \"Homologação\", \"Impostos\", \"Inadimplência Suspensa\", \"Inadimplente\", \"Incentivo Fiscal\", \"Indicadores Econômicos\", \"Inexigibilidade de licitação\", \"Ingressos Públicos ou Entradas\", \"Interveniente\", \"Inversões Financeiras\", \"Investimentos\", \"Isenção\", \"Janela Orçamentária\", \"Lançamento\", \"Lei de Licitações\", \"Lei de Diretrizes Orçamentárias (LDO)\", \"Lei de Responsabilidade Fiscal\", \"Lei de Meios\", \"Leilão\", \"Lei Orçamentária Anual (LOA)\", \"Liberação de Cotas\", \"Licitação\", \"Linguagem Cidadã\", \"Liquidação\", \"Localização\", \"Lotação\", \"Mandatário\", \"Material de Consumo\", \"Material Permanente\", \"Medição\", \"Medida Provisória\", \"Ministério\", \"Modalidade de Aplicação\", \"Multa\", \"Natureza da Despesa\", \"NE - Nota de Empenho\", \"NIS (Número de Identidade Social)\", \"NL - Nota de Lançamento\", \"Nome Fantasi\", \"Nota de Dotação\", \"Nota de Empenho\", \"Nota de Lançamento\", \"Nota de Previsão de Receita\", \"NS - Nota de Lançamento de Sistema\", \"Número do convênio\", \"OB - Ordem Bancária\", \"Objeto\", \"Objeto do Convênio\", \"Objeto de Gasto\", \"Obra\", \"Obrigações Patronais\", \"Oferta pública (competitiva)\", \"On Line\", \"Opção Parcial\", \"Operação de Crédito\", \"Orçamento Base-Zero\", \"Orçamento de Desempenho\", \"Orçamento Fiscal\", \"Orçamento Incremental\", \"Orçamento de Investimento\", \"Orçamento da Seguridade Social\", \"Orçamento Programa\", \"Orçamento Público\", \"Orçamento Sem Teto Fixo\", \"Orçamento SEST\", \"Orçamento com Teto Fixo\", \"Orçamento com Teto Móvel\", \"Orçamento Tradicional\", \"Ordem Bancária\", \"Ordenador de Despesa\", \"Órgão\", \"Órgão Central\", \"Órgão Setorial\", \"Órgãos Autônomos\", \"Órgão de Exercício\", \"Órgãos Independentes\", \"Órgão de Lotação\", \"Órgãos Superiores\", \"Outras Despesas de Capital\", \"Outras Despesas Correntes\", \"Padrão\", \"Padronização\", \"Pagamento\", \"Pagamentos de Sentenças Judiciárias\", \"Passivo\", \"Passivo Circulante\", \"Passivo Compensado\", \"Patrimônio\", \"Patrimônio Líquido\", \"Patrimônio Público\", \"Pessoa Física\", \"Pessoa Jurídica\", \"Pessoal e Encargos Sociais\", \"Planejamento\", \"Plano Plurianual\", \"Portal da Transparência\", \"Pregão Eletrônico\", \"Prestação de Contas\", \"Previsão\", \"Previsão Orçamentária\", \"Programas de Governo\", \"Programa de Trabalho\", \"Projeto\", \"Projeto Básico\", \"Projeto Executivo\", \"Proposta Orçamentária\", \"Provisão\", \"Publicação (convênio)\", \"Receita\", \"Receita - Arrecadação\", \"Receitas Correntes\", \"Receitas de Capital\", \"Receita Extra Orçamentária\", \"Receita Lançada\", \"Receita - Lançamento\", \"Receita Orçamentária\", \"Receita Ordinária\", \"Receita Originária\", \"Receita - Previsão\", \"Receita Própria\", \"Receita Pública\", \"Receita - Recolhimento\", \"Regime de Caixa\", \"Regime de Competência\", \"Regime Jurídico\", \"Registro\", \"Rescindido\", \"Seguridade Social\", \"Sistema Integrado de Administração de Serviços Gerais (SIASG)\", \"Sistema de Gestão de Convênios (SICONV)\", \"Sistema Integrado de Administração Financeira do Governo Federal (SIAFI)\", \"Sistema Integrado de Dados Orçamentários (SIDOR)\", \"Sistema Integrado de Administração de Recursos Humanos (SIAPE)\", \"Sistema de Contas\", \"Sistema de Contas de Compensação\", \"Sistema de Contas Financeiro\", \"Sistema de Contas Orçamentário\", \"Sistema Orçamentário\", \"Sistema Patrimonial\", \"Situação Vínculo\", \"Sociedade de Economia Mista\", \"Sub-Repasse\", \"Subsídio\", \"Subvenção Econômica\", \"Subvenção Social\", \"Superávit Financeiro\", \"Superávit Orçamentário\", \"Suprimento de Fundos\", \"Taxa\", \"Termo Aditivo\", \"Termo de Cooperação\", \"Títulos da Dívida Pública\", \"Tomada de Contas\", \"Tomada de Contas Especial\", \"Tomada de Preços\", \"Transferências Correntes\", \"Transferências de Capital\", \"Transferências ao Exterior\", \"Tributo\", \"Unidade Administrativa\", \"Unidade Aplicadora\", \"Unidade Gestora\", \"Unidade Gestora Executora\", \"Unidade Gestora Responsável\", \"Unidade Orçamentária\", \"Universalidade do Orçamento\", \"Unidade Transferidora\", \"Valor do Convênio\", \"Valor da Contrapartida (convênio)\", \"Valor Liberado (convênio)\", \"Valor Última Liberação (convênio)\"]\n",
    "queries = list(set(glos1 + glos2))\n",
    "print(f\"Quantidade de termos {len(queries)}\")"
   ]
  },
  {
   "cell_type": "markdown",
   "metadata": {},
   "source": [
    "### Palavras individuais que formam os termos"
   ]
  },
  {
   "cell_type": "code",
   "execution_count": 8,
   "metadata": {},
   "outputs": [
    {
     "name": "stdout",
     "output_type": "stream",
     "text": [
      "Quantidade de termos 964\n"
     ]
    }
   ],
   "source": [
    "new_candidates = []\n",
    "for query in queries:\n",
    "    new_candidates += query.split()\n",
    "\n",
    "new_candidates = list(set(new_candidates))\n",
    "print(f\"Quantidade de termos {len(set(new_candidates))}\")"
   ]
  },
  {
   "cell_type": "markdown",
   "metadata": {},
   "source": [
    "### Submissão para auto-completar"
   ]
  },
  {
   "cell_type": "code",
   "execution_count": 9,
   "metadata": {},
   "outputs": [
    {
     "name": "stdout",
     "output_type": "stream",
     "text": [
      "Quantidade total de candidatos 1478\n"
     ]
    }
   ],
   "source": [
    "candidates = queries + new_candidates\n",
    "candidates = list(set(candidates))\n",
    "print(f\"Quantidade total de candidatos {len(set(candidates))}\")"
   ]
  },
  {
   "cell_type": "code",
   "execution_count": 10,
   "metadata": {},
   "outputs": [
    {
     "name": "stderr",
     "output_type": "stream",
     "text": [
      "100%|█████████████████████████████████████████████████████████████████████████████| 1478/1478 [02:12<00:00, 11.15it/s]\n"
     ]
    }
   ],
   "source": [
    "auto_complete_queries = []\n",
    "for query in tqdm(candidates):\n",
    "    content = requests.get(f\"https://autocomplete-br-endpoint.jusbrasil.com.br/ajax/autocomplete/?q={query}\")\n",
    "    content = content.text\n",
    "    for new_query in json.loads(content):\n",
    "        auto_complete_queries.append(new_query[\"titulo\"].replace(\"<b>\", \"\").replace(\"</b>\", \"\"))"
   ]
  },
  {
   "cell_type": "code",
   "execution_count": 11,
   "metadata": {},
   "outputs": [
    {
     "data": {
      "text/html": [
       "<div>\n",
       "<style scoped>\n",
       "    .dataframe tbody tr th:only-of-type {\n",
       "        vertical-align: middle;\n",
       "    }\n",
       "\n",
       "    .dataframe tbody tr th {\n",
       "        vertical-align: top;\n",
       "    }\n",
       "\n",
       "    .dataframe thead th {\n",
       "        text-align: right;\n",
       "    }\n",
       "</style>\n",
       "<table border=\"1\" class=\"dataframe\">\n",
       "  <thead>\n",
       "    <tr style=\"text-align: right;\">\n",
       "      <th></th>\n",
       "      <th>0</th>\n",
       "    </tr>\n",
       "  </thead>\n",
       "  <tbody>\n",
       "    <tr>\n",
       "      <th>10919</th>\n",
       "      <td>inexigibilidade do título executivo judicial</td>\n",
       "    </tr>\n",
       "    <tr>\n",
       "      <th>1753</th>\n",
       "      <td>princípio da legalidade</td>\n",
       "    </tr>\n",
       "    <tr>\n",
       "      <th>3231</th>\n",
       "      <td>crime contra a administração pública</td>\n",
       "    </tr>\n",
       "    <tr>\n",
       "      <th>1266</th>\n",
       "      <td>ordenador de despesa possibilidade</td>\n",
       "    </tr>\n",
       "    <tr>\n",
       "      <th>6904</th>\n",
       "      <td>contrabando pedido de restituição</td>\n",
       "    </tr>\n",
       "  </tbody>\n",
       "</table>\n",
       "</div>"
      ],
      "text/plain": [
       "                                                  0\n",
       "10919  inexigibilidade do título executivo judicial\n",
       "1753                        princípio da legalidade\n",
       "3231           crime contra a administração pública\n",
       "1266             ordenador de despesa possibilidade\n",
       "6904              contrabando pedido de restituição"
      ]
     },
     "execution_count": 11,
     "metadata": {},
     "output_type": "execute_result"
    }
   ],
   "source": [
    "auto_complete_queries = list(set(auto_complete_queries))\n",
    "auto_complete_queries_df = pd.DataFrame(auto_complete_queries)\n",
    "auto_complete_queries_df.sample(5)"
   ]
  },
  {
   "cell_type": "code",
   "execution_count": 12,
   "metadata": {},
   "outputs": [
    {
     "name": "stdout",
     "output_type": "stream",
     "text": [
      "Quantidade total de consultas geradas 11433\n"
     ]
    }
   ],
   "source": [
    "print(f\"Quantidade total de consultas geradas {len(auto_complete_queries_df)}\")"
   ]
  },
  {
   "cell_type": "markdown",
   "metadata": {},
   "source": [
    "Possíveis melhorias na estrateǵia:\n",
    "- Inclusão de termos relacionados a outros temas\n",
    "- Filtragem da lista do glossário original para escolher termos princiais, com supervisão do MPMG\n",
    "- Filtragem da lista final de consultas geradas, para remover referências a localizações fora de Minas Gerais\n",
    "- Casamento das consultas geradas com nomes e possíveis entidades"
   ]
  },
  {
   "cell_type": "markdown",
   "metadata": {},
   "source": [
    "## Consultas baseadas nos logs"
   ]
  },
  {
   "cell_type": "code",
   "execution_count": 42,
   "metadata": {},
   "outputs": [],
   "source": [
    "df = pd.read_csv(\"../sistemasgsi_set21_202110121608.csv\")"
   ]
  },
  {
   "cell_type": "code",
   "execution_count": 43,
   "metadata": {},
   "outputs": [
    {
     "data": {
      "text/html": [
       "<div>\n",
       "<style scoped>\n",
       "    .dataframe tbody tr th:only-of-type {\n",
       "        vertical-align: middle;\n",
       "    }\n",
       "\n",
       "    .dataframe tbody tr th {\n",
       "        vertical-align: top;\n",
       "    }\n",
       "\n",
       "    .dataframe thead th {\n",
       "        text-align: right;\n",
       "    }\n",
       "</style>\n",
       "<table border=\"1\" class=\"dataframe\">\n",
       "  <thead>\n",
       "    <tr style=\"text-align: right;\">\n",
       "      <th></th>\n",
       "      <th>id_log</th>\n",
       "      <th>dsc_log</th>\n",
       "      <th>ind_tipo</th>\n",
       "      <th>dat_criacao</th>\n",
       "      <th>id_usuario</th>\n",
       "      <th>id_sistema</th>\n",
       "      <th>dsc_rota</th>\n",
       "    </tr>\n",
       "  </thead>\n",
       "  <tbody>\n",
       "    <tr>\n",
       "      <th>0</th>\n",
       "      <td>8364099</td>\n",
       "      <td>\"{\"\"id\"\":\"\"5a3510bd-0a42-4182-a902-394c96752c2...</td>\n",
       "      <td>ERRO</td>\n",
       "      <td>2021-09-28 15:48:10.153555</td>\n",
       "      <td>4383.0</td>\n",
       "      <td>1.0</td>\n",
       "      <td>/aduna/busca</td>\n",
       "    </tr>\n",
       "    <tr>\n",
       "      <th>1</th>\n",
       "      <td>8364127</td>\n",
       "      <td>\"{\"\"id\"\":\"\"2491f00d-59a1-44e8-8c05-d2d62293ec8...</td>\n",
       "      <td>ACESSO</td>\n",
       "      <td>2021-09-28 15:49:24.389905</td>\n",
       "      <td>692.0</td>\n",
       "      <td>1.0</td>\n",
       "      <td>/aduna/busca/4675724/1/</td>\n",
       "    </tr>\n",
       "    <tr>\n",
       "      <th>2</th>\n",
       "      <td>8364147</td>\n",
       "      <td>\"{\"\"id\"\":\"\"c5fc8118-aedb-4fe7-8500-90cc2a23141...</td>\n",
       "      <td>ERRO</td>\n",
       "      <td>2021-09-28 15:49:31.418554</td>\n",
       "      <td>2873.0</td>\n",
       "      <td>1.0</td>\n",
       "      <td>/aduna/busca</td>\n",
       "    </tr>\n",
       "    <tr>\n",
       "      <th>3</th>\n",
       "      <td>8364171</td>\n",
       "      <td>\"{\"\"filtros\"\":[{\"\"tudo\"\":\"\"\\\"\"17890481\\\"\"\"\"}],...</td>\n",
       "      <td>ACESSO</td>\n",
       "      <td>2021-09-28 15:50:03.658545</td>\n",
       "      <td>3664.0</td>\n",
       "      <td>1.0</td>\n",
       "      <td>/aduna/busca/</td>\n",
       "    </tr>\n",
       "    <tr>\n",
       "      <th>4</th>\n",
       "      <td>8364197</td>\n",
       "      <td>\"{\"\"id\"\":\"\"38c76dab-854f-40c1-a42f-dc4ad8babfe...</td>\n",
       "      <td>ERRO</td>\n",
       "      <td>2021-09-28 15:50:55.54138</td>\n",
       "      <td>3310.0</td>\n",
       "      <td>1.0</td>\n",
       "      <td>/aduna/busca</td>\n",
       "    </tr>\n",
       "  </tbody>\n",
       "</table>\n",
       "</div>"
      ],
      "text/plain": [
       "    id_log                                            dsc_log ind_tipo  \\\n",
       "0  8364099  \"{\"\"id\"\":\"\"5a3510bd-0a42-4182-a902-394c96752c2...     ERRO   \n",
       "1  8364127  \"{\"\"id\"\":\"\"2491f00d-59a1-44e8-8c05-d2d62293ec8...   ACESSO   \n",
       "2  8364147  \"{\"\"id\"\":\"\"c5fc8118-aedb-4fe7-8500-90cc2a23141...     ERRO   \n",
       "3  8364171  \"{\"\"filtros\"\":[{\"\"tudo\"\":\"\"\\\"\"17890481\\\"\"\"\"}],...   ACESSO   \n",
       "4  8364197  \"{\"\"id\"\":\"\"38c76dab-854f-40c1-a42f-dc4ad8babfe...     ERRO   \n",
       "\n",
       "                  dat_criacao  id_usuario  id_sistema                 dsc_rota  \n",
       "0  2021-09-28 15:48:10.153555      4383.0         1.0             /aduna/busca  \n",
       "1  2021-09-28 15:49:24.389905       692.0         1.0  /aduna/busca/4675724/1/  \n",
       "2  2021-09-28 15:49:31.418554      2873.0         1.0             /aduna/busca  \n",
       "3  2021-09-28 15:50:03.658545      3664.0         1.0            /aduna/busca/  \n",
       "4   2021-09-28 15:50:55.54138      3310.0         1.0             /aduna/busca  "
      ]
     },
     "execution_count": 43,
     "metadata": {},
     "output_type": "execute_result"
    }
   ],
   "source": [
    "df.head()"
   ]
  },
  {
   "cell_type": "markdown",
   "metadata": {},
   "source": [
    "###  Consultas dos logs do Áduna"
   ]
  },
  {
   "cell_type": "code",
   "execution_count": 44,
   "metadata": {},
   "outputs": [
    {
     "name": "stderr",
     "output_type": "stream",
     "text": [
      "100%|██████████████████████████████████████| 2334810/2334810 [03:31<00:00, 11047.95it/s]\n"
     ]
    }
   ],
   "source": [
    "desc_rota_aduna = [rota for rota in list(df[\"dsc_rota\"].unique()) if \"aduna\" in str(rota)]\n",
    "df_aduna = df[df[\"dsc_rota\"].isin(desc_rota_aduna)]\n",
    "df_aduna = df_aduna[df_aduna[\"ind_tipo\"] == \"ACESSO\"]\n",
    "\n",
    "logs_aduna = []\n",
    "for idx, row in tqdm(df_aduna.iterrows(), total = len(df_aduna)):\n",
    "    try:\n",
    "        logs_aduna.append(load_query_json(row[\"dsc_log\"])[\"nome_pessoa\"])\n",
    "    except:\n",
    "        pass"
   ]
  },
  {
   "cell_type": "code",
   "execution_count": 45,
   "metadata": {},
   "outputs": [
    {
     "data": {
      "text/plain": [
       "0                       MARCO PAULO GONCALVES\n",
       "1                      ANTONIO LESSA TEIXEIRA\n",
       "2                    LILIAN LOPES DE OLIVEIRA\n",
       "3                           MAXIUEL JUVENTINO\n",
       "4                            RONY CARLOS DIAS\n",
       "                         ...                 \n",
       "617564                DENILSON ALMEIDA AMORIM\n",
       "617565               VIOLETA RIBEIRO DA SILVA\n",
       "617566    ANIANGELA APARECIDA DA SILVA VELOSO\n",
       "617567      LUIZ GUILHERME DE CAMPOS FERREIRA\n",
       "617568               WEDSON SOARES DE QUEIROZ\n",
       "Name: query, Length: 617569, dtype: object"
      ]
     },
     "execution_count": 45,
     "metadata": {},
     "output_type": "execute_result"
    }
   ],
   "source": [
    "df_aduna = pd.DataFrame(logs_aduna, columns=[\"query\"])\n",
    "df_aduna[\"query\"]"
   ]
  },
  {
   "cell_type": "code",
   "execution_count": 46,
   "metadata": {},
   "outputs": [
    {
     "name": "stdout",
     "output_type": "stream",
     "text": [
      "Quantidade total de consultas geradas 617569\n"
     ]
    }
   ],
   "source": [
    "print(f\"Quantidade total de consultas geradas {len(df_aduna['query'])}\")"
   ]
  },
  {
   "cell_type": "markdown",
   "metadata": {},
   "source": [
    "###  Consultas dos logs do Lins"
   ]
  },
  {
   "cell_type": "code",
   "execution_count": 47,
   "metadata": {},
   "outputs": [
    {
     "data": {
      "text/plain": [
       "15077"
      ]
     },
     "execution_count": 47,
     "metadata": {},
     "output_type": "execute_result"
    }
   ],
   "source": [
    "desc_rota_lins = [rota for rota in list(df[\"dsc_rota\"].unique()) if \"lins\" in str(rota)]\n",
    "df_lins = df[df[\"dsc_rota\"].isin(desc_rota_lins)]\n",
    "df_lins = df_lins[df_lins[\"ind_tipo\"] == \"ACESSO\"]\n",
    "df_lins[\"query\"] = df_lins[\"dsc_log\"].apply(process_query_dict)\n",
    "df_lins = df_lins[df_lins[\"query\"] != \"\"]\n",
    "df = []\n",
    "gc.collect()"
   ]
  },
  {
   "cell_type": "code",
   "execution_count": 48,
   "metadata": {},
   "outputs": [
    {
     "data": {
      "text/plain": [
       "1635          comarca tupaciguara araporã 07.638.816/0001-94\n",
       "1644          comarca tupaciguara araporã 07.638.816/0001-94\n",
       "1653          comarca tupaciguara araporã 07.638.816/0001-94\n",
       "1654       comarca tupaciguara araporã 2016, 2015 07.638....\n",
       "1662          comarca tupaciguara araporã 07.638.816/0001-94\n",
       "                                 ...                        \n",
       "7647259    estado minas gerais todos municípios 03.260.61...\n",
       "7647260    estado minas gerais todos municípios 03.260.61...\n",
       "7647269    estado minas gerais todos municípios 03.260.61...\n",
       "7647270    estado minas gerais vargem alegre 2018 03.260....\n",
       "7647310    estado minas gerais todos municípios 03.260.61...\n",
       "Name: query, Length: 62547, dtype: object"
      ]
     },
     "execution_count": 48,
     "metadata": {},
     "output_type": "execute_result"
    }
   ],
   "source": [
    "df_lins[\"query\"]"
   ]
  },
  {
   "cell_type": "code",
   "execution_count": 49,
   "metadata": {},
   "outputs": [
    {
     "name": "stdout",
     "output_type": "stream",
     "text": [
      "Quantidade total de consultas geradas 62547\n"
     ]
    }
   ],
   "source": [
    "print(f\"Quantidade total de consultas geradas {len(df_lins['query'])}\")"
   ]
  },
  {
   "cell_type": "markdown",
   "metadata": {},
   "source": [
    "# Geração do conjunto final de consultas"
   ]
  },
  {
   "cell_type": "code",
   "execution_count": 13,
   "metadata": {},
   "outputs": [],
   "source": [
    "# old\n",
    "# final_queries = []\n",
    "# while len(final_queries) < QUERY_NUM:\n",
    "#     query_sample = QUERY_NUM - len(final_queries)\n",
    "#     random.shuffle(auto_complete_queries)\n",
    "#     auto_complete_querie_sample = auto_complete_queries[:ceil(query_sample / 2)]\n",
    "#     logs_queries_sample = list(df_lins[\"query\"].sample(ceil(query_sample / 4))) + list(df_aduna[\"query\"].sample(ceil(query_sample / 4)))\n",
    "#     final_queries += list(set(logs_queries_sample + auto_complete_querie_sample))\n",
    "#     final_queries = [query for query in final_queries if query]\n",
    "    \n",
    "# final_queries = final_queries[:QUERY_NUM]"
   ]
  },
  {
   "cell_type": "code",
   "execution_count": 18,
   "metadata": {},
   "outputs": [
    {
     "name": "stdout",
     "output_type": "stream",
     "text": [
      "0\n",
      "25\n",
      "38\n",
      "44\n",
      "47\n",
      "49\n"
     ]
    }
   ],
   "source": [
    "final_queries = []\n",
    "while len(final_queries) < QUERY_NUM:\n",
    "    query_sample = QUERY_NUM - len(final_queries)\n",
    "    print(len(final_queries))\n",
    "    random.shuffle(auto_complete_queries)\n",
    "\n",
    "    auto_complete_querie_sample = auto_complete_queries[:ceil(query_sample / 2)]\n",
    "    auto_complete_querie_sample = [{\"query\": q, \"origin\": \"auto_complete\", \"id\": str(uuid.uuid4())} for q in auto_complete_querie_sample]\n",
    "    \n",
    "    logs_queries_sample_lins = list(df_lins[\"query\"].sample(ceil(query_sample / 4)))\n",
    "    logs_queries_sample_aduna = list(df_aduna[\"query\"].sample(ceil(query_sample / 4)))\n",
    "    logs_queries_sample_lins = [{\"query\": q, \"origin\": \"lins\", \"id\": str(uuid.uuid4())} for q in logs_queries_sample_lins]\n",
    "    logs_queries_sample_aduna = [{\"query\": q, \"origin\": \"aduna\", \"id\": str(uuid.uuid4())} for q in logs_queries_sample_aduna]    \n",
    "    logs_queries_sample = logs_queries_sample_lins + logs_queries_sample_aduna\n",
    "\n",
    "    final_queries += {v['query']:v for v in logs_queries_sample + auto_complete_querie_sample}.values()\n",
    "    final_queries = [q for q in final_queries if q[\"query\"]]\n",
    "    \n",
    "final_queries = final_queries[:QUERY_NUM]"
   ]
  },
  {
   "cell_type": "code",
   "execution_count": 19,
   "metadata": {},
   "outputs": [
    {
     "data": {
      "text/plain": [
       "[{'query': 'secretaria de estado de defesa social seap',\n",
       "  'origin': 'auto_complete',\n",
       "  'id': 'c1815f55-167c-405f-b241-7e8937a5cf23'},\n",
       " {'query': 'fumus boni iuris',\n",
       "  'origin': 'auto_complete',\n",
       "  'id': '12406ff7-c18d-4877-8315-6fa04ec3b2b2'},\n",
       " {'query': 'causalidade adequada',\n",
       "  'origin': 'auto_complete',\n",
       "  'id': '38ff53de-7e90-4dbb-b912-40a8c8c63de4'},\n",
       " {'query': 'liberdade condicional',\n",
       "  'origin': 'auto_complete',\n",
       "  'id': '344bfd96-e0ae-45ca-a7f8-6033c18010ae'},\n",
       " {'query': 'estado do rio grande do sul',\n",
       "  'origin': 'auto_complete',\n",
       "  'id': 'beb8119d-3e30-40b9-9cdc-85c30349dc4a'},\n",
       " {'query': 'superavit gestao empresarial ltda',\n",
       "  'origin': 'auto_complete',\n",
       "  'id': '2ab3e92c-47cb-4c2a-a4af-05ff2c50f72d'},\n",
       " {'query': 'ingressos show restituição lei',\n",
       "  'origin': 'auto_complete',\n",
       "  'id': '9653dc68-3d3a-4451-af6f-52af58deb9a4'},\n",
       " {'query': 'base de cálculo dos honorários sucumbenciais',\n",
       "  'origin': 'auto_complete',\n",
       "  'id': '474714e2-4496-483b-a208-9d36af56186d'},\n",
       " {'query': 'absolvição por erro de tipo art do cp',\n",
       "  'origin': 'auto_complete',\n",
       "  'id': 'bc514c6a-4c38-4f81-afc5-e8aa54b5b5b3'},\n",
       " {'query': 'despesas com a reforma do imóvel objeto de locação',\n",
       "  'origin': 'auto_complete',\n",
       "  'id': 'a5f69381-c457-429e-a8ac-fd55104966b1'},\n",
       " {'query': 'ação rescisória trabalhista',\n",
       "  'origin': 'auto_complete',\n",
       "  'id': 'd630e749-49cc-468e-a974-5f8cf9e609cc'},\n",
       " {'query': 'revelia na ação monitoria',\n",
       "  'origin': 'auto_complete',\n",
       "  'id': 'c23885c7-1118-4c1f-9a88-509b817e629d'},\n",
       " {'query': 'a decadência é matéria de ordem pública',\n",
       "  'origin': 'auto_complete',\n",
       "  'id': 'e51829c1-0c29-4656-a603-a1ad06e691e8'},\n",
       " {'query': 'partes anuentes',\n",
       "  'origin': 'auto_complete',\n",
       "  'id': '2a8cfd63-c0fa-480b-8ed7-344c0b86a8d6'},\n",
       " {'query': 'transparência no processo licitatório',\n",
       "  'origin': 'auto_complete',\n",
       "  'id': '11fab1c0-d934-4084-bac5-3c67c1600f4e'},\n",
       " {'query': 'perturbaçao da ordem e sossego público',\n",
       "  'origin': 'auto_complete',\n",
       "  'id': '44a56dac-a180-4128-b84b-68c4887461df'},\n",
       " {'query': 'descaminho prisão em flagrante',\n",
       "  'origin': 'auto_complete',\n",
       "  'id': 'a0acfa50-4ce7-4c0e-ae56-8f58085b8037'},\n",
       " {'query': 'dação parcial alienação fiduciária fraude',\n",
       "  'origin': 'auto_complete',\n",
       "  'id': 'bc4b8b8f-aa21-4506-9180-5a7e921c255b'},\n",
       " {'query': 'planos de saúde',\n",
       "  'origin': 'auto_complete',\n",
       "  'id': '001404da-7082-4c96-8300-dd7836fb8f47'},\n",
       " {'query': 'pedra lançada',\n",
       "  'origin': 'auto_complete',\n",
       "  'id': '8430dfd5-2a4f-4961-967f-37d1df126e5f'},\n",
       " {'query': 'incentivo fiscal estadual base de cálculo',\n",
       "  'origin': 'auto_complete',\n",
       "  'id': '95b849d8-a4fc-41e4-87b7-7b7fb8ec3ac8'},\n",
       " {'query': 'mandatário levantamento direito líquido e certo',\n",
       "  'origin': 'auto_complete',\n",
       "  'id': '5169a1aa-dcc7-4cef-89d7-7f871ec803d7'},\n",
       " {'query': 'transexuais lei maria da penha',\n",
       "  'origin': 'auto_complete',\n",
       "  'id': '91716f24-416b-454a-9d79-7fe03bcb73a3'},\n",
       " {'query': 'capital empresa de servicos gerais',\n",
       "  'origin': 'auto_complete',\n",
       "  'id': 'e88178eb-cf73-41bd-98c4-30f26006b3ca'},\n",
       " {'query': 'interesse recursal quanto ao pedido principal',\n",
       "  'origin': 'auto_complete',\n",
       "  'id': '40456087-473f-44f4-9aeb-6b8a61205c20'},\n",
       " {'query': 'extemporaneo embargos a execução imóvel',\n",
       "  'origin': 'auto_complete',\n",
       "  'id': 'f5c637a0-0b8a-40e8-aa69-eeabcac69aa3'},\n",
       " {'query': 'infliximab criança',\n",
       "  'origin': 'auto_complete',\n",
       "  'id': '86256605-78ca-4a01-b05d-7cfdfaeb8fd3'},\n",
       " {'query': 'padrão de vida do alimentando',\n",
       "  'origin': 'auto_complete',\n",
       "  'id': '06b31304-b1bf-4d89-af61-d1d61904afe0'},\n",
       " {'query': 'suprimento judicial de autorização paterna',\n",
       "  'origin': 'auto_complete',\n",
       "  'id': '0dc0bafd-f132-4f6d-86a4-7c94dc50ecc0'},\n",
       " {'query': 'incidente de desconsideração da personalidade',\n",
       "  'origin': 'auto_complete',\n",
       "  'id': '912894da-608d-4bf1-83a8-f43934bb81f8'},\n",
       " {'query': 'cef pessoa jurídica de direito privado',\n",
       "  'origin': 'auto_complete',\n",
       "  'id': '686be5c3-7584-4957-a276-7e270a268335'},\n",
       " {'query': 'preventiva decretada um ano depois do fato',\n",
       "  'origin': 'auto_complete',\n",
       "  'id': 'e6ae135e-66ad-4c7f-8420-08db1e76d38e'},\n",
       " {'query': 'prescrição acórdão confirmatório',\n",
       "  'origin': 'auto_complete',\n",
       "  'id': '515c91af-935b-44a0-9034-2c067e06d796'},\n",
       " {'query': 'título executivo extrajudicial prescrito',\n",
       "  'origin': 'auto_complete',\n",
       "  'id': 'b4bb355d-e105-4b58-9bd1-c4421b89a058'},\n",
       " {'query': 'custeio de tratamento médico fora do estado',\n",
       "  'origin': 'auto_complete',\n",
       "  'id': '490d4995-25ea-4ac8-9fa2-242b7d55802b'},\n",
       " {'query': 'administrativo e processual civil',\n",
       "  'origin': 'auto_complete',\n",
       "  'id': '7aa9d6e2-0156-4bdb-9c39-2db6b2cbe0dd'},\n",
       " {'query': 'prazo legal juntada',\n",
       "  'origin': 'auto_complete',\n",
       "  'id': 'bbffe155-6bc7-4717-9e17-ce10f2f051ba'},\n",
       " {'query': 'medicamentos e honorários advocatícios',\n",
       "  'origin': 'auto_complete',\n",
       "  'id': '2d0e9b81-e795-4b7b-8e40-32ac67d01780'},\n",
       " {'query': 'requisitos para a cautelar de busca e apreensão',\n",
       "  'origin': 'auto_complete',\n",
       "  'id': '50ec21e2-f620-4d1e-b0fc-d3b5b6c1cd14'},\n",
       " {'query': 'plano de partilha',\n",
       "  'origin': 'auto_complete',\n",
       "  'id': 'a2f20a89-329a-4781-9ac3-80b3e1df8a93'},\n",
       " {'query': 'ação auxilio emergencial',\n",
       "  'origin': 'auto_complete',\n",
       "  'id': 'd69fd593-b944-46e0-8dea-d8dc3bf31b34'},\n",
       " {'query': 'internacional de tecidos ltda',\n",
       "  'origin': 'auto_complete',\n",
       "  'id': 'd4e56384-24d0-4bea-9e4b-2f35179206b7'},\n",
       " {'query': 'reincidência art inconstitucionalidade',\n",
       "  'origin': 'auto_complete',\n",
       "  'id': '47a44d8e-600a-427d-9627-989ae2a9a2a9'},\n",
       " {'query': 'dispensa abusiva e arbitrária',\n",
       "  'origin': 'auto_complete',\n",
       "  'id': '624374e8-1fa6-4e8f-870d-dea557fc5f83'},\n",
       " {'query': 'jhones gleisciton dos santos',\n",
       "  'origin': 'auto_complete',\n",
       "  'id': 'ad624bc5-a46b-4576-b1fe-22092d38e76e'},\n",
       " {'query': 'autos arquivados provisoriamente',\n",
       "  'origin': 'auto_complete',\n",
       "  'id': '82c0b5fb-291f-4b43-8fff-eb8f97ebd101'},\n",
       " {'query': 'agentes políticos salário',\n",
       "  'origin': 'auto_complete',\n",
       "  'id': '1f8ece22-ca23-4805-bfa7-0e9d3fdabe6d'},\n",
       " {'query': 'aditamento da inicial após a contestação',\n",
       "  'origin': 'auto_complete',\n",
       "  'id': '59c1e6aa-5289-4270-8257-19788a938679'},\n",
       " {'query': 'excesso de exação principio da insignificancia',\n",
       "  'origin': 'auto_complete',\n",
       "  'id': 'bf6a52e3-886b-49f9-8cbc-809a20805635'},\n",
       " {'query': 'crédito já habilitado',\n",
       "  'origin': 'auto_complete',\n",
       "  'id': 'a564b353-a905-4d5e-87d3-e50179a75e5c'}]"
      ]
     },
     "execution_count": 19,
     "metadata": {},
     "output_type": "execute_result"
    }
   ],
   "source": [
    "final_queries"
   ]
  },
  {
   "cell_type": "code",
   "execution_count": 20,
   "metadata": {},
   "outputs": [
    {
     "data": {
      "text/plain": [
       "50"
      ]
     },
     "execution_count": 20,
     "metadata": {},
     "output_type": "execute_result"
    }
   ],
   "source": [
    "len(final_queries)"
   ]
  },
  {
   "cell_type": "markdown",
   "metadata": {},
   "source": [
    "# Caracterização"
   ]
  },
  {
   "cell_type": "code",
   "execution_count": 21,
   "metadata": {},
   "outputs": [
    {
     "data": {
      "text/html": [
       "<div>\n",
       "<style scoped>\n",
       "    .dataframe tbody tr th:only-of-type {\n",
       "        vertical-align: middle;\n",
       "    }\n",
       "\n",
       "    .dataframe tbody tr th {\n",
       "        vertical-align: top;\n",
       "    }\n",
       "\n",
       "    .dataframe thead th {\n",
       "        text-align: right;\n",
       "    }\n",
       "</style>\n",
       "<table border=\"1\" class=\"dataframe\">\n",
       "  <thead>\n",
       "    <tr style=\"text-align: right;\">\n",
       "      <th></th>\n",
       "      <th>query</th>\n",
       "      <th>origin</th>\n",
       "      <th>len</th>\n",
       "    </tr>\n",
       "  </thead>\n",
       "  <tbody>\n",
       "    <tr>\n",
       "      <th>43</th>\n",
       "      <td>dispensa abusiva e arbitrária</td>\n",
       "      <td>auto_complete</td>\n",
       "      <td>4</td>\n",
       "    </tr>\n",
       "    <tr>\n",
       "      <th>46</th>\n",
       "      <td>agentes políticos salário</td>\n",
       "      <td>auto_complete</td>\n",
       "      <td>3</td>\n",
       "    </tr>\n",
       "    <tr>\n",
       "      <th>5</th>\n",
       "      <td>superavit gestao empresarial ltda</td>\n",
       "      <td>auto_complete</td>\n",
       "      <td>4</td>\n",
       "    </tr>\n",
       "    <tr>\n",
       "      <th>48</th>\n",
       "      <td>excesso de exação principio da insignificancia</td>\n",
       "      <td>auto_complete</td>\n",
       "      <td>6</td>\n",
       "    </tr>\n",
       "    <tr>\n",
       "      <th>37</th>\n",
       "      <td>medicamentos e honorários advocatícios</td>\n",
       "      <td>auto_complete</td>\n",
       "      <td>4</td>\n",
       "    </tr>\n",
       "    <tr>\n",
       "      <th>4</th>\n",
       "      <td>estado do rio grande do sul</td>\n",
       "      <td>auto_complete</td>\n",
       "      <td>6</td>\n",
       "    </tr>\n",
       "    <tr>\n",
       "      <th>18</th>\n",
       "      <td>planos de saúde</td>\n",
       "      <td>auto_complete</td>\n",
       "      <td>3</td>\n",
       "    </tr>\n",
       "    <tr>\n",
       "      <th>45</th>\n",
       "      <td>autos arquivados provisoriamente</td>\n",
       "      <td>auto_complete</td>\n",
       "      <td>3</td>\n",
       "    </tr>\n",
       "    <tr>\n",
       "      <th>19</th>\n",
       "      <td>pedra lançada</td>\n",
       "      <td>auto_complete</td>\n",
       "      <td>2</td>\n",
       "    </tr>\n",
       "    <tr>\n",
       "      <th>7</th>\n",
       "      <td>base de cálculo dos honorários sucumbenciais</td>\n",
       "      <td>auto_complete</td>\n",
       "      <td>6</td>\n",
       "    </tr>\n",
       "  </tbody>\n",
       "</table>\n",
       "</div>"
      ],
      "text/plain": [
       "                                             query         origin  len\n",
       "43                   dispensa abusiva e arbitrária  auto_complete    4\n",
       "46                       agentes políticos salário  auto_complete    3\n",
       "5                superavit gestao empresarial ltda  auto_complete    4\n",
       "48  excesso de exação principio da insignificancia  auto_complete    6\n",
       "37          medicamentos e honorários advocatícios  auto_complete    4\n",
       "4                      estado do rio grande do sul  auto_complete    6\n",
       "18                                 planos de saúde  auto_complete    3\n",
       "45                autos arquivados provisoriamente  auto_complete    3\n",
       "19                                   pedra lançada  auto_complete    2\n",
       "7     base de cálculo dos honorários sucumbenciais  auto_complete    6"
      ]
     },
     "execution_count": 21,
     "metadata": {},
     "output_type": "execute_result"
    }
   ],
   "source": [
    "queries_df = pd.DataFrame(final_queries, columns=[\"query\", \"origin\"])\n",
    "queries_df = queries_df.dropna()\n",
    "queries_df[\"len\"] = queries_df[\"query\"].apply(lambda x: len(x.split()))\n",
    "queries_df.sample(10)"
   ]
  },
  {
   "cell_type": "code",
   "execution_count": 22,
   "metadata": {},
   "outputs": [
    {
     "name": "stdout",
     "output_type": "stream",
     "text": [
      "4.0\n",
      "4.58\n"
     ]
    }
   ],
   "source": [
    "print(queries_df[\"len\"].median())\n",
    "print(queries_df[\"len\"].mean())"
   ]
  },
  {
   "cell_type": "code",
   "execution_count": 23,
   "metadata": {
    "scrolled": true
   },
   "outputs": [
    {
     "data": {
      "image/png": "[encoded data removed]",
      "text/plain": [
       "<Figure size 432x288 with 1 Axes>"
      ]
     },
     "metadata": {
      "needs_background": "light"
     },
     "output_type": "display_data"
    }
   ],
   "source": [
    "queries_df[\"len\"].hist(bins=200)\n",
    "plt.show()"
   ]
  },
  {
   "cell_type": "code",
   "execution_count": 24,
   "metadata": {},
   "outputs": [
    {
     "name": "stdout",
     "output_type": "stream",
     "text": [
      "Quantidade de consultas com até 3 termos: 16\n",
      "Quantidade de consultas com até 4 termos: 27\n",
      "Quantidade de consultas com até 5 termos: 34\n",
      "Quantidade de consultas com até 6 termos: 43\n"
     ]
    }
   ],
   "source": [
    "print(f\"Quantidade de consultas com até 3 termos: {sum(queries_df['len'] < 4)}\")\n",
    "print(f\"Quantidade de consultas com até 4 termos: {sum(queries_df['len'] < 5)}\")\n",
    "print(f\"Quantidade de consultas com até 5 termos: {sum(queries_df['len'] < 6)}\")\n",
    "print(f\"Quantidade de consultas com até 6 termos: {sum(queries_df['len'] < 7)}\")"
   ]
  },
  {
   "cell_type": "code",
   "execution_count": 25,
   "metadata": {},
   "outputs": [],
   "source": [
    "with open(\"generated_queries.txt\", \"w\") as fout:\n",
    "    fout.write(str(final_queries))"
   ]
  },
  {
   "cell_type": "code",
   "execution_count": null,
   "metadata": {},
   "outputs": [],
   "source": []
  }
 ],
 "metadata": {
  "kernelspec": {
   "display_name": "Python 3",
   "language": "python",
   "name": "python3"
  },
  "language_info": {
   "codemirror_mode": {
    "name": "ipython",
    "version": 3
   },
   "file_extension": ".py",
   "mimetype": "text/x-python",
   "name": "python",
   "nbconvert_exporter": "python",
   "pygments_lexer": "ipython3",
   "version": "3.7.5"
  }
 },
 "nbformat": 4,
 "nbformat_minor": 5
}
