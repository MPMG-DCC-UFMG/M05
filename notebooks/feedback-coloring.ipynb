{
 "cells": [
  {
   "cell_type": "code",
   "execution_count": 10,
   "id": "a448aa92",
   "metadata": {},
   "outputs": [],
   "source": [
    "import requests\n",
    "import random\n",
    "from copy import deepcopy\n",
    "import json\n",
    "from tqdm import tqdm"
   ]
  },
  {
   "cell_type": "code",
   "execution_count": 11,
   "id": "37c22a79",
   "metadata": {},
   "outputs": [],
   "source": [
    "from nltk.corpus import stopwords\n",
    "stopwords = stopwords.words(\"portuguese\")"
   ]
  },
  {
   "cell_type": "code",
   "execution_count": 12,
   "id": "1c4b1be8",
   "metadata": {},
   "outputs": [],
   "source": [
    "with open(\"generated_queries.txt\", \"r\") as queries_file:\n",
    "    queries = eval(queries_file.read())"
   ]
  },
  {
   "cell_type": "code",
   "execution_count": 13,
   "id": "1d8762b5",
   "metadata": {},
   "outputs": [
    {
     "data": {
      "text/plain": [
       "9"
      ]
     },
     "execution_count": 13,
     "metadata": {},
     "output_type": "execute_result"
    }
   ],
   "source": [
    "max([len(query[\"query\"].split()) for query in queries])"
   ]
  },
  {
   "cell_type": "code",
   "execution_count": 14,
   "id": "b981da5e",
   "metadata": {},
   "outputs": [],
   "source": [
    "# styles\n",
    "style_list = [\n",
    "    'style=\"color:white;background-color:gray;\"',\n",
    "    'style=\"color:white;background-color:blue;\"',\n",
    "    'style=\"color:white;background-color:green;\"',\n",
    "    'style=\"color:black;background-color:yellow;\"',\n",
    "    'style=\"color:white;background-color:brown;\"',\n",
    "    'style=\"color:black;background-color:orange;\"',\n",
    "    'style=\"color:white;background-color:red;\"',\n",
    "    'style=\"color:black;background-color:pink;\"',\n",
    "    'style=\"color:white;background-color:purple;\"',\n",
    "]\n"
   ]
  },
  {
   "cell_type": "code",
   "execution_count": 16,
   "id": "11169d3a",
   "metadata": {},
   "outputs": [
    {
     "data": {
      "text/plain": [
       "{'secretaria': 'style=\"color:white;background-color:gray;\"',\n",
       " 'estado': 'style=\"color:white;background-color:blue;\"',\n",
       " 'defesa': 'style=\"color:white;background-color:green;\"',\n",
       " 'social': 'style=\"color:black;background-color:yellow;\"',\n",
       " 'seap': 'style=\"color:white;background-color:brown;\"'}"
      ]
     },
     "execution_count": 16,
     "metadata": {},
     "output_type": "execute_result"
    }
   ],
   "source": [
    "query_tokens = queries[0][\"query\"].split()\n",
    "query_tokens = [token for token in query_tokens if not token in stopwords]\n",
    "dict(zip(query_tokens, style_list[:len(query_tokens)]))"
   ]
  },
  {
   "cell_type": "code",
   "execution_count": 28,
   "id": "3f851bc3",
   "metadata": {},
   "outputs": [],
   "source": [
    "with open(f\"feedback_rodrygo.json\", \"r\") as input_file:\n",
    "    feedback = eval(input_file.read())\n",
    "original_feedback = deepcopy(feedback)\n",
    "\n",
    "for entry in feedback:\n",
    "    new_corresponding = \"\"\n",
    "    query_tokens = entry[\"query\"].split()\n",
    "    query_tokens = [token for token in query_tokens if not token in stopwords]\n",
    "    color_codes = dict(zip(query_tokens, style_list[:len(query_tokens)]))\n",
    "    for corres in entry[\"corresponding\"]:\n",
    "        for token in corres[\"formatted_text\"].split():\n",
    "            if token in query_tokens:\n",
    "                new_corresponding += f\"<mark {color_codes[token]}>\" + token + \"</mark> \"\n",
    "            else:\n",
    "                new_corresponding += token + \" \"\n",
    "                \n",
    "        corres[\"formatted_text\"] = new_corresponding\n",
    "\n",
    "    entry[\"formatted_text\"] = \"<br>\"\n",
    "    for token in entry[\"query\"].split():\n",
    "        if token in query_tokens:\n",
    "            entry[\"formatted_text\"] += f\"<mark {color_codes[token]}>\" + token + \"</mark> \"\n",
    "        else:\n",
    "            entry[\"formatted_text\"] += token + \" \""
   ]
  },
  {
   "cell_type": "code",
   "execution_count": 29,
   "id": "96b560fb",
   "metadata": {},
   "outputs": [],
   "source": [
    "with open(f\"feedback_colors.json\", \"w\") as output:\n",
    "    output.write(json.dumps(feedback, ensure_ascii=False))"
   ]
  },
  {
   "cell_type": "code",
   "execution_count": 30,
   "id": "6d21d9b1",
   "metadata": {},
   "outputs": [],
   "source": [
    "with open(f\"feedback_break.json\", \"w\") as output:\n",
    "    output.write(json.dumps(original_feedback, ensure_ascii=False))"
   ]
  },
  {
   "cell_type": "code",
   "execution_count": null,
   "id": "008a36bb",
   "metadata": {},
   "outputs": [],
   "source": []
  }
 ],
 "metadata": {
  "kernelspec": {
   "display_name": "Python 3",
   "language": "python",
   "name": "python3"
  },
  "language_info": {
   "codemirror_mode": {
    "name": "ipython",
    "version": 3
   },
   "file_extension": ".py",
   "mimetype": "text/x-python",
   "name": "python",
   "nbconvert_exporter": "python",
   "pygments_lexer": "ipython3",
   "version": "3.6.8"
  }
 },
 "nbformat": 4,
 "nbformat_minor": 5
}
