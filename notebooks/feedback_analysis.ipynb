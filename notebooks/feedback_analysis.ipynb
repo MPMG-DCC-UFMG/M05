{
 "cells": [
  {
   "cell_type": "code",
   "execution_count": 1,
   "metadata": {},
   "outputs": [],
   "source": [
    "# !pip install krippendorff"
   ]
  },
  {
   "cell_type": "code",
   "execution_count": 46,
   "metadata": {},
   "outputs": [],
   "source": [
    "import pandas as pd\n",
    "import json\n",
    "import glob"
   ]
  },
  {
   "cell_type": "markdown",
   "metadata": {},
   "source": [
    "## Leitura dos dados"
   ]
  },
  {
   "cell_type": "code",
   "execution_count": 69,
   "metadata": {},
   "outputs": [
    {
     "data": {
      "text/html": [
       "<div>\n",
       "<style scoped>\n",
       "    .dataframe tbody tr th:only-of-type {\n",
       "        vertical-align: middle;\n",
       "    }\n",
       "\n",
       "    .dataframe tbody tr th {\n",
       "        vertical-align: top;\n",
       "    }\n",
       "\n",
       "    .dataframe thead th {\n",
       "        text-align: right;\n",
       "    }\n",
       "</style>\n",
       "<table border=\"1\" class=\"dataframe\">\n",
       "  <thead>\n",
       "    <tr style=\"text-align: right;\">\n",
       "      <th></th>\n",
       "      <th>text</th>\n",
       "      <th>_id</th>\n",
       "      <th>labels</th>\n",
       "      <th>query</th>\n",
       "      <th>query_id</th>\n",
       "      <th>label</th>\n",
       "    </tr>\n",
       "  </thead>\n",
       "  <tbody>\n",
       "    <tr>\n",
       "      <th>300</th>\n",
       "      <td>\\n\\nDocumento:20000110607\\n\\n\\n\\n\\nPoder Judic...</td>\n",
       "      <td>72ie2H0BazwYFyie8dgm</td>\n",
       "      <td>[{'label': {'id': '9e2e8d1f-46c7-452f-a202-f25...</td>\n",
       "      <td>planos de saúde</td>\n",
       "      <td>001404da-7082-4c96-8300-dd7836fb8f47</td>\n",
       "      <td>1</td>\n",
       "    </tr>\n",
       "    <tr>\n",
       "      <th>301</th>\n",
       "      <td>\\n\\nDocumento:20000006496\\n\\n\\n\\n\\nPoder Judic...</td>\n",
       "      <td>B2eH2H0BazwYFyieir4V</td>\n",
       "      <td>[{'label': {'id': '9e2e8d1f-46c7-452f-a202-f25...</td>\n",
       "      <td>planos de saúde</td>\n",
       "      <td>001404da-7082-4c96-8300-dd7836fb8f47</td>\n",
       "      <td>1</td>\n",
       "    </tr>\n",
       "    <tr>\n",
       "      <th>302</th>\n",
       "      <td>\\n\\nDocumento:20000085491\\n\\n\\n\\n\\nPoder Judic...</td>\n",
       "      <td>J2if2H0BazwYFyiel-E3</td>\n",
       "      <td>[{'label': {'id': '9e2e8d1f-46c7-452f-a202-f25...</td>\n",
       "      <td>planos de saúde</td>\n",
       "      <td>001404da-7082-4c96-8300-dd7836fb8f47</td>\n",
       "      <td>1</td>\n",
       "    </tr>\n",
       "    <tr>\n",
       "      <th>303</th>\n",
       "      <td>\\n\\nDocumento:20000020010\\n\\n\\n\\n\\nPoder Judic...</td>\n",
       "      <td>rmmo2H0BazwYFyienEO8</td>\n",
       "      <td>[{'label': {'id': '9e2e8d1f-46c7-452f-a202-f25...</td>\n",
       "      <td>planos de saúde</td>\n",
       "      <td>001404da-7082-4c96-8300-dd7836fb8f47</td>\n",
       "      <td>1</td>\n",
       "    </tr>\n",
       "    <tr>\n",
       "      <th>304</th>\n",
       "      <td>\\n\\nDocumento:20000006495\\n\\n\\n\\n\\nPoder Judic...</td>\n",
       "      <td>BmeH2H0BazwYFyieir4V</td>\n",
       "      <td>[{'label': {'id': '9e2e8d1f-46c7-452f-a202-f25...</td>\n",
       "      <td>planos de saúde</td>\n",
       "      <td>001404da-7082-4c96-8300-dd7836fb8f47</td>\n",
       "      <td>1</td>\n",
       "    </tr>\n",
       "    <tr>\n",
       "      <th>...</th>\n",
       "      <td>...</td>\n",
       "      <td>...</td>\n",
       "      <td>...</td>\n",
       "      <td>...</td>\n",
       "      <td>...</td>\n",
       "      <td>...</td>\n",
       "    </tr>\n",
       "    <tr>\n",
       "      <th>745</th>\n",
       "      <td>\\n            \\n                \\n   \\n       ...</td>\n",
       "      <td>7mZr2H0BazwYFyierH5c</td>\n",
       "      <td>[{'label': {'id': '791b77df-7956-41b6-8442-5ec...</td>\n",
       "      <td>partes anuentes</td>\n",
       "      <td>2a8cfd63-c0fa-480b-8ed7-344c0b86a8d6</td>\n",
       "      <td>0</td>\n",
       "    </tr>\n",
       "    <tr>\n",
       "      <th>746</th>\n",
       "      <td>\\n            \\n                \\n   \\n       ...</td>\n",
       "      <td>aWZs2H0BazwYFyieC4FA</td>\n",
       "      <td>[{'label': {'id': '791b77df-7956-41b6-8442-5ec...</td>\n",
       "      <td>partes anuentes</td>\n",
       "      <td>2a8cfd63-c0fa-480b-8ed7-344c0b86a8d6</td>\n",
       "      <td>0</td>\n",
       "    </tr>\n",
       "    <tr>\n",
       "      <th>747</th>\n",
       "      <td>\\n            \\n                \\n   \\n       ...</td>\n",
       "      <td>lWZt2H0BazwYFyieKY2S</td>\n",
       "      <td>[{'label': {'id': '791b77df-7956-41b6-8442-5ec...</td>\n",
       "      <td>partes anuentes</td>\n",
       "      <td>2a8cfd63-c0fa-480b-8ed7-344c0b86a8d6</td>\n",
       "      <td>0</td>\n",
       "    </tr>\n",
       "    <tr>\n",
       "      <th>748</th>\n",
       "      <td>\\n            \\n                \\n   \\n       ...</td>\n",
       "      <td>c2Zu2H0BazwYFyiebZw-</td>\n",
       "      <td>[{'label': {'id': '791b77df-7956-41b6-8442-5ec...</td>\n",
       "      <td>partes anuentes</td>\n",
       "      <td>2a8cfd63-c0fa-480b-8ed7-344c0b86a8d6</td>\n",
       "      <td>0</td>\n",
       "    </tr>\n",
       "    <tr>\n",
       "      <th>749</th>\n",
       "      <td>\\n            \\n                \\n   \\n       ...</td>\n",
       "      <td>DmZu2H0BazwYFyiem56n</td>\n",
       "      <td>[{'label': {'id': '791b77df-7956-41b6-8442-5ec...</td>\n",
       "      <td>partes anuentes</td>\n",
       "      <td>2a8cfd63-c0fa-480b-8ed7-344c0b86a8d6</td>\n",
       "      <td>0</td>\n",
       "    </tr>\n",
       "  </tbody>\n",
       "</table>\n",
       "<p>450 rows × 6 columns</p>\n",
       "</div>"
      ],
      "text/plain": [
       "                                                  text                   _id  \\\n",
       "300  \\n\\nDocumento:20000110607\\n\\n\\n\\n\\nPoder Judic...  72ie2H0BazwYFyie8dgm   \n",
       "301  \\n\\nDocumento:20000006496\\n\\n\\n\\n\\nPoder Judic...  B2eH2H0BazwYFyieir4V   \n",
       "302  \\n\\nDocumento:20000085491\\n\\n\\n\\n\\nPoder Judic...  J2if2H0BazwYFyiel-E3   \n",
       "303  \\n\\nDocumento:20000020010\\n\\n\\n\\n\\nPoder Judic...  rmmo2H0BazwYFyienEO8   \n",
       "304  \\n\\nDocumento:20000006495\\n\\n\\n\\n\\nPoder Judic...  BmeH2H0BazwYFyieir4V   \n",
       "..                                                 ...                   ...   \n",
       "745  \\n            \\n                \\n   \\n       ...  7mZr2H0BazwYFyierH5c   \n",
       "746  \\n            \\n                \\n   \\n       ...  aWZs2H0BazwYFyieC4FA   \n",
       "747  \\n            \\n                \\n   \\n       ...  lWZt2H0BazwYFyieKY2S   \n",
       "748  \\n            \\n                \\n   \\n       ...  c2Zu2H0BazwYFyiebZw-   \n",
       "749  \\n            \\n                \\n   \\n       ...  DmZu2H0BazwYFyiem56n   \n",
       "\n",
       "                                                labels            query  \\\n",
       "300  [{'label': {'id': '9e2e8d1f-46c7-452f-a202-f25...  planos de saúde   \n",
       "301  [{'label': {'id': '9e2e8d1f-46c7-452f-a202-f25...  planos de saúde   \n",
       "302  [{'label': {'id': '9e2e8d1f-46c7-452f-a202-f25...  planos de saúde   \n",
       "303  [{'label': {'id': '9e2e8d1f-46c7-452f-a202-f25...  planos de saúde   \n",
       "304  [{'label': {'id': '9e2e8d1f-46c7-452f-a202-f25...  planos de saúde   \n",
       "..                                                 ...              ...   \n",
       "745  [{'label': {'id': '791b77df-7956-41b6-8442-5ec...  partes anuentes   \n",
       "746  [{'label': {'id': '791b77df-7956-41b6-8442-5ec...  partes anuentes   \n",
       "747  [{'label': {'id': '791b77df-7956-41b6-8442-5ec...  partes anuentes   \n",
       "748  [{'label': {'id': '791b77df-7956-41b6-8442-5ec...  partes anuentes   \n",
       "749  [{'label': {'id': '791b77df-7956-41b6-8442-5ec...  partes anuentes   \n",
       "\n",
       "                                 query_id  label  \n",
       "300  001404da-7082-4c96-8300-dd7836fb8f47      1  \n",
       "301  001404da-7082-4c96-8300-dd7836fb8f47      1  \n",
       "302  001404da-7082-4c96-8300-dd7836fb8f47      1  \n",
       "303  001404da-7082-4c96-8300-dd7836fb8f47      1  \n",
       "304  001404da-7082-4c96-8300-dd7836fb8f47      1  \n",
       "..                                    ...    ...  \n",
       "745  2a8cfd63-c0fa-480b-8ed7-344c0b86a8d6      0  \n",
       "746  2a8cfd63-c0fa-480b-8ed7-344c0b86a8d6      0  \n",
       "747  2a8cfd63-c0fa-480b-8ed7-344c0b86a8d6      0  \n",
       "748  2a8cfd63-c0fa-480b-8ed7-344c0b86a8d6      0  \n",
       "749  2a8cfd63-c0fa-480b-8ed7-344c0b86a8d6      0  \n",
       "\n",
       "[450 rows x 6 columns]"
      ]
     },
     "execution_count": 69,
     "metadata": {},
     "output_type": "execute_result"
    }
   ],
   "source": [
    "feedbacks = []\n",
    "for name in glob.glob('./export*/*.json'):\n",
    "    with open(name, \"r\") as feedback:\n",
    "        feedbacks += json.load(feedback)\n",
    "feedbacks = pd.DataFrame(feedbacks)\n",
    "\n",
    "def change_corresponding(row):\n",
    "    for elem in row[\"corresponding\"]:\n",
    "        elem[\"query\"] = row[\"text\"]\n",
    "        elem[\"query_id\"] = row[\"_id\"]\n",
    "    return row[\"corresponding\"]\n",
    "feedbacks[\"corresponding\"] = feedbacks.apply(lambda row: change_corresponding(row) ,axis=1)\n",
    "\n",
    "feedbacks = pd.json_normalize(feedbacks.explode(\"corresponding\")[\"corresponding\"])\n",
    "feedbacks = feedbacks[feedbacks[\"labels\"].apply(lambda x: bool(x))]\n",
    "feedbacks[\"label\"] = feedbacks[\"labels\"].apply(lambda x: 1 if x[0][\"label\"][\"name\"] == \"Relevante\" else 0)\n",
    "feedbacks[\"query\"] = feedbacks[\"query\"].apply(lambda x: x.replace(\"CONSULTA: \", \"\"))\n",
    "feedbacks"
   ]
  },
  {
   "cell_type": "code",
   "execution_count": 70,
   "metadata": {},
   "outputs": [
    {
     "data": {
      "text/html": [
       "<div>\n",
       "<style scoped>\n",
       "    .dataframe tbody tr th:only-of-type {\n",
       "        vertical-align: middle;\n",
       "    }\n",
       "\n",
       "    .dataframe tbody tr th {\n",
       "        vertical-align: top;\n",
       "    }\n",
       "\n",
       "    .dataframe thead th {\n",
       "        text-align: right;\n",
       "    }\n",
       "</style>\n",
       "<table border=\"1\" class=\"dataframe\">\n",
       "  <thead>\n",
       "    <tr style=\"text-align: right;\">\n",
       "      <th></th>\n",
       "      <th>text</th>\n",
       "      <th>query</th>\n",
       "      <th>label</th>\n",
       "    </tr>\n",
       "  </thead>\n",
       "  <tbody>\n",
       "    <tr>\n",
       "      <th>300</th>\n",
       "      <td>\\n\\nDocumento:20000110607\\n\\n\\n\\n\\nPoder Judic...</td>\n",
       "      <td>planos de saúde</td>\n",
       "      <td>1</td>\n",
       "    </tr>\n",
       "    <tr>\n",
       "      <th>301</th>\n",
       "      <td>\\n\\nDocumento:20000006496\\n\\n\\n\\n\\nPoder Judic...</td>\n",
       "      <td>planos de saúde</td>\n",
       "      <td>1</td>\n",
       "    </tr>\n",
       "    <tr>\n",
       "      <th>302</th>\n",
       "      <td>\\n\\nDocumento:20000085491\\n\\n\\n\\n\\nPoder Judic...</td>\n",
       "      <td>planos de saúde</td>\n",
       "      <td>1</td>\n",
       "    </tr>\n",
       "    <tr>\n",
       "      <th>303</th>\n",
       "      <td>\\n\\nDocumento:20000020010\\n\\n\\n\\n\\nPoder Judic...</td>\n",
       "      <td>planos de saúde</td>\n",
       "      <td>1</td>\n",
       "    </tr>\n",
       "    <tr>\n",
       "      <th>304</th>\n",
       "      <td>\\n\\nDocumento:20000006495\\n\\n\\n\\n\\nPoder Judic...</td>\n",
       "      <td>planos de saúde</td>\n",
       "      <td>1</td>\n",
       "    </tr>\n",
       "    <tr>\n",
       "      <th>...</th>\n",
       "      <td>...</td>\n",
       "      <td>...</td>\n",
       "      <td>...</td>\n",
       "    </tr>\n",
       "    <tr>\n",
       "      <th>745</th>\n",
       "      <td>\\n            \\n                \\n   \\n       ...</td>\n",
       "      <td>partes anuentes</td>\n",
       "      <td>0</td>\n",
       "    </tr>\n",
       "    <tr>\n",
       "      <th>746</th>\n",
       "      <td>\\n            \\n                \\n   \\n       ...</td>\n",
       "      <td>partes anuentes</td>\n",
       "      <td>0</td>\n",
       "    </tr>\n",
       "    <tr>\n",
       "      <th>747</th>\n",
       "      <td>\\n            \\n                \\n   \\n       ...</td>\n",
       "      <td>partes anuentes</td>\n",
       "      <td>0</td>\n",
       "    </tr>\n",
       "    <tr>\n",
       "      <th>748</th>\n",
       "      <td>\\n            \\n                \\n   \\n       ...</td>\n",
       "      <td>partes anuentes</td>\n",
       "      <td>0</td>\n",
       "    </tr>\n",
       "    <tr>\n",
       "      <th>749</th>\n",
       "      <td>\\n            \\n                \\n   \\n       ...</td>\n",
       "      <td>partes anuentes</td>\n",
       "      <td>0</td>\n",
       "    </tr>\n",
       "  </tbody>\n",
       "</table>\n",
       "<p>450 rows × 3 columns</p>\n",
       "</div>"
      ],
      "text/plain": [
       "                                                  text            query  label\n",
       "300  \\n\\nDocumento:20000110607\\n\\n\\n\\n\\nPoder Judic...  planos de saúde      1\n",
       "301  \\n\\nDocumento:20000006496\\n\\n\\n\\n\\nPoder Judic...  planos de saúde      1\n",
       "302  \\n\\nDocumento:20000085491\\n\\n\\n\\n\\nPoder Judic...  planos de saúde      1\n",
       "303  \\n\\nDocumento:20000020010\\n\\n\\n\\n\\nPoder Judic...  planos de saúde      1\n",
       "304  \\n\\nDocumento:20000006495\\n\\n\\n\\n\\nPoder Judic...  planos de saúde      1\n",
       "..                                                 ...              ...    ...\n",
       "745  \\n            \\n                \\n   \\n       ...  partes anuentes      0\n",
       "746  \\n            \\n                \\n   \\n       ...  partes anuentes      0\n",
       "747  \\n            \\n                \\n   \\n       ...  partes anuentes      0\n",
       "748  \\n            \\n                \\n   \\n       ...  partes anuentes      0\n",
       "749  \\n            \\n                \\n   \\n       ...  partes anuentes      0\n",
       "\n",
       "[450 rows x 3 columns]"
      ]
     },
     "execution_count": 70,
     "metadata": {},
     "output_type": "execute_result"
    }
   ],
   "source": [
    "feedbacks[[\"text\", \"query\", \"label\"]]"
   ]
  },
  {
   "cell_type": "markdown",
   "metadata": {},
   "source": [
    "## Análise"
   ]
  },
  {
   "cell_type": "code",
   "execution_count": 71,
   "metadata": {},
   "outputs": [
    {
     "data": {
      "text/html": [
       "<div>\n",
       "<style scoped>\n",
       "    .dataframe tbody tr th:only-of-type {\n",
       "        vertical-align: middle;\n",
       "    }\n",
       "\n",
       "    .dataframe tbody tr th {\n",
       "        vertical-align: top;\n",
       "    }\n",
       "\n",
       "    .dataframe thead th {\n",
       "        text-align: right;\n",
       "    }\n",
       "</style>\n",
       "<table border=\"1\" class=\"dataframe\">\n",
       "  <thead>\n",
       "    <tr style=\"text-align: right;\">\n",
       "      <th></th>\n",
       "      <th></th>\n",
       "      <th>label</th>\n",
       "      <th>count</th>\n",
       "    </tr>\n",
       "    <tr>\n",
       "      <th>_id</th>\n",
       "      <th>query_id</th>\n",
       "      <th></th>\n",
       "      <th></th>\n",
       "    </tr>\n",
       "  </thead>\n",
       "  <tbody>\n",
       "    <tr>\n",
       "      <th>-2d92H0BazwYFyieslD-</th>\n",
       "      <th>b4bb355d-e105-4b58-9bd1-c4421b89a058</th>\n",
       "      <td>1.0</td>\n",
       "      <td>1</td>\n",
       "    </tr>\n",
       "    <tr>\n",
       "      <th>-2id2H0BazwYFyiewsrT</th>\n",
       "      <th>40456087-473f-44f4-9aeb-6b8a61205c20</th>\n",
       "      <td>1.0</td>\n",
       "      <td>2</td>\n",
       "    </tr>\n",
       "    <tr>\n",
       "      <th>02Zt2H0BazwYFyiehJGF</th>\n",
       "      <th>a564b353-a905-4d5e-87d3-e50179a75e5c</th>\n",
       "      <td>0.0</td>\n",
       "      <td>1</td>\n",
       "    </tr>\n",
       "    <tr>\n",
       "      <th>02eE2H0BazwYFyie_Z-f</th>\n",
       "      <th>515c91af-935b-44a0-9034-2c067e06d796</th>\n",
       "      <td>0.0</td>\n",
       "      <td>1</td>\n",
       "    </tr>\n",
       "    <tr>\n",
       "      <th>0meK2H0BazwYFyieed7Q</th>\n",
       "      <th>a2f20a89-329a-4781-9ac3-80b3e1df8a93</th>\n",
       "      <td>1.0</td>\n",
       "      <td>2</td>\n",
       "    </tr>\n",
       "    <tr>\n",
       "      <th>...</th>\n",
       "      <th>...</th>\n",
       "      <td>...</td>\n",
       "      <td>...</td>\n",
       "    </tr>\n",
       "    <tr>\n",
       "      <th>zGmj2H0BazwYFyie5Q7v</th>\n",
       "      <th>d630e749-49cc-468e-a974-5f8cf9e609cc</th>\n",
       "      <td>1.0</td>\n",
       "      <td>1</td>\n",
       "    </tr>\n",
       "    <tr>\n",
       "      <th>zWeB2H0BazwYFyieX3dP</th>\n",
       "      <th>b4bb355d-e105-4b58-9bd1-c4421b89a058</th>\n",
       "      <td>1.0</td>\n",
       "      <td>1</td>\n",
       "    </tr>\n",
       "    <tr>\n",
       "      <th>zWid2H0BazwYFyielMjT</th>\n",
       "      <th>38ff53de-7e90-4dbb-b912-40a8c8c63de4</th>\n",
       "      <td>0.0</td>\n",
       "      <td>1</td>\n",
       "    </tr>\n",
       "    <tr>\n",
       "      <th>zWie2H0BazwYFyie8dkn</th>\n",
       "      <th>06b31304-b1bf-4d89-af61-d1d61904afe0</th>\n",
       "      <td>0.5</td>\n",
       "      <td>2</td>\n",
       "    </tr>\n",
       "    <tr>\n",
       "      <th>zmih2H0BazwYFyie8_zX</th>\n",
       "      <th>d630e749-49cc-468e-a974-5f8cf9e609cc</th>\n",
       "      <td>1.0</td>\n",
       "      <td>1</td>\n",
       "    </tr>\n",
       "  </tbody>\n",
       "</table>\n",
       "<p>300 rows × 2 columns</p>\n",
       "</div>"
      ],
      "text/plain": [
       "                                                           label  count\n",
       "_id                  query_id                                          \n",
       "-2d92H0BazwYFyieslD- b4bb355d-e105-4b58-9bd1-c4421b89a058    1.0      1\n",
       "-2id2H0BazwYFyiewsrT 40456087-473f-44f4-9aeb-6b8a61205c20    1.0      2\n",
       "02Zt2H0BazwYFyiehJGF a564b353-a905-4d5e-87d3-e50179a75e5c    0.0      1\n",
       "02eE2H0BazwYFyie_Z-f 515c91af-935b-44a0-9034-2c067e06d796    0.0      1\n",
       "0meK2H0BazwYFyieed7Q a2f20a89-329a-4781-9ac3-80b3e1df8a93    1.0      2\n",
       "...                                                          ...    ...\n",
       "zGmj2H0BazwYFyie5Q7v d630e749-49cc-468e-a974-5f8cf9e609cc    1.0      1\n",
       "zWeB2H0BazwYFyieX3dP b4bb355d-e105-4b58-9bd1-c4421b89a058    1.0      1\n",
       "zWid2H0BazwYFyielMjT 38ff53de-7e90-4dbb-b912-40a8c8c63de4    0.0      1\n",
       "zWie2H0BazwYFyie8dkn 06b31304-b1bf-4d89-af61-d1d61904afe0    0.5      2\n",
       "zmih2H0BazwYFyie8_zX d630e749-49cc-468e-a974-5f8cf9e609cc    1.0      1\n",
       "\n",
       "[300 rows x 2 columns]"
      ]
     },
     "execution_count": 71,
     "metadata": {},
     "output_type": "execute_result"
    }
   ],
   "source": [
    "scores = feedbacks.groupby([\"_id\", \"query_id\"])[\"label\"].mean().to_frame()\n",
    "scores[\"count\"] = feedbacks.groupby([\"_id\", \"query_id\"])[\"label\"].count()\n",
    "scores"
   ]
  },
  {
   "cell_type": "code",
   "execution_count": 72,
   "metadata": {},
   "outputs": [
    {
     "data": {
      "text/plain": [
       "0.0    186\n",
       "1.0     84\n",
       "0.5     30\n",
       "Name: label, dtype: int64"
      ]
     },
     "execution_count": 72,
     "metadata": {},
     "output_type": "execute_result"
    }
   ],
   "source": [
    "scores[\"label\"].value_counts()"
   ]
  },
  {
   "cell_type": "code",
   "execution_count": 73,
   "metadata": {},
   "outputs": [
    {
     "data": {
      "text/plain": [
       "<AxesSubplot:>"
      ]
     },
     "execution_count": 73,
     "metadata": {},
     "output_type": "execute_result"
    },
    {
     "data": {
      "image/png": "[encoded data removed]",
      "text/plain": [
       "<Figure size 432x288 with 1 Axes>"
      ]
     },
     "metadata": {
      "needs_background": "light"
     },
     "output_type": "display_data"
    }
   ],
   "source": [
    "scores[\"count\"].hist()"
   ]
  },
  {
   "cell_type": "code",
   "execution_count": 74,
   "metadata": {},
   "outputs": [],
   "source": [
    "dataset = scores #need to save it here"
   ]
  },
  {
   "cell_type": "markdown",
   "metadata": {},
   "source": [
    "### Apenas entradas com todos os rótulos"
   ]
  },
  {
   "cell_type": "code",
   "execution_count": 75,
   "metadata": {},
   "outputs": [],
   "source": [
    "all_scores = scores[scores[\"count\"] == 2]"
   ]
  },
  {
   "cell_type": "code",
   "execution_count": 76,
   "metadata": {},
   "outputs": [
    {
     "data": {
      "text/plain": [
       "<AxesSubplot:>"
      ]
     },
     "execution_count": 76,
     "metadata": {},
     "output_type": "execute_result"
    },
    {
     "data": {
      "image/png": "[encoded data removed]",
      "text/plain": [
       "<Figure size 432x288 with 1 Axes>"
      ]
     },
     "metadata": {
      "needs_background": "light"
     },
     "output_type": "display_data"
    }
   ],
   "source": [
    "all_scores[\"label\"].hist()"
   ]
  },
  {
   "cell_type": "code",
   "execution_count": 77,
   "metadata": {},
   "outputs": [
    {
     "data": {
      "text/plain": [
       "0.0    85\n",
       "1.0    35\n",
       "0.5    30\n",
       "Name: label, dtype: int64"
      ]
     },
     "execution_count": 77,
     "metadata": {},
     "output_type": "execute_result"
    }
   ],
   "source": [
    "all_scores[\"label\"].value_counts()"
   ]
  },
  {
   "cell_type": "code",
   "execution_count": 78,
   "metadata": {},
   "outputs": [
    {
     "name": "stdout",
     "output_type": "stream",
     "text": [
      "Observed agreement:  0.8\n"
     ]
    }
   ],
   "source": [
    "print(\"Observed agreement: \", 1 - (len([i for i in list(all_scores[\"label\"]) if i == 0.5]) / len(all_scores)))"
   ]
  },
  {
   "cell_type": "markdown",
   "metadata": {},
   "source": [
    "# Inter-rater agreement\n"
   ]
  },
  {
   "cell_type": "markdown",
   "metadata": {},
   "source": [
    "* Fleiss’s Kappa is an extension of Cohen’s kappa for three raters or more. In addition, the assumption with Cohen’s kappa is that your raters are deliberately chosen and fixed. With Fleiss’ kappa, the assumption is that your raters were chosen at random from a larger population.\n",
    "\n",
    "* Kendall’s Tau is used when you have ranked data, like two people ordering 10 candidates from most preferred to least preferred.\n",
    "\n",
    "* Krippendorff’s alpha is useful when you have multiple raters and multiple possible ratings."
   ]
  },
  {
   "cell_type": "markdown",
   "metadata": {},
   "source": [
    "### Kappas"
   ]
  },
  {
   "cell_type": "code",
   "execution_count": 79,
   "metadata": {},
   "outputs": [],
   "source": [
    "scores = feedbacks.groupby([\"_id\", \"query_id\"])[\"label\"].apply(list).to_frame()\n",
    "scores[\"count\"] = feedbacks.groupby([\"_id\", \"query_id\"])[\"label\"].count()\n",
    "all_scores = scores[scores[\"count\"] == 2]"
   ]
  },
  {
   "cell_type": "code",
   "execution_count": 80,
   "metadata": {},
   "outputs": [],
   "source": [
    "rater1 = [i[0] for i in list(all_scores[\"label\"])]\n",
    "rater2 = [i[1] for i in list(all_scores[\"label\"])]"
   ]
  },
  {
   "cell_type": "code",
   "execution_count": 81,
   "metadata": {},
   "outputs": [
    {
     "data": {
      "text/plain": [
       "0.5556872037914692"
      ]
     },
     "execution_count": 81,
     "metadata": {},
     "output_type": "execute_result"
    }
   ],
   "source": [
    "from sklearn.metrics import cohen_kappa_score\n",
    "cohen_kappa_score(rater1, rater2)"
   ]
  },
  {
   "cell_type": "code",
   "execution_count": 82,
   "metadata": {},
   "outputs": [
    {
     "data": {
      "text/html": [
       "<img src=\"https://miro.medium.com/max/1400/1*mHB6Ciljb4OnOacNWgc0aw.png\"/>"
      ],
      "text/plain": [
       "<IPython.core.display.Image object>"
      ]
     },
     "execution_count": 82,
     "metadata": {},
     "output_type": "execute_result"
    }
   ],
   "source": [
    "from IPython.display import Image\n",
    "Image(url='https://miro.medium.com/max/1400/1*mHB6Ciljb4OnOacNWgc0aw.png')"
   ]
  },
  {
   "cell_type": "markdown",
   "metadata": {},
   "source": [
    "### Krippendorff"
   ]
  },
  {
   "cell_type": "code",
   "execution_count": 83,
   "metadata": {},
   "outputs": [
    {
     "data": {
      "text/html": [
       "<div>\n",
       "<style scoped>\n",
       "    .dataframe tbody tr th:only-of-type {\n",
       "        vertical-align: middle;\n",
       "    }\n",
       "\n",
       "    .dataframe tbody tr th {\n",
       "        vertical-align: top;\n",
       "    }\n",
       "\n",
       "    .dataframe thead th {\n",
       "        text-align: right;\n",
       "    }\n",
       "</style>\n",
       "<table border=\"1\" class=\"dataframe\">\n",
       "  <thead>\n",
       "    <tr style=\"text-align: right;\">\n",
       "      <th></th>\n",
       "      <th>text</th>\n",
       "      <th>_id</th>\n",
       "      <th>labels</th>\n",
       "      <th>query</th>\n",
       "      <th>query_id</th>\n",
       "      <th>label</th>\n",
       "      <th>entry</th>\n",
       "      <th>user</th>\n",
       "    </tr>\n",
       "  </thead>\n",
       "  <tbody>\n",
       "    <tr>\n",
       "      <th>300</th>\n",
       "      <td>\\n\\nDocumento:20000110607\\n\\n\\n\\n\\nPoder Judic...</td>\n",
       "      <td>72ie2H0BazwYFyie8dgm</td>\n",
       "      <td>[{'label': {'id': '9e2e8d1f-46c7-452f-a202-f25...</td>\n",
       "      <td>planos de saúde</td>\n",
       "      <td>001404da-7082-4c96-8300-dd7836fb8f47</td>\n",
       "      <td>1</td>\n",
       "      <td>72ie2H0BazwYFyie8dgm001404da-7082-4c96-8300-dd...</td>\n",
       "      <td>01c719b5-ec9b-481a-b8a4-76e85867e599</td>\n",
       "    </tr>\n",
       "    <tr>\n",
       "      <th>301</th>\n",
       "      <td>\\n\\nDocumento:20000006496\\n\\n\\n\\n\\nPoder Judic...</td>\n",
       "      <td>B2eH2H0BazwYFyieir4V</td>\n",
       "      <td>[{'label': {'id': '9e2e8d1f-46c7-452f-a202-f25...</td>\n",
       "      <td>planos de saúde</td>\n",
       "      <td>001404da-7082-4c96-8300-dd7836fb8f47</td>\n",
       "      <td>1</td>\n",
       "      <td>B2eH2H0BazwYFyieir4V001404da-7082-4c96-8300-dd...</td>\n",
       "      <td>01c719b5-ec9b-481a-b8a4-76e85867e599</td>\n",
       "    </tr>\n",
       "    <tr>\n",
       "      <th>302</th>\n",
       "      <td>\\n\\nDocumento:20000085491\\n\\n\\n\\n\\nPoder Judic...</td>\n",
       "      <td>J2if2H0BazwYFyiel-E3</td>\n",
       "      <td>[{'label': {'id': '9e2e8d1f-46c7-452f-a202-f25...</td>\n",
       "      <td>planos de saúde</td>\n",
       "      <td>001404da-7082-4c96-8300-dd7836fb8f47</td>\n",
       "      <td>1</td>\n",
       "      <td>J2if2H0BazwYFyiel-E3001404da-7082-4c96-8300-dd...</td>\n",
       "      <td>01c719b5-ec9b-481a-b8a4-76e85867e599</td>\n",
       "    </tr>\n",
       "  </tbody>\n",
       "</table>\n",
       "</div>"
      ],
      "text/plain": [
       "                                                  text                   _id  \\\n",
       "300  \\n\\nDocumento:20000110607\\n\\n\\n\\n\\nPoder Judic...  72ie2H0BazwYFyie8dgm   \n",
       "301  \\n\\nDocumento:20000006496\\n\\n\\n\\n\\nPoder Judic...  B2eH2H0BazwYFyieir4V   \n",
       "302  \\n\\nDocumento:20000085491\\n\\n\\n\\n\\nPoder Judic...  J2if2H0BazwYFyiel-E3   \n",
       "\n",
       "                                                labels            query  \\\n",
       "300  [{'label': {'id': '9e2e8d1f-46c7-452f-a202-f25...  planos de saúde   \n",
       "301  [{'label': {'id': '9e2e8d1f-46c7-452f-a202-f25...  planos de saúde   \n",
       "302  [{'label': {'id': '9e2e8d1f-46c7-452f-a202-f25...  planos de saúde   \n",
       "\n",
       "                                 query_id  label  \\\n",
       "300  001404da-7082-4c96-8300-dd7836fb8f47      1   \n",
       "301  001404da-7082-4c96-8300-dd7836fb8f47      1   \n",
       "302  001404da-7082-4c96-8300-dd7836fb8f47      1   \n",
       "\n",
       "                                                 entry  \\\n",
       "300  72ie2H0BazwYFyie8dgm001404da-7082-4c96-8300-dd...   \n",
       "301  B2eH2H0BazwYFyieir4V001404da-7082-4c96-8300-dd...   \n",
       "302  J2if2H0BazwYFyiel-E3001404da-7082-4c96-8300-dd...   \n",
       "\n",
       "                                     user  \n",
       "300  01c719b5-ec9b-481a-b8a4-76e85867e599  \n",
       "301  01c719b5-ec9b-481a-b8a4-76e85867e599  \n",
       "302  01c719b5-ec9b-481a-b8a4-76e85867e599  "
      ]
     },
     "execution_count": 83,
     "metadata": {},
     "output_type": "execute_result"
    }
   ],
   "source": [
    "feedbacks[\"entry\"] = feedbacks.apply(lambda row: row[\"_id\"] + row[\"query_id\"] ,axis=1)\n",
    "feedbacks[\"user\"] = feedbacks[\"labels\"].apply(lambda x: x[0][\"user\"][\"id\"])\n",
    "feedbacks.head(3)"
   ]
  },
  {
   "cell_type": "code",
   "execution_count": 84,
   "metadata": {},
   "outputs": [
    {
     "name": "stdout",
     "output_type": "stream",
     "text": [
      "Krippendorff's alpha:  0.5515000000000001\n"
     ]
    }
   ],
   "source": [
    "import random\n",
    "import numpy as np\n",
    "import krippendorff\n",
    "users_strings = {}\n",
    "\n",
    "for user in feedbacks[\"user\"].unique():\n",
    "    users_strings[user] = []\n",
    "\n",
    "for entry in feedbacks[\"entry\"].unique():\n",
    "    f = feedbacks[feedbacks[\"entry\"] == entry]\n",
    "    for user in feedbacks[\"user\"].unique():\n",
    "        if user in list(f[\"user\"]):\n",
    "            users_strings[user] += [f[f[\"user\"] == user].iloc[0][\"label\"]]\n",
    "        else:\n",
    "            users_strings[user] += [np.nan]\n",
    "\n",
    "reliability_data = list(users_strings.values())\n",
    "np.array(reliability_data).dtype.kind\n",
    "value = krippendorff.alpha(reliability_data=reliability_data, value_domain=[0, 1], level_of_measurement=\"nominal\")\n",
    "print(\"Krippendorff's alpha: \", value)"
   ]
  },
  {
   "cell_type": "markdown",
   "metadata": {},
   "source": [
    "The minimum acceptable alpha coefficient should be chosen according to the importance of the conclusions to be drawn from imperfect data. When the costs of mistaken conclusions are high, the minimum alpha needs to be set high as well. In the absence of knowledge of the risks of drawing false conclusions from unreliable data, social scientists commonly rely on data with reliabilities α ≥ 0.800, consider data with 0.800 > α ≥ 0.667 only to draw tentative conclusions, and discard data whose agreement measures α < 0.667"
   ]
  },
  {
   "cell_type": "markdown",
   "metadata": {},
   "source": [
    "## Criação do dataset"
   ]
  },
  {
   "cell_type": "code",
   "execution_count": 85,
   "metadata": {},
   "outputs": [
    {
     "data": {
      "text/html": [
       "<div>\n",
       "<style scoped>\n",
       "    .dataframe tbody tr th:only-of-type {\n",
       "        vertical-align: middle;\n",
       "    }\n",
       "\n",
       "    .dataframe tbody tr th {\n",
       "        vertical-align: top;\n",
       "    }\n",
       "\n",
       "    .dataframe thead th {\n",
       "        text-align: right;\n",
       "    }\n",
       "</style>\n",
       "<table border=\"1\" class=\"dataframe\">\n",
       "  <thead>\n",
       "    <tr style=\"text-align: right;\">\n",
       "      <th></th>\n",
       "      <th>_id</th>\n",
       "      <th>query_id</th>\n",
       "      <th>label</th>\n",
       "      <th>count</th>\n",
       "      <th>final_label</th>\n",
       "    </tr>\n",
       "  </thead>\n",
       "  <tbody>\n",
       "    <tr>\n",
       "      <th>0</th>\n",
       "      <td>-2d92H0BazwYFyieslD-</td>\n",
       "      <td>b4bb355d-e105-4b58-9bd1-c4421b89a058</td>\n",
       "      <td>1.0</td>\n",
       "      <td>1</td>\n",
       "      <td>1</td>\n",
       "    </tr>\n",
       "    <tr>\n",
       "      <th>1</th>\n",
       "      <td>-2id2H0BazwYFyiewsrT</td>\n",
       "      <td>40456087-473f-44f4-9aeb-6b8a61205c20</td>\n",
       "      <td>1.0</td>\n",
       "      <td>2</td>\n",
       "      <td>1</td>\n",
       "    </tr>\n",
       "    <tr>\n",
       "      <th>2</th>\n",
       "      <td>02Zt2H0BazwYFyiehJGF</td>\n",
       "      <td>a564b353-a905-4d5e-87d3-e50179a75e5c</td>\n",
       "      <td>0.0</td>\n",
       "      <td>1</td>\n",
       "      <td>0</td>\n",
       "    </tr>\n",
       "    <tr>\n",
       "      <th>3</th>\n",
       "      <td>02eE2H0BazwYFyie_Z-f</td>\n",
       "      <td>515c91af-935b-44a0-9034-2c067e06d796</td>\n",
       "      <td>0.0</td>\n",
       "      <td>1</td>\n",
       "      <td>0</td>\n",
       "    </tr>\n",
       "    <tr>\n",
       "      <th>4</th>\n",
       "      <td>0meK2H0BazwYFyieed7Q</td>\n",
       "      <td>a2f20a89-329a-4781-9ac3-80b3e1df8a93</td>\n",
       "      <td>1.0</td>\n",
       "      <td>2</td>\n",
       "      <td>1</td>\n",
       "    </tr>\n",
       "    <tr>\n",
       "      <th>...</th>\n",
       "      <td>...</td>\n",
       "      <td>...</td>\n",
       "      <td>...</td>\n",
       "      <td>...</td>\n",
       "      <td>...</td>\n",
       "    </tr>\n",
       "    <tr>\n",
       "      <th>295</th>\n",
       "      <td>zGmj2H0BazwYFyie5Q7v</td>\n",
       "      <td>d630e749-49cc-468e-a974-5f8cf9e609cc</td>\n",
       "      <td>1.0</td>\n",
       "      <td>1</td>\n",
       "      <td>1</td>\n",
       "    </tr>\n",
       "    <tr>\n",
       "      <th>296</th>\n",
       "      <td>zWeB2H0BazwYFyieX3dP</td>\n",
       "      <td>b4bb355d-e105-4b58-9bd1-c4421b89a058</td>\n",
       "      <td>1.0</td>\n",
       "      <td>1</td>\n",
       "      <td>1</td>\n",
       "    </tr>\n",
       "    <tr>\n",
       "      <th>297</th>\n",
       "      <td>zWid2H0BazwYFyielMjT</td>\n",
       "      <td>38ff53de-7e90-4dbb-b912-40a8c8c63de4</td>\n",
       "      <td>0.0</td>\n",
       "      <td>1</td>\n",
       "      <td>0</td>\n",
       "    </tr>\n",
       "    <tr>\n",
       "      <th>298</th>\n",
       "      <td>zWie2H0BazwYFyie8dkn</td>\n",
       "      <td>06b31304-b1bf-4d89-af61-d1d61904afe0</td>\n",
       "      <td>0.5</td>\n",
       "      <td>2</td>\n",
       "      <td>1</td>\n",
       "    </tr>\n",
       "    <tr>\n",
       "      <th>299</th>\n",
       "      <td>zmih2H0BazwYFyie8_zX</td>\n",
       "      <td>d630e749-49cc-468e-a974-5f8cf9e609cc</td>\n",
       "      <td>1.0</td>\n",
       "      <td>1</td>\n",
       "      <td>1</td>\n",
       "    </tr>\n",
       "  </tbody>\n",
       "</table>\n",
       "<p>300 rows × 5 columns</p>\n",
       "</div>"
      ],
      "text/plain": [
       "                      _id                              query_id  label  count  \\\n",
       "0    -2d92H0BazwYFyieslD-  b4bb355d-e105-4b58-9bd1-c4421b89a058    1.0      1   \n",
       "1    -2id2H0BazwYFyiewsrT  40456087-473f-44f4-9aeb-6b8a61205c20    1.0      2   \n",
       "2    02Zt2H0BazwYFyiehJGF  a564b353-a905-4d5e-87d3-e50179a75e5c    0.0      1   \n",
       "3    02eE2H0BazwYFyie_Z-f  515c91af-935b-44a0-9034-2c067e06d796    0.0      1   \n",
       "4    0meK2H0BazwYFyieed7Q  a2f20a89-329a-4781-9ac3-80b3e1df8a93    1.0      2   \n",
       "..                    ...                                   ...    ...    ...   \n",
       "295  zGmj2H0BazwYFyie5Q7v  d630e749-49cc-468e-a974-5f8cf9e609cc    1.0      1   \n",
       "296  zWeB2H0BazwYFyieX3dP  b4bb355d-e105-4b58-9bd1-c4421b89a058    1.0      1   \n",
       "297  zWid2H0BazwYFyielMjT  38ff53de-7e90-4dbb-b912-40a8c8c63de4    0.0      1   \n",
       "298  zWie2H0BazwYFyie8dkn  06b31304-b1bf-4d89-af61-d1d61904afe0    0.5      2   \n",
       "299  zmih2H0BazwYFyie8_zX  d630e749-49cc-468e-a974-5f8cf9e609cc    1.0      1   \n",
       "\n",
       "     final_label  \n",
       "0              1  \n",
       "1              1  \n",
       "2              0  \n",
       "3              0  \n",
       "4              1  \n",
       "..           ...  \n",
       "295            1  \n",
       "296            1  \n",
       "297            0  \n",
       "298            1  \n",
       "299            1  \n",
       "\n",
       "[300 rows x 5 columns]"
      ]
     },
     "execution_count": 85,
     "metadata": {},
     "output_type": "execute_result"
    }
   ],
   "source": [
    "dataset[\"final_label\"] = dataset[\"label\"].apply(lambda x: int(bool(x)))\n",
    "dataset = dataset.reset_index()\n",
    "dataset"
   ]
  },
  {
   "cell_type": "code",
   "execution_count": 86,
   "metadata": {},
   "outputs": [],
   "source": [
    "dataset = pd.merge(dataset, feedbacks,  left_on=['_id','query_id'], right_on = ['_id','query_id'])[['_id','query_id', \"final_label\",\"query\", \"text\"]]"
   ]
  },
  {
   "cell_type": "code",
   "execution_count": 87,
   "metadata": {},
   "outputs": [
    {
     "data": {
      "text/html": [
       "<div>\n",
       "<style scoped>\n",
       "    .dataframe tbody tr th:only-of-type {\n",
       "        vertical-align: middle;\n",
       "    }\n",
       "\n",
       "    .dataframe tbody tr th {\n",
       "        vertical-align: top;\n",
       "    }\n",
       "\n",
       "    .dataframe thead th {\n",
       "        text-align: right;\n",
       "    }\n",
       "</style>\n",
       "<table border=\"1\" class=\"dataframe\">\n",
       "  <thead>\n",
       "    <tr style=\"text-align: right;\">\n",
       "      <th></th>\n",
       "      <th>_id</th>\n",
       "      <th>query_id</th>\n",
       "      <th>final_label</th>\n",
       "      <th>query</th>\n",
       "      <th>text</th>\n",
       "    </tr>\n",
       "  </thead>\n",
       "  <tbody>\n",
       "    <tr>\n",
       "      <th>0</th>\n",
       "      <td>-2d92H0BazwYFyieslD-</td>\n",
       "      <td>b4bb355d-e105-4b58-9bd1-c4421b89a058</td>\n",
       "      <td>1</td>\n",
       "      <td>título executivo extrajudicial prescrito</td>\n",
       "      <td>\\n\\nDocumento:20000034808\\n\\n\\n\\n\\nPoder Judic...</td>\n",
       "    </tr>\n",
       "    <tr>\n",
       "      <th>1</th>\n",
       "      <td>-2id2H0BazwYFyiewsrT</td>\n",
       "      <td>40456087-473f-44f4-9aeb-6b8a61205c20</td>\n",
       "      <td>1</td>\n",
       "      <td>interesse recursal quanto ao pedido principal</td>\n",
       "      <td>\\n\\nDocumento:20000025597\\n\\n\\n\\n\\nPoder Judic...</td>\n",
       "    </tr>\n",
       "    <tr>\n",
       "      <th>2</th>\n",
       "      <td>-2id2H0BazwYFyiewsrT</td>\n",
       "      <td>40456087-473f-44f4-9aeb-6b8a61205c20</td>\n",
       "      <td>1</td>\n",
       "      <td>interesse recursal quanto ao pedido principal</td>\n",
       "      <td>\\n\\nDocumento:20000025597\\n\\n\\n\\n\\nPoder Judic...</td>\n",
       "    </tr>\n",
       "    <tr>\n",
       "      <th>3</th>\n",
       "      <td>02Zt2H0BazwYFyiehJGF</td>\n",
       "      <td>a564b353-a905-4d5e-87d3-e50179a75e5c</td>\n",
       "      <td>0</td>\n",
       "      <td>crédito já habilitado</td>\n",
       "      <td>\\n            \\n                \\n   \\n       ...</td>\n",
       "    </tr>\n",
       "    <tr>\n",
       "      <th>4</th>\n",
       "      <td>02eE2H0BazwYFyie_Z-f</td>\n",
       "      <td>515c91af-935b-44a0-9034-2c067e06d796</td>\n",
       "      <td>0</td>\n",
       "      <td>prescrição acórdão confirmatório</td>\n",
       "      <td>\\n\\nDocumento:20000044815\\n\\n\\n\\n\\nPoder Judic...</td>\n",
       "    </tr>\n",
       "    <tr>\n",
       "      <th>...</th>\n",
       "      <td>...</td>\n",
       "      <td>...</td>\n",
       "      <td>...</td>\n",
       "      <td>...</td>\n",
       "      <td>...</td>\n",
       "    </tr>\n",
       "    <tr>\n",
       "      <th>445</th>\n",
       "      <td>zWeB2H0BazwYFyieX3dP</td>\n",
       "      <td>b4bb355d-e105-4b58-9bd1-c4421b89a058</td>\n",
       "      <td>1</td>\n",
       "      <td>título executivo extrajudicial prescrito</td>\n",
       "      <td>\\n\\nDocumento:20000035039\\n\\n\\n\\n\\nPoder Judic...</td>\n",
       "    </tr>\n",
       "    <tr>\n",
       "      <th>446</th>\n",
       "      <td>zWid2H0BazwYFyielMjT</td>\n",
       "      <td>38ff53de-7e90-4dbb-b912-40a8c8c63de4</td>\n",
       "      <td>0</td>\n",
       "      <td>causalidade adequada</td>\n",
       "      <td>\\n\\nDocumento:20000098766\\n\\n\\n\\n\\nPoder Judic...</td>\n",
       "    </tr>\n",
       "    <tr>\n",
       "      <th>447</th>\n",
       "      <td>zWie2H0BazwYFyie8dkn</td>\n",
       "      <td>06b31304-b1bf-4d89-af61-d1d61904afe0</td>\n",
       "      <td>1</td>\n",
       "      <td>padrão de vida do alimentando</td>\n",
       "      <td>\\n\\nDocumento:20000071783\\n\\n\\n\\n\\nPoder Judic...</td>\n",
       "    </tr>\n",
       "    <tr>\n",
       "      <th>448</th>\n",
       "      <td>zWie2H0BazwYFyie8dkn</td>\n",
       "      <td>06b31304-b1bf-4d89-af61-d1d61904afe0</td>\n",
       "      <td>1</td>\n",
       "      <td>padrão de vida do alimentando</td>\n",
       "      <td>\\n\\nDocumento:20000071783\\n\\n\\n\\n\\nPoder Judic...</td>\n",
       "    </tr>\n",
       "    <tr>\n",
       "      <th>449</th>\n",
       "      <td>zmih2H0BazwYFyie8_zX</td>\n",
       "      <td>d630e749-49cc-468e-a974-5f8cf9e609cc</td>\n",
       "      <td>1</td>\n",
       "      <td>ação rescisória trabalhista</td>\n",
       "      <td>\\n\\nDocumento:20000101628\\n\\n\\n\\n\\nPoder Judic...</td>\n",
       "    </tr>\n",
       "  </tbody>\n",
       "</table>\n",
       "<p>450 rows × 5 columns</p>\n",
       "</div>"
      ],
      "text/plain": [
       "                      _id                              query_id  final_label  \\\n",
       "0    -2d92H0BazwYFyieslD-  b4bb355d-e105-4b58-9bd1-c4421b89a058            1   \n",
       "1    -2id2H0BazwYFyiewsrT  40456087-473f-44f4-9aeb-6b8a61205c20            1   \n",
       "2    -2id2H0BazwYFyiewsrT  40456087-473f-44f4-9aeb-6b8a61205c20            1   \n",
       "3    02Zt2H0BazwYFyiehJGF  a564b353-a905-4d5e-87d3-e50179a75e5c            0   \n",
       "4    02eE2H0BazwYFyie_Z-f  515c91af-935b-44a0-9034-2c067e06d796            0   \n",
       "..                    ...                                   ...          ...   \n",
       "445  zWeB2H0BazwYFyieX3dP  b4bb355d-e105-4b58-9bd1-c4421b89a058            1   \n",
       "446  zWid2H0BazwYFyielMjT  38ff53de-7e90-4dbb-b912-40a8c8c63de4            0   \n",
       "447  zWie2H0BazwYFyie8dkn  06b31304-b1bf-4d89-af61-d1d61904afe0            1   \n",
       "448  zWie2H0BazwYFyie8dkn  06b31304-b1bf-4d89-af61-d1d61904afe0            1   \n",
       "449  zmih2H0BazwYFyie8_zX  d630e749-49cc-468e-a974-5f8cf9e609cc            1   \n",
       "\n",
       "                                             query  \\\n",
       "0         título executivo extrajudicial prescrito   \n",
       "1    interesse recursal quanto ao pedido principal   \n",
       "2    interesse recursal quanto ao pedido principal   \n",
       "3                            crédito já habilitado   \n",
       "4                 prescrição acórdão confirmatório   \n",
       "..                                             ...   \n",
       "445       título executivo extrajudicial prescrito   \n",
       "446                           causalidade adequada   \n",
       "447                  padrão de vida do alimentando   \n",
       "448                  padrão de vida do alimentando   \n",
       "449                    ação rescisória trabalhista   \n",
       "\n",
       "                                                  text  \n",
       "0    \\n\\nDocumento:20000034808\\n\\n\\n\\n\\nPoder Judic...  \n",
       "1    \\n\\nDocumento:20000025597\\n\\n\\n\\n\\nPoder Judic...  \n",
       "2    \\n\\nDocumento:20000025597\\n\\n\\n\\n\\nPoder Judic...  \n",
       "3    \\n            \\n                \\n   \\n       ...  \n",
       "4    \\n\\nDocumento:20000044815\\n\\n\\n\\n\\nPoder Judic...  \n",
       "..                                                 ...  \n",
       "445  \\n\\nDocumento:20000035039\\n\\n\\n\\n\\nPoder Judic...  \n",
       "446  \\n\\nDocumento:20000098766\\n\\n\\n\\n\\nPoder Judic...  \n",
       "447  \\n\\nDocumento:20000071783\\n\\n\\n\\n\\nPoder Judic...  \n",
       "448  \\n\\nDocumento:20000071783\\n\\n\\n\\n\\nPoder Judic...  \n",
       "449  \\n\\nDocumento:20000101628\\n\\n\\n\\n\\nPoder Judic...  \n",
       "\n",
       "[450 rows x 5 columns]"
      ]
     },
     "execution_count": 87,
     "metadata": {},
     "output_type": "execute_result"
    }
   ],
   "source": [
    "dataset"
   ]
  },
  {
   "cell_type": "code",
   "execution_count": 88,
   "metadata": {},
   "outputs": [
    {
     "data": {
      "text/plain": [
       "<AxesSubplot:>"
      ]
     },
     "execution_count": 88,
     "metadata": {},
     "output_type": "execute_result"
    },
    {
     "data": {
      "image/png": "[encoded data removed]",
      "text/plain": [
       "<Figure size 432x288 with 1 Axes>"
      ]
     },
     "metadata": {
      "needs_background": "light"
     },
     "output_type": "display_data"
    }
   ],
   "source": [
    "dataset[\"final_label\"].hist()"
   ]
  },
  {
   "cell_type": "markdown",
   "metadata": {},
   "source": [
    "## Treinamento e teste"
   ]
  },
  {
   "cell_type": "code",
   "execution_count": 92,
   "metadata": {},
   "outputs": [],
   "source": [
    "def average_similarity():\n",
    "    from tqdm import tqdm\n",
    "    from scipy import spatial\n",
    "    false_pairs, true_pairs = 0, 0\n",
    "    SAMPLE_SIZE = 50\n",
    "    for idx, row in tqdm(dataset.iloc[:SAMPLE_SIZE].iterrows(), total=SAMPLE_SIZE):\n",
    "        output = model.encode([row[\"query\"], row[\"text\"]])\n",
    "        sim = spatial.distance.cosine(output[0][0], output[0][1])\n",
    "        if row[\"final_label\"]:\n",
    "            true_pairs += 1 - sim\n",
    "        else:\n",
    "            false_pairs += 1 - sim\n",
    "    print(\"Média de similaridade dos positivos: \", true_pairs / SAMPLE_SIZE)\n",
    "    print(\"Média de similaridade dos negativos: \", false_pairs / SAMPLE_SIZE)"
   ]
  },
  {
   "cell_type": "code",
   "execution_count": 30,
   "metadata": {},
   "outputs": [
    {
     "name": "stderr",
     "output_type": "stream",
     "text": [
      "/home/rennan/.local/lib/python3.7/site-packages/tensorflow/python/framework/dtypes.py:516: FutureWarning: Passing (type, 1) or '1type' as a synonym of type is deprecated; in a future version of numpy, it will be understood as (type, (1,)) / '(1,)type'.\n",
      "  _np_qint8 = np.dtype([(\"qint8\", np.int8, 1)])\n",
      "/home/rennan/.local/lib/python3.7/site-packages/tensorflow/python/framework/dtypes.py:517: FutureWarning: Passing (type, 1) or '1type' as a synonym of type is deprecated; in a future version of numpy, it will be understood as (type, (1,)) / '(1,)type'.\n",
      "  _np_quint8 = np.dtype([(\"quint8\", np.uint8, 1)])\n",
      "/home/rennan/.local/lib/python3.7/site-packages/tensorflow/python/framework/dtypes.py:518: FutureWarning: Passing (type, 1) or '1type' as a synonym of type is deprecated; in a future version of numpy, it will be understood as (type, (1,)) / '(1,)type'.\n",
      "  _np_qint16 = np.dtype([(\"qint16\", np.int16, 1)])\n",
      "/home/rennan/.local/lib/python3.7/site-packages/tensorflow/python/framework/dtypes.py:519: FutureWarning: Passing (type, 1) or '1type' as a synonym of type is deprecated; in a future version of numpy, it will be understood as (type, (1,)) / '(1,)type'.\n",
      "  _np_quint16 = np.dtype([(\"quint16\", np.uint16, 1)])\n",
      "/home/rennan/.local/lib/python3.7/site-packages/tensorflow/python/framework/dtypes.py:520: FutureWarning: Passing (type, 1) or '1type' as a synonym of type is deprecated; in a future version of numpy, it will be understood as (type, (1,)) / '(1,)type'.\n",
      "  _np_qint32 = np.dtype([(\"qint32\", np.int32, 1)])\n",
      "/home/rennan/.local/lib/python3.7/site-packages/tensorflow/python/framework/dtypes.py:525: FutureWarning: Passing (type, 1) or '1type' as a synonym of type is deprecated; in a future version of numpy, it will be understood as (type, (1,)) / '(1,)type'.\n",
      "  np_resource = np.dtype([(\"resource\", np.ubyte, 1)])\n",
      "/home/rennan/.local/lib/python3.7/site-packages/torch/cuda/__init__.py:52: UserWarning: CUDA initialization: Found no NVIDIA driver on your system. Please check that you have an NVIDIA GPU and installed a driver from http://www.nvidia.com/Download/index.aspx (Triggered internally at  /pytorch/c10/cuda/CUDAFunctions.cpp:100.)\n",
      "  return torch._C._cuda_getDeviceCount() > 0\n"
     ]
    }
   ],
   "source": [
    "from sentence_transformers import SentenceTransformer, LoggingHandler, util, models, evaluation, losses, InputExample\n",
    "from torch import nn\n",
    "from torch.utils.data import DataLoader\n",
    "\n",
    "word_embedding_model = models.Transformer('neuralmind/bert-base-portuguese-cased', max_seq_length=150)\n",
    "pooling_model = models.Pooling(word_embedding_model.get_word_embedding_dimension())\n",
    "\n",
    "model = SentenceTransformer(modules=[word_embedding_model, pooling_model])"
   ]
  },
  {
   "cell_type": "code",
   "execution_count": 93,
   "metadata": {},
   "outputs": [
    {
     "name": "stderr",
     "output_type": "stream",
     "text": [
      "100%|██████████| 50/50 [00:40<00:00,  1.22it/s]"
     ]
    },
    {
     "name": "stdout",
     "output_type": "stream",
     "text": [
      "Média de similaridade dos positivos:  0.059999996423721315\n",
      "Média de similaridade dos negativos:  0.019999995231628417\n"
     ]
    },
    {
     "name": "stderr",
     "output_type": "stream",
     "text": [
      "\n"
     ]
    }
   ],
   "source": [
    "average_similarity()"
   ]
  },
  {
   "cell_type": "code",
   "execution_count": null,
   "metadata": {},
   "outputs": [
    {
     "name": "stderr",
     "output_type": "stream",
     "text": [
      "100%|██████████| 450/450 [00:00<00:00, 1775.17it/s]\n"
     ]
    },
    {
     "data": {
      "application/vnd.jupyter.widget-view+json": {
       "model_id": "579237c95aba4d07a8dcfb99843d6b8a",
       "version_major": 2,
       "version_minor": 0
      },
      "text/plain": [
       "Epoch:   0%|          | 0/1 [00:00<?, ?it/s]"
      ]
     },
     "metadata": {},
     "output_type": "display_data"
    },
    {
     "data": {
      "application/vnd.jupyter.widget-view+json": {
       "model_id": "71d482d4eaf44accbc902c25d1c72b57",
       "version_major": 2,
       "version_minor": 0
      },
      "text/plain": [
       "Iteration:   0%|          | 0/57 [00:00<?, ?it/s]"
      ]
     },
     "metadata": {},
     "output_type": "display_data"
    }
   ],
   "source": [
    "from tqdm import tqdm\n",
    "\n",
    "examples = []\n",
    "for idx, row in tqdm(dataset.iterrows(), total=len(dataset)):\n",
    "    examples.append(InputExample(texts=[row[\"query\"], row[\"text\"]], label=float(row[\"final_label\"])))\n",
    "dataloader = DataLoader(examples, shuffle=True, batch_size=8)\n",
    "train_loss = losses.CosineSimilarityLoss(model)\n",
    "model.fit(train_objectives=[(dataloader, train_loss)], epochs=1, warmup_steps=50)"
   ]
  },
  {
   "cell_type": "code",
   "execution_count": null,
   "metadata": {},
   "outputs": [],
   "source": [
    "average_similarity()"
   ]
  }
 ],
 "metadata": {
  "kernelspec": {
   "display_name": "Python 3",
   "language": "python",
   "name": "python3"
  },
  "language_info": {
   "codemirror_mode": {
    "name": "ipython",
    "version": 3
   },
   "file_extension": ".py",
   "mimetype": "text/x-python",
   "name": "python",
   "nbconvert_exporter": "python",
   "pygments_lexer": "ipython3",
   "version": "3.7.5"
  }
 },
 "nbformat": 4,
 "nbformat_minor": 4
}
