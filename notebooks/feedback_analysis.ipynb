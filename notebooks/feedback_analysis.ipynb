{
 "cells": [
  {
   "cell_type": "code",
   "execution_count": 1,
   "metadata": {},
   "outputs": [],
   "source": [
    "# !pip install krippendorff"
   ]
  },
  {
   "cell_type": "code",
   "execution_count": 2,
   "metadata": {},
   "outputs": [],
   "source": [
    "import pandas as pd\n",
    "import json\n",
    "import glob"
   ]
  },
  {
   "cell_type": "markdown",
   "metadata": {},
   "source": [
    "## Leitura dos dados"
   ]
  },
  {
   "cell_type": "markdown",
   "metadata": {},
   "source": [
    "* 4 avaliadores\n",
    "* 25 consultas com 6 documentos por avaliador (150 rótulos)\n",
    "* 600 Rótulos no total, (com redundância) \n",
    "* Resultando em 300 pares consulta-documento rotulados"
   ]
  },
  {
   "cell_type": "code",
   "execution_count": 3,
   "metadata": {},
   "outputs": [
    {
     "data": {
      "text/html": [
       "<div>\n",
       "<style scoped>\n",
       "    .dataframe tbody tr th:only-of-type {\n",
       "        vertical-align: middle;\n",
       "    }\n",
       "\n",
       "    .dataframe tbody tr th {\n",
       "        vertical-align: top;\n",
       "    }\n",
       "\n",
       "    .dataframe thead th {\n",
       "        text-align: right;\n",
       "    }\n",
       "</style>\n",
       "<table border=\"1\" class=\"dataframe\">\n",
       "  <thead>\n",
       "    <tr style=\"text-align: right;\">\n",
       "      <th></th>\n",
       "      <th>text</th>\n",
       "      <th>_id</th>\n",
       "      <th>labels</th>\n",
       "      <th>query</th>\n",
       "      <th>query_id</th>\n",
       "      <th>label</th>\n",
       "    </tr>\n",
       "  </thead>\n",
       "  <tbody>\n",
       "    <tr>\n",
       "      <th>0</th>\n",
       "      <td>\\n\\nDocumento:20000110607\\n\\n\\n\\n\\nPoder Judic...</td>\n",
       "      <td>72ie2H0BazwYFyie8dgm</td>\n",
       "      <td>[{'label': {'id': '9e2e8d1f-46c7-452f-a202-f25...</td>\n",
       "      <td>planos de saúde</td>\n",
       "      <td>001404da-7082-4c96-8300-dd7836fb8f47</td>\n",
       "      <td>1</td>\n",
       "    </tr>\n",
       "    <tr>\n",
       "      <th>1</th>\n",
       "      <td>\\n\\nDocumento:20000006496\\n\\n\\n\\n\\nPoder Judic...</td>\n",
       "      <td>B2eH2H0BazwYFyieir4V</td>\n",
       "      <td>[{'label': {'id': '9e2e8d1f-46c7-452f-a202-f25...</td>\n",
       "      <td>planos de saúde</td>\n",
       "      <td>001404da-7082-4c96-8300-dd7836fb8f47</td>\n",
       "      <td>1</td>\n",
       "    </tr>\n",
       "    <tr>\n",
       "      <th>2</th>\n",
       "      <td>\\n\\nDocumento:20000085491\\n\\n\\n\\n\\nPoder Judic...</td>\n",
       "      <td>J2if2H0BazwYFyiel-E3</td>\n",
       "      <td>[{'label': {'id': '9e2e8d1f-46c7-452f-a202-f25...</td>\n",
       "      <td>planos de saúde</td>\n",
       "      <td>001404da-7082-4c96-8300-dd7836fb8f47</td>\n",
       "      <td>1</td>\n",
       "    </tr>\n",
       "    <tr>\n",
       "      <th>3</th>\n",
       "      <td>\\n\\nDocumento:20000020010\\n\\n\\n\\n\\nPoder Judic...</td>\n",
       "      <td>rmmo2H0BazwYFyienEO8</td>\n",
       "      <td>[{'label': {'id': '9e2e8d1f-46c7-452f-a202-f25...</td>\n",
       "      <td>planos de saúde</td>\n",
       "      <td>001404da-7082-4c96-8300-dd7836fb8f47</td>\n",
       "      <td>1</td>\n",
       "    </tr>\n",
       "    <tr>\n",
       "      <th>4</th>\n",
       "      <td>\\n\\nDocumento:20000006495\\n\\n\\n\\n\\nPoder Judic...</td>\n",
       "      <td>BmeH2H0BazwYFyieir4V</td>\n",
       "      <td>[{'label': {'id': '9e2e8d1f-46c7-452f-a202-f25...</td>\n",
       "      <td>planos de saúde</td>\n",
       "      <td>001404da-7082-4c96-8300-dd7836fb8f47</td>\n",
       "      <td>1</td>\n",
       "    </tr>\n",
       "    <tr>\n",
       "      <th>...</th>\n",
       "      <td>...</td>\n",
       "      <td>...</td>\n",
       "      <td>...</td>\n",
       "      <td>...</td>\n",
       "      <td>...</td>\n",
       "      <td>...</td>\n",
       "    </tr>\n",
       "    <tr>\n",
       "      <th>445</th>\n",
       "      <td>Capa do Processo          Nº do Processo: 5005...</td>\n",
       "      <td>gGiV2H0BazwYFyieT2Sg</td>\n",
       "      <td>[{'label': {'id': '791b77df-7956-41b6-8442-5ec...</td>\n",
       "      <td>agentes políticos salário</td>\n",
       "      <td>1f8ece22-ca23-4805-bfa7-0e9d3fdabe6d</td>\n",
       "      <td>0</td>\n",
       "    </tr>\n",
       "    <tr>\n",
       "      <th>446</th>\n",
       "      <td>Capa do Processo          Nº do Processo: 5038...</td>\n",
       "      <td>Emia2H0BazwYFyievaaa</td>\n",
       "      <td>[{'label': {'id': '791b77df-7956-41b6-8442-5ec...</td>\n",
       "      <td>agentes políticos salário</td>\n",
       "      <td>1f8ece22-ca23-4805-bfa7-0e9d3fdabe6d</td>\n",
       "      <td>0</td>\n",
       "    </tr>\n",
       "    <tr>\n",
       "      <th>447</th>\n",
       "      <td>\\n\\nDocumento:20000035467\\n\\n\\n\\n\\nPoder Judic...</td>\n",
       "      <td>qWeF2H0BazwYFyieq6f_</td>\n",
       "      <td>[{'label': {'id': '791b77df-7956-41b6-8442-5ec...</td>\n",
       "      <td>agentes políticos salário</td>\n",
       "      <td>1f8ece22-ca23-4805-bfa7-0e9d3fdabe6d</td>\n",
       "      <td>0</td>\n",
       "    </tr>\n",
       "    <tr>\n",
       "      <th>448</th>\n",
       "      <td>Capa do Processo          Nº do Processo: 5000...</td>\n",
       "      <td>LGZx2H0BazwYFyiehrs2</td>\n",
       "      <td>[{'label': {'id': '791b77df-7956-41b6-8442-5ec...</td>\n",
       "      <td>agentes políticos salário</td>\n",
       "      <td>1f8ece22-ca23-4805-bfa7-0e9d3fdabe6d</td>\n",
       "      <td>0</td>\n",
       "    </tr>\n",
       "    <tr>\n",
       "      <th>449</th>\n",
       "      <td>Capa do Processo          Nº do Processo: 5005...</td>\n",
       "      <td>BmeA2H0BazwYFyieznRs</td>\n",
       "      <td>[{'label': {'id': '791b77df-7956-41b6-8442-5ec...</td>\n",
       "      <td>agentes políticos salário</td>\n",
       "      <td>1f8ece22-ca23-4805-bfa7-0e9d3fdabe6d</td>\n",
       "      <td>0</td>\n",
       "    </tr>\n",
       "  </tbody>\n",
       "</table>\n",
       "<p>450 rows × 6 columns</p>\n",
       "</div>"
      ],
      "text/plain": [
       "                                                  text                   _id  \\\n",
       "0    \\n\\nDocumento:20000110607\\n\\n\\n\\n\\nPoder Judic...  72ie2H0BazwYFyie8dgm   \n",
       "1    \\n\\nDocumento:20000006496\\n\\n\\n\\n\\nPoder Judic...  B2eH2H0BazwYFyieir4V   \n",
       "2    \\n\\nDocumento:20000085491\\n\\n\\n\\n\\nPoder Judic...  J2if2H0BazwYFyiel-E3   \n",
       "3    \\n\\nDocumento:20000020010\\n\\n\\n\\n\\nPoder Judic...  rmmo2H0BazwYFyienEO8   \n",
       "4    \\n\\nDocumento:20000006495\\n\\n\\n\\n\\nPoder Judic...  BmeH2H0BazwYFyieir4V   \n",
       "..                                                 ...                   ...   \n",
       "445  Capa do Processo          Nº do Processo: 5005...  gGiV2H0BazwYFyieT2Sg   \n",
       "446  Capa do Processo          Nº do Processo: 5038...  Emia2H0BazwYFyievaaa   \n",
       "447  \\n\\nDocumento:20000035467\\n\\n\\n\\n\\nPoder Judic...  qWeF2H0BazwYFyieq6f_   \n",
       "448  Capa do Processo          Nº do Processo: 5000...  LGZx2H0BazwYFyiehrs2   \n",
       "449  Capa do Processo          Nº do Processo: 5005...  BmeA2H0BazwYFyieznRs   \n",
       "\n",
       "                                                labels  \\\n",
       "0    [{'label': {'id': '9e2e8d1f-46c7-452f-a202-f25...   \n",
       "1    [{'label': {'id': '9e2e8d1f-46c7-452f-a202-f25...   \n",
       "2    [{'label': {'id': '9e2e8d1f-46c7-452f-a202-f25...   \n",
       "3    [{'label': {'id': '9e2e8d1f-46c7-452f-a202-f25...   \n",
       "4    [{'label': {'id': '9e2e8d1f-46c7-452f-a202-f25...   \n",
       "..                                                 ...   \n",
       "445  [{'label': {'id': '791b77df-7956-41b6-8442-5ec...   \n",
       "446  [{'label': {'id': '791b77df-7956-41b6-8442-5ec...   \n",
       "447  [{'label': {'id': '791b77df-7956-41b6-8442-5ec...   \n",
       "448  [{'label': {'id': '791b77df-7956-41b6-8442-5ec...   \n",
       "449  [{'label': {'id': '791b77df-7956-41b6-8442-5ec...   \n",
       "\n",
       "                         query                              query_id  label  \n",
       "0              planos de saúde  001404da-7082-4c96-8300-dd7836fb8f47      1  \n",
       "1              planos de saúde  001404da-7082-4c96-8300-dd7836fb8f47      1  \n",
       "2              planos de saúde  001404da-7082-4c96-8300-dd7836fb8f47      1  \n",
       "3              planos de saúde  001404da-7082-4c96-8300-dd7836fb8f47      1  \n",
       "4              planos de saúde  001404da-7082-4c96-8300-dd7836fb8f47      1  \n",
       "..                         ...                                   ...    ...  \n",
       "445  agentes políticos salário  1f8ece22-ca23-4805-bfa7-0e9d3fdabe6d      0  \n",
       "446  agentes políticos salário  1f8ece22-ca23-4805-bfa7-0e9d3fdabe6d      0  \n",
       "447  agentes políticos salário  1f8ece22-ca23-4805-bfa7-0e9d3fdabe6d      0  \n",
       "448  agentes políticos salário  1f8ece22-ca23-4805-bfa7-0e9d3fdabe6d      0  \n",
       "449  agentes políticos salário  1f8ece22-ca23-4805-bfa7-0e9d3fdabe6d      0  \n",
       "\n",
       "[450 rows x 6 columns]"
      ]
     },
     "execution_count": 3,
     "metadata": {},
     "output_type": "execute_result"
    }
   ],
   "source": [
    "feedbacks = []\n",
    "for name in glob.glob('./export*/*.json'):\n",
    "    with open(name, \"r\") as feedback:\n",
    "        feedbacks += json.load(feedback)\n",
    "feedbacks = pd.DataFrame(feedbacks)\n",
    "\n",
    "def change_corresponding(row):\n",
    "    for elem in row[\"corresponding\"]:\n",
    "        elem[\"query\"] = row[\"text\"]\n",
    "        elem[\"query_id\"] = row[\"_id\"]\n",
    "    return row[\"corresponding\"]\n",
    "feedbacks[\"corresponding\"] = feedbacks.apply(lambda row: change_corresponding(row) ,axis=1)\n",
    "\n",
    "feedbacks = pd.json_normalize(feedbacks.explode(\"corresponding\")[\"corresponding\"])\n",
    "feedbacks = feedbacks[feedbacks[\"labels\"].apply(lambda x: bool(x))]\n",
    "feedbacks[\"label\"] = feedbacks[\"labels\"].apply(lambda x: 1 if x[0][\"label\"][\"name\"] == \"Relevante\" else 0)\n",
    "feedbacks[\"query\"] = feedbacks[\"query\"].apply(lambda x: x.replace(\"CONSULTA: \", \"\"))\n",
    "feedbacks"
   ]
  },
  {
   "cell_type": "code",
   "execution_count": 4,
   "metadata": {},
   "outputs": [
    {
     "data": {
      "text/html": [
       "<div>\n",
       "<style scoped>\n",
       "    .dataframe tbody tr th:only-of-type {\n",
       "        vertical-align: middle;\n",
       "    }\n",
       "\n",
       "    .dataframe tbody tr th {\n",
       "        vertical-align: top;\n",
       "    }\n",
       "\n",
       "    .dataframe thead th {\n",
       "        text-align: right;\n",
       "    }\n",
       "</style>\n",
       "<table border=\"1\" class=\"dataframe\">\n",
       "  <thead>\n",
       "    <tr style=\"text-align: right;\">\n",
       "      <th></th>\n",
       "      <th>text</th>\n",
       "      <th>query</th>\n",
       "      <th>label</th>\n",
       "    </tr>\n",
       "  </thead>\n",
       "  <tbody>\n",
       "    <tr>\n",
       "      <th>0</th>\n",
       "      <td>\\n\\nDocumento:20000110607\\n\\n\\n\\n\\nPoder Judic...</td>\n",
       "      <td>planos de saúde</td>\n",
       "      <td>1</td>\n",
       "    </tr>\n",
       "    <tr>\n",
       "      <th>1</th>\n",
       "      <td>\\n\\nDocumento:20000006496\\n\\n\\n\\n\\nPoder Judic...</td>\n",
       "      <td>planos de saúde</td>\n",
       "      <td>1</td>\n",
       "    </tr>\n",
       "    <tr>\n",
       "      <th>2</th>\n",
       "      <td>\\n\\nDocumento:20000085491\\n\\n\\n\\n\\nPoder Judic...</td>\n",
       "      <td>planos de saúde</td>\n",
       "      <td>1</td>\n",
       "    </tr>\n",
       "    <tr>\n",
       "      <th>3</th>\n",
       "      <td>\\n\\nDocumento:20000020010\\n\\n\\n\\n\\nPoder Judic...</td>\n",
       "      <td>planos de saúde</td>\n",
       "      <td>1</td>\n",
       "    </tr>\n",
       "    <tr>\n",
       "      <th>4</th>\n",
       "      <td>\\n\\nDocumento:20000006495\\n\\n\\n\\n\\nPoder Judic...</td>\n",
       "      <td>planos de saúde</td>\n",
       "      <td>1</td>\n",
       "    </tr>\n",
       "    <tr>\n",
       "      <th>...</th>\n",
       "      <td>...</td>\n",
       "      <td>...</td>\n",
       "      <td>...</td>\n",
       "    </tr>\n",
       "    <tr>\n",
       "      <th>445</th>\n",
       "      <td>Capa do Processo          Nº do Processo: 5005...</td>\n",
       "      <td>agentes políticos salário</td>\n",
       "      <td>0</td>\n",
       "    </tr>\n",
       "    <tr>\n",
       "      <th>446</th>\n",
       "      <td>Capa do Processo          Nº do Processo: 5038...</td>\n",
       "      <td>agentes políticos salário</td>\n",
       "      <td>0</td>\n",
       "    </tr>\n",
       "    <tr>\n",
       "      <th>447</th>\n",
       "      <td>\\n\\nDocumento:20000035467\\n\\n\\n\\n\\nPoder Judic...</td>\n",
       "      <td>agentes políticos salário</td>\n",
       "      <td>0</td>\n",
       "    </tr>\n",
       "    <tr>\n",
       "      <th>448</th>\n",
       "      <td>Capa do Processo          Nº do Processo: 5000...</td>\n",
       "      <td>agentes políticos salário</td>\n",
       "      <td>0</td>\n",
       "    </tr>\n",
       "    <tr>\n",
       "      <th>449</th>\n",
       "      <td>Capa do Processo          Nº do Processo: 5005...</td>\n",
       "      <td>agentes políticos salário</td>\n",
       "      <td>0</td>\n",
       "    </tr>\n",
       "  </tbody>\n",
       "</table>\n",
       "<p>450 rows × 3 columns</p>\n",
       "</div>"
      ],
      "text/plain": [
       "                                                  text  \\\n",
       "0    \\n\\nDocumento:20000110607\\n\\n\\n\\n\\nPoder Judic...   \n",
       "1    \\n\\nDocumento:20000006496\\n\\n\\n\\n\\nPoder Judic...   \n",
       "2    \\n\\nDocumento:20000085491\\n\\n\\n\\n\\nPoder Judic...   \n",
       "3    \\n\\nDocumento:20000020010\\n\\n\\n\\n\\nPoder Judic...   \n",
       "4    \\n\\nDocumento:20000006495\\n\\n\\n\\n\\nPoder Judic...   \n",
       "..                                                 ...   \n",
       "445  Capa do Processo          Nº do Processo: 5005...   \n",
       "446  Capa do Processo          Nº do Processo: 5038...   \n",
       "447  \\n\\nDocumento:20000035467\\n\\n\\n\\n\\nPoder Judic...   \n",
       "448  Capa do Processo          Nº do Processo: 5000...   \n",
       "449  Capa do Processo          Nº do Processo: 5005...   \n",
       "\n",
       "                         query  label  \n",
       "0              planos de saúde      1  \n",
       "1              planos de saúde      1  \n",
       "2              planos de saúde      1  \n",
       "3              planos de saúde      1  \n",
       "4              planos de saúde      1  \n",
       "..                         ...    ...  \n",
       "445  agentes políticos salário      0  \n",
       "446  agentes políticos salário      0  \n",
       "447  agentes políticos salário      0  \n",
       "448  agentes políticos salário      0  \n",
       "449  agentes políticos salário      0  \n",
       "\n",
       "[450 rows x 3 columns]"
      ]
     },
     "execution_count": 4,
     "metadata": {},
     "output_type": "execute_result"
    }
   ],
   "source": [
    "feedbacks[[\"text\", \"query\", \"label\"]]"
   ]
  },
  {
   "cell_type": "markdown",
   "metadata": {},
   "source": [
    "## Análise"
   ]
  },
  {
   "cell_type": "code",
   "execution_count": 5,
   "metadata": {},
   "outputs": [
    {
     "data": {
      "text/html": [
       "<div>\n",
       "<style scoped>\n",
       "    .dataframe tbody tr th:only-of-type {\n",
       "        vertical-align: middle;\n",
       "    }\n",
       "\n",
       "    .dataframe tbody tr th {\n",
       "        vertical-align: top;\n",
       "    }\n",
       "\n",
       "    .dataframe thead th {\n",
       "        text-align: right;\n",
       "    }\n",
       "</style>\n",
       "<table border=\"1\" class=\"dataframe\">\n",
       "  <thead>\n",
       "    <tr style=\"text-align: right;\">\n",
       "      <th></th>\n",
       "      <th></th>\n",
       "      <th>label</th>\n",
       "      <th>count</th>\n",
       "    </tr>\n",
       "    <tr>\n",
       "      <th>_id</th>\n",
       "      <th>query_id</th>\n",
       "      <th></th>\n",
       "      <th></th>\n",
       "    </tr>\n",
       "  </thead>\n",
       "  <tbody>\n",
       "    <tr>\n",
       "      <th>-2d92H0BazwYFyieslD-</th>\n",
       "      <th>b4bb355d-e105-4b58-9bd1-c4421b89a058</th>\n",
       "      <td>1.0</td>\n",
       "      <td>1</td>\n",
       "    </tr>\n",
       "    <tr>\n",
       "      <th>-2id2H0BazwYFyiewsrT</th>\n",
       "      <th>40456087-473f-44f4-9aeb-6b8a61205c20</th>\n",
       "      <td>1.0</td>\n",
       "      <td>2</td>\n",
       "    </tr>\n",
       "    <tr>\n",
       "      <th>02Zt2H0BazwYFyiehJGF</th>\n",
       "      <th>a564b353-a905-4d5e-87d3-e50179a75e5c</th>\n",
       "      <td>0.0</td>\n",
       "      <td>1</td>\n",
       "    </tr>\n",
       "    <tr>\n",
       "      <th>02eE2H0BazwYFyie_Z-f</th>\n",
       "      <th>515c91af-935b-44a0-9034-2c067e06d796</th>\n",
       "      <td>0.0</td>\n",
       "      <td>1</td>\n",
       "    </tr>\n",
       "    <tr>\n",
       "      <th>0meK2H0BazwYFyieed7Q</th>\n",
       "      <th>a2f20a89-329a-4781-9ac3-80b3e1df8a93</th>\n",
       "      <td>1.0</td>\n",
       "      <td>2</td>\n",
       "    </tr>\n",
       "    <tr>\n",
       "      <th>...</th>\n",
       "      <th>...</th>\n",
       "      <td>...</td>\n",
       "      <td>...</td>\n",
       "    </tr>\n",
       "    <tr>\n",
       "      <th>zGmj2H0BazwYFyie5Q7v</th>\n",
       "      <th>d630e749-49cc-468e-a974-5f8cf9e609cc</th>\n",
       "      <td>1.0</td>\n",
       "      <td>1</td>\n",
       "    </tr>\n",
       "    <tr>\n",
       "      <th>zWeB2H0BazwYFyieX3dP</th>\n",
       "      <th>b4bb355d-e105-4b58-9bd1-c4421b89a058</th>\n",
       "      <td>1.0</td>\n",
       "      <td>1</td>\n",
       "    </tr>\n",
       "    <tr>\n",
       "      <th>zWid2H0BazwYFyielMjT</th>\n",
       "      <th>38ff53de-7e90-4dbb-b912-40a8c8c63de4</th>\n",
       "      <td>0.0</td>\n",
       "      <td>1</td>\n",
       "    </tr>\n",
       "    <tr>\n",
       "      <th>zWie2H0BazwYFyie8dkn</th>\n",
       "      <th>06b31304-b1bf-4d89-af61-d1d61904afe0</th>\n",
       "      <td>0.5</td>\n",
       "      <td>2</td>\n",
       "    </tr>\n",
       "    <tr>\n",
       "      <th>zmih2H0BazwYFyie8_zX</th>\n",
       "      <th>d630e749-49cc-468e-a974-5f8cf9e609cc</th>\n",
       "      <td>1.0</td>\n",
       "      <td>1</td>\n",
       "    </tr>\n",
       "  </tbody>\n",
       "</table>\n",
       "<p>300 rows × 2 columns</p>\n",
       "</div>"
      ],
      "text/plain": [
       "                                                           label  count\n",
       "_id                  query_id                                          \n",
       "-2d92H0BazwYFyieslD- b4bb355d-e105-4b58-9bd1-c4421b89a058    1.0      1\n",
       "-2id2H0BazwYFyiewsrT 40456087-473f-44f4-9aeb-6b8a61205c20    1.0      2\n",
       "02Zt2H0BazwYFyiehJGF a564b353-a905-4d5e-87d3-e50179a75e5c    0.0      1\n",
       "02eE2H0BazwYFyie_Z-f 515c91af-935b-44a0-9034-2c067e06d796    0.0      1\n",
       "0meK2H0BazwYFyieed7Q a2f20a89-329a-4781-9ac3-80b3e1df8a93    1.0      2\n",
       "...                                                          ...    ...\n",
       "zGmj2H0BazwYFyie5Q7v d630e749-49cc-468e-a974-5f8cf9e609cc    1.0      1\n",
       "zWeB2H0BazwYFyieX3dP b4bb355d-e105-4b58-9bd1-c4421b89a058    1.0      1\n",
       "zWid2H0BazwYFyielMjT 38ff53de-7e90-4dbb-b912-40a8c8c63de4    0.0      1\n",
       "zWie2H0BazwYFyie8dkn 06b31304-b1bf-4d89-af61-d1d61904afe0    0.5      2\n",
       "zmih2H0BazwYFyie8_zX d630e749-49cc-468e-a974-5f8cf9e609cc    1.0      1\n",
       "\n",
       "[300 rows x 2 columns]"
      ]
     },
     "execution_count": 5,
     "metadata": {},
     "output_type": "execute_result"
    }
   ],
   "source": [
    "scores = feedbacks.groupby([\"_id\", \"query_id\"])[\"label\"].mean().to_frame()\n",
    "scores[\"count\"] = feedbacks.groupby([\"_id\", \"query_id\"])[\"label\"].count()\n",
    "scores"
   ]
  },
  {
   "cell_type": "code",
   "execution_count": 6,
   "metadata": {},
   "outputs": [
    {
     "data": {
      "text/plain": [
       "0.0    186\n",
       "1.0     84\n",
       "0.5     30\n",
       "Name: label, dtype: int64"
      ]
     },
     "execution_count": 6,
     "metadata": {},
     "output_type": "execute_result"
    }
   ],
   "source": [
    "scores[\"label\"].value_counts()"
   ]
  },
  {
   "cell_type": "code",
   "execution_count": 7,
   "metadata": {},
   "outputs": [
    {
     "data": {
      "text/plain": [
       "<AxesSubplot:>"
      ]
     },
     "execution_count": 7,
     "metadata": {},
     "output_type": "execute_result"
    },
    {
     "data": {
      "image/png": "[encoded data removed]",
      "text/plain": [
       "<Figure size 432x288 with 1 Axes>"
      ]
     },
     "metadata": {
      "needs_background": "light"
     },
     "output_type": "display_data"
    }
   ],
   "source": [
    "scores[\"count\"].hist()"
   ]
  },
  {
   "cell_type": "code",
   "execution_count": 8,
   "metadata": {},
   "outputs": [],
   "source": [
    "dataset = scores #need to save it here"
   ]
  },
  {
   "cell_type": "markdown",
   "metadata": {},
   "source": [
    "### Apenas entradas com todos os rótulos"
   ]
  },
  {
   "cell_type": "code",
   "execution_count": 9,
   "metadata": {},
   "outputs": [],
   "source": [
    "all_scores = scores[scores[\"count\"] == 2]"
   ]
  },
  {
   "cell_type": "code",
   "execution_count": 10,
   "metadata": {},
   "outputs": [
    {
     "data": {
      "text/plain": [
       "<AxesSubplot:>"
      ]
     },
     "execution_count": 10,
     "metadata": {},
     "output_type": "execute_result"
    },
    {
     "data": {
      "image/png": "[encoded data removed]",
      "text/plain": [
       "<Figure size 432x288 with 1 Axes>"
      ]
     },
     "metadata": {
      "needs_background": "light"
     },
     "output_type": "display_data"
    }
   ],
   "source": [
    "all_scores[\"label\"].hist()"
   ]
  },
  {
   "cell_type": "code",
   "execution_count": 11,
   "metadata": {},
   "outputs": [
    {
     "data": {
      "text/plain": [
       "0.0    85\n",
       "1.0    35\n",
       "0.5    30\n",
       "Name: label, dtype: int64"
      ]
     },
     "execution_count": 11,
     "metadata": {},
     "output_type": "execute_result"
    }
   ],
   "source": [
    "all_scores[\"label\"].value_counts()"
   ]
  },
  {
   "cell_type": "code",
   "execution_count": 12,
   "metadata": {},
   "outputs": [
    {
     "name": "stdout",
     "output_type": "stream",
     "text": [
      "Observed agreement:  0.8\n"
     ]
    }
   ],
   "source": [
    "print(\"Observed agreement: \", 1 - (len([i for i in list(all_scores[\"label\"]) if i == 0.5]) / len(all_scores)))"
   ]
  },
  {
   "cell_type": "code",
   "execution_count": 13,
   "metadata": {},
   "outputs": [],
   "source": [
    "# consultas sem nenhum relevante"
   ]
  },
  {
   "cell_type": "markdown",
   "metadata": {},
   "source": [
    "## Análise por modelo"
   ]
  },
  {
   "cell_type": "code",
   "execution_count": 14,
   "metadata": {},
   "outputs": [
    {
     "data": {
      "text/html": [
       "<div>\n",
       "<style scoped>\n",
       "    .dataframe tbody tr th:only-of-type {\n",
       "        vertical-align: middle;\n",
       "    }\n",
       "\n",
       "    .dataframe tbody tr th {\n",
       "        vertical-align: top;\n",
       "    }\n",
       "\n",
       "    .dataframe thead th {\n",
       "        text-align: right;\n",
       "    }\n",
       "</style>\n",
       "<table border=\"1\" class=\"dataframe\">\n",
       "  <thead>\n",
       "    <tr style=\"text-align: right;\">\n",
       "      <th></th>\n",
       "      <th>query_id</th>\n",
       "      <th>_id</th>\n",
       "      <th>origin</th>\n",
       "      <th>text</th>\n",
       "      <th>labels</th>\n",
       "      <th>query</th>\n",
       "      <th>label</th>\n",
       "    </tr>\n",
       "  </thead>\n",
       "  <tbody>\n",
       "    <tr>\n",
       "      <th>0</th>\n",
       "      <td>001404da-7082-4c96-8300-dd7836fb8f47</td>\n",
       "      <td>72ie2H0BazwYFyie8dgm</td>\n",
       "      <td>dense</td>\n",
       "      <td>\\n\\nDocumento:20000110607\\n\\n\\n\\n\\nPoder Judic...</td>\n",
       "      <td>[{'label': {'id': '9e2e8d1f-46c7-452f-a202-f25...</td>\n",
       "      <td>planos de saúde</td>\n",
       "      <td>1</td>\n",
       "    </tr>\n",
       "    <tr>\n",
       "      <th>1</th>\n",
       "      <td>001404da-7082-4c96-8300-dd7836fb8f47</td>\n",
       "      <td>72ie2H0BazwYFyie8dgm</td>\n",
       "      <td>dense</td>\n",
       "      <td>\\n\\nDocumento:20000110607\\n\\n\\n\\n\\nPoder Judic...</td>\n",
       "      <td>[{'label': {'id': '9e2e8d1f-46c7-452f-a202-f25...</td>\n",
       "      <td>planos de saúde</td>\n",
       "      <td>1</td>\n",
       "    </tr>\n",
       "    <tr>\n",
       "      <th>2</th>\n",
       "      <td>001404da-7082-4c96-8300-dd7836fb8f47</td>\n",
       "      <td>B2eH2H0BazwYFyieir4V</td>\n",
       "      <td>dense</td>\n",
       "      <td>\\n\\nDocumento:20000006496\\n\\n\\n\\n\\nPoder Judic...</td>\n",
       "      <td>[{'label': {'id': '9e2e8d1f-46c7-452f-a202-f25...</td>\n",
       "      <td>planos de saúde</td>\n",
       "      <td>1</td>\n",
       "    </tr>\n",
       "    <tr>\n",
       "      <th>3</th>\n",
       "      <td>001404da-7082-4c96-8300-dd7836fb8f47</td>\n",
       "      <td>B2eH2H0BazwYFyieir4V</td>\n",
       "      <td>dense</td>\n",
       "      <td>\\n\\nDocumento:20000006496\\n\\n\\n\\n\\nPoder Judic...</td>\n",
       "      <td>[{'label': {'id': '9e2e8d1f-46c7-452f-a202-f25...</td>\n",
       "      <td>planos de saúde</td>\n",
       "      <td>1</td>\n",
       "    </tr>\n",
       "    <tr>\n",
       "      <th>4</th>\n",
       "      <td>001404da-7082-4c96-8300-dd7836fb8f47</td>\n",
       "      <td>J2if2H0BazwYFyiel-E3</td>\n",
       "      <td>dirisparse</td>\n",
       "      <td>\\n\\nDocumento:20000085491\\n\\n\\n\\n\\nPoder Judic...</td>\n",
       "      <td>[{'label': {'id': '9e2e8d1f-46c7-452f-a202-f25...</td>\n",
       "      <td>planos de saúde</td>\n",
       "      <td>1</td>\n",
       "    </tr>\n",
       "    <tr>\n",
       "      <th>...</th>\n",
       "      <td>...</td>\n",
       "      <td>...</td>\n",
       "      <td>...</td>\n",
       "      <td>...</td>\n",
       "      <td>...</td>\n",
       "      <td>...</td>\n",
       "      <td>...</td>\n",
       "    </tr>\n",
       "    <tr>\n",
       "      <th>445</th>\n",
       "      <td>11fab1c0-d934-4084-bac5-3c67c1600f4e</td>\n",
       "      <td>U2eF2H0BazwYFyieVqRL</td>\n",
       "      <td>dense</td>\n",
       "      <td>\\n\\nDocumento:20000093124\\n\\n\\n\\n\\nPoder Judic...</td>\n",
       "      <td>[{'label': {'id': '9e2e8d1f-46c7-452f-a202-f25...</td>\n",
       "      <td>transparência no processo licitatório</td>\n",
       "      <td>1</td>\n",
       "    </tr>\n",
       "    <tr>\n",
       "      <th>446</th>\n",
       "      <td>11fab1c0-d934-4084-bac5-3c67c1600f4e</td>\n",
       "      <td>smeB2H0BazwYFyiev3sU</td>\n",
       "      <td>dirisparse</td>\n",
       "      <td>\\n\\nDocumento:20000096246\\n\\n\\n\\n\\nPoder Judic...</td>\n",
       "      <td>[{'label': {'id': '9e2e8d1f-46c7-452f-a202-f25...</td>\n",
       "      <td>transparência no processo licitatório</td>\n",
       "      <td>1</td>\n",
       "    </tr>\n",
       "    <tr>\n",
       "      <th>447</th>\n",
       "      <td>11fab1c0-d934-4084-bac5-3c67c1600f4e</td>\n",
       "      <td>XWie2H0BazwYFyieP9A6</td>\n",
       "      <td>dirisparse</td>\n",
       "      <td>\\n\\nDocumento:20000064218\\n\\n\\n\\n\\nPoder Judic...</td>\n",
       "      <td>[{'label': {'id': '791b77df-7956-41b6-8442-5ec...</td>\n",
       "      <td>transparência no processo licitatório</td>\n",
       "      <td>0</td>\n",
       "    </tr>\n",
       "    <tr>\n",
       "      <th>448</th>\n",
       "      <td>11fab1c0-d934-4084-bac5-3c67c1600f4e</td>\n",
       "      <td>XGeH2H0BazwYFyieX7yh</td>\n",
       "      <td>bm25sparse</td>\n",
       "      <td>\\n\\nDocumento:20000003375\\n\\n\\n\\n\\nPoder Judic...</td>\n",
       "      <td>[{'label': {'id': '9e2e8d1f-46c7-452f-a202-f25...</td>\n",
       "      <td>transparência no processo licitatório</td>\n",
       "      <td>1</td>\n",
       "    </tr>\n",
       "    <tr>\n",
       "      <th>449</th>\n",
       "      <td>11fab1c0-d934-4084-bac5-3c67c1600f4e</td>\n",
       "      <td>6WeG2H0BazwYFyiesrPJ</td>\n",
       "      <td>bm25sparse</td>\n",
       "      <td>\\n\\nDocumento:20000018336\\n\\n\\n\\n\\nPoder Judic...</td>\n",
       "      <td>[{'label': {'id': '791b77df-7956-41b6-8442-5ec...</td>\n",
       "      <td>transparência no processo licitatório</td>\n",
       "      <td>0</td>\n",
       "    </tr>\n",
       "  </tbody>\n",
       "</table>\n",
       "<p>450 rows × 7 columns</p>\n",
       "</div>"
      ],
      "text/plain": [
       "                                 query_id                   _id      origin  \\\n",
       "0    001404da-7082-4c96-8300-dd7836fb8f47  72ie2H0BazwYFyie8dgm       dense   \n",
       "1    001404da-7082-4c96-8300-dd7836fb8f47  72ie2H0BazwYFyie8dgm       dense   \n",
       "2    001404da-7082-4c96-8300-dd7836fb8f47  B2eH2H0BazwYFyieir4V       dense   \n",
       "3    001404da-7082-4c96-8300-dd7836fb8f47  B2eH2H0BazwYFyieir4V       dense   \n",
       "4    001404da-7082-4c96-8300-dd7836fb8f47  J2if2H0BazwYFyiel-E3  dirisparse   \n",
       "..                                    ...                   ...         ...   \n",
       "445  11fab1c0-d934-4084-bac5-3c67c1600f4e  U2eF2H0BazwYFyieVqRL       dense   \n",
       "446  11fab1c0-d934-4084-bac5-3c67c1600f4e  smeB2H0BazwYFyiev3sU  dirisparse   \n",
       "447  11fab1c0-d934-4084-bac5-3c67c1600f4e  XWie2H0BazwYFyieP9A6  dirisparse   \n",
       "448  11fab1c0-d934-4084-bac5-3c67c1600f4e  XGeH2H0BazwYFyieX7yh  bm25sparse   \n",
       "449  11fab1c0-d934-4084-bac5-3c67c1600f4e  6WeG2H0BazwYFyiesrPJ  bm25sparse   \n",
       "\n",
       "                                                  text  \\\n",
       "0    \\n\\nDocumento:20000110607\\n\\n\\n\\n\\nPoder Judic...   \n",
       "1    \\n\\nDocumento:20000110607\\n\\n\\n\\n\\nPoder Judic...   \n",
       "2    \\n\\nDocumento:20000006496\\n\\n\\n\\n\\nPoder Judic...   \n",
       "3    \\n\\nDocumento:20000006496\\n\\n\\n\\n\\nPoder Judic...   \n",
       "4    \\n\\nDocumento:20000085491\\n\\n\\n\\n\\nPoder Judic...   \n",
       "..                                                 ...   \n",
       "445  \\n\\nDocumento:20000093124\\n\\n\\n\\n\\nPoder Judic...   \n",
       "446  \\n\\nDocumento:20000096246\\n\\n\\n\\n\\nPoder Judic...   \n",
       "447  \\n\\nDocumento:20000064218\\n\\n\\n\\n\\nPoder Judic...   \n",
       "448  \\n\\nDocumento:20000003375\\n\\n\\n\\n\\nPoder Judic...   \n",
       "449  \\n\\nDocumento:20000018336\\n\\n\\n\\n\\nPoder Judic...   \n",
       "\n",
       "                                                labels  \\\n",
       "0    [{'label': {'id': '9e2e8d1f-46c7-452f-a202-f25...   \n",
       "1    [{'label': {'id': '9e2e8d1f-46c7-452f-a202-f25...   \n",
       "2    [{'label': {'id': '9e2e8d1f-46c7-452f-a202-f25...   \n",
       "3    [{'label': {'id': '9e2e8d1f-46c7-452f-a202-f25...   \n",
       "4    [{'label': {'id': '9e2e8d1f-46c7-452f-a202-f25...   \n",
       "..                                                 ...   \n",
       "445  [{'label': {'id': '9e2e8d1f-46c7-452f-a202-f25...   \n",
       "446  [{'label': {'id': '9e2e8d1f-46c7-452f-a202-f25...   \n",
       "447  [{'label': {'id': '791b77df-7956-41b6-8442-5ec...   \n",
       "448  [{'label': {'id': '9e2e8d1f-46c7-452f-a202-f25...   \n",
       "449  [{'label': {'id': '791b77df-7956-41b6-8442-5ec...   \n",
       "\n",
       "                                     query  label  \n",
       "0                          planos de saúde      1  \n",
       "1                          planos de saúde      1  \n",
       "2                          planos de saúde      1  \n",
       "3                          planos de saúde      1  \n",
       "4                          planos de saúde      1  \n",
       "..                                     ...    ...  \n",
       "445  transparência no processo licitatório      1  \n",
       "446  transparência no processo licitatório      1  \n",
       "447  transparência no processo licitatório      0  \n",
       "448  transparência no processo licitatório      1  \n",
       "449  transparência no processo licitatório      0  \n",
       "\n",
       "[450 rows x 7 columns]"
      ]
     },
     "execution_count": 14,
     "metadata": {},
     "output_type": "execute_result"
    }
   ],
   "source": [
    "original_feedbacks = []\n",
    "with open(\"feedback_queries_final.json\", \"r\") as feedback:\n",
    "    original_feedbacks += json.load(feedback)\n",
    "original_feedbacks = pd.DataFrame(original_feedbacks)\n",
    "\n",
    "def change_corresponding(row):\n",
    "    for elem in row[\"corresponding\"]:\n",
    "        elem[\"query\"] = row[\"text\"]\n",
    "        elem[\"query_id\"] = row[\"_id\"]\n",
    "    return row[\"corresponding\"]\n",
    "original_feedbacks[\"corresponding\"] = original_feedbacks.apply(lambda row: change_corresponding(row) ,axis=1)\n",
    "\n",
    "original_feedbacks = pd.json_normalize(original_feedbacks.explode(\"corresponding\")[\"corresponding\"])\n",
    "original_feedbacks[\"query\"] = original_feedbacks[\"query\"].apply(lambda x: x.replace(\"CONSULTA: \", \"\"))\n",
    "original_feedbacks = pd.merge(original_feedbacks[[\"query_id\", \"_id\", \"origin\"]], feedbacks, on=[\"query_id\", \"_id\"])\n",
    "original_feedbacks"
   ]
  },
  {
   "cell_type": "code",
   "execution_count": 15,
   "metadata": {},
   "outputs": [
    {
     "data": {
      "text/html": [
       "<div>\n",
       "<style scoped>\n",
       "    .dataframe tbody tr th:only-of-type {\n",
       "        vertical-align: middle;\n",
       "    }\n",
       "\n",
       "    .dataframe tbody tr th {\n",
       "        vertical-align: top;\n",
       "    }\n",
       "\n",
       "    .dataframe thead th {\n",
       "        text-align: right;\n",
       "    }\n",
       "</style>\n",
       "<table border=\"1\" class=\"dataframe\">\n",
       "  <thead>\n",
       "    <tr style=\"text-align: right;\">\n",
       "      <th></th>\n",
       "      <th>label</th>\n",
       "    </tr>\n",
       "    <tr>\n",
       "      <th>origin</th>\n",
       "      <th></th>\n",
       "    </tr>\n",
       "  </thead>\n",
       "  <tbody>\n",
       "    <tr>\n",
       "      <th>bm25sparse</th>\n",
       "      <td>0.313333</td>\n",
       "    </tr>\n",
       "    <tr>\n",
       "      <th>dense</th>\n",
       "      <td>0.366667</td>\n",
       "    </tr>\n",
       "    <tr>\n",
       "      <th>dirisparse</th>\n",
       "      <td>0.313333</td>\n",
       "    </tr>\n",
       "  </tbody>\n",
       "</table>\n",
       "</div>"
      ],
      "text/plain": [
       "               label\n",
       "origin              \n",
       "bm25sparse  0.313333\n",
       "dense       0.366667\n",
       "dirisparse  0.313333"
      ]
     },
     "execution_count": 15,
     "metadata": {},
     "output_type": "execute_result"
    }
   ],
   "source": [
    "original_feedbacks.groupby(\"origin\")[\"label\"].mean().to_frame()"
   ]
  },
  {
   "cell_type": "markdown",
   "metadata": {},
   "source": [
    "## Análise por avaliador"
   ]
  },
  {
   "cell_type": "code",
   "execution_count": 16,
   "metadata": {},
   "outputs": [],
   "source": [
    "feedbacks[\"user\"] = feedbacks[\"labels\"].apply(lambda x: x[0][\"user\"][\"name\"])"
   ]
  },
  {
   "cell_type": "code",
   "execution_count": 17,
   "metadata": {},
   "outputs": [
    {
     "data": {
      "text/html": [
       "<div>\n",
       "<style scoped>\n",
       "    .dataframe tbody tr th:only-of-type {\n",
       "        vertical-align: middle;\n",
       "    }\n",
       "\n",
       "    .dataframe tbody tr th {\n",
       "        vertical-align: top;\n",
       "    }\n",
       "\n",
       "    .dataframe thead th {\n",
       "        text-align: right;\n",
       "    }\n",
       "</style>\n",
       "<table border=\"1\" class=\"dataframe\">\n",
       "  <thead>\n",
       "    <tr style=\"text-align: right;\">\n",
       "      <th></th>\n",
       "      <th>label</th>\n",
       "    </tr>\n",
       "    <tr>\n",
       "      <th>user</th>\n",
       "      <th></th>\n",
       "    </tr>\n",
       "  </thead>\n",
       "  <tbody>\n",
       "    <tr>\n",
       "      <th>Elves Rodrigues</th>\n",
       "      <td>0.280000</td>\n",
       "    </tr>\n",
       "    <tr>\n",
       "      <th>Rafael Glater</th>\n",
       "      <td>0.406667</td>\n",
       "    </tr>\n",
       "    <tr>\n",
       "      <th>Rennan Cordeiro Lima</th>\n",
       "      <td>0.306667</td>\n",
       "    </tr>\n",
       "  </tbody>\n",
       "</table>\n",
       "</div>"
      ],
      "text/plain": [
       "                         label\n",
       "user                          \n",
       "Elves Rodrigues       0.280000\n",
       "Rafael Glater         0.406667\n",
       "Rennan Cordeiro Lima  0.306667"
      ]
     },
     "execution_count": 17,
     "metadata": {},
     "output_type": "execute_result"
    }
   ],
   "source": [
    "feedbacks.groupby(\"user\")[\"label\"].mean().to_frame()"
   ]
  },
  {
   "cell_type": "markdown",
   "metadata": {},
   "source": [
    "# Inter-rater agreement\n"
   ]
  },
  {
   "cell_type": "markdown",
   "metadata": {},
   "source": [
    "* Fleiss’s Kappa is an extension of Cohen’s kappa for three raters or more. In addition, the assumption with Cohen’s kappa is that your raters are deliberately chosen and fixed. With Fleiss’ kappa, the assumption is that your raters were chosen at random from a larger population.\n",
    "\n",
    "* Kendall’s Tau is used when you have ranked data, like two people ordering 10 candidates from most preferred to least preferred.\n",
    "\n",
    "* Krippendorff’s alpha is useful when you have multiple raters and multiple possible ratings."
   ]
  },
  {
   "cell_type": "markdown",
   "metadata": {},
   "source": [
    "### Kappas"
   ]
  },
  {
   "cell_type": "code",
   "execution_count": 18,
   "metadata": {},
   "outputs": [],
   "source": [
    "scores = feedbacks.groupby([\"_id\", \"query_id\"])[\"label\"].apply(list).to_frame()\n",
    "scores[\"count\"] = feedbacks.groupby([\"_id\", \"query_id\"])[\"label\"].count()\n",
    "all_scores = scores[scores[\"count\"] == 2]"
   ]
  },
  {
   "cell_type": "code",
   "execution_count": 19,
   "metadata": {},
   "outputs": [],
   "source": [
    "rater1 = [i[0] for i in list(all_scores[\"label\"])]\n",
    "rater2 = [i[1] for i in list(all_scores[\"label\"])]"
   ]
  },
  {
   "cell_type": "code",
   "execution_count": 20,
   "metadata": {},
   "outputs": [
    {
     "data": {
      "text/plain": [
       "0.5556872037914692"
      ]
     },
     "execution_count": 20,
     "metadata": {},
     "output_type": "execute_result"
    }
   ],
   "source": [
    "from sklearn.metrics import cohen_kappa_score\n",
    "cohen_kappa_score(rater1, rater2)"
   ]
  },
  {
   "cell_type": "code",
   "execution_count": 21,
   "metadata": {},
   "outputs": [
    {
     "data": {
      "text/html": [
       "<img src=\"https://miro.medium.com/max/1400/1*mHB6Ciljb4OnOacNWgc0aw.png\"/>"
      ],
      "text/plain": [
       "<IPython.core.display.Image object>"
      ]
     },
     "execution_count": 21,
     "metadata": {},
     "output_type": "execute_result"
    }
   ],
   "source": [
    "from IPython.display import Image\n",
    "Image(url='https://miro.medium.com/max/1400/1*mHB6Ciljb4OnOacNWgc0aw.png')"
   ]
  },
  {
   "cell_type": "markdown",
   "metadata": {},
   "source": [
    "### Krippendorff"
   ]
  },
  {
   "cell_type": "code",
   "execution_count": 22,
   "metadata": {},
   "outputs": [
    {
     "data": {
      "text/html": [
       "<div>\n",
       "<style scoped>\n",
       "    .dataframe tbody tr th:only-of-type {\n",
       "        vertical-align: middle;\n",
       "    }\n",
       "\n",
       "    .dataframe tbody tr th {\n",
       "        vertical-align: top;\n",
       "    }\n",
       "\n",
       "    .dataframe thead th {\n",
       "        text-align: right;\n",
       "    }\n",
       "</style>\n",
       "<table border=\"1\" class=\"dataframe\">\n",
       "  <thead>\n",
       "    <tr style=\"text-align: right;\">\n",
       "      <th></th>\n",
       "      <th>text</th>\n",
       "      <th>_id</th>\n",
       "      <th>labels</th>\n",
       "      <th>query</th>\n",
       "      <th>query_id</th>\n",
       "      <th>label</th>\n",
       "      <th>user</th>\n",
       "      <th>entry</th>\n",
       "    </tr>\n",
       "  </thead>\n",
       "  <tbody>\n",
       "    <tr>\n",
       "      <th>0</th>\n",
       "      <td>\\n\\nDocumento:20000110607\\n\\n\\n\\n\\nPoder Judic...</td>\n",
       "      <td>72ie2H0BazwYFyie8dgm</td>\n",
       "      <td>[{'label': {'id': '9e2e8d1f-46c7-452f-a202-f25...</td>\n",
       "      <td>planos de saúde</td>\n",
       "      <td>001404da-7082-4c96-8300-dd7836fb8f47</td>\n",
       "      <td>1</td>\n",
       "      <td>01c719b5-ec9b-481a-b8a4-76e85867e599</td>\n",
       "      <td>72ie2H0BazwYFyie8dgm001404da-7082-4c96-8300-dd...</td>\n",
       "    </tr>\n",
       "    <tr>\n",
       "      <th>1</th>\n",
       "      <td>\\n\\nDocumento:20000006496\\n\\n\\n\\n\\nPoder Judic...</td>\n",
       "      <td>B2eH2H0BazwYFyieir4V</td>\n",
       "      <td>[{'label': {'id': '9e2e8d1f-46c7-452f-a202-f25...</td>\n",
       "      <td>planos de saúde</td>\n",
       "      <td>001404da-7082-4c96-8300-dd7836fb8f47</td>\n",
       "      <td>1</td>\n",
       "      <td>01c719b5-ec9b-481a-b8a4-76e85867e599</td>\n",
       "      <td>B2eH2H0BazwYFyieir4V001404da-7082-4c96-8300-dd...</td>\n",
       "    </tr>\n",
       "    <tr>\n",
       "      <th>2</th>\n",
       "      <td>\\n\\nDocumento:20000085491\\n\\n\\n\\n\\nPoder Judic...</td>\n",
       "      <td>J2if2H0BazwYFyiel-E3</td>\n",
       "      <td>[{'label': {'id': '9e2e8d1f-46c7-452f-a202-f25...</td>\n",
       "      <td>planos de saúde</td>\n",
       "      <td>001404da-7082-4c96-8300-dd7836fb8f47</td>\n",
       "      <td>1</td>\n",
       "      <td>01c719b5-ec9b-481a-b8a4-76e85867e599</td>\n",
       "      <td>J2if2H0BazwYFyiel-E3001404da-7082-4c96-8300-dd...</td>\n",
       "    </tr>\n",
       "  </tbody>\n",
       "</table>\n",
       "</div>"
      ],
      "text/plain": [
       "                                                text                   _id  \\\n",
       "0  \\n\\nDocumento:20000110607\\n\\n\\n\\n\\nPoder Judic...  72ie2H0BazwYFyie8dgm   \n",
       "1  \\n\\nDocumento:20000006496\\n\\n\\n\\n\\nPoder Judic...  B2eH2H0BazwYFyieir4V   \n",
       "2  \\n\\nDocumento:20000085491\\n\\n\\n\\n\\nPoder Judic...  J2if2H0BazwYFyiel-E3   \n",
       "\n",
       "                                              labels            query  \\\n",
       "0  [{'label': {'id': '9e2e8d1f-46c7-452f-a202-f25...  planos de saúde   \n",
       "1  [{'label': {'id': '9e2e8d1f-46c7-452f-a202-f25...  planos de saúde   \n",
       "2  [{'label': {'id': '9e2e8d1f-46c7-452f-a202-f25...  planos de saúde   \n",
       "\n",
       "                               query_id  label  \\\n",
       "0  001404da-7082-4c96-8300-dd7836fb8f47      1   \n",
       "1  001404da-7082-4c96-8300-dd7836fb8f47      1   \n",
       "2  001404da-7082-4c96-8300-dd7836fb8f47      1   \n",
       "\n",
       "                                   user  \\\n",
       "0  01c719b5-ec9b-481a-b8a4-76e85867e599   \n",
       "1  01c719b5-ec9b-481a-b8a4-76e85867e599   \n",
       "2  01c719b5-ec9b-481a-b8a4-76e85867e599   \n",
       "\n",
       "                                               entry  \n",
       "0  72ie2H0BazwYFyie8dgm001404da-7082-4c96-8300-dd...  \n",
       "1  B2eH2H0BazwYFyieir4V001404da-7082-4c96-8300-dd...  \n",
       "2  J2if2H0BazwYFyiel-E3001404da-7082-4c96-8300-dd...  "
      ]
     },
     "execution_count": 22,
     "metadata": {},
     "output_type": "execute_result"
    }
   ],
   "source": [
    "feedbacks[\"entry\"] = feedbacks.apply(lambda row: row[\"_id\"] + row[\"query_id\"] ,axis=1)\n",
    "feedbacks[\"user\"] = feedbacks[\"labels\"].apply(lambda x: x[0][\"user\"][\"id\"])\n",
    "feedbacks.head(3)"
   ]
  },
  {
   "cell_type": "code",
   "execution_count": 23,
   "metadata": {},
   "outputs": [
    {
     "ename": "ModuleNotFoundError",
     "evalue": "No module named 'krippendorff'",
     "output_type": "error",
     "traceback": [
      "\u001b[0;31m---------------------------------------------------------------------------\u001b[0m",
      "\u001b[0;31mModuleNotFoundError\u001b[0m                       Traceback (most recent call last)",
      "\u001b[0;32m/tmp/ipykernel_35104/1985330794.py\u001b[0m in \u001b[0;36m<module>\u001b[0;34m\u001b[0m\n\u001b[1;32m      1\u001b[0m \u001b[0;32mimport\u001b[0m \u001b[0mrandom\u001b[0m\u001b[0;34m\u001b[0m\u001b[0;34m\u001b[0m\u001b[0m\n\u001b[1;32m      2\u001b[0m \u001b[0;32mimport\u001b[0m \u001b[0mnumpy\u001b[0m \u001b[0;32mas\u001b[0m \u001b[0mnp\u001b[0m\u001b[0;34m\u001b[0m\u001b[0;34m\u001b[0m\u001b[0m\n\u001b[0;32m----> 3\u001b[0;31m \u001b[0;32mimport\u001b[0m \u001b[0mkrippendorff\u001b[0m\u001b[0;34m\u001b[0m\u001b[0;34m\u001b[0m\u001b[0m\n\u001b[0m\u001b[1;32m      4\u001b[0m \u001b[0musers_strings\u001b[0m \u001b[0;34m=\u001b[0m \u001b[0;34m{\u001b[0m\u001b[0;34m}\u001b[0m\u001b[0;34m\u001b[0m\u001b[0;34m\u001b[0m\u001b[0m\n\u001b[1;32m      5\u001b[0m \u001b[0;34m\u001b[0m\u001b[0m\n",
      "\u001b[0;31mModuleNotFoundError\u001b[0m: No module named 'krippendorff'"
     ]
    }
   ],
   "source": [
    "import random\n",
    "import numpy as np\n",
    "import krippendorff\n",
    "users_strings = {}\n",
    "\n",
    "for user in feedbacks[\"user\"].unique():\n",
    "    users_strings[user] = []\n",
    "\n",
    "for entry in feedbacks[\"entry\"].unique():\n",
    "    f = feedbacks[feedbacks[\"entry\"] == entry]\n",
    "    for user in feedbacks[\"user\"].unique():\n",
    "        if user in list(f[\"user\"]):\n",
    "            users_strings[user] += [f[f[\"user\"] == user].iloc[0][\"label\"]]\n",
    "        else:\n",
    "            users_strings[user] += [np.nan]\n",
    "\n",
    "reliability_data = list(users_strings.values())\n",
    "np.array(reliability_data).dtype.kind\n",
    "value = krippendorff.alpha(reliability_data=reliability_data, value_domain=[0, 1], level_of_measurement=\"nominal\")\n",
    "print(\"Krippendorff's alpha: \", value)"
   ]
  },
  {
   "cell_type": "markdown",
   "metadata": {},
   "source": [
    "The minimum acceptable alpha coefficient should be chosen according to the importance of the conclusions to be drawn from imperfect data. When the costs of mistaken conclusions are high, the minimum alpha needs to be set high as well. In the absence of knowledge of the risks of drawing false conclusions from unreliable data, social scientists commonly rely on data with reliabilities α ≥ 0.800, consider data with 0.800 > α ≥ 0.667 only to draw tentative conclusions, and discard data whose agreement measures α < 0.667"
   ]
  },
  {
   "cell_type": "markdown",
   "metadata": {},
   "source": [
    "## Criação do dataset"
   ]
  },
  {
   "cell_type": "code",
   "execution_count": 24,
   "metadata": {},
   "outputs": [
    {
     "data": {
      "text/html": [
       "<div>\n",
       "<style scoped>\n",
       "    .dataframe tbody tr th:only-of-type {\n",
       "        vertical-align: middle;\n",
       "    }\n",
       "\n",
       "    .dataframe tbody tr th {\n",
       "        vertical-align: top;\n",
       "    }\n",
       "\n",
       "    .dataframe thead th {\n",
       "        text-align: right;\n",
       "    }\n",
       "</style>\n",
       "<table border=\"1\" class=\"dataframe\">\n",
       "  <thead>\n",
       "    <tr style=\"text-align: right;\">\n",
       "      <th></th>\n",
       "      <th>_id</th>\n",
       "      <th>query_id</th>\n",
       "      <th>label</th>\n",
       "      <th>count</th>\n",
       "      <th>final_label</th>\n",
       "    </tr>\n",
       "  </thead>\n",
       "  <tbody>\n",
       "    <tr>\n",
       "      <th>0</th>\n",
       "      <td>-2d92H0BazwYFyieslD-</td>\n",
       "      <td>b4bb355d-e105-4b58-9bd1-c4421b89a058</td>\n",
       "      <td>1.0</td>\n",
       "      <td>1</td>\n",
       "      <td>1</td>\n",
       "    </tr>\n",
       "    <tr>\n",
       "      <th>1</th>\n",
       "      <td>-2id2H0BazwYFyiewsrT</td>\n",
       "      <td>40456087-473f-44f4-9aeb-6b8a61205c20</td>\n",
       "      <td>1.0</td>\n",
       "      <td>2</td>\n",
       "      <td>1</td>\n",
       "    </tr>\n",
       "    <tr>\n",
       "      <th>2</th>\n",
       "      <td>02Zt2H0BazwYFyiehJGF</td>\n",
       "      <td>a564b353-a905-4d5e-87d3-e50179a75e5c</td>\n",
       "      <td>0.0</td>\n",
       "      <td>1</td>\n",
       "      <td>0</td>\n",
       "    </tr>\n",
       "    <tr>\n",
       "      <th>3</th>\n",
       "      <td>02eE2H0BazwYFyie_Z-f</td>\n",
       "      <td>515c91af-935b-44a0-9034-2c067e06d796</td>\n",
       "      <td>0.0</td>\n",
       "      <td>1</td>\n",
       "      <td>0</td>\n",
       "    </tr>\n",
       "    <tr>\n",
       "      <th>4</th>\n",
       "      <td>0meK2H0BazwYFyieed7Q</td>\n",
       "      <td>a2f20a89-329a-4781-9ac3-80b3e1df8a93</td>\n",
       "      <td>1.0</td>\n",
       "      <td>2</td>\n",
       "      <td>1</td>\n",
       "    </tr>\n",
       "    <tr>\n",
       "      <th>...</th>\n",
       "      <td>...</td>\n",
       "      <td>...</td>\n",
       "      <td>...</td>\n",
       "      <td>...</td>\n",
       "      <td>...</td>\n",
       "    </tr>\n",
       "    <tr>\n",
       "      <th>295</th>\n",
       "      <td>zGmj2H0BazwYFyie5Q7v</td>\n",
       "      <td>d630e749-49cc-468e-a974-5f8cf9e609cc</td>\n",
       "      <td>1.0</td>\n",
       "      <td>1</td>\n",
       "      <td>1</td>\n",
       "    </tr>\n",
       "    <tr>\n",
       "      <th>296</th>\n",
       "      <td>zWeB2H0BazwYFyieX3dP</td>\n",
       "      <td>b4bb355d-e105-4b58-9bd1-c4421b89a058</td>\n",
       "      <td>1.0</td>\n",
       "      <td>1</td>\n",
       "      <td>1</td>\n",
       "    </tr>\n",
       "    <tr>\n",
       "      <th>297</th>\n",
       "      <td>zWid2H0BazwYFyielMjT</td>\n",
       "      <td>38ff53de-7e90-4dbb-b912-40a8c8c63de4</td>\n",
       "      <td>0.0</td>\n",
       "      <td>1</td>\n",
       "      <td>0</td>\n",
       "    </tr>\n",
       "    <tr>\n",
       "      <th>298</th>\n",
       "      <td>zWie2H0BazwYFyie8dkn</td>\n",
       "      <td>06b31304-b1bf-4d89-af61-d1d61904afe0</td>\n",
       "      <td>0.5</td>\n",
       "      <td>2</td>\n",
       "      <td>1</td>\n",
       "    </tr>\n",
       "    <tr>\n",
       "      <th>299</th>\n",
       "      <td>zmih2H0BazwYFyie8_zX</td>\n",
       "      <td>d630e749-49cc-468e-a974-5f8cf9e609cc</td>\n",
       "      <td>1.0</td>\n",
       "      <td>1</td>\n",
       "      <td>1</td>\n",
       "    </tr>\n",
       "  </tbody>\n",
       "</table>\n",
       "<p>300 rows × 5 columns</p>\n",
       "</div>"
      ],
      "text/plain": [
       "                      _id                              query_id  label  count  \\\n",
       "0    -2d92H0BazwYFyieslD-  b4bb355d-e105-4b58-9bd1-c4421b89a058    1.0      1   \n",
       "1    -2id2H0BazwYFyiewsrT  40456087-473f-44f4-9aeb-6b8a61205c20    1.0      2   \n",
       "2    02Zt2H0BazwYFyiehJGF  a564b353-a905-4d5e-87d3-e50179a75e5c    0.0      1   \n",
       "3    02eE2H0BazwYFyie_Z-f  515c91af-935b-44a0-9034-2c067e06d796    0.0      1   \n",
       "4    0meK2H0BazwYFyieed7Q  a2f20a89-329a-4781-9ac3-80b3e1df8a93    1.0      2   \n",
       "..                    ...                                   ...    ...    ...   \n",
       "295  zGmj2H0BazwYFyie5Q7v  d630e749-49cc-468e-a974-5f8cf9e609cc    1.0      1   \n",
       "296  zWeB2H0BazwYFyieX3dP  b4bb355d-e105-4b58-9bd1-c4421b89a058    1.0      1   \n",
       "297  zWid2H0BazwYFyielMjT  38ff53de-7e90-4dbb-b912-40a8c8c63de4    0.0      1   \n",
       "298  zWie2H0BazwYFyie8dkn  06b31304-b1bf-4d89-af61-d1d61904afe0    0.5      2   \n",
       "299  zmih2H0BazwYFyie8_zX  d630e749-49cc-468e-a974-5f8cf9e609cc    1.0      1   \n",
       "\n",
       "     final_label  \n",
       "0              1  \n",
       "1              1  \n",
       "2              0  \n",
       "3              0  \n",
       "4              1  \n",
       "..           ...  \n",
       "295            1  \n",
       "296            1  \n",
       "297            0  \n",
       "298            1  \n",
       "299            1  \n",
       "\n",
       "[300 rows x 5 columns]"
      ]
     },
     "execution_count": 24,
     "metadata": {},
     "output_type": "execute_result"
    }
   ],
   "source": [
    "dataset[\"final_label\"] = dataset[\"label\"].apply(lambda x: int(bool(x)))\n",
    "dataset = dataset.reset_index()\n",
    "dataset"
   ]
  },
  {
   "cell_type": "code",
   "execution_count": 25,
   "metadata": {},
   "outputs": [
    {
     "data": {
      "text/html": [
       "<div>\n",
       "<style scoped>\n",
       "    .dataframe tbody tr th:only-of-type {\n",
       "        vertical-align: middle;\n",
       "    }\n",
       "\n",
       "    .dataframe tbody tr th {\n",
       "        vertical-align: top;\n",
       "    }\n",
       "\n",
       "    .dataframe thead th {\n",
       "        text-align: right;\n",
       "    }\n",
       "</style>\n",
       "<table border=\"1\" class=\"dataframe\">\n",
       "  <thead>\n",
       "    <tr style=\"text-align: right;\">\n",
       "      <th></th>\n",
       "      <th>_id</th>\n",
       "      <th>query_id</th>\n",
       "      <th>final_label</th>\n",
       "      <th>query</th>\n",
       "      <th>text</th>\n",
       "    </tr>\n",
       "  </thead>\n",
       "  <tbody>\n",
       "    <tr>\n",
       "      <th>0</th>\n",
       "      <td>-2d92H0BazwYFyieslD-</td>\n",
       "      <td>b4bb355d-e105-4b58-9bd1-c4421b89a058</td>\n",
       "      <td>1</td>\n",
       "      <td>título executivo extrajudicial prescrito</td>\n",
       "      <td>\\n\\nDocumento:20000034808\\n\\n\\n\\n\\nPoder Judic...</td>\n",
       "    </tr>\n",
       "    <tr>\n",
       "      <th>1</th>\n",
       "      <td>-2id2H0BazwYFyiewsrT</td>\n",
       "      <td>40456087-473f-44f4-9aeb-6b8a61205c20</td>\n",
       "      <td>1</td>\n",
       "      <td>interesse recursal quanto ao pedido principal</td>\n",
       "      <td>\\n\\nDocumento:20000025597\\n\\n\\n\\n\\nPoder Judic...</td>\n",
       "    </tr>\n",
       "    <tr>\n",
       "      <th>3</th>\n",
       "      <td>02Zt2H0BazwYFyiehJGF</td>\n",
       "      <td>a564b353-a905-4d5e-87d3-e50179a75e5c</td>\n",
       "      <td>0</td>\n",
       "      <td>crédito já habilitado</td>\n",
       "      <td>\\n            \\n                \\n   \\n       ...</td>\n",
       "    </tr>\n",
       "    <tr>\n",
       "      <th>4</th>\n",
       "      <td>02eE2H0BazwYFyie_Z-f</td>\n",
       "      <td>515c91af-935b-44a0-9034-2c067e06d796</td>\n",
       "      <td>0</td>\n",
       "      <td>prescrição acórdão confirmatório</td>\n",
       "      <td>\\n\\nDocumento:20000044815\\n\\n\\n\\n\\nPoder Judic...</td>\n",
       "    </tr>\n",
       "    <tr>\n",
       "      <th>5</th>\n",
       "      <td>0meK2H0BazwYFyieed7Q</td>\n",
       "      <td>a2f20a89-329a-4781-9ac3-80b3e1df8a93</td>\n",
       "      <td>1</td>\n",
       "      <td>plano de partilha</td>\n",
       "      <td>\\n\\nDocumento:20000028348\\n\\n\\n\\n\\nPoder Judic...</td>\n",
       "    </tr>\n",
       "    <tr>\n",
       "      <th>...</th>\n",
       "      <td>...</td>\n",
       "      <td>...</td>\n",
       "      <td>...</td>\n",
       "      <td>...</td>\n",
       "      <td>...</td>\n",
       "    </tr>\n",
       "    <tr>\n",
       "      <th>444</th>\n",
       "      <td>zGmj2H0BazwYFyie5Q7v</td>\n",
       "      <td>d630e749-49cc-468e-a974-5f8cf9e609cc</td>\n",
       "      <td>1</td>\n",
       "      <td>ação rescisória trabalhista</td>\n",
       "      <td>\\n\\nDocumento:20000087844\\n\\n\\n\\n\\nPoder Judic...</td>\n",
       "    </tr>\n",
       "    <tr>\n",
       "      <th>445</th>\n",
       "      <td>zWeB2H0BazwYFyieX3dP</td>\n",
       "      <td>b4bb355d-e105-4b58-9bd1-c4421b89a058</td>\n",
       "      <td>1</td>\n",
       "      <td>título executivo extrajudicial prescrito</td>\n",
       "      <td>\\n\\nDocumento:20000035039\\n\\n\\n\\n\\nPoder Judic...</td>\n",
       "    </tr>\n",
       "    <tr>\n",
       "      <th>446</th>\n",
       "      <td>zWid2H0BazwYFyielMjT</td>\n",
       "      <td>38ff53de-7e90-4dbb-b912-40a8c8c63de4</td>\n",
       "      <td>0</td>\n",
       "      <td>causalidade adequada</td>\n",
       "      <td>\\n\\nDocumento:20000098766\\n\\n\\n\\n\\nPoder Judic...</td>\n",
       "    </tr>\n",
       "    <tr>\n",
       "      <th>447</th>\n",
       "      <td>zWie2H0BazwYFyie8dkn</td>\n",
       "      <td>06b31304-b1bf-4d89-af61-d1d61904afe0</td>\n",
       "      <td>1</td>\n",
       "      <td>padrão de vida do alimentando</td>\n",
       "      <td>\\n\\nDocumento:20000071783\\n\\n\\n\\n\\nPoder Judic...</td>\n",
       "    </tr>\n",
       "    <tr>\n",
       "      <th>449</th>\n",
       "      <td>zmih2H0BazwYFyie8_zX</td>\n",
       "      <td>d630e749-49cc-468e-a974-5f8cf9e609cc</td>\n",
       "      <td>1</td>\n",
       "      <td>ação rescisória trabalhista</td>\n",
       "      <td>\\n\\nDocumento:20000101628\\n\\n\\n\\n\\nPoder Judic...</td>\n",
       "    </tr>\n",
       "  </tbody>\n",
       "</table>\n",
       "<p>300 rows × 5 columns</p>\n",
       "</div>"
      ],
      "text/plain": [
       "                      _id                              query_id  final_label  \\\n",
       "0    -2d92H0BazwYFyieslD-  b4bb355d-e105-4b58-9bd1-c4421b89a058            1   \n",
       "1    -2id2H0BazwYFyiewsrT  40456087-473f-44f4-9aeb-6b8a61205c20            1   \n",
       "3    02Zt2H0BazwYFyiehJGF  a564b353-a905-4d5e-87d3-e50179a75e5c            0   \n",
       "4    02eE2H0BazwYFyie_Z-f  515c91af-935b-44a0-9034-2c067e06d796            0   \n",
       "5    0meK2H0BazwYFyieed7Q  a2f20a89-329a-4781-9ac3-80b3e1df8a93            1   \n",
       "..                    ...                                   ...          ...   \n",
       "444  zGmj2H0BazwYFyie5Q7v  d630e749-49cc-468e-a974-5f8cf9e609cc            1   \n",
       "445  zWeB2H0BazwYFyieX3dP  b4bb355d-e105-4b58-9bd1-c4421b89a058            1   \n",
       "446  zWid2H0BazwYFyielMjT  38ff53de-7e90-4dbb-b912-40a8c8c63de4            0   \n",
       "447  zWie2H0BazwYFyie8dkn  06b31304-b1bf-4d89-af61-d1d61904afe0            1   \n",
       "449  zmih2H0BazwYFyie8_zX  d630e749-49cc-468e-a974-5f8cf9e609cc            1   \n",
       "\n",
       "                                             query  \\\n",
       "0         título executivo extrajudicial prescrito   \n",
       "1    interesse recursal quanto ao pedido principal   \n",
       "3                            crédito já habilitado   \n",
       "4                 prescrição acórdão confirmatório   \n",
       "5                                plano de partilha   \n",
       "..                                             ...   \n",
       "444                    ação rescisória trabalhista   \n",
       "445       título executivo extrajudicial prescrito   \n",
       "446                           causalidade adequada   \n",
       "447                  padrão de vida do alimentando   \n",
       "449                    ação rescisória trabalhista   \n",
       "\n",
       "                                                  text  \n",
       "0    \\n\\nDocumento:20000034808\\n\\n\\n\\n\\nPoder Judic...  \n",
       "1    \\n\\nDocumento:20000025597\\n\\n\\n\\n\\nPoder Judic...  \n",
       "3    \\n            \\n                \\n   \\n       ...  \n",
       "4    \\n\\nDocumento:20000044815\\n\\n\\n\\n\\nPoder Judic...  \n",
       "5    \\n\\nDocumento:20000028348\\n\\n\\n\\n\\nPoder Judic...  \n",
       "..                                                 ...  \n",
       "444  \\n\\nDocumento:20000087844\\n\\n\\n\\n\\nPoder Judic...  \n",
       "445  \\n\\nDocumento:20000035039\\n\\n\\n\\n\\nPoder Judic...  \n",
       "446  \\n\\nDocumento:20000098766\\n\\n\\n\\n\\nPoder Judic...  \n",
       "447  \\n\\nDocumento:20000071783\\n\\n\\n\\n\\nPoder Judic...  \n",
       "449  \\n\\nDocumento:20000101628\\n\\n\\n\\n\\nPoder Judic...  \n",
       "\n",
       "[300 rows x 5 columns]"
      ]
     },
     "execution_count": 25,
     "metadata": {},
     "output_type": "execute_result"
    }
   ],
   "source": [
    "dataset = pd.merge(dataset, feedbacks,  left_on=['_id','query_id'], right_on = ['_id','query_id'])[['_id','query_id', \"final_label\",\"query\", \"text\"]]\n",
    "dataset = dataset.drop_duplicates()\n",
    "dataset"
   ]
  },
  {
   "cell_type": "code",
   "execution_count": 26,
   "metadata": {},
   "outputs": [
    {
     "data": {
      "text/plain": [
       "<AxesSubplot:>"
      ]
     },
     "execution_count": 26,
     "metadata": {},
     "output_type": "execute_result"
    },
    {
     "data": {
      "image/png": "[encoded data removed]",
      "text/plain": [
       "<Figure size 432x288 with 1 Axes>"
      ]
     },
     "metadata": {
      "needs_background": "light"
     },
     "output_type": "display_data"
    }
   ],
   "source": [
    "dataset[\"final_label\"].hist()"
   ]
  },
  {
   "cell_type": "markdown",
   "metadata": {},
   "source": [
    "## Pré Processamento"
   ]
  },
  {
   "cell_type": "code",
   "execution_count": 27,
   "metadata": {},
   "outputs": [
    {
     "name": "stdout",
     "output_type": "stream",
     "text": [
      "16644\n",
      "\n",
      "\n",
      "Documento:20000034808\n",
      "\n",
      "\n",
      "\n",
      "\n",
      "Poder Judiciário\n",
      "TRIBUNAL REGIONAL FEDERAL DA 2ª REGIÃO\n",
      "\n",
      "\n",
      "\n",
      "\n",
      "\n",
      "\n",
      "Agravo de Instrumento  Nº 5005172-73.2019.4.02.0000/RJ\n",
      "\n",
      "\n",
      "\n",
      "AGRAVANTE: UNIÃO - ADVOCACIA GERAL DA UNIÃOAGRAVADO: FLAVIA PANETTI SANTOSADVOGADO: ALESSANDRO MEDEIROS (OAB DF042043)AGRAVADO: FRANCELLINA DO ROSARIO BRAUNSADVOGADO: ALESSANDRO MEDEIROS (OAB DF042043)AGRAVADO: FLAVIO CANTONE CORREA DE SAADVOGADO: ALESSANDRO MEDEIROS (OAB DF042043)\n",
      "\n",
      "\n",
      "DESPACHO/DECISÃO\n",
      "\n",
      "\n",
      "Trata-se de Agravo de Instrumento interposto pela UNIÃO - ADVOCACIA GERAL DA UNIÃO em face de FLAVIA PANETTI SANTOS, FLAVIO CANTONE CORREA DE SA e FRANCELLINA DO ROSARIO BRAUNS, com pedido de liminar, objetivando cassar a decisão proferida pelo Juízo da 18ª Vara Federal do Rio de Janeiro - Seção Judiciária do Rio de Janeiro, assim vertida:\n",
      "\"Trata-se de cumprimento de sentença coletiva proferida no processo nº 0002767-94.2001.4.01.3400.\n",
      "O título executivo determinou aplicação à retribuição dos Técnicos do Tesouro Nacional - TTN o teto de oito vezes o valor do maior vencimento da própria categoria, nos termos do art. 8º, da MP 831/1995, norma posteriormente convertida na Lei 9.624/1998, conforme anexo 12 ao Evento 3.\n",
      "Desse modo, condenou a União ao pagamento - a título de atrasados - da diferença da vantagem devida no período de janeiro de 1996 a junho de 1999, consideradas a base de cálculo e o teto previstos na MP 831/95 (atual Lei 9.624/98), bem como a avaliação individual e plural realizada pela Administração,  atualizando-se tal verba monetariamente pela UFIR/IPACE e acrescendo-se de juros moratórios, na taxa de 1% (um por cento) ao mês, a partir da citação, com inversão de ônus sucumbenciais.\n",
      "Posteriormente, o Superior Tribunal de Justiça deu provimento ao agravo regimental interposto pelo autor legitimado coletivo, para determinar que os efeitos da decisão proferida nos autos da ação coletiva abranja todos os substituídos domiciliados no território nacional. (conforme fls. 45/52, do anexo 14 do Evento 3).\n",
      "A presente demanda é proposta por MARCO ANTONIO VIANNA, MARCELO LAMOSA BERGER e MARILZA CARVALHO DE FARIA em face da União.\n",
      "Indicam como devido o valor de R$ 821.574,82, em 28/05/2018.\n",
      " Evento 18 - Este juízo fixou honorários em 10% do valor exigido, de acordo com a Súmula 345 do STJ. \n",
      "Evento 22 - Intimada nos moldes do artigo 535, do CPC, a União impugnou a execução, em que alega:\n",
      "a) ausência de prévia liquidação do título executivo;\n",
      "b) que o pagamento da a RAV no valor equivalente a 08 (oito) vezes o valor de tabela do Técnico do Tesouro Nacional não teria sido determinado pela coisa julgada metaindividual,  pois \"o título executivo formado na Ação Coletiva ora executada se limitou a afastar o limite fixado pela Administração nas Resoluções CRAV, para que outro limite máximo fosse aplicado, o da Medida Provisória 831/1995. Não há, e isso ficou bem claro, determinação de se pagar a RAV utilizando na base de cálculo 08 vezes o maior vencimento de qualquer categoria – sendo absolutamente descabido, portanto, que o substituído promova execução pretendendo o que o Sindicato deixou claro que não pediu, justamente porque não poderia pedir\";\n",
      "d) excesso de execução, pois os cálculos apresentados pelos exequentes incluem o período prescrito anterior a 31/01/1996.\n",
      "Subsidiariamente, aponta como devida a quantia de R$793.207,59, em maio de 2018.\n",
      "Manifestação do impugnado no Evento 25.\n",
      "Relatado o necessário, decido.\n",
      "1 - Da liquidação do título executivo\n",
      "Quanto à ausência de prévia liquidação do título executivo, entendo que está completamente prejudicada a alegação, uma vez que os valores históricos utilizados pelos exequentes em seus cálculos são idênticos àqueles constantes da planilha da União.\n",
      "Não há controvérsia acerca da base de cálculo, período de apuração, ou qualquer outro requisito que implique na alteração dos valores históricos, o que evidencia que os cálculos são meramente aritméticos. \n",
      "Desse modo, está demonstrada de desnecessidade de prévia liquidação no presente caso, que apenas atrasaria o direito ao crédito dos exequentes, em total confronto com os princípios da celeridade e eficiência.\n",
      "2 - Da inexistência de valores a serem executados.\n",
      "De acordo com a União, o título executivo formado na Ação Coletiva ora executada limitou-se a afastar o limite fixado pela Administração nas Resoluções CRAV, para que outro limite máximo fosse aplicado, o da Medida Provisória 831/1995. Alega que não haveria determinação de se pagar a RAV  na base de cálculo 08 vezes o maior vencimento de qualquer categoria.\n",
      "Assim, conforme entendimento da União, a alteração é tão somente do teto, e não da forma de cálculo do quantum devido, que seguiu obedecendo ao critério estabelecido discricionariamente pela Administração, porque a retribuição depende, por força de lei, de ato administrativo discricionário observada a avaliação individual e plural dos servidores no período – do que não se há notícia nos autos.\n",
      "Conforme acórdão do STJ anexado no evento 7 - out12,  de fato não houve pedido de RAV sobre o valor máximo, mas sim sobre o direito à percepção da RAV nos termos da MP 831/95, atual Lei 9.624/98, considerando a base de cálculo e o teto previstos na referida MP, bem como a avaliação individual e plural realizada pela Administração.\n",
      "O título executivo detém provimento condenatório,  nos termos do art. 8° da MP 831/1995, norma posteriormente convertida na Lei 9.624/1998\" ao  fixar o pagamento, a título de atrasados, da diferença da vantagem devida, verificada no período de janeiro de 1996 a junho de 1999, considerando-se a base de cálculo e o teto previsto na MP 831/95 (atual Lei 9.624/98) - de ate 08 vezes  o valor do maior vencimento da própria categoria - bem como a avaliação individual e plural realizada pela Administração, verba sobre a qual deverão incidir juros e correção monetária.\n",
      "Todavia, até 21/12/2018, referida avaliação individual e plural não havia sido implantada, conforme declaração do Coordenador Geral de Gestão de Pessoas do Ministério da Fazenda, \"tendo em vista a edição da Resolução CRAV nº 001, de 12 de junho de 1995 (anexo Outros 6 ao Evento 25), que definiu os valores máximos a serem percebidos pelos integrantes da carreira do Tesouro Nacional, ou seja, R$ 4.194,40 (auditor) e R$ 1.258,31 / R$ 1.887,47 (analista)\", conforme anexo Out20 do Evento 25.\n",
      "Ademais, conforme resta  comprovado nos autos, as gratificações RAV foram pagas aos exequentes no valor do teto à época, R$ 1.258,31, de acordo com fichas financeiras anexadas aos autos (Cálculos 7, 10 e 13, anexos à inicial).\n",
      "Portanto, ante a inexistência de avaliação individual, é devida a título de retribuição aos TTN a diferença entre a gratificação recebida e o teto de oito vezes o valor do maior vencimento da própria categoria, nos termos do art. 8º, da MP 831/1995, norma posteriormente convertida na Lei 9.624/1998, tendo-se em conta a gratificação paga com base na maior avaliação individual permitida. \n",
      "3 - Do período prescrito\n",
      "Por fim, no que diz respeito à alegação de prescrição quanto à cobrança de valores concernentes a períodos anteriores a 31/01/1996,  vê-se que nos cálculos apresentados pela parte autora não houve inclusão de verbas referentes a períodos anteriores a 31/01/1996 (evento 1, calc7, calc10, calc13). E nem poderia o ser, eis que a coisa julgada não contempla tais valores, logo, rejeito a arguição.\n",
      "Ante o exposto, e tendo em vista que as planilhas apresentadas pela parte autora respeitaram os parâmetros fixados no título executivo, rejeito a impugnação apresentada e homologo os cálculos da exequente.\n",
      "Determino o prosseguimento da execução pelo valor de R$ 821.574,82, em 28/05/2018.\n",
      "Nos termos do artigo 85, §3º, I, do, CPC, condeno a impugnante em honorários advocatícios, que fixo em 08% do proveito econômico obtido (R$ 821.574,82)\n",
      "Intimem-se. Preclusa a presente decisão, venham-me conclusos para determinar a expedição dos requisitórios.\"\n",
      " \n",
      "A Agravante alega, em suma, como causa de pedir:\n",
      "\"(...) Trata-se de cumprimento individual de sentença coletiva movida em face da UNIÃO em que o exequente, ora impugnado, pretende executar diferenças a título de retribuição adicional variável – RAV, supostamente resultantes da coisa julgada formada no bojo da ação coletiva nº 0002767-94.2001.01.3400 (2001.34.00.002765-2). \n",
      "Afirma que o título executivo formado na referida ação coletiva garantiu aos substituídos pelo Sindicato autor diferenças a título de RAV, que deveriam ser pagas sobre a base de cálculo correspondente a oito vezes o valor do maior vencimento da categoria de Técnico do Tesouro Nacional-TTN no período compreendido entre 01/1996 e 06/1999. \n",
      "A União apresentou impugnação à execução.\n",
      "(...) Ocorre que o Parecer Necap do evento 17 deixou claro que: “‘- Não há manifestação do órgão sobre as eventuais diferenças devidas e se as partes eram TTN entre 02/1996 e 06/1999”.\n",
      "Portanto, o NECAP utilizou-se da base de cálculo apresentada pelo autor apenas para verificar valores de excesso de execução, tendo impugnado a conta por ausência de elementos a verificar o quantum devido. \n",
      "Ademais, destaque-se que a sentença exequenda (reformada pelo TRF1 e restabelecida pelo STJ no processo originário) foi clara ao determinar a liquidação por arbitramento, “uma vez que o valor da vantagem depende da avaliação individual e plural dos filiados no período”. Dessa forma, não tendo a parte adversa realizado tal liquidação, o título exequendo é ilíquido e, portanto, inexigível, atraindo a incidência do inciso III do art. 535 do Novo Código de Processo Civil.\n",
      "(...) Ademais, a parte exequente não junta aos autos elementos de cálculo suficientes para apurar eventual quantum debeatur. Conquanto a redação do 534 do NCPC8 estabeleça que “o exequente apresentará demonstrativo discriminado e atualizado do crédito“, certo é que não se poderá proceder ao cálculo de valores atrasados cujas parcelas não são conhecidas. Tal resta expresso no parecer NECAP, em anexo: ‘- Não há manifestação do órgão sobre as eventuais diferenças devidas e se as partes eram TTN entre 02/1996 e 06/1999” Destaque-se que, mesmos as informações do Ofício 27/ 2019/ SRF07/ DIGEP (em anexo), não supriram tal falta de elementos. \n",
      "A memória discriminada e atualizada do cálculo, exigida pelos arts. art. 509 e 534 do NCPC, somente poderá ser elaborada tomando-se por base o que usualmente se chama de “elementos de cálculo”. Estes elementos nada mais são do que os valores históricos devidos ao autor e os valores efetivamente por ele já percebidos, tendo em vista o procedimento administrativo de pagamentos. Tais elementos de cálculos consubstanciam-se em planilha expedida pelo órgão e origem do autor e que contenha os valores a este devidos mês a mês a título de atrasados, bem como os valores efetivamente já pagos, planilha esta a qual o autor pode ter acesso a qualquer momento, mediante a formulação de simples requerimento à respectiva unidade pagadora. Saliente-se, desde já, que a Procuradoria Regional da União no Rio de Janeiro apenas representa judicialmente a União, não sendo detentora da documentação em comento. O órgão detentor dos documentos em referência é o órgão de origem do autor.\n",
      "(...) A mera juntada de planilha desprovida de elementos de cálculo não atende, destarte, ao disposto nos artigos 509 e 534 do NCPC. \n",
      "Portanto, constata-se que, proferida sentença ilíquida quanto ao pagamento de atrasados, não vieram aos autos as planilhas contendo as diferenças devidas mês a mês. A documentação acostada aos autos até a presente data não permite calcular o valor efetivamente devido. \n",
      "Destarte, a apuração dos valores devidos a cada um dos substituídos tem de ser objeto de processo de conhecimento de liquidação da sentença coletiva. \n",
      "Requer, então, a União seja reformada a r. decisão agravada, sendo reconhecida a ausência de condição da ação (liquidação do julgado coletivo), julgando extinto o processo de execução individual, sem resolução de mérito, aplicando-se ainda o disposto no art. 535 inc. III do CPC.\n",
      "(...) Em outras palavras, o título executivo formado na Ação Coletiva ora executada se limitou a afastar o limite fixado pela Administração nas Resoluções CRAV, para que outro limite máximo fosse aplicado, o da Medida Provisória 831/1995. \n",
      "Não há, e isso ficou bem claro, determinação de se pagar a RAV utilizando na base de cálculo 08 vezes o maior vencimento de qualquer categoria – sendo absolutamente descabido, portanto, que o substituído promova execução pretendendo o que o Sindicato deixou claro que não pediu, justamente porque não poderia pedir.\n",
      "(...) Mais uma vez: o título exequendo não determinou o pagamento da RAV no limite máximo, ou seja, em quantia equivalente a 08 (oito) vezes o vencimento-básico dos TTN’s, mas apenas estabeleceu esse valor como sendo o seu teto máximo. Portanto, a alteração é tão somente do teto, e não da forma de cálculo do quantum devido, que seguiu obedecendo ao critério estabelecido discricionariamente pela Administração – sendo que a pretensão executória contraria frontalmente a posição do Sindicato autor da Ação Coletiva. Não custa lembrar que na sentença, o Juízo de primeiro grau, determinou a execução por artigos, “uma vez que o valor da vantagem depende da avaliação individual e plural dos filiados no período”, o que ressalta que a coisa julgada no presente feito não garantiu ao exequente o pagamento “cheio” da RAV (oito vezes o vencimento básico da carreira). Patente a inexigibilidade de título e a ausência de julgado na forma que se pretende executar, devendo ser provido o presente agravo de instrumento para que seja julgada procedente a impugnação à execução, nos termos do art. 535 incs. III.\n",
      "(...) O parecer técnico 489/19, deixou também que: “Ultrapassada a questão, informamos que caso, em remota hipótese, seja devida a diferença entre 8x o maior vencimento-básico da categoria e o valor recebido mês a mês., o cálculo restaria excessivo por incluir o período prescrito anterior a 31/01/1996.” \n",
      "Portanto, devem ser excluídos do cálculo os valores prescritos, de modo a ser preservada a coisa julgada (art. 502, 503 do CPC). \n",
      "Ademais, a documentação apresentada por órgão público é um documento oficial gerado pela Administração Pública e, como tal, goza de presunção de sua legitimidade e veracidade (art. 2 da Lei 9.784- art 334 IV do CPC - art. 374 inc. IV do CPC/ 2015), sendo ainda um documento emitido por órgão público e meio de prova idônea, conforme consta do 332 do CPC/ 73 e art. 369 CPC/ 2015. \n",
      "Requer o provimento do presente Agravo de Instrumento para que seja julgada procedente a presente impugnação nos termos do art. 535 incs. IV e VI do CPC.\n",
      "(...) Do Pedido: \n",
      "Por todo o exposto, requer a Agravante que, inicialmente, seja concedido efeito suspensivo ao presente Agravo de Instrumento, bem como que seja dado provimento ao mesmo, para que seja reformada a r. decisão do evento 30 de modo a que seja julgada procedente a Impugnação à Execução da União para que: \n",
      "a) seja reconhecida a ausência de condição da ação (liquidação do julgado coletivo), julgando extinto o processo de execução individual, sem resolução de mérito. \n",
      "b) seja julgada procedente a impugnação nos termos dos incs. III, IV e VI do art. 535 CPC 2015. \n",
      "c) Subsidiariamente, seja provida a impugnação à execução da União com base no art. 535 inc. IV do CPC (excesso de execução) \n",
      "d) Em todas as hipóteses, sendo invertida a condenação em honorários advocatícios. \n",
      "e) Com base no princípio da eventualidade, seja diminuído o percentual de honorários advocatício devidos pela União, por equidade; \n",
      "manifestando-se o v. acórdão a ser proferido acerca de toda a matéria legal e constitucional tratada na presente peça.\"\n",
      "Analisando os autos, concluo restarem presentes os requisitos peculiares para a concessão da liminar alvitrada, em especial a possibilidade de lesão grave e de difícil reparação, o que conduz ao deferimento da mesma.\n",
      "Isto posto, defiro, até ulterior delibação, efeito suspensivo, tão somente para retirar a eficácia da decisão objurgada.\n",
      "Intime-se a parte Agravada, nos termos do artigo 1.019, inciso II do CPC/2015.\n",
      "\n",
      "Documento eletrônico assinado por ALFREDO JARA MOURA, Juiz Federal Convocado, na forma do artigo 1º, inciso III, da Lei 11.419, de 19 de dezembro de 2006 e Resolução TRF 2ª Região nº 17, de 26 de março de 2018. A conferência da autenticidade do documento está disponível no endereço eletrônico https://eproc.trf2.jus.br, mediante o preenchimento do código verificador 20000034808v7 e do código CRC cf6c7acf.Informações adicionais da assinatura:Signatário (a): ALFREDO JARA MOURAData e Hora: 23/7/2019, às 16:47:8\n",
      "\n",
      " \n",
      "\n",
      " \n",
      "\n",
      "\n",
      "5005172-73.2019.4.02.0000\n",
      "\n",
      "\n",
      "20000034808\n",
      ".V7\n",
      "\n",
      "\n"
     ]
    }
   ],
   "source": [
    "example = dataset[\"text\"].iloc[0]\n",
    "print(len(example))\n",
    "print(example)"
   ]
  },
  {
   "cell_type": "code",
   "execution_count": 28,
   "metadata": {},
   "outputs": [
    {
     "name": "stdout",
     "output_type": "stream",
     "text": [
      "12793\n",
      "Documento Poder Judiciário TRIBUNAL REGIONAL FEDERAL ª REGIÃO Agravo Instrumento Nº RJ AGRAVANTE  UNIÃO  ADVOCACIA GERAL UNIÃOAGRAVADO  FLAVIA PANETTI SANTOSADVOGADO  ALESSANDRO MEDEIROS  OAB DF  AGRAVADO  FRANCELLINA ROSARIO BRAUNSADVOGADO  ALESSANDRO MEDEIROS  OAB DF  AGRAVADO  FLAVIO CANTONE CORREA SAADVOGADO  ALESSANDRO MEDEIROS  OAB DF  DESPACHODECISÃO Tratase Agravo Instrumento interposto UNIÃO  ADVOCACIA GERAL UNIÃO face FLAVIA PANETTI SANTOS  FLAVIO CANTONE CORREA SA FRANCELLINA ROSARIO BRAUNS  pedido liminar  objetivando cassar decisão proferida Juízo ª Vara Federal Rio Janeiro  Seção Judiciária Rio Janeiro  assim vertida   Tratase cumprimento sentença coletiva proferida processo nº   título executivo determinou aplicação retribuição Técnicos Tesouro Nacional  TTN teto oito vezes valor maior vencimento própria categoria  termos art  º  MP   norma posteriormente convertida Lei   conforme anexo  Evento   Desse modo  condenou União pagamento  título atrasados  diferença vantagem devida período janeiro  junho   consideradas base cálculo teto previstos MP   atual Lei    bem avaliação individual plural realizada Administração  atualizandose tal verba monetariamente UFIRIPACE acrescendose juros moratórios  taxa    cento  mês  partir citação  inversão ônus sucumbenciais  Posteriormente  Superior Tribunal Justiça deu provimento agravo regimental interposto autor legitimado coletivo  determinar efeitos decisão proferida autos ação coletiva abranja todos substituídos domiciliados território nacional   conforme fls    anexo  Evento    presente demanda proposta MARCO ANTONIO VIANNA  MARCELO LAMOSA BERGER MARILZA CARVALHO FARIA face União  Indicam devido valor R      Evento   juízo fixou honorários   valor exigido  acordo Súmula  STJ  Evento   Intimada moldes artigo   CPC  União impugnou execução  alega   ausência prévia liquidação título executivo  b  pagamento RAV valor equivalente   oito  vezes valor tabela Técnico Tesouro Nacional sido determinado coisa julgada metaindividual  pois  título executivo formado Ação Coletiva ora executada limitou afastar limite fixado Administração Resoluções CRAV  outro limite máximo aplicado  Medida Provisória    ficou bem claro  determinação pagar RAV utilizando base cálculo  vezes maior vencimento qualquer categoria – sendo absolutamente descabido  portanto  substituído promova execução pretendendo Sindicato deixou claro pediu  justamente porque poderia pedir   d  excesso execução  pois cálculos apresentados exequentes incluem período prescrito anterior   Subsidiariamente  aponta devida quantia R    maio   Manifestação impugnado Evento   Relatado necessário  decido    liquidação título executivo Quanto ausência prévia liquidação título executivo  entendo completamente prejudicada alegação  vez valores históricos utilizados exequentes cálculos idênticos àqueles constantes planilha União  controvérsia acerca base cálculo  período apuração  qualquer outro requisito implique alteração valores históricos  evidencia cálculos meramente aritméticos  Desse modo  demonstrada desnecessidade prévia liquidação presente caso  apenas atrasaria direito crédito exequentes  total confronto princípios celeridade eficiência    inexistência valores serem executados  acordo União  título executivo formado Ação Coletiva ora executada limitouse afastar limite fixado Administração Resoluções CRAV  outro limite máximo aplicado  Medida Provisória   Alega haveria determinação pagar RAV base cálculo  vezes maior vencimento qualquer categoria  Assim  conforme entendimento União  alteração tão somente teto  forma cálculo quantum devido  seguiu obedecendo critério estabelecido discricionariamente Administração  porque retribuição depende  força lei  ato administrativo discricionário observada avaliação individual plural servidores período – notícia autos  Conforme acórdão STJ anexado evento   out  fato pedido RAV sobre valor máximo  sim sobre direito percepção RAV termos MP   atual Lei   considerando base cálculo teto previstos referida MP  bem avaliação individual plural realizada Administração  título executivo detém provimento condenatório  termos art  ° MP   norma posteriormente convertida Lei   fixar pagamento  título atrasados  diferença vantagem devida  verificada período janeiro  junho   considerandose base cálculo teto previsto MP   atual Lei    ate  vezes valor maior vencimento própria categoria  bem avaliação individual plural realizada Administração  verba sobre deverão incidir juros correção monetária  Todavia    referida avaliação individual plural havia sido implantada  conforme declaração Coordenador Geral Gestão Pessoas Ministério Fazenda   tendo vista edição Resolução CRAV nº    junho   anexo Outros  Evento    definiu valores máximos serem percebidos integrantes carreira Tesouro Nacional   R    auditor  R    R    analista    conforme anexo Out Evento   Ademais  conforme resta comprovado autos  gratificações RAV pagas exequentes valor teto época  R    acordo fichas financeiras anexadas autos  Cálculos      anexos inicial   Portanto  ante inexistência avaliação individual  devida título retribuição TTN diferença gratificação recebida teto oito vezes valor maior vencimento própria categoria  termos art  º  MP   norma posteriormente convertida Lei   tendose conta gratificação paga base maior avaliação individual permitida    período prescrito fim  diz respeito alegação prescrição quanto cobrança valores concernentes períodos anteriores   vêse cálculos apresentados parte autora inclusão verbas referentes períodos anteriores   evento   calc  calc  calc   poderia ser  eis coisa julgada contempla tais valores  logo  rejeito arguição  Ante exposto  tendo vista planilhas apresentadas parte autora respeitaram parâmetros fixados título executivo  rejeito impugnação apresentada homologo cálculos exequente  Determino prosseguimento execução valor R      termos artigo   §º  I   CPC  condeno impugnante honorários advocatícios  fixo   proveito econômico obtido  R    Intimemse  Preclusa presente decisão  venhamme conclusos determinar expedição requisitórios   Agravante alega  suma  causa pedir      Tratase cumprimento individual sentença coletiva movida face UNIÃO exequente  ora impugnado  pretende executar diferenças título retribuição adicional variável – RAV  supostamente resultantes coisa julgada formada bojo ação coletiva nº      Afirma título executivo formado referida ação coletiva garantiu substituídos Sindicato autor diferenças título RAV  deveriam ser pagas sobre base cálculo correspondente oito vezes valor maior vencimento categoria Técnico Tesouro NacionalTTN período compreendido    União apresentou impugnação execução     Ocorre Parecer Necap evento  deixou claro  “ ‘  manifestação órgão sobre eventuais diferenças devidas partes TTN   ”  Portanto  NECAP utilizouse base cálculo apresentada autor apenas verificar valores excesso execução  tendo impugnado conta ausência elementos verificar quantum devido  Ademais  destaquese sentença exequenda  reformada TRF restabelecida STJ processo originário  clara determinar liquidação arbitramento  “ vez valor vantagem depende avaliação individual plural filiados período ”  Dessa forma  tendo parte adversa realizado tal liquidação  título exequendo ilíquido  portanto  inexigível  atraindo incidência inciso III art   Novo Código Processo Civil     Ademais  parte exequente junta autos elementos cálculo suficientes apurar eventual quantum debeatur  Conquanto redação  NCPC estabeleça “ exequente apresentará demonstrativo discriminado atualizado crédito “  certo poderá proceder cálculo valores atrasados cujas parcelas conhecidas  Tal resta expresso parecer NECAP  anexo  ‘  manifestação órgão sobre eventuais diferenças devidas partes TTN   ” Destaquese  mesmos informações Ofício   SRF DIGEP  anexo   supriram tal falta elementos  memória discriminada atualizada cálculo  exigida arts  art    NCPC  somente poderá ser elaborada tomandose base usualmente chama “ elementos cálculo ”  elementos nada valores históricos devidos autor valores efetivamente percebidos  tendo vista procedimento administrativo pagamentos  Tais elementos cálculos consubstanciamse planilha expedida órgão origem autor contenha valores devidos mês mês título atrasados  bem valores efetivamente pagos  planilha autor pode ter acesso qualquer momento  mediante formulação simples requerimento respectiva unidade pagadora  Salientese  desde  Procuradoria Regional União Rio Janeiro apenas representa judicialmente União  sendo detentora documentação comento  órgão detentor documentos referência órgão origem autor     mera juntada planilha desprovida elementos cálculo atende  destarte  disposto artigos   NCPC  Portanto  constatase  proferida sentença ilíquida quanto pagamento atrasados  vieram autos planilhas contendo diferenças devidas mês mês  documentação acostada autos presente data permite calcular valor efetivamente devido  Destarte  apuração valores devidos cada substituídos ser objeto processo conhecimento liquidação sentença coletiva  Requer  então  União reformada r decisão agravada  sendo reconhecida ausência condição ação  liquidação julgado coletivo   julgando extinto processo execução individual  resolução mérito  aplicandose ainda disposto art   inc III CPC     outras palavras  título executivo formado Ação Coletiva ora executada limitou afastar limite fixado Administração Resoluções CRAV  outro limite máximo aplicado  Medida Provisória    ficou bem claro  determinação pagar RAV utilizando base cálculo  vezes maior vencimento qualquer categoria – sendo absolutamente descabido  portanto  substituído promova execução pretendendo Sindicato deixou claro pediu  justamente porque poderia pedir     vez  título exequendo determinou pagamento RAV limite máximo   quantia equivalente   oito  vezes vencimentobásico TTN ’ s  apenas estabeleceu valor sendo teto máximo  Portanto  alteração tão somente teto  forma cálculo quantum devido  seguiu obedecendo critério estabelecido discricionariamente Administração – sendo pretensão executória contraria frontalmente posição Sindicato autor Ação Coletiva  custa lembrar sentença  Juízo primeiro grau  determinou execução artigos  “ vez valor vantagem depende avaliação individual plural filiados período ”  ressalta coisa julgada presente feito garantiu exequente pagamento “ cheio ” RAV  oito vezes vencimento básico carreira   Patente inexigibilidade título ausência julgado forma pretende executar  devendo ser provido presente agravo instrumento julgada procedente impugnação execução  termos art   incs  III     parecer técnico   deixou  “ Ultrapassada questão  informamos caso  remota hipótese  devida diferença x maior vencimentobásico categoria valor recebido mês mês  cálculo restaria excessivo incluir período prescrito anterior  ” Portanto  devem ser excluídos cálculo valores prescritos  modo ser preservada coisa julgada  art     CPC   Ademais  documentação apresentada órgão público documento oficial gerado Administração Pública  tal  goza presunção legitimidade veracidade  art   Lei  art  IV CPC  art   inc IV CPC    sendo ainda documento emitido órgão público meio prova idônea  conforme consta  CPC  art   CPC   Requer provimento presente Agravo Instrumento julgada procedente presente impugnação termos art   incs  IV VI CPC     Pedido  todo exposto  requer Agravante  inicialmente  concedido efeito suspensivo presente Agravo Instrumento  bem dado provimento  reformada r decisão evento  modo julgada procedente Impugnação Execução União   reconhecida ausência condição ação  liquidação julgado coletivo   julgando extinto processo execução individual  resolução mérito  b  julgada procedente impugnação termos incs  III  IV VI art   CPC  c  Subsidiariamente  provida impugnação execução União base art   inc IV CPC  excesso execução  d  todas hipóteses  sendo invertida condenação honorários advocatícios   base princípio eventualidade  diminuído percentual honorários advocatício devidos União  equidade  manifestandose v acórdão ser proferido acerca toda matéria legal constitucional tratada presente peça   Analisando autos  concluo restarem presentes requisitos peculiares concessão liminar alvitrada  especial possibilidade lesão grave difícil reparação  conduz deferimento mesma  posto  defiro  ulterior delibação  efeito suspensivo  tão somente retirar eficácia decisão objurgada  Intimese parte Agravada  termos artigo   inciso II CPC  Documento eletrônico assinado ALFREDO JARA MOURA  Juiz Federal Convocado  forma artigo º  inciso III  Lei    dezembro  Resolução TRF ª Região nº    março   conferência autenticidade documento disponível endereço eletrônico https  eproctrfjusbr  mediante preenchimento código verificador v código CRC cfcacfInformações adicionais assinatura  Signatário    ALFREDO JARA MOURAData Hora       V\n"
     ]
    }
   ],
   "source": [
    "from nltk.corpus import stopwords\n",
    "from nltk.tokenize import word_tokenize\n",
    "import string\n",
    "stop_words = set(stopwords.words('portuguese'))\n",
    "\n",
    "def clean_text(text):\n",
    "    text = text.replace(\"\\n\", \" \")\n",
    "    word_tokens = word_tokenize(text)\n",
    "    filtered_sentence = [w for w in word_tokens if not w.lower() in stop_words]\n",
    "    text = \" \".join(filtered_sentence)\n",
    "    text = ''.join([i for i in text if not i.isdigit()])\n",
    "    text = text.translate(str.maketrans('', '', string.punctuation))\n",
    "\n",
    "    return text\n",
    "    \n",
    "print(len(clean_text(example)))\n",
    "print(clean_text(example))"
   ]
  },
  {
   "cell_type": "markdown",
   "metadata": {},
   "source": [
    "## Treinamento e teste"
   ]
  },
  {
   "cell_type": "code",
   "execution_count": 29,
   "metadata": {},
   "outputs": [
    {
     "name": "stdout",
     "output_type": "stream",
     "text": [
      "Wed Jan 26 18:05:33 2022       \r\n",
      "+-----------------------------------------------------------------------------+\r\n",
      "| NVIDIA-SMI 418.87.00    Driver Version: 418.87.00    CUDA Version: 10.1     |\r\n",
      "|-------------------------------+----------------------+----------------------+\r\n",
      "| GPU  Name        Persistence-M| Bus-Id        Disp.A | Volatile Uncorr. ECC |\r\n",
      "| Fan  Temp  Perf  Pwr:Usage/Cap|         Memory-Usage | GPU-Util  Compute M. |\r\n",
      "|===============================+======================+======================|\r\n",
      "|   0  Tesla V100-PCIE...  Off  | 00000000:00:05.0 Off |                    0 |\r\n",
      "| N/A   30C    P0    36W / 250W |   1320MiB / 16130MiB |      0%      Default |\r\n",
      "+-------------------------------+----------------------+----------------------+\r\n",
      "                                                                               \r\n",
      "+-----------------------------------------------------------------------------+\r\n",
      "| Processes:                                                       GPU Memory |\r\n",
      "|  GPU       PID   Type   Process name                             Usage      |\r\n",
      "|=============================================================================|\r\n",
      "|    0     21700      C   ...orkspace/ufmg.f01dcc/py37/bin/python3.7  1309MiB |\r\n",
      "+-----------------------------------------------------------------------------+\r\n"
     ]
    }
   ],
   "source": [
    "!nvidia-smi"
   ]
  },
  {
   "cell_type": "markdown",
   "metadata": {},
   "source": [
    "### Text Classification"
   ]
  },
  {
   "cell_type": "code",
   "execution_count": 33,
   "metadata": {
    "scrolled": true
   },
   "outputs": [
    {
     "name": "stderr",
     "output_type": "stream",
     "text": [
      "Some weights of the model checkpoint at neuralmind/bert-base-portuguese-cased were not used when initializing BertForSequenceClassification: ['cls.predictions.bias', 'cls.predictions.transform.dense.weight', 'cls.predictions.transform.dense.bias', 'cls.predictions.transform.LayerNorm.weight', 'cls.predictions.transform.LayerNorm.bias', 'cls.predictions.decoder.weight', 'cls.seq_relationship.weight', 'cls.seq_relationship.bias']\n",
      "- This IS expected if you are initializing BertForSequenceClassification from the checkpoint of a model trained on another task or with another architecture (e.g. initializing a BertForSequenceClassification model from a BertForPreTraining model).\n",
      "- This IS NOT expected if you are initializing BertForSequenceClassification from the checkpoint of a model that you expect to be exactly identical (initializing a BertForSequenceClassification model from a BertForSequenceClassification model).\n",
      "Some weights of BertForSequenceClassification were not initialized from the model checkpoint at neuralmind/bert-base-portuguese-cased and are newly initialized: ['classifier.weight', 'classifier.bias']\n",
      "You should probably TRAIN this model on a down-stream task to be able to use it for predictions and inference.\n",
      "100%|███████████████████████████████████████████████| 216/216 [00:00<00:00, 9809.43it/s]\n",
      "100%|███████████████████████████████████████████████████| 60/60 [00:21<00:00,  2.82it/s]\n"
     ]
    },
    {
     "data": {
      "application/vnd.jupyter.widget-view+json": {
       "model_id": "4b58486987dd4081b4f3c302c206e476",
       "version_major": 2,
       "version_minor": 0
      },
      "text/plain": [
       "HBox(children=(HTML(value='Epoch'), FloatProgress(value=0.0, max=3.0), HTML(value='')))"
      ]
     },
     "metadata": {},
     "output_type": "display_data"
    },
    {
     "data": {
      "application/vnd.jupyter.widget-view+json": {
       "model_id": "42912d43cee4470087440be6508b9d3c",
       "version_major": 2,
       "version_minor": 0
      },
      "text/plain": [
       "HBox(children=(HTML(value='Iteration'), FloatProgress(value=0.0, max=27.0), HTML(value='')))"
      ]
     },
     "metadata": {},
     "output_type": "display_data"
    },
    {
     "name": "stdout",
     "output_type": "stream",
     "text": [
      "\n"
     ]
    },
    {
     "data": {
      "application/vnd.jupyter.widget-view+json": {
       "model_id": "50f251d080794bfe8169e0091b8f8d82",
       "version_major": 2,
       "version_minor": 0
      },
      "text/plain": [
       "HBox(children=(HTML(value='Iteration'), FloatProgress(value=0.0, max=27.0), HTML(value='')))"
      ]
     },
     "metadata": {},
     "output_type": "display_data"
    },
    {
     "name": "stdout",
     "output_type": "stream",
     "text": [
      "\n"
     ]
    },
    {
     "data": {
      "application/vnd.jupyter.widget-view+json": {
       "model_id": "8757d592378f406cacd0f3b159797092",
       "version_major": 2,
       "version_minor": 0
      },
      "text/plain": [
       "HBox(children=(HTML(value='Iteration'), FloatProgress(value=0.0, max=27.0), HTML(value='')))"
      ]
     },
     "metadata": {},
     "output_type": "display_data"
    },
    {
     "name": "stderr",
     "output_type": "stream",
     "text": [
      "  5%|██▌                                                 | 3/60 [00:00<00:02, 25.86it/s]"
     ]
    },
    {
     "name": "stdout",
     "output_type": "stream",
     "text": [
      "\n",
      "\n"
     ]
    },
    {
     "name": "stderr",
     "output_type": "stream",
     "text": [
      "100%|███████████████████████████████████████████████████| 60/60 [00:02<00:00, 25.33it/s]\n",
      "Some weights of the model checkpoint at neuralmind/bert-base-portuguese-cased were not used when initializing BertForSequenceClassification: ['cls.predictions.bias', 'cls.predictions.transform.dense.weight', 'cls.predictions.transform.dense.bias', 'cls.predictions.transform.LayerNorm.weight', 'cls.predictions.transform.LayerNorm.bias', 'cls.predictions.decoder.weight', 'cls.seq_relationship.weight', 'cls.seq_relationship.bias']\n",
      "- This IS expected if you are initializing BertForSequenceClassification from the checkpoint of a model trained on another task or with another architecture (e.g. initializing a BertForSequenceClassification model from a BertForPreTraining model).\n",
      "- This IS NOT expected if you are initializing BertForSequenceClassification from the checkpoint of a model that you expect to be exactly identical (initializing a BertForSequenceClassification model from a BertForSequenceClassification model).\n",
      "Some weights of BertForSequenceClassification were not initialized from the model checkpoint at neuralmind/bert-base-portuguese-cased and are newly initialized: ['classifier.weight', 'classifier.bias']\n",
      "You should probably TRAIN this model on a down-stream task to be able to use it for predictions and inference.\n",
      "100%|██████████████████████████████████████████████| 216/216 [00:00<00:00, 10189.85it/s]\n",
      "100%|███████████████████████████████████████████████████| 60/60 [00:02<00:00, 27.32it/s]\n"
     ]
    },
    {
     "data": {
      "application/vnd.jupyter.widget-view+json": {
       "model_id": "b1df17df2f434a6a8f05ebc798a05592",
       "version_major": 2,
       "version_minor": 0
      },
      "text/plain": [
       "HBox(children=(HTML(value='Epoch'), FloatProgress(value=0.0, max=3.0), HTML(value='')))"
      ]
     },
     "metadata": {},
     "output_type": "display_data"
    },
    {
     "data": {
      "application/vnd.jupyter.widget-view+json": {
       "model_id": "df988ec2cf6c4b71aa2504f13c137973",
       "version_major": 2,
       "version_minor": 0
      },
      "text/plain": [
       "HBox(children=(HTML(value='Iteration'), FloatProgress(value=0.0, max=54.0), HTML(value='')))"
      ]
     },
     "metadata": {},
     "output_type": "display_data"
    },
    {
     "name": "stdout",
     "output_type": "stream",
     "text": [
      "\n"
     ]
    },
    {
     "data": {
      "application/vnd.jupyter.widget-view+json": {
       "model_id": "456eb0a7a7d34a629dd83697762b6188",
       "version_major": 2,
       "version_minor": 0
      },
      "text/plain": [
       "HBox(children=(HTML(value='Iteration'), FloatProgress(value=0.0, max=54.0), HTML(value='')))"
      ]
     },
     "metadata": {},
     "output_type": "display_data"
    },
    {
     "name": "stdout",
     "output_type": "stream",
     "text": [
      "\n"
     ]
    },
    {
     "data": {
      "application/vnd.jupyter.widget-view+json": {
       "model_id": "76ea7cf5d2984aedb13623fd61aec277",
       "version_major": 2,
       "version_minor": 0
      },
      "text/plain": [
       "HBox(children=(HTML(value='Iteration'), FloatProgress(value=0.0, max=54.0), HTML(value='')))"
      ]
     },
     "metadata": {},
     "output_type": "display_data"
    },
    {
     "name": "stderr",
     "output_type": "stream",
     "text": [
      "  5%|██▌                                                 | 3/60 [00:00<00:02, 28.40it/s]"
     ]
    },
    {
     "name": "stdout",
     "output_type": "stream",
     "text": [
      "\n",
      "\n"
     ]
    },
    {
     "name": "stderr",
     "output_type": "stream",
     "text": [
      "100%|███████████████████████████████████████████████████| 60/60 [00:02<00:00, 23.01it/s]\n",
      "Some weights of the model checkpoint at neuralmind/bert-base-portuguese-cased were not used when initializing BertForSequenceClassification: ['cls.predictions.bias', 'cls.predictions.transform.dense.weight', 'cls.predictions.transform.dense.bias', 'cls.predictions.transform.LayerNorm.weight', 'cls.predictions.transform.LayerNorm.bias', 'cls.predictions.decoder.weight', 'cls.seq_relationship.weight', 'cls.seq_relationship.bias']\n",
      "- This IS expected if you are initializing BertForSequenceClassification from the checkpoint of a model trained on another task or with another architecture (e.g. initializing a BertForSequenceClassification model from a BertForPreTraining model).\n",
      "- This IS NOT expected if you are initializing BertForSequenceClassification from the checkpoint of a model that you expect to be exactly identical (initializing a BertForSequenceClassification model from a BertForSequenceClassification model).\n",
      "Some weights of BertForSequenceClassification were not initialized from the model checkpoint at neuralmind/bert-base-portuguese-cased and are newly initialized: ['classifier.weight', 'classifier.bias']\n",
      "You should probably TRAIN this model on a down-stream task to be able to use it for predictions and inference.\n",
      "100%|██████████████████████████████████████████████| 216/216 [00:00<00:00, 10100.00it/s]\n",
      "100%|███████████████████████████████████████████████████| 60/60 [00:02<00:00, 26.32it/s]\n"
     ]
    },
    {
     "data": {
      "application/vnd.jupyter.widget-view+json": {
       "model_id": "152b7356ff2942ffb49cc93029bed2ca",
       "version_major": 2,
       "version_minor": 0
      },
      "text/plain": [
       "HBox(children=(HTML(value='Epoch'), FloatProgress(value=0.0, max=3.0), HTML(value='')))"
      ]
     },
     "metadata": {},
     "output_type": "display_data"
    },
    {
     "data": {
      "application/vnd.jupyter.widget-view+json": {
       "model_id": "cbc7ed46e075439990863fd6e2c37486",
       "version_major": 2,
       "version_minor": 0
      },
      "text/plain": [
       "HBox(children=(HTML(value='Iteration'), FloatProgress(value=0.0, max=81.0), HTML(value='')))"
      ]
     },
     "metadata": {},
     "output_type": "display_data"
    },
    {
     "name": "stdout",
     "output_type": "stream",
     "text": [
      "\n"
     ]
    },
    {
     "data": {
      "application/vnd.jupyter.widget-view+json": {
       "model_id": "343691af37d64675ac6bcd81c537167d",
       "version_major": 2,
       "version_minor": 0
      },
      "text/plain": [
       "HBox(children=(HTML(value='Iteration'), FloatProgress(value=0.0, max=81.0), HTML(value='')))"
      ]
     },
     "metadata": {},
     "output_type": "display_data"
    },
    {
     "name": "stdout",
     "output_type": "stream",
     "text": [
      "\n"
     ]
    },
    {
     "data": {
      "application/vnd.jupyter.widget-view+json": {
       "model_id": "4fe74110fcd8432aacac3b08e663a9f4",
       "version_major": 2,
       "version_minor": 0
      },
      "text/plain": [
       "HBox(children=(HTML(value='Iteration'), FloatProgress(value=0.0, max=81.0), HTML(value='')))"
      ]
     },
     "metadata": {},
     "output_type": "display_data"
    },
    {
     "name": "stderr",
     "output_type": "stream",
     "text": [
      "  7%|███▍                                                | 4/60 [00:00<00:01, 30.32it/s]"
     ]
    },
    {
     "name": "stdout",
     "output_type": "stream",
     "text": [
      "\n",
      "\n"
     ]
    },
    {
     "name": "stderr",
     "output_type": "stream",
     "text": [
      "100%|███████████████████████████████████████████████████| 60/60 [00:01<00:00, 31.23it/s]\n",
      "Some weights of the model checkpoint at neuralmind/bert-base-portuguese-cased were not used when initializing BertForSequenceClassification: ['cls.predictions.bias', 'cls.predictions.transform.dense.weight', 'cls.predictions.transform.dense.bias', 'cls.predictions.transform.LayerNorm.weight', 'cls.predictions.transform.LayerNorm.bias', 'cls.predictions.decoder.weight', 'cls.seq_relationship.weight', 'cls.seq_relationship.bias']\n",
      "- This IS expected if you are initializing BertForSequenceClassification from the checkpoint of a model trained on another task or with another architecture (e.g. initializing a BertForSequenceClassification model from a BertForPreTraining model).\n",
      "- This IS NOT expected if you are initializing BertForSequenceClassification from the checkpoint of a model that you expect to be exactly identical (initializing a BertForSequenceClassification model from a BertForSequenceClassification model).\n",
      "Some weights of BertForSequenceClassification were not initialized from the model checkpoint at neuralmind/bert-base-portuguese-cased and are newly initialized: ['classifier.weight', 'classifier.bias']\n",
      "You should probably TRAIN this model on a down-stream task to be able to use it for predictions and inference.\n",
      "100%|██████████████████████████████████████████████| 216/216 [00:00<00:00, 11349.02it/s]\n",
      "100%|███████████████████████████████████████████████████| 60/60 [00:02<00:00, 24.93it/s]\n"
     ]
    },
    {
     "data": {
      "application/vnd.jupyter.widget-view+json": {
       "model_id": "0878c83a8e084967b9d480d1d5c84e03",
       "version_major": 2,
       "version_minor": 0
      },
      "text/plain": [
       "HBox(children=(HTML(value='Epoch'), FloatProgress(value=0.0, max=3.0), HTML(value='')))"
      ]
     },
     "metadata": {},
     "output_type": "display_data"
    },
    {
     "data": {
      "application/vnd.jupyter.widget-view+json": {
       "model_id": "fc2d10c21c304037b48aa5dd6eac96c2",
       "version_major": 2,
       "version_minor": 0
      },
      "text/plain": [
       "HBox(children=(HTML(value='Iteration'), FloatProgress(value=0.0, max=108.0), HTML(value='')))"
      ]
     },
     "metadata": {},
     "output_type": "display_data"
    },
    {
     "name": "stdout",
     "output_type": "stream",
     "text": [
      "\n"
     ]
    },
    {
     "data": {
      "application/vnd.jupyter.widget-view+json": {
       "model_id": "a28da3b139654f4391eba45ba059a4e3",
       "version_major": 2,
       "version_minor": 0
      },
      "text/plain": [
       "HBox(children=(HTML(value='Iteration'), FloatProgress(value=0.0, max=108.0), HTML(value='')))"
      ]
     },
     "metadata": {},
     "output_type": "display_data"
    },
    {
     "name": "stdout",
     "output_type": "stream",
     "text": [
      "\n"
     ]
    },
    {
     "data": {
      "application/vnd.jupyter.widget-view+json": {
       "model_id": "0c8ae982c5f440c493fd631d67246f9f",
       "version_major": 2,
       "version_minor": 0
      },
      "text/plain": [
       "HBox(children=(HTML(value='Iteration'), FloatProgress(value=0.0, max=108.0), HTML(value='')))"
      ]
     },
     "metadata": {},
     "output_type": "display_data"
    },
    {
     "name": "stderr",
     "output_type": "stream",
     "text": [
      "  7%|███▍                                                | 4/60 [00:00<00:01, 31.93it/s]"
     ]
    },
    {
     "name": "stdout",
     "output_type": "stream",
     "text": [
      "\n",
      "\n"
     ]
    },
    {
     "name": "stderr",
     "output_type": "stream",
     "text": [
      "100%|███████████████████████████████████████████████████| 60/60 [00:02<00:00, 23.97it/s]\n",
      "Some weights of the model checkpoint at neuralmind/bert-base-portuguese-cased were not used when initializing BertForSequenceClassification: ['cls.predictions.bias', 'cls.predictions.transform.dense.weight', 'cls.predictions.transform.dense.bias', 'cls.predictions.transform.LayerNorm.weight', 'cls.predictions.transform.LayerNorm.bias', 'cls.predictions.decoder.weight', 'cls.seq_relationship.weight', 'cls.seq_relationship.bias']\n",
      "- This IS expected if you are initializing BertForSequenceClassification from the checkpoint of a model trained on another task or with another architecture (e.g. initializing a BertForSequenceClassification model from a BertForPreTraining model).\n",
      "- This IS NOT expected if you are initializing BertForSequenceClassification from the checkpoint of a model that you expect to be exactly identical (initializing a BertForSequenceClassification model from a BertForSequenceClassification model).\n",
      "Some weights of BertForSequenceClassification were not initialized from the model checkpoint at neuralmind/bert-base-portuguese-cased and are newly initialized: ['classifier.weight', 'classifier.bias']\n",
      "You should probably TRAIN this model on a down-stream task to be able to use it for predictions and inference.\n",
      "100%|██████████████████████████████████████████████| 216/216 [00:00<00:00, 10397.43it/s]\n",
      "100%|███████████████████████████████████████████████████| 60/60 [00:02<00:00, 28.43it/s]\n"
     ]
    },
    {
     "data": {
      "application/vnd.jupyter.widget-view+json": {
       "model_id": "1fc6bf31f0b14256a340539e036776cb",
       "version_major": 2,
       "version_minor": 0
      },
      "text/plain": [
       "HBox(children=(HTML(value='Epoch'), FloatProgress(value=0.0, max=3.0), HTML(value='')))"
      ]
     },
     "metadata": {},
     "output_type": "display_data"
    },
    {
     "data": {
      "application/vnd.jupyter.widget-view+json": {
       "model_id": "c55aef39ec94402f94f253ab426a57e6",
       "version_major": 2,
       "version_minor": 0
      },
      "text/plain": [
       "HBox(children=(HTML(value='Iteration'), FloatProgress(value=0.0, max=135.0), HTML(value='')))"
      ]
     },
     "metadata": {},
     "output_type": "display_data"
    },
    {
     "name": "stdout",
     "output_type": "stream",
     "text": [
      "\n"
     ]
    },
    {
     "data": {
      "application/vnd.jupyter.widget-view+json": {
       "model_id": "6c23e6809abd49b79d687db868769c9b",
       "version_major": 2,
       "version_minor": 0
      },
      "text/plain": [
       "HBox(children=(HTML(value='Iteration'), FloatProgress(value=0.0, max=135.0), HTML(value='')))"
      ]
     },
     "metadata": {},
     "output_type": "display_data"
    },
    {
     "name": "stdout",
     "output_type": "stream",
     "text": [
      "\n"
     ]
    },
    {
     "data": {
      "application/vnd.jupyter.widget-view+json": {
       "model_id": "165a064a40564715aa39d1a9d588adec",
       "version_major": 2,
       "version_minor": 0
      },
      "text/plain": [
       "HBox(children=(HTML(value='Iteration'), FloatProgress(value=0.0, max=135.0), HTML(value='')))"
      ]
     },
     "metadata": {},
     "output_type": "display_data"
    },
    {
     "name": "stderr",
     "output_type": "stream",
     "text": [
      "  8%|████▎                                               | 5/60 [00:00<00:01, 40.15it/s]"
     ]
    },
    {
     "name": "stdout",
     "output_type": "stream",
     "text": [
      "\n",
      "\n"
     ]
    },
    {
     "name": "stderr",
     "output_type": "stream",
     "text": [
      "100%|███████████████████████████████████████████████████| 60/60 [00:02<00:00, 27.99it/s]\n"
     ]
    }
   ],
   "source": [
    "from sklearn.model_selection import KFold\n",
    "from sentence_transformers import SentenceTransformer, util, losses, CrossEncoder, util, losses, InputExample\n",
    "from tqdm import tqdm\n",
    "from sklearn.metrics import accuracy_score\n",
    "from torch.utils.data import DataLoader\n",
    "\n",
    "kf = KFold(n_splits=5)\n",
    "kf.get_n_splits(dataset)\n",
    "predictions = []\n",
    "ground_truth = []\n",
    "before_predictions = []\n",
    "before_ground_truth = []\n",
    "examples = []\n",
    "for train_index, test_index in kf.split(dataset):\n",
    "    training = dataset.iloc[train_index][:int(len(train_index)*0.9)]\n",
    "    validation = dataset.iloc[train_index][int(len(train_index)*0.9):]\n",
    "    testing = dataset.iloc[test_index]\n",
    "    sbert_model = []\n",
    "    sbert_model = CrossEncoder('neuralmind/bert-base-portuguese-cased', max_length=200)\n",
    "    for idx, row in tqdm(training.iterrows(), total=len(training)):\n",
    "        examples.append(InputExample(texts=[row[\"query\"], row[\"text\"]], label=int(row[\"final_label\"])))\n",
    "    dataloader = DataLoader(examples, shuffle=True, batch_size=8)\n",
    "\n",
    "\n",
    "    for idx, row in tqdm(testing.iterrows(), total=len(testing)):\n",
    "        output = sbert_model.predict([row[\"query\"], clean_text(row[\"text\"])])\n",
    "        before_predictions.append(output)\n",
    "        before_ground_truth.append(row[\"final_label\"])\n",
    "        before_predictions = [1 if output > 0.5 else 0 for output in before_predictions]\n",
    "\n",
    "    \n",
    "    sbert_model.fit(train_dataloader=dataloader, epochs=3, warmup_steps=100)\n",
    "    \n",
    "    \n",
    "\n",
    "    for idx, row in tqdm(testing.iterrows(), total=len(testing)):\n",
    "        output = sbert_model.predict([row[\"query\"], clean_text(row[\"text\"])])\n",
    "        predictions.append(output)\n",
    "        ground_truth.append(row[\"final_label\"])\n",
    "        predictions = [1 if output > 0.5 else 0 for output in predictions]"
   ]
  },
  {
   "cell_type": "code",
   "execution_count": 34,
   "metadata": {},
   "outputs": [
    {
     "name": "stdout",
     "output_type": "stream",
     "text": [
      "Accuracy before training:  0.4533333333333333\n",
      "Accuracy after training:  0.78\n"
     ]
    }
   ],
   "source": [
    "print(\"Accuracy before training: \", accuracy_score(before_ground_truth,before_predictions))\n",
    "print(\"Accuracy after training: \", accuracy_score(ground_truth,predictions))"
   ]
  },
  {
   "cell_type": "markdown",
   "metadata": {},
   "source": [
    "### Ranking"
   ]
  },
  {
   "cell_type": "code",
   "execution_count": 217,
   "metadata": {},
   "outputs": [],
   "source": [
    "from tqdm import tqdm\n",
    "from scipy import spatial\n",
    "def report_result(ranking_cut, ndcg, recall, mrr, precision):\n",
    "    print(f\"% NDCG@{ranking_cut}: \",  np.mean(ndcg))\n",
    "    print(f\"% Recall@{ranking_cut}: \",  np.mean(recall))\n",
    "    print(f\"% P@{ranking_cut}: \",  np.mean(precision))\n",
    "    print(f\"% MRR: \",  np.mean(mrr))\n",
    "    print(f\"% MRR@{ranking_cut}: \",  np.mean([i if i >= (1 / ranking_cut) else 0 for i in mrr]))\n",
    "    print(f\"# Sucess@{ranking_cut}: \", sum(bool(x) for x in recall))\n",
    "    \n",
    "def select_choosen_metrics(metrics_result, ranking_cut, queries_ids):\n",
    "    ndcg = []\n",
    "    for key in queries_ids:\n",
    "        ndcg.append(metrics_result[key][f\"ndcg_cut_{ranking_cut}\"])\n",
    "\n",
    "\n",
    "    recall = []\n",
    "    for key in queries_ids:\n",
    "        recall.append(metrics_result[key][f\"recall_{ranking_cut}\"])\n",
    "\n",
    "    mrr = []\n",
    "    for key in queries_ids:\n",
    "        mrr.append(metrics_result[key][\"recip_rank\"])\n",
    "\n",
    "    precision = []\n",
    "    for key in queries_ids:\n",
    "        precision.append(metrics_result[key][f\"P_{ranking_cut}\"])\n",
    "\n",
    "    return ndcg, recall, mrr, precision\n",
    "\n",
    "def statistic_relevance(first_results, second_results):\n",
    "    import scipy\n",
    "\n",
    "    query_ids = list(set(first_results.keys()) & set(second_results.keys()))\n",
    "\n",
    "    first_scores = [\n",
    "        first_results[query_id][f\"ndcg_cut_{ranking_cut}\"] for query_id in query_ids]\n",
    "    second_scores = [\n",
    "        second_results[query_id][f\"ndcg_cut_{ranking_cut}\"] for query_id in query_ids]\n",
    "\n",
    "    print(\"\\nStatistic Relevance for NDCG\")\n",
    "    print(scipy.stats.ttest_rel(first_scores, second_scores))\n",
    "\n",
    "    first_scores = [\n",
    "        first_results[query_id][f\"recip_rank\"] for query_id in query_ids]\n",
    "    second_scores = [\n",
    "        second_results[query_id][f\"recip_rank\"] for query_id in query_ids]\n",
    "\n",
    "    first_scores = [i if i >= 0.1 else 0 for i in first_scores]\n",
    "    second_scores = [i if i >= 0.1 else 0 for i in second_scores]\n",
    "\n",
    "    print(\"\\nStatistic Relevance for MRR\")\n",
    "    print(scipy.stats.ttest_rel(first_scores, second_scores))"
   ]
  },
  {
   "cell_type": "code",
   "execution_count": 218,
   "metadata": {},
   "outputs": [],
   "source": [
    "import pytrec_eval\n",
    "#load qrels\n",
    "\n",
    "qrel = {}\n",
    "for idx, row in dataset.iterrows():\n",
    "    if not row[\"query_id\"] in qrel:\n",
    "        qrel[row[\"query_id\"]] = {}\n",
    "    qrel[row[\"query_id\"]][row[\"_id\"]] = row[\"final_label\"]\n",
    "    \n",
    "evaluator = pytrec_eval.RelevanceEvaluator(qrel, {\"recip_rank\", 'ndcg_cut', \"recall\", \"P\"})"
   ]
  },
  {
   "cell_type": "markdown",
   "metadata": {},
   "source": [
    "#### Random Scores Evaluation"
   ]
  },
  {
   "cell_type": "code",
   "execution_count": 219,
   "metadata": {},
   "outputs": [
    {
     "name": "stdout",
     "output_type": "stream",
     "text": [
      "% NDCG@10:  0.49540123345189196\n",
      "% Recall@10:  0.64\n",
      "% P@10:  0.22799999999999998\n",
      "% MRR:  0.433\n",
      "% MRR@10:  0.433\n",
      "# Sucess@10:  32\n"
     ]
    }
   ],
   "source": [
    "from random import random\n",
    "ranking = {}\n",
    "for idx, row in dataset.iterrows():\n",
    "    if not row[\"query_id\"] in ranking:\n",
    "        ranking[row[\"query_id\"]] = {}\n",
    "    ranking[row[\"query_id\"]][row[\"_id\"]] = random()\n",
    "    \n",
    "ranking_metrics = evaluator.evaluate(ranking)\n",
    "queries_ids = list(ranking_metrics.keys())\n",
    "ranking_cut = 10\n",
    "ndcg_model, recall_model, mrr_model, p_model = select_choosen_metrics(ranking_metrics, ranking_cut, queries_ids)\n",
    "report_result(ranking_cut, ndcg_model, recall_model, mrr_model, p_model)"
   ]
  },
  {
   "cell_type": "markdown",
   "metadata": {},
   "source": [
    "#### Same Scores Evaluation"
   ]
  },
  {
   "cell_type": "code",
   "execution_count": 236,
   "metadata": {},
   "outputs": [
    {
     "name": "stdout",
     "output_type": "stream",
     "text": [
      "% NDCG@10:  0.5073727224472089\n",
      "% Recall@10:  0.64\n",
      "% P@10:  0.22799999999999998\n",
      "% MRR:  0.46166666666666667\n",
      "% MRR@10:  0.46166666666666667\n",
      "# Sucess@10:  32\n"
     ]
    }
   ],
   "source": [
    "from random import random\n",
    "ranking = {}\n",
    "for idx, row in dataset.iterrows():\n",
    "    if not row[\"query_id\"] in ranking:\n",
    "        ranking[row[\"query_id\"]] = {}\n",
    "    ranking[row[\"query_id\"]][row[\"_id\"]] = 1\n",
    "    \n",
    "ranking_metrics = evaluator.evaluate(ranking)\n",
    "queries_ids = list(ranking_metrics.keys())\n",
    "ranking_cut = 10\n",
    "ndcg_model, recall_model, mrr_model, p_model = select_choosen_metrics(ranking_metrics, ranking_cut, queries_ids)\n",
    "report_result(ranking_cut, ndcg_model, recall_model, mrr_model, p_model)"
   ]
  },
  {
   "cell_type": "markdown",
   "metadata": {},
   "source": [
    "#### Load Model"
   ]
  },
  {
   "cell_type": "code",
   "execution_count": 237,
   "metadata": {},
   "outputs": [],
   "source": [
    "from sentence_transformers import SentenceTransformer, LoggingHandler, util, models, evaluation, losses, InputExample\n",
    "from torch import nn\n",
    "from torch.utils.data import DataLoader\n",
    "\n",
    "word_embedding_model = models.Transformer('neuralmind/bert-base-portuguese-cased', max_seq_length=150)\n",
    "pooling_model = models.Pooling(word_embedding_model.get_word_embedding_dimension())\n",
    "\n",
    "model = SentenceTransformer(modules=[word_embedding_model, pooling_model])"
   ]
  },
  {
   "cell_type": "markdown",
   "metadata": {},
   "source": [
    "#### Zero Shot Evaluation"
   ]
  },
  {
   "cell_type": "code",
   "execution_count": 238,
   "metadata": {},
   "outputs": [
    {
     "name": "stdout",
     "output_type": "stream",
     "text": [
      "% NDCG@10:  0.526885862857257\n",
      "% Recall@10:  0.64\n",
      "% P@10:  0.22799999999999998\n",
      "% MRR:  0.4946666666666666\n",
      "% MRR@10:  0.4946666666666666\n",
      "# Sucess@10:  32\n"
     ]
    }
   ],
   "source": [
    "ranking = {}\n",
    "for idx, row in dataset.iterrows():\n",
    "    if not row[\"query_id\"] in ranking:\n",
    "        ranking[row[\"query_id\"]] = {}\n",
    "    output = model.encode([row[\"query\"], clean_text(row[\"text\"])])\n",
    "    sim = spatial.distance.cosine(output[0], output[1])\n",
    "    ranking[row[\"query_id\"]][row[\"_id\"]] = sim\n",
    "    \n",
    "zero_shot_metrics = evaluator.evaluate(ranking)\n",
    "queries_ids = list(zero_shot_metrics.keys())\n",
    "ranking_cut = 10\n",
    "ndcg_model, recall_model, mrr_model, p_model = select_choosen_metrics(zero_shot_metrics, ranking_cut, queries_ids)\n",
    "report_result(ranking_cut, ndcg_model, recall_model, mrr_model, p_model)"
   ]
  },
  {
   "cell_type": "markdown",
   "metadata": {},
   "source": [
    "#### Training"
   ]
  },
  {
   "cell_type": "code",
   "execution_count": 239,
   "metadata": {},
   "outputs": [
    {
     "name": "stderr",
     "output_type": "stream",
     "text": [
      "100%|██████████████████████████████████████████████| 300/300 [00:00<00:00, 11024.39it/s]\n"
     ]
    },
    {
     "data": {
      "application/vnd.jupyter.widget-view+json": {
       "model_id": "a2743f43004d4c9d805763e88a657308",
       "version_major": 2,
       "version_minor": 0
      },
      "text/plain": [
       "HBox(children=(HTML(value='Epoch'), FloatProgress(value=0.0, max=3.0), HTML(value='')))"
      ]
     },
     "metadata": {},
     "output_type": "display_data"
    },
    {
     "data": {
      "application/vnd.jupyter.widget-view+json": {
       "model_id": "8a62589bf1be4e06bead7bea957ecdfb",
       "version_major": 2,
       "version_minor": 0
      },
      "text/plain": [
       "HBox(children=(HTML(value='Iteration'), FloatProgress(value=0.0, max=38.0), HTML(value='')))"
      ]
     },
     "metadata": {},
     "output_type": "display_data"
    },
    {
     "name": "stdout",
     "output_type": "stream",
     "text": [
      "\n"
     ]
    },
    {
     "data": {
      "application/vnd.jupyter.widget-view+json": {
       "model_id": "4a217a75b0024618835c2dc02ce1725f",
       "version_major": 2,
       "version_minor": 0
      },
      "text/plain": [
       "HBox(children=(HTML(value='Iteration'), FloatProgress(value=0.0, max=38.0), HTML(value='')))"
      ]
     },
     "metadata": {},
     "output_type": "display_data"
    },
    {
     "name": "stdout",
     "output_type": "stream",
     "text": [
      "\n"
     ]
    },
    {
     "data": {
      "application/vnd.jupyter.widget-view+json": {
       "model_id": "ca1183847e0b46b8a25214ce0f75f978",
       "version_major": 2,
       "version_minor": 0
      },
      "text/plain": [
       "HBox(children=(HTML(value='Iteration'), FloatProgress(value=0.0, max=38.0), HTML(value='')))"
      ]
     },
     "metadata": {},
     "output_type": "display_data"
    },
    {
     "name": "stdout",
     "output_type": "stream",
     "text": [
      "\n",
      "\n"
     ]
    }
   ],
   "source": [
    "from tqdm import tqdm\n",
    "\n",
    "examples = []\n",
    "for idx, row in tqdm(dataset.iterrows(), total=len(dataset)):\n",
    "    examples.append(InputExample(texts=[row[\"query\"], row[\"text\"]], label=float(row[\"final_label\"])))\n",
    "dataloader = DataLoader(examples, shuffle=True, batch_size=8)\n",
    "train_loss = losses.CosineSimilarityLoss(model)\n",
    "model.fit(train_objectives=[(dataloader, train_loss)], epochs=3, warmup_steps=50)"
   ]
  },
  {
   "cell_type": "code",
   "execution_count": 240,
   "metadata": {},
   "outputs": [
    {
     "data": {
      "text/plain": [
       "0.9903082"
      ]
     },
     "execution_count": 240,
     "metadata": {},
     "output_type": "execute_result"
    }
   ],
   "source": [
    "sbert_model.predict([row[\"query\"], clean_text(row[\"text\"])])"
   ]
  },
  {
   "cell_type": "markdown",
   "metadata": {},
   "source": [
    "#### Bi Encoder Fine Tune Evaluation"
   ]
  },
  {
   "cell_type": "code",
   "execution_count": 241,
   "metadata": {},
   "outputs": [
    {
     "name": "stdout",
     "output_type": "stream",
     "text": [
      "% NDCG@10:  0.46587809440448275\n",
      "% Recall@10:  0.64\n",
      "% P@10:  0.22799999999999998\n",
      "% MRR:  0.381\n",
      "% MRR@10:  0.381\n",
      "# Sucess@10:  32\n"
     ]
    }
   ],
   "source": [
    "ranking = {}\n",
    "for idx, row in dataset.iterrows():\n",
    "    if not row[\"query_id\"] in ranking:\n",
    "        ranking[row[\"query_id\"]] = {}\n",
    "    output = model.encode([row[\"query\"], clean_text(row[\"text\"])])\n",
    "    sim = spatial.distance.cosine(output[0], output[1])\n",
    "    ranking[row[\"query_id\"]][row[\"_id\"]] = sim\n",
    "    \n",
    "fine_tune_metrics = evaluator.evaluate(ranking)\n",
    "queries_ids = list(fine_tune_metrics.keys())\n",
    "ranking_cut = 10\n",
    "ndcg_model, recall_model, mrr_model, p_model = select_choosen_metrics(fine_tune_metrics, ranking_cut, queries_ids)\n",
    "report_result(ranking_cut, ndcg_model, recall_model, mrr_model, p_model)"
   ]
  },
  {
   "cell_type": "code",
   "execution_count": 242,
   "metadata": {},
   "outputs": [
    {
     "name": "stdout",
     "output_type": "stream",
     "text": [
      "\n",
      "Statistic Relevance for NDCG\n",
      "Ttest_relResult(statistic=-3.417097150515996, pvalue=0.0012816980540615096)\n",
      "\n",
      "Statistic Relevance for MRR\n",
      "Ttest_relResult(statistic=-3.1238826446821553, pvalue=0.002995327698592409)\n"
     ]
    }
   ],
   "source": [
    "statistic_relevance(fine_tune_metrics, zero_shot_metrics)"
   ]
  },
  {
   "cell_type": "markdown",
   "metadata": {},
   "source": [
    "#### Cross Encoder Fine Tune Evaluation"
   ]
  },
  {
   "cell_type": "code",
   "execution_count": 243,
   "metadata": {},
   "outputs": [
    {
     "name": "stdout",
     "output_type": "stream",
     "text": [
      "% NDCG@10:  0.5960091408983395\n",
      "% Recall@10:  0.64\n",
      "% P@10:  0.22799999999999998\n",
      "% MRR:  0.59\n",
      "% MRR@10:  0.59\n",
      "# Sucess@10:  32\n"
     ]
    }
   ],
   "source": [
    "fine_tune_metrics\n",
    "ranking = {}\n",
    "for idx, row in dataset.iterrows():\n",
    "    if not row[\"query_id\"] in ranking:\n",
    "        ranking[row[\"query_id\"]] = {}\n",
    "    sim = sbert_model.predict([row[\"query\"], clean_text(row[\"text\"])])\n",
    "    ranking[row[\"query_id\"]][row[\"_id\"]] = float(sim)\n",
    "    \n",
    "fine_tune_metrics = evaluator.evaluate(ranking)\n",
    "queries_ids = list(fine_tune_metrics.keys())\n",
    "ranking_cut = 10\n",
    "ndcg_model, recall_model, mrr_model, p_model = select_choosen_metrics(fine_tune_metrics, ranking_cut, queries_ids)\n",
    "report_result(ranking_cut, ndcg_model, recall_model, mrr_model, p_model)"
   ]
  },
  {
   "cell_type": "code",
   "execution_count": 244,
   "metadata": {},
   "outputs": [
    {
     "name": "stdout",
     "output_type": "stream",
     "text": [
      "\n",
      "Statistic Relevance for NDCG\n",
      "Ttest_relResult(statistic=3.238084405216104, pvalue=0.0021621062118335355)\n",
      "\n",
      "Statistic Relevance for MRR\n",
      "Ttest_relResult(statistic=2.8788506233660325, pvalue=0.00590072707871123)\n"
     ]
    }
   ],
   "source": [
    "statistic_relevance(fine_tune_metrics, zero_shot_metrics)"
   ]
  }
 ],
 "metadata": {
  "kernelspec": {
   "display_name": "Python 3 (ipykernel)",
   "language": "python",
   "name": "python3"
  },
  "language_info": {
   "codemirror_mode": {
    "name": "ipython",
    "version": 3
   },
   "file_extension": ".py",
   "mimetype": "text/x-python",
   "name": "python",
   "nbconvert_exporter": "python",
   "pygments_lexer": "ipython3",
   "version": "3.8.3"
  }
 },
 "nbformat": 4,
 "nbformat_minor": 4
}
