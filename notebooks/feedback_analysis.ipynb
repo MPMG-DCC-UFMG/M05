{
 "cells": [
  {
   "cell_type": "code",
   "execution_count": null,
   "metadata": {},
   "outputs": [],
   "source": [
    "# !pip install krippendorff"
   ]
  },
  {
   "cell_type": "code",
   "execution_count": 1,
   "metadata": {},
   "outputs": [],
   "source": [
    "import pandas as pd\n",
    "import json\n",
    "import glob"
   ]
  },
  {
   "cell_type": "markdown",
   "metadata": {},
   "source": [
    "## Leitura dos dados"
   ]
  },
  {
   "cell_type": "code",
   "execution_count": 2,
   "metadata": {},
   "outputs": [
    {
     "data": {
      "text/html": [
       "<div>\n",
       "<style scoped>\n",
       "    .dataframe tbody tr th:only-of-type {\n",
       "        vertical-align: middle;\n",
       "    }\n",
       "\n",
       "    .dataframe tbody tr th {\n",
       "        vertical-align: top;\n",
       "    }\n",
       "\n",
       "    .dataframe thead th {\n",
       "        text-align: right;\n",
       "    }\n",
       "</style>\n",
       "<table border=\"1\" class=\"dataframe\">\n",
       "  <thead>\n",
       "    <tr style=\"text-align: right;\">\n",
       "      <th></th>\n",
       "      <th>text</th>\n",
       "      <th>_id</th>\n",
       "      <th>labels</th>\n",
       "      <th>query</th>\n",
       "      <th>query_id</th>\n",
       "      <th>label</th>\n",
       "    </tr>\n",
       "  </thead>\n",
       "  <tbody>\n",
       "    <tr>\n",
       "      <th>300</th>\n",
       "      <td>\\n\\nDocumento:20000110607\\n\\n\\n\\n\\nPoder Judic...</td>\n",
       "      <td>72ie2H0BazwYFyie8dgm</td>\n",
       "      <td>[{'label': {'id': '9e2e8d1f-46c7-452f-a202-f25...</td>\n",
       "      <td>planos de saúde</td>\n",
       "      <td>001404da-7082-4c96-8300-dd7836fb8f47</td>\n",
       "      <td>1</td>\n",
       "    </tr>\n",
       "    <tr>\n",
       "      <th>301</th>\n",
       "      <td>\\n\\nDocumento:20000006496\\n\\n\\n\\n\\nPoder Judic...</td>\n",
       "      <td>B2eH2H0BazwYFyieir4V</td>\n",
       "      <td>[{'label': {'id': '9e2e8d1f-46c7-452f-a202-f25...</td>\n",
       "      <td>planos de saúde</td>\n",
       "      <td>001404da-7082-4c96-8300-dd7836fb8f47</td>\n",
       "      <td>1</td>\n",
       "    </tr>\n",
       "    <tr>\n",
       "      <th>302</th>\n",
       "      <td>\\n\\nDocumento:20000085491\\n\\n\\n\\n\\nPoder Judic...</td>\n",
       "      <td>J2if2H0BazwYFyiel-E3</td>\n",
       "      <td>[{'label': {'id': '9e2e8d1f-46c7-452f-a202-f25...</td>\n",
       "      <td>planos de saúde</td>\n",
       "      <td>001404da-7082-4c96-8300-dd7836fb8f47</td>\n",
       "      <td>1</td>\n",
       "    </tr>\n",
       "    <tr>\n",
       "      <th>303</th>\n",
       "      <td>\\n\\nDocumento:20000020010\\n\\n\\n\\n\\nPoder Judic...</td>\n",
       "      <td>rmmo2H0BazwYFyienEO8</td>\n",
       "      <td>[{'label': {'id': '9e2e8d1f-46c7-452f-a202-f25...</td>\n",
       "      <td>planos de saúde</td>\n",
       "      <td>001404da-7082-4c96-8300-dd7836fb8f47</td>\n",
       "      <td>1</td>\n",
       "    </tr>\n",
       "    <tr>\n",
       "      <th>304</th>\n",
       "      <td>\\n\\nDocumento:20000006495\\n\\n\\n\\n\\nPoder Judic...</td>\n",
       "      <td>BmeH2H0BazwYFyieir4V</td>\n",
       "      <td>[{'label': {'id': '9e2e8d1f-46c7-452f-a202-f25...</td>\n",
       "      <td>planos de saúde</td>\n",
       "      <td>001404da-7082-4c96-8300-dd7836fb8f47</td>\n",
       "      <td>1</td>\n",
       "    </tr>\n",
       "    <tr>\n",
       "      <th>...</th>\n",
       "      <td>...</td>\n",
       "      <td>...</td>\n",
       "      <td>...</td>\n",
       "      <td>...</td>\n",
       "      <td>...</td>\n",
       "      <td>...</td>\n",
       "    </tr>\n",
       "    <tr>\n",
       "      <th>611</th>\n",
       "      <td>\\n\\n\\nDocumento:20000078408\\n\\n\\n\\n\\nPoder Jud...</td>\n",
       "      <td>mmeC2H0BazwYFyie9Ii0</td>\n",
       "      <td>[{'label': {'id': '9e2e8d1f-46c7-452f-a202-f25...</td>\n",
       "      <td>incidente de desconsideração da personalidade</td>\n",
       "      <td>912894da-608d-4bf1-83a8-f43934bb81f8</td>\n",
       "      <td>1</td>\n",
       "    </tr>\n",
       "    <tr>\n",
       "      <th>612</th>\n",
       "      <td>\\n\\nDocumento:20000023103\\n\\n\\n\\n\\nPoder Judic...</td>\n",
       "      <td>MGmp2H0BazwYFyie3VLd</td>\n",
       "      <td>[{'label': {'id': '791b77df-7956-41b6-8442-5ec...</td>\n",
       "      <td>padrão de vida do alimentando</td>\n",
       "      <td>06b31304-b1bf-4d89-af61-d1d61904afe0</td>\n",
       "      <td>0</td>\n",
       "    </tr>\n",
       "    <tr>\n",
       "      <th>613</th>\n",
       "      <td>\\n\\n\\nDocumento:20000075369\\n\\n\\n\\n\\nPoder Jud...</td>\n",
       "      <td>cGmk2H0BazwYFyielhYX</td>\n",
       "      <td>[{'label': {'id': '791b77df-7956-41b6-8442-5ec...</td>\n",
       "      <td>padrão de vida do alimentando</td>\n",
       "      <td>06b31304-b1bf-4d89-af61-d1d61904afe0</td>\n",
       "      <td>0</td>\n",
       "    </tr>\n",
       "    <tr>\n",
       "      <th>614</th>\n",
       "      <td>\\n\\nDocumento:20000092359\\n\\n\\n\\n\\nPoder Judic...</td>\n",
       "      <td>qWmk2H0BazwYFyieDhH1</td>\n",
       "      <td>[{'label': {'id': '9e2e8d1f-46c7-452f-a202-f25...</td>\n",
       "      <td>padrão de vida do alimentando</td>\n",
       "      <td>06b31304-b1bf-4d89-af61-d1d61904afe0</td>\n",
       "      <td>1</td>\n",
       "    </tr>\n",
       "    <tr>\n",
       "      <th>615</th>\n",
       "      <td>\\n\\nDocumento:20000071783\\n\\n\\n\\n\\nPoder Judic...</td>\n",
       "      <td>zWie2H0BazwYFyie8dkn</td>\n",
       "      <td>[{'label': {'id': '791b77df-7956-41b6-8442-5ec...</td>\n",
       "      <td>padrão de vida do alimentando</td>\n",
       "      <td>06b31304-b1bf-4d89-af61-d1d61904afe0</td>\n",
       "      <td>0</td>\n",
       "    </tr>\n",
       "  </tbody>\n",
       "</table>\n",
       "<p>316 rows × 6 columns</p>\n",
       "</div>"
      ],
      "text/plain": [
       "                                                  text                   _id  \\\n",
       "300  \\n\\nDocumento:20000110607\\n\\n\\n\\n\\nPoder Judic...  72ie2H0BazwYFyie8dgm   \n",
       "301  \\n\\nDocumento:20000006496\\n\\n\\n\\n\\nPoder Judic...  B2eH2H0BazwYFyieir4V   \n",
       "302  \\n\\nDocumento:20000085491\\n\\n\\n\\n\\nPoder Judic...  J2if2H0BazwYFyiel-E3   \n",
       "303  \\n\\nDocumento:20000020010\\n\\n\\n\\n\\nPoder Judic...  rmmo2H0BazwYFyienEO8   \n",
       "304  \\n\\nDocumento:20000006495\\n\\n\\n\\n\\nPoder Judic...  BmeH2H0BazwYFyieir4V   \n",
       "..                                                 ...                   ...   \n",
       "611  \\n\\n\\nDocumento:20000078408\\n\\n\\n\\n\\nPoder Jud...  mmeC2H0BazwYFyie9Ii0   \n",
       "612  \\n\\nDocumento:20000023103\\n\\n\\n\\n\\nPoder Judic...  MGmp2H0BazwYFyie3VLd   \n",
       "613  \\n\\n\\nDocumento:20000075369\\n\\n\\n\\n\\nPoder Jud...  cGmk2H0BazwYFyielhYX   \n",
       "614  \\n\\nDocumento:20000092359\\n\\n\\n\\n\\nPoder Judic...  qWmk2H0BazwYFyieDhH1   \n",
       "615  \\n\\nDocumento:20000071783\\n\\n\\n\\n\\nPoder Judic...  zWie2H0BazwYFyie8dkn   \n",
       "\n",
       "                                                labels  \\\n",
       "300  [{'label': {'id': '9e2e8d1f-46c7-452f-a202-f25...   \n",
       "301  [{'label': {'id': '9e2e8d1f-46c7-452f-a202-f25...   \n",
       "302  [{'label': {'id': '9e2e8d1f-46c7-452f-a202-f25...   \n",
       "303  [{'label': {'id': '9e2e8d1f-46c7-452f-a202-f25...   \n",
       "304  [{'label': {'id': '9e2e8d1f-46c7-452f-a202-f25...   \n",
       "..                                                 ...   \n",
       "611  [{'label': {'id': '9e2e8d1f-46c7-452f-a202-f25...   \n",
       "612  [{'label': {'id': '791b77df-7956-41b6-8442-5ec...   \n",
       "613  [{'label': {'id': '791b77df-7956-41b6-8442-5ec...   \n",
       "614  [{'label': {'id': '9e2e8d1f-46c7-452f-a202-f25...   \n",
       "615  [{'label': {'id': '791b77df-7956-41b6-8442-5ec...   \n",
       "\n",
       "                                             query  \\\n",
       "300                                planos de saúde   \n",
       "301                                planos de saúde   \n",
       "302                                planos de saúde   \n",
       "303                                planos de saúde   \n",
       "304                                planos de saúde   \n",
       "..                                             ...   \n",
       "611  incidente de desconsideração da personalidade   \n",
       "612                  padrão de vida do alimentando   \n",
       "613                  padrão de vida do alimentando   \n",
       "614                  padrão de vida do alimentando   \n",
       "615                  padrão de vida do alimentando   \n",
       "\n",
       "                                 query_id  label  \n",
       "300  001404da-7082-4c96-8300-dd7836fb8f47      1  \n",
       "301  001404da-7082-4c96-8300-dd7836fb8f47      1  \n",
       "302  001404da-7082-4c96-8300-dd7836fb8f47      1  \n",
       "303  001404da-7082-4c96-8300-dd7836fb8f47      1  \n",
       "304  001404da-7082-4c96-8300-dd7836fb8f47      1  \n",
       "..                                    ...    ...  \n",
       "611  912894da-608d-4bf1-83a8-f43934bb81f8      1  \n",
       "612  06b31304-b1bf-4d89-af61-d1d61904afe0      0  \n",
       "613  06b31304-b1bf-4d89-af61-d1d61904afe0      0  \n",
       "614  06b31304-b1bf-4d89-af61-d1d61904afe0      1  \n",
       "615  06b31304-b1bf-4d89-af61-d1d61904afe0      0  \n",
       "\n",
       "[316 rows x 6 columns]"
      ]
     },
     "execution_count": 2,
     "metadata": {},
     "output_type": "execute_result"
    }
   ],
   "source": [
    "feedbacks = []\n",
    "for name in glob.glob('./export*/*.json'):\n",
    "    with open(name, \"r\") as feedback:\n",
    "        feedbacks += json.load(feedback)\n",
    "feedbacks = pd.DataFrame(feedbacks)\n",
    "\n",
    "def change_corresponding(row):\n",
    "    for elem in row[\"corresponding\"]:\n",
    "        elem[\"query\"] = row[\"text\"]\n",
    "        elem[\"query_id\"] = row[\"_id\"]\n",
    "    return row[\"corresponding\"]\n",
    "feedbacks[\"corresponding\"] = feedbacks.apply(lambda row: change_corresponding(row) ,axis=1)\n",
    "\n",
    "feedbacks = pd.json_normalize(feedbacks.explode(\"corresponding\")[\"corresponding\"])\n",
    "feedbacks = feedbacks[feedbacks[\"labels\"].apply(lambda x: bool(x))]\n",
    "feedbacks[\"label\"] = feedbacks[\"labels\"].apply(lambda x: 1 if x[0][\"label\"][\"name\"] == \"Relevante\" else 0)\n",
    "feedbacks[\"query\"] = feedbacks[\"query\"].apply(lambda x: x.replace(\"CONSULTA: \", \"\"))\n",
    "feedbacks"
   ]
  },
  {
   "cell_type": "code",
   "execution_count": 3,
   "metadata": {},
   "outputs": [
    {
     "data": {
      "text/html": [
       "<div>\n",
       "<style scoped>\n",
       "    .dataframe tbody tr th:only-of-type {\n",
       "        vertical-align: middle;\n",
       "    }\n",
       "\n",
       "    .dataframe tbody tr th {\n",
       "        vertical-align: top;\n",
       "    }\n",
       "\n",
       "    .dataframe thead th {\n",
       "        text-align: right;\n",
       "    }\n",
       "</style>\n",
       "<table border=\"1\" class=\"dataframe\">\n",
       "  <thead>\n",
       "    <tr style=\"text-align: right;\">\n",
       "      <th></th>\n",
       "      <th>text</th>\n",
       "      <th>query</th>\n",
       "      <th>label</th>\n",
       "    </tr>\n",
       "  </thead>\n",
       "  <tbody>\n",
       "    <tr>\n",
       "      <th>300</th>\n",
       "      <td>\\n\\nDocumento:20000110607\\n\\n\\n\\n\\nPoder Judic...</td>\n",
       "      <td>planos de saúde</td>\n",
       "      <td>1</td>\n",
       "    </tr>\n",
       "    <tr>\n",
       "      <th>301</th>\n",
       "      <td>\\n\\nDocumento:20000006496\\n\\n\\n\\n\\nPoder Judic...</td>\n",
       "      <td>planos de saúde</td>\n",
       "      <td>1</td>\n",
       "    </tr>\n",
       "    <tr>\n",
       "      <th>302</th>\n",
       "      <td>\\n\\nDocumento:20000085491\\n\\n\\n\\n\\nPoder Judic...</td>\n",
       "      <td>planos de saúde</td>\n",
       "      <td>1</td>\n",
       "    </tr>\n",
       "    <tr>\n",
       "      <th>303</th>\n",
       "      <td>\\n\\nDocumento:20000020010\\n\\n\\n\\n\\nPoder Judic...</td>\n",
       "      <td>planos de saúde</td>\n",
       "      <td>1</td>\n",
       "    </tr>\n",
       "    <tr>\n",
       "      <th>304</th>\n",
       "      <td>\\n\\nDocumento:20000006495\\n\\n\\n\\n\\nPoder Judic...</td>\n",
       "      <td>planos de saúde</td>\n",
       "      <td>1</td>\n",
       "    </tr>\n",
       "    <tr>\n",
       "      <th>...</th>\n",
       "      <td>...</td>\n",
       "      <td>...</td>\n",
       "      <td>...</td>\n",
       "    </tr>\n",
       "    <tr>\n",
       "      <th>611</th>\n",
       "      <td>\\n\\n\\nDocumento:20000078408\\n\\n\\n\\n\\nPoder Jud...</td>\n",
       "      <td>incidente de desconsideração da personalidade</td>\n",
       "      <td>1</td>\n",
       "    </tr>\n",
       "    <tr>\n",
       "      <th>612</th>\n",
       "      <td>\\n\\nDocumento:20000023103\\n\\n\\n\\n\\nPoder Judic...</td>\n",
       "      <td>padrão de vida do alimentando</td>\n",
       "      <td>0</td>\n",
       "    </tr>\n",
       "    <tr>\n",
       "      <th>613</th>\n",
       "      <td>\\n\\n\\nDocumento:20000075369\\n\\n\\n\\n\\nPoder Jud...</td>\n",
       "      <td>padrão de vida do alimentando</td>\n",
       "      <td>0</td>\n",
       "    </tr>\n",
       "    <tr>\n",
       "      <th>614</th>\n",
       "      <td>\\n\\nDocumento:20000092359\\n\\n\\n\\n\\nPoder Judic...</td>\n",
       "      <td>padrão de vida do alimentando</td>\n",
       "      <td>1</td>\n",
       "    </tr>\n",
       "    <tr>\n",
       "      <th>615</th>\n",
       "      <td>\\n\\nDocumento:20000071783\\n\\n\\n\\n\\nPoder Judic...</td>\n",
       "      <td>padrão de vida do alimentando</td>\n",
       "      <td>0</td>\n",
       "    </tr>\n",
       "  </tbody>\n",
       "</table>\n",
       "<p>316 rows × 3 columns</p>\n",
       "</div>"
      ],
      "text/plain": [
       "                                                  text  \\\n",
       "300  \\n\\nDocumento:20000110607\\n\\n\\n\\n\\nPoder Judic...   \n",
       "301  \\n\\nDocumento:20000006496\\n\\n\\n\\n\\nPoder Judic...   \n",
       "302  \\n\\nDocumento:20000085491\\n\\n\\n\\n\\nPoder Judic...   \n",
       "303  \\n\\nDocumento:20000020010\\n\\n\\n\\n\\nPoder Judic...   \n",
       "304  \\n\\nDocumento:20000006495\\n\\n\\n\\n\\nPoder Judic...   \n",
       "..                                                 ...   \n",
       "611  \\n\\n\\nDocumento:20000078408\\n\\n\\n\\n\\nPoder Jud...   \n",
       "612  \\n\\nDocumento:20000023103\\n\\n\\n\\n\\nPoder Judic...   \n",
       "613  \\n\\n\\nDocumento:20000075369\\n\\n\\n\\n\\nPoder Jud...   \n",
       "614  \\n\\nDocumento:20000092359\\n\\n\\n\\n\\nPoder Judic...   \n",
       "615  \\n\\nDocumento:20000071783\\n\\n\\n\\n\\nPoder Judic...   \n",
       "\n",
       "                                             query  label  \n",
       "300                                planos de saúde      1  \n",
       "301                                planos de saúde      1  \n",
       "302                                planos de saúde      1  \n",
       "303                                planos de saúde      1  \n",
       "304                                planos de saúde      1  \n",
       "..                                             ...    ...  \n",
       "611  incidente de desconsideração da personalidade      1  \n",
       "612                  padrão de vida do alimentando      0  \n",
       "613                  padrão de vida do alimentando      0  \n",
       "614                  padrão de vida do alimentando      1  \n",
       "615                  padrão de vida do alimentando      0  \n",
       "\n",
       "[316 rows x 3 columns]"
      ]
     },
     "execution_count": 3,
     "metadata": {},
     "output_type": "execute_result"
    }
   ],
   "source": [
    "feedbacks[[\"text\", \"query\", \"label\"]]"
   ]
  },
  {
   "cell_type": "markdown",
   "metadata": {},
   "source": [
    "## Análise"
   ]
  },
  {
   "cell_type": "code",
   "execution_count": 48,
   "metadata": {},
   "outputs": [
    {
     "data": {
      "text/html": [
       "<div>\n",
       "<style scoped>\n",
       "    .dataframe tbody tr th:only-of-type {\n",
       "        vertical-align: middle;\n",
       "    }\n",
       "\n",
       "    .dataframe tbody tr th {\n",
       "        vertical-align: top;\n",
       "    }\n",
       "\n",
       "    .dataframe thead th {\n",
       "        text-align: right;\n",
       "    }\n",
       "</style>\n",
       "<table border=\"1\" class=\"dataframe\">\n",
       "  <thead>\n",
       "    <tr style=\"text-align: right;\">\n",
       "      <th></th>\n",
       "      <th></th>\n",
       "      <th>label</th>\n",
       "      <th>count</th>\n",
       "    </tr>\n",
       "    <tr>\n",
       "      <th>_id</th>\n",
       "      <th>query_id</th>\n",
       "      <th></th>\n",
       "      <th></th>\n",
       "    </tr>\n",
       "  </thead>\n",
       "  <tbody>\n",
       "    <tr>\n",
       "      <th>-2d92H0BazwYFyieslD-</th>\n",
       "      <th>b4bb355d-e105-4b58-9bd1-c4421b89a058</th>\n",
       "      <td>1.0</td>\n",
       "      <td>1</td>\n",
       "    </tr>\n",
       "    <tr>\n",
       "      <th>-2id2H0BazwYFyiewsrT</th>\n",
       "      <th>40456087-473f-44f4-9aeb-6b8a61205c20</th>\n",
       "      <td>1.0</td>\n",
       "      <td>1</td>\n",
       "    </tr>\n",
       "    <tr>\n",
       "      <th>02eE2H0BazwYFyie_Z-f</th>\n",
       "      <th>515c91af-935b-44a0-9034-2c067e06d796</th>\n",
       "      <td>0.0</td>\n",
       "      <td>1</td>\n",
       "    </tr>\n",
       "    <tr>\n",
       "      <th>0meK2H0BazwYFyieed7Q</th>\n",
       "      <th>a2f20a89-329a-4781-9ac3-80b3e1df8a93</th>\n",
       "      <td>1.0</td>\n",
       "      <td>1</td>\n",
       "    </tr>\n",
       "    <tr>\n",
       "      <th>0mie2H0BazwYFyiewte9</th>\n",
       "      <th>c23885c7-1118-4c1f-9a88-509b817e629d</th>\n",
       "      <td>1.0</td>\n",
       "      <td>1</td>\n",
       "    </tr>\n",
       "    <tr>\n",
       "      <th>...</th>\n",
       "      <th>...</th>\n",
       "      <td>...</td>\n",
       "      <td>...</td>\n",
       "    </tr>\n",
       "    <tr>\n",
       "      <th>zGmj2H0BazwYFyie5Q7v</th>\n",
       "      <th>d630e749-49cc-468e-a974-5f8cf9e609cc</th>\n",
       "      <td>1.0</td>\n",
       "      <td>1</td>\n",
       "    </tr>\n",
       "    <tr>\n",
       "      <th>zWeB2H0BazwYFyieX3dP</th>\n",
       "      <th>b4bb355d-e105-4b58-9bd1-c4421b89a058</th>\n",
       "      <td>1.0</td>\n",
       "      <td>1</td>\n",
       "    </tr>\n",
       "    <tr>\n",
       "      <th>zWid2H0BazwYFyielMjT</th>\n",
       "      <th>38ff53de-7e90-4dbb-b912-40a8c8c63de4</th>\n",
       "      <td>0.0</td>\n",
       "      <td>1</td>\n",
       "    </tr>\n",
       "    <tr>\n",
       "      <th>zWie2H0BazwYFyie8dkn</th>\n",
       "      <th>06b31304-b1bf-4d89-af61-d1d61904afe0</th>\n",
       "      <td>0.5</td>\n",
       "      <td>2</td>\n",
       "    </tr>\n",
       "    <tr>\n",
       "      <th>zmih2H0BazwYFyie8_zX</th>\n",
       "      <th>d630e749-49cc-468e-a974-5f8cf9e609cc</th>\n",
       "      <td>1.0</td>\n",
       "      <td>1</td>\n",
       "    </tr>\n",
       "  </tbody>\n",
       "</table>\n",
       "<p>234 rows × 2 columns</p>\n",
       "</div>"
      ],
      "text/plain": [
       "                                                           label  count\n",
       "_id                  query_id                                          \n",
       "-2d92H0BazwYFyieslD- b4bb355d-e105-4b58-9bd1-c4421b89a058    1.0      1\n",
       "-2id2H0BazwYFyiewsrT 40456087-473f-44f4-9aeb-6b8a61205c20    1.0      1\n",
       "02eE2H0BazwYFyie_Z-f 515c91af-935b-44a0-9034-2c067e06d796    0.0      1\n",
       "0meK2H0BazwYFyieed7Q a2f20a89-329a-4781-9ac3-80b3e1df8a93    1.0      1\n",
       "0mie2H0BazwYFyiewte9 c23885c7-1118-4c1f-9a88-509b817e629d    1.0      1\n",
       "...                                                          ...    ...\n",
       "zGmj2H0BazwYFyie5Q7v d630e749-49cc-468e-a974-5f8cf9e609cc    1.0      1\n",
       "zWeB2H0BazwYFyieX3dP b4bb355d-e105-4b58-9bd1-c4421b89a058    1.0      1\n",
       "zWid2H0BazwYFyielMjT 38ff53de-7e90-4dbb-b912-40a8c8c63de4    0.0      1\n",
       "zWie2H0BazwYFyie8dkn 06b31304-b1bf-4d89-af61-d1d61904afe0    0.5      2\n",
       "zmih2H0BazwYFyie8_zX d630e749-49cc-468e-a974-5f8cf9e609cc    1.0      1\n",
       "\n",
       "[234 rows x 2 columns]"
      ]
     },
     "execution_count": 48,
     "metadata": {},
     "output_type": "execute_result"
    }
   ],
   "source": [
    "scores = feedbacks.groupby([\"_id\", \"query_id\"])[\"label\"].mean().to_frame()\n",
    "scores[\"count\"] = feedbacks.groupby([\"_id\", \"query_id\"])[\"label\"].count()\n",
    "scores"
   ]
  },
  {
   "cell_type": "code",
   "execution_count": 49,
   "metadata": {},
   "outputs": [
    {
     "data": {
      "text/plain": [
       "0.0    149\n",
       "1.0     67\n",
       "0.5     18\n",
       "Name: label, dtype: int64"
      ]
     },
     "execution_count": 49,
     "metadata": {},
     "output_type": "execute_result"
    }
   ],
   "source": [
    "scores[\"label\"].value_counts()"
   ]
  },
  {
   "cell_type": "code",
   "execution_count": 50,
   "metadata": {},
   "outputs": [
    {
     "data": {
      "text/plain": [
       "<AxesSubplot:>"
      ]
     },
     "execution_count": 50,
     "metadata": {},
     "output_type": "execute_result"
    },
    {
     "data": {
      "image/png": "[encoded data removed]",
      "text/plain": [
       "<Figure size 432x288 with 1 Axes>"
      ]
     },
     "metadata": {
      "needs_background": "light"
     },
     "output_type": "display_data"
    }
   ],
   "source": [
    "scores[\"count\"].hist()"
   ]
  },
  {
   "cell_type": "markdown",
   "metadata": {},
   "source": [
    "### Apenas entradas com todos os rótulos"
   ]
  },
  {
   "cell_type": "code",
   "execution_count": 51,
   "metadata": {},
   "outputs": [],
   "source": [
    "all_scores = scores[scores[\"count\"] == 2]"
   ]
  },
  {
   "cell_type": "code",
   "execution_count": 52,
   "metadata": {},
   "outputs": [
    {
     "data": {
      "text/plain": [
       "<AxesSubplot:>"
      ]
     },
     "execution_count": 52,
     "metadata": {},
     "output_type": "execute_result"
    },
    {
     "data": {
      "image/png": "[encoded data removed]",
      "text/plain": [
       "<Figure size 432x288 with 1 Axes>"
      ]
     },
     "metadata": {
      "needs_background": "light"
     },
     "output_type": "display_data"
    }
   ],
   "source": [
    "all_scores[\"label\"].hist()"
   ]
  },
  {
   "cell_type": "code",
   "execution_count": 53,
   "metadata": {},
   "outputs": [
    {
     "data": {
      "text/plain": [
       "0.0    48\n",
       "0.5    18\n",
       "1.0    16\n",
       "Name: label, dtype: int64"
      ]
     },
     "execution_count": 53,
     "metadata": {},
     "output_type": "execute_result"
    }
   ],
   "source": [
    "all_scores[\"label\"].value_counts()"
   ]
  },
  {
   "cell_type": "code",
   "execution_count": 54,
   "metadata": {},
   "outputs": [
    {
     "name": "stdout",
     "output_type": "stream",
     "text": [
      "Observed agreement:  0.7804878048780488\n"
     ]
    }
   ],
   "source": [
    "print(\"Observed agreement: \", 1 - (len([i for i in list(all_scores[\"label\"]) if i == 0.5]) / len(all_scores)))"
   ]
  },
  {
   "cell_type": "markdown",
   "metadata": {},
   "source": [
    "# Inter-rater agreement\n"
   ]
  },
  {
   "cell_type": "markdown",
   "metadata": {},
   "source": [
    "* Fleiss’s Kappa is an extension of Cohen’s kappa for three raters or more. In addition, the assumption with Cohen’s kappa is that your raters are deliberately chosen and fixed. With Fleiss’ kappa, the assumption is that your raters were chosen at random from a larger population.\n",
    "\n",
    "* Kendall’s Tau is used when you have ranked data, like two people ordering 10 candidates from most preferred to least preferred.\n",
    "\n",
    "* Krippendorff’s alpha is useful when you have multiple raters and multiple possible ratings."
   ]
  },
  {
   "cell_type": "markdown",
   "metadata": {},
   "source": [
    "### Kappas"
   ]
  },
  {
   "cell_type": "code",
   "execution_count": 42,
   "metadata": {},
   "outputs": [],
   "source": [
    "scores = feedbacks.groupby([\"_id\", \"query_id\"])[\"label\"].apply(list).to_frame()\n",
    "scores[\"count\"] = feedbacks.groupby([\"_id\", \"query_id\"])[\"label\"].count()\n",
    "all_scores = scores[scores[\"count\"] == 2]"
   ]
  },
  {
   "cell_type": "code",
   "execution_count": 43,
   "metadata": {},
   "outputs": [],
   "source": [
    "rater1 = [i[0] for i in list(all_scores[\"label\"])]\n",
    "rater2 = [i[1] for i in list(all_scores[\"label\"])]"
   ]
  },
  {
   "cell_type": "code",
   "execution_count": 44,
   "metadata": {},
   "outputs": [
    {
     "data": {
      "text/plain": [
       "0.4878556557945871"
      ]
     },
     "execution_count": 44,
     "metadata": {},
     "output_type": "execute_result"
    }
   ],
   "source": [
    "from sklearn.metrics import cohen_kappa_score\n",
    "cohen_kappa_score(rater1, rater2)"
   ]
  },
  {
   "cell_type": "code",
   "execution_count": 45,
   "metadata": {},
   "outputs": [
    {
     "data": {
      "text/html": [
       "<img src=\"https://miro.medium.com/max/1400/1*mHB6Ciljb4OnOacNWgc0aw.png\"/>"
      ],
      "text/plain": [
       "<IPython.core.display.Image object>"
      ]
     },
     "execution_count": 45,
     "metadata": {},
     "output_type": "execute_result"
    }
   ],
   "source": [
    "from IPython.display import Image\n",
    "Image(url='https://miro.medium.com/max/1400/1*mHB6Ciljb4OnOacNWgc0aw.png')"
   ]
  },
  {
   "cell_type": "markdown",
   "metadata": {},
   "source": [
    "### Krippendorff"
   ]
  },
  {
   "cell_type": "code",
   "execution_count": 191,
   "metadata": {},
   "outputs": [
    {
     "data": {
      "text/html": [
       "<div>\n",
       "<style scoped>\n",
       "    .dataframe tbody tr th:only-of-type {\n",
       "        vertical-align: middle;\n",
       "    }\n",
       "\n",
       "    .dataframe tbody tr th {\n",
       "        vertical-align: top;\n",
       "    }\n",
       "\n",
       "    .dataframe thead th {\n",
       "        text-align: right;\n",
       "    }\n",
       "</style>\n",
       "<table border=\"1\" class=\"dataframe\">\n",
       "  <thead>\n",
       "    <tr style=\"text-align: right;\">\n",
       "      <th></th>\n",
       "      <th>text</th>\n",
       "      <th>_id</th>\n",
       "      <th>labels</th>\n",
       "      <th>query</th>\n",
       "      <th>query_id</th>\n",
       "      <th>label</th>\n",
       "      <th>user</th>\n",
       "      <th>entry</th>\n",
       "    </tr>\n",
       "  </thead>\n",
       "  <tbody>\n",
       "    <tr>\n",
       "      <th>300</th>\n",
       "      <td>\\n\\nDocumento:20000110607\\n\\n\\n\\n\\nPoder Judic...</td>\n",
       "      <td>72ie2H0BazwYFyie8dgm</td>\n",
       "      <td>[{'label': {'id': '9e2e8d1f-46c7-452f-a202-f25...</td>\n",
       "      <td>planos de saúde</td>\n",
       "      <td>001404da-7082-4c96-8300-dd7836fb8f47</td>\n",
       "      <td>1</td>\n",
       "      <td>01c719b5-ec9b-481a-b8a4-76e85867e599</td>\n",
       "      <td>72ie2H0BazwYFyie8dgm001404da-7082-4c96-8300-dd...</td>\n",
       "    </tr>\n",
       "    <tr>\n",
       "      <th>301</th>\n",
       "      <td>\\n\\nDocumento:20000006496\\n\\n\\n\\n\\nPoder Judic...</td>\n",
       "      <td>B2eH2H0BazwYFyieir4V</td>\n",
       "      <td>[{'label': {'id': '9e2e8d1f-46c7-452f-a202-f25...</td>\n",
       "      <td>planos de saúde</td>\n",
       "      <td>001404da-7082-4c96-8300-dd7836fb8f47</td>\n",
       "      <td>1</td>\n",
       "      <td>01c719b5-ec9b-481a-b8a4-76e85867e599</td>\n",
       "      <td>B2eH2H0BazwYFyieir4V001404da-7082-4c96-8300-dd...</td>\n",
       "    </tr>\n",
       "    <tr>\n",
       "      <th>302</th>\n",
       "      <td>\\n\\nDocumento:20000085491\\n\\n\\n\\n\\nPoder Judic...</td>\n",
       "      <td>J2if2H0BazwYFyiel-E3</td>\n",
       "      <td>[{'label': {'id': '9e2e8d1f-46c7-452f-a202-f25...</td>\n",
       "      <td>planos de saúde</td>\n",
       "      <td>001404da-7082-4c96-8300-dd7836fb8f47</td>\n",
       "      <td>1</td>\n",
       "      <td>01c719b5-ec9b-481a-b8a4-76e85867e599</td>\n",
       "      <td>J2if2H0BazwYFyiel-E3001404da-7082-4c96-8300-dd...</td>\n",
       "    </tr>\n",
       "  </tbody>\n",
       "</table>\n",
       "</div>"
      ],
      "text/plain": [
       "                                                  text                   _id  \\\n",
       "300  \\n\\nDocumento:20000110607\\n\\n\\n\\n\\nPoder Judic...  72ie2H0BazwYFyie8dgm   \n",
       "301  \\n\\nDocumento:20000006496\\n\\n\\n\\n\\nPoder Judic...  B2eH2H0BazwYFyieir4V   \n",
       "302  \\n\\nDocumento:20000085491\\n\\n\\n\\n\\nPoder Judic...  J2if2H0BazwYFyiel-E3   \n",
       "\n",
       "                                                labels            query  \\\n",
       "300  [{'label': {'id': '9e2e8d1f-46c7-452f-a202-f25...  planos de saúde   \n",
       "301  [{'label': {'id': '9e2e8d1f-46c7-452f-a202-f25...  planos de saúde   \n",
       "302  [{'label': {'id': '9e2e8d1f-46c7-452f-a202-f25...  planos de saúde   \n",
       "\n",
       "                                 query_id  label  \\\n",
       "300  001404da-7082-4c96-8300-dd7836fb8f47      1   \n",
       "301  001404da-7082-4c96-8300-dd7836fb8f47      1   \n",
       "302  001404da-7082-4c96-8300-dd7836fb8f47      1   \n",
       "\n",
       "                                     user  \\\n",
       "300  01c719b5-ec9b-481a-b8a4-76e85867e599   \n",
       "301  01c719b5-ec9b-481a-b8a4-76e85867e599   \n",
       "302  01c719b5-ec9b-481a-b8a4-76e85867e599   \n",
       "\n",
       "                                                 entry  \n",
       "300  72ie2H0BazwYFyie8dgm001404da-7082-4c96-8300-dd...  \n",
       "301  B2eH2H0BazwYFyieir4V001404da-7082-4c96-8300-dd...  \n",
       "302  J2if2H0BazwYFyiel-E3001404da-7082-4c96-8300-dd...  "
      ]
     },
     "execution_count": 191,
     "metadata": {},
     "output_type": "execute_result"
    }
   ],
   "source": [
    "feedbacks[\"entry\"] = feedbacks.apply(lambda row: row[\"_id\"] + row[\"query_id\"] ,axis=1)\n",
    "feedbacks[\"user\"] = feedbacks[\"labels\"].apply(lambda x: x[0][\"user\"][\"id\"])\n",
    "feedbacks.head(3)"
   ]
  },
  {
   "cell_type": "code",
   "execution_count": 196,
   "metadata": {},
   "outputs": [
    {
     "data": {
      "text/plain": [
       "1"
      ]
     },
     "execution_count": 196,
     "metadata": {},
     "output_type": "execute_result"
    }
   ],
   "source": [
    "f[f[\"user\"] == user].iloc[0][\"label\"]"
   ]
  },
  {
   "cell_type": "code",
   "execution_count": 198,
   "metadata": {},
   "outputs": [
    {
     "name": "stdout",
     "output_type": "stream",
     "text": [
      "Krippendorff's alpha:  0.48526315789473684\n"
     ]
    }
   ],
   "source": [
    "import random\n",
    "users_strings = {}\n",
    "\n",
    "for user in feedbacks[\"user\"].unique():\n",
    "    users_strings[user] = []\n",
    "\n",
    "for entry in feedbacks[\"entry\"].unique():\n",
    "    f = feedbacks[feedbacks[\"entry\"] == entry]\n",
    "    for user in feedbacks[\"user\"].unique():\n",
    "        if user in list(f[\"user\"]):\n",
    "            users_strings[user] += [f[f[\"user\"] == user].iloc[0][\"label\"]]\n",
    "        else:\n",
    "            users_strings[user] += [np.nan]\n",
    "\n",
    "reliability_data = list(users_strings.values())\n",
    "np.array(reliability_data).dtype.kind\n",
    "value = krippendorff.alpha(reliability_data=reliability_data, value_domain=[0, 1])\n",
    "print(\"Krippendorff's alpha: \", value)"
   ]
  },
  {
   "cell_type": "markdown",
   "metadata": {},
   "source": [
    "## Criação do dataset"
   ]
  },
  {
   "cell_type": "code",
   "execution_count": 11,
   "metadata": {},
   "outputs": [],
   "source": [
    "scores[\"label\"] = scores[\"label\"].apply(lambda x: int(bool(x)))"
   ]
  },
  {
   "cell_type": "code",
   "execution_count": 12,
   "metadata": {},
   "outputs": [
    {
     "data": {
      "text/html": [
       "<div>\n",
       "<style scoped>\n",
       "    .dataframe tbody tr th:only-of-type {\n",
       "        vertical-align: middle;\n",
       "    }\n",
       "\n",
       "    .dataframe tbody tr th {\n",
       "        vertical-align: top;\n",
       "    }\n",
       "\n",
       "    .dataframe thead th {\n",
       "        text-align: right;\n",
       "    }\n",
       "</style>\n",
       "<table border=\"1\" class=\"dataframe\">\n",
       "  <thead>\n",
       "    <tr style=\"text-align: right;\">\n",
       "      <th></th>\n",
       "      <th>_id</th>\n",
       "      <th>query_id</th>\n",
       "      <th>label</th>\n",
       "      <th>count</th>\n",
       "    </tr>\n",
       "  </thead>\n",
       "  <tbody>\n",
       "    <tr>\n",
       "      <th>0</th>\n",
       "      <td>-2d92H0BazwYFyieslD-</td>\n",
       "      <td>b4bb355d-e105-4b58-9bd1-c4421b89a058</td>\n",
       "      <td>1</td>\n",
       "      <td>1</td>\n",
       "    </tr>\n",
       "    <tr>\n",
       "      <th>1</th>\n",
       "      <td>-2id2H0BazwYFyiewsrT</td>\n",
       "      <td>40456087-473f-44f4-9aeb-6b8a61205c20</td>\n",
       "      <td>1</td>\n",
       "      <td>1</td>\n",
       "    </tr>\n",
       "    <tr>\n",
       "      <th>2</th>\n",
       "      <td>02eE2H0BazwYFyie_Z-f</td>\n",
       "      <td>515c91af-935b-44a0-9034-2c067e06d796</td>\n",
       "      <td>0</td>\n",
       "      <td>1</td>\n",
       "    </tr>\n",
       "    <tr>\n",
       "      <th>3</th>\n",
       "      <td>0meK2H0BazwYFyieed7Q</td>\n",
       "      <td>a2f20a89-329a-4781-9ac3-80b3e1df8a93</td>\n",
       "      <td>1</td>\n",
       "      <td>1</td>\n",
       "    </tr>\n",
       "    <tr>\n",
       "      <th>4</th>\n",
       "      <td>0mie2H0BazwYFyiewte9</td>\n",
       "      <td>c23885c7-1118-4c1f-9a88-509b817e629d</td>\n",
       "      <td>1</td>\n",
       "      <td>1</td>\n",
       "    </tr>\n",
       "    <tr>\n",
       "      <th>...</th>\n",
       "      <td>...</td>\n",
       "      <td>...</td>\n",
       "      <td>...</td>\n",
       "      <td>...</td>\n",
       "    </tr>\n",
       "    <tr>\n",
       "      <th>229</th>\n",
       "      <td>zGmj2H0BazwYFyie5Q7v</td>\n",
       "      <td>d630e749-49cc-468e-a974-5f8cf9e609cc</td>\n",
       "      <td>1</td>\n",
       "      <td>1</td>\n",
       "    </tr>\n",
       "    <tr>\n",
       "      <th>230</th>\n",
       "      <td>zWeB2H0BazwYFyieX3dP</td>\n",
       "      <td>b4bb355d-e105-4b58-9bd1-c4421b89a058</td>\n",
       "      <td>1</td>\n",
       "      <td>1</td>\n",
       "    </tr>\n",
       "    <tr>\n",
       "      <th>231</th>\n",
       "      <td>zWid2H0BazwYFyielMjT</td>\n",
       "      <td>38ff53de-7e90-4dbb-b912-40a8c8c63de4</td>\n",
       "      <td>0</td>\n",
       "      <td>1</td>\n",
       "    </tr>\n",
       "    <tr>\n",
       "      <th>232</th>\n",
       "      <td>zWie2H0BazwYFyie8dkn</td>\n",
       "      <td>06b31304-b1bf-4d89-af61-d1d61904afe0</td>\n",
       "      <td>1</td>\n",
       "      <td>2</td>\n",
       "    </tr>\n",
       "    <tr>\n",
       "      <th>233</th>\n",
       "      <td>zmih2H0BazwYFyie8_zX</td>\n",
       "      <td>d630e749-49cc-468e-a974-5f8cf9e609cc</td>\n",
       "      <td>1</td>\n",
       "      <td>1</td>\n",
       "    </tr>\n",
       "  </tbody>\n",
       "</table>\n",
       "<p>234 rows × 4 columns</p>\n",
       "</div>"
      ],
      "text/plain": [
       "                      _id                              query_id  label  count\n",
       "0    -2d92H0BazwYFyieslD-  b4bb355d-e105-4b58-9bd1-c4421b89a058      1      1\n",
       "1    -2id2H0BazwYFyiewsrT  40456087-473f-44f4-9aeb-6b8a61205c20      1      1\n",
       "2    02eE2H0BazwYFyie_Z-f  515c91af-935b-44a0-9034-2c067e06d796      0      1\n",
       "3    0meK2H0BazwYFyieed7Q  a2f20a89-329a-4781-9ac3-80b3e1df8a93      1      1\n",
       "4    0mie2H0BazwYFyiewte9  c23885c7-1118-4c1f-9a88-509b817e629d      1      1\n",
       "..                    ...                                   ...    ...    ...\n",
       "229  zGmj2H0BazwYFyie5Q7v  d630e749-49cc-468e-a974-5f8cf9e609cc      1      1\n",
       "230  zWeB2H0BazwYFyieX3dP  b4bb355d-e105-4b58-9bd1-c4421b89a058      1      1\n",
       "231  zWid2H0BazwYFyielMjT  38ff53de-7e90-4dbb-b912-40a8c8c63de4      0      1\n",
       "232  zWie2H0BazwYFyie8dkn  06b31304-b1bf-4d89-af61-d1d61904afe0      1      2\n",
       "233  zmih2H0BazwYFyie8_zX  d630e749-49cc-468e-a974-5f8cf9e609cc      1      1\n",
       "\n",
       "[234 rows x 4 columns]"
      ]
     },
     "execution_count": 12,
     "metadata": {},
     "output_type": "execute_result"
    }
   ],
   "source": [
    "scores.reset_index()"
   ]
  }
 ],
 "metadata": {
  "kernelspec": {
   "display_name": "Python 3",
   "language": "python",
   "name": "python3"
  },
  "language_info": {
   "codemirror_mode": {
    "name": "ipython",
    "version": 3
   },
   "file_extension": ".py",
   "mimetype": "text/x-python",
   "name": "python",
   "nbconvert_exporter": "python",
   "pygments_lexer": "ipython3",
   "version": "3.7.5"
  }
 },
 "nbformat": 4,
 "nbformat_minor": 4
}
