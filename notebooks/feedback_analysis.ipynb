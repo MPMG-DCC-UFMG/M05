{
 "cells": [
  {
   "cell_type": "code",
   "execution_count": 1,
   "metadata": {},
   "outputs": [],
   "source": [
    "import pandas as pd\n",
    "import json\n",
    "import glob"
   ]
  },
  {
   "cell_type": "markdown",
   "metadata": {},
   "source": [
    "## Leitura dos dados"
   ]
  },
  {
   "cell_type": "markdown",
   "metadata": {},
   "source": [
    "* 4 avaliadores\n",
    "* 25 consultas com 6 documentos por avaliador (150 rótulos)\n",
    "* 600 Rótulos no total, (com redundância) \n",
    "* Resultando em 300 pares consulta-documento rotulados"
   ]
  },
  {
   "cell_type": "code",
   "execution_count": 2,
   "metadata": {},
   "outputs": [
    {
     "data": {
      "text/html": [
       "<div>\n",
       "<style scoped>\n",
       "    .dataframe tbody tr th:only-of-type {\n",
       "        vertical-align: middle;\n",
       "    }\n",
       "\n",
       "    .dataframe tbody tr th {\n",
       "        vertical-align: top;\n",
       "    }\n",
       "\n",
       "    .dataframe thead th {\n",
       "        text-align: right;\n",
       "    }\n",
       "</style>\n",
       "<table border=\"1\" class=\"dataframe\">\n",
       "  <thead>\n",
       "    <tr style=\"text-align: right;\">\n",
       "      <th></th>\n",
       "      <th>text</th>\n",
       "      <th>_id</th>\n",
       "      <th>labels</th>\n",
       "      <th>query</th>\n",
       "      <th>query_id</th>\n",
       "      <th>label</th>\n",
       "    </tr>\n",
       "  </thead>\n",
       "  <tbody>\n",
       "    <tr>\n",
       "      <th>0</th>\n",
       "      <td>\\n\\nDocumento:20000110607\\n\\n\\n\\n\\nPoder Judic...</td>\n",
       "      <td>72ie2H0BazwYFyie8dgm</td>\n",
       "      <td>[{'label': {'id': '9e2e8d1f-46c7-452f-a202-f25...</td>\n",
       "      <td>planos de saúde</td>\n",
       "      <td>001404da-7082-4c96-8300-dd7836fb8f47</td>\n",
       "      <td>1</td>\n",
       "    </tr>\n",
       "    <tr>\n",
       "      <th>1</th>\n",
       "      <td>\\n\\nDocumento:20000006496\\n\\n\\n\\n\\nPoder Judic...</td>\n",
       "      <td>B2eH2H0BazwYFyieir4V</td>\n",
       "      <td>[{'label': {'id': '9e2e8d1f-46c7-452f-a202-f25...</td>\n",
       "      <td>planos de saúde</td>\n",
       "      <td>001404da-7082-4c96-8300-dd7836fb8f47</td>\n",
       "      <td>1</td>\n",
       "    </tr>\n",
       "    <tr>\n",
       "      <th>2</th>\n",
       "      <td>\\n\\nDocumento:20000085491\\n\\n\\n\\n\\nPoder Judic...</td>\n",
       "      <td>J2if2H0BazwYFyiel-E3</td>\n",
       "      <td>[{'label': {'id': '9e2e8d1f-46c7-452f-a202-f25...</td>\n",
       "      <td>planos de saúde</td>\n",
       "      <td>001404da-7082-4c96-8300-dd7836fb8f47</td>\n",
       "      <td>1</td>\n",
       "    </tr>\n",
       "    <tr>\n",
       "      <th>3</th>\n",
       "      <td>\\n\\nDocumento:20000020010\\n\\n\\n\\n\\nPoder Judic...</td>\n",
       "      <td>rmmo2H0BazwYFyienEO8</td>\n",
       "      <td>[{'label': {'id': '9e2e8d1f-46c7-452f-a202-f25...</td>\n",
       "      <td>planos de saúde</td>\n",
       "      <td>001404da-7082-4c96-8300-dd7836fb8f47</td>\n",
       "      <td>1</td>\n",
       "    </tr>\n",
       "    <tr>\n",
       "      <th>4</th>\n",
       "      <td>\\n\\nDocumento:20000006495\\n\\n\\n\\n\\nPoder Judic...</td>\n",
       "      <td>BmeH2H0BazwYFyieir4V</td>\n",
       "      <td>[{'label': {'id': '9e2e8d1f-46c7-452f-a202-f25...</td>\n",
       "      <td>planos de saúde</td>\n",
       "      <td>001404da-7082-4c96-8300-dd7836fb8f47</td>\n",
       "      <td>1</td>\n",
       "    </tr>\n",
       "    <tr>\n",
       "      <th>...</th>\n",
       "      <td>...</td>\n",
       "      <td>...</td>\n",
       "      <td>...</td>\n",
       "      <td>...</td>\n",
       "      <td>...</td>\n",
       "      <td>...</td>\n",
       "    </tr>\n",
       "    <tr>\n",
       "      <th>445</th>\n",
       "      <td>Capa do Processo          Nº do Processo: 5005...</td>\n",
       "      <td>gGiV2H0BazwYFyieT2Sg</td>\n",
       "      <td>[{'label': {'id': '791b77df-7956-41b6-8442-5ec...</td>\n",
       "      <td>agentes políticos salário</td>\n",
       "      <td>1f8ece22-ca23-4805-bfa7-0e9d3fdabe6d</td>\n",
       "      <td>0</td>\n",
       "    </tr>\n",
       "    <tr>\n",
       "      <th>446</th>\n",
       "      <td>Capa do Processo          Nº do Processo: 5038...</td>\n",
       "      <td>Emia2H0BazwYFyievaaa</td>\n",
       "      <td>[{'label': {'id': '791b77df-7956-41b6-8442-5ec...</td>\n",
       "      <td>agentes políticos salário</td>\n",
       "      <td>1f8ece22-ca23-4805-bfa7-0e9d3fdabe6d</td>\n",
       "      <td>0</td>\n",
       "    </tr>\n",
       "    <tr>\n",
       "      <th>447</th>\n",
       "      <td>\\n\\nDocumento:20000035467\\n\\n\\n\\n\\nPoder Judic...</td>\n",
       "      <td>qWeF2H0BazwYFyieq6f_</td>\n",
       "      <td>[{'label': {'id': '791b77df-7956-41b6-8442-5ec...</td>\n",
       "      <td>agentes políticos salário</td>\n",
       "      <td>1f8ece22-ca23-4805-bfa7-0e9d3fdabe6d</td>\n",
       "      <td>0</td>\n",
       "    </tr>\n",
       "    <tr>\n",
       "      <th>448</th>\n",
       "      <td>Capa do Processo          Nº do Processo: 5000...</td>\n",
       "      <td>LGZx2H0BazwYFyiehrs2</td>\n",
       "      <td>[{'label': {'id': '791b77df-7956-41b6-8442-5ec...</td>\n",
       "      <td>agentes políticos salário</td>\n",
       "      <td>1f8ece22-ca23-4805-bfa7-0e9d3fdabe6d</td>\n",
       "      <td>0</td>\n",
       "    </tr>\n",
       "    <tr>\n",
       "      <th>449</th>\n",
       "      <td>Capa do Processo          Nº do Processo: 5005...</td>\n",
       "      <td>BmeA2H0BazwYFyieznRs</td>\n",
       "      <td>[{'label': {'id': '791b77df-7956-41b6-8442-5ec...</td>\n",
       "      <td>agentes políticos salário</td>\n",
       "      <td>1f8ece22-ca23-4805-bfa7-0e9d3fdabe6d</td>\n",
       "      <td>0</td>\n",
       "    </tr>\n",
       "  </tbody>\n",
       "</table>\n",
       "<p>450 rows × 6 columns</p>\n",
       "</div>"
      ],
      "text/plain": [
       "                                                  text                   _id  \\\n",
       "0    \\n\\nDocumento:20000110607\\n\\n\\n\\n\\nPoder Judic...  72ie2H0BazwYFyie8dgm   \n",
       "1    \\n\\nDocumento:20000006496\\n\\n\\n\\n\\nPoder Judic...  B2eH2H0BazwYFyieir4V   \n",
       "2    \\n\\nDocumento:20000085491\\n\\n\\n\\n\\nPoder Judic...  J2if2H0BazwYFyiel-E3   \n",
       "3    \\n\\nDocumento:20000020010\\n\\n\\n\\n\\nPoder Judic...  rmmo2H0BazwYFyienEO8   \n",
       "4    \\n\\nDocumento:20000006495\\n\\n\\n\\n\\nPoder Judic...  BmeH2H0BazwYFyieir4V   \n",
       "..                                                 ...                   ...   \n",
       "445  Capa do Processo          Nº do Processo: 5005...  gGiV2H0BazwYFyieT2Sg   \n",
       "446  Capa do Processo          Nº do Processo: 5038...  Emia2H0BazwYFyievaaa   \n",
       "447  \\n\\nDocumento:20000035467\\n\\n\\n\\n\\nPoder Judic...  qWeF2H0BazwYFyieq6f_   \n",
       "448  Capa do Processo          Nº do Processo: 5000...  LGZx2H0BazwYFyiehrs2   \n",
       "449  Capa do Processo          Nº do Processo: 5005...  BmeA2H0BazwYFyieznRs   \n",
       "\n",
       "                                                labels  \\\n",
       "0    [{'label': {'id': '9e2e8d1f-46c7-452f-a202-f25...   \n",
       "1    [{'label': {'id': '9e2e8d1f-46c7-452f-a202-f25...   \n",
       "2    [{'label': {'id': '9e2e8d1f-46c7-452f-a202-f25...   \n",
       "3    [{'label': {'id': '9e2e8d1f-46c7-452f-a202-f25...   \n",
       "4    [{'label': {'id': '9e2e8d1f-46c7-452f-a202-f25...   \n",
       "..                                                 ...   \n",
       "445  [{'label': {'id': '791b77df-7956-41b6-8442-5ec...   \n",
       "446  [{'label': {'id': '791b77df-7956-41b6-8442-5ec...   \n",
       "447  [{'label': {'id': '791b77df-7956-41b6-8442-5ec...   \n",
       "448  [{'label': {'id': '791b77df-7956-41b6-8442-5ec...   \n",
       "449  [{'label': {'id': '791b77df-7956-41b6-8442-5ec...   \n",
       "\n",
       "                         query                              query_id  label  \n",
       "0              planos de saúde  001404da-7082-4c96-8300-dd7836fb8f47      1  \n",
       "1              planos de saúde  001404da-7082-4c96-8300-dd7836fb8f47      1  \n",
       "2              planos de saúde  001404da-7082-4c96-8300-dd7836fb8f47      1  \n",
       "3              planos de saúde  001404da-7082-4c96-8300-dd7836fb8f47      1  \n",
       "4              planos de saúde  001404da-7082-4c96-8300-dd7836fb8f47      1  \n",
       "..                         ...                                   ...    ...  \n",
       "445  agentes políticos salário  1f8ece22-ca23-4805-bfa7-0e9d3fdabe6d      0  \n",
       "446  agentes políticos salário  1f8ece22-ca23-4805-bfa7-0e9d3fdabe6d      0  \n",
       "447  agentes políticos salário  1f8ece22-ca23-4805-bfa7-0e9d3fdabe6d      0  \n",
       "448  agentes políticos salário  1f8ece22-ca23-4805-bfa7-0e9d3fdabe6d      0  \n",
       "449  agentes políticos salário  1f8ece22-ca23-4805-bfa7-0e9d3fdabe6d      0  \n",
       "\n",
       "[450 rows x 6 columns]"
      ]
     },
     "execution_count": 2,
     "metadata": {},
     "output_type": "execute_result"
    }
   ],
   "source": [
    "feedbacks = []\n",
    "for name in glob.glob('./export*/*.json'):\n",
    "    with open(name, \"r\") as feedback:\n",
    "        feedbacks += json.load(feedback)\n",
    "feedbacks = pd.DataFrame(feedbacks)\n",
    "\n",
    "def change_corresponding(row):\n",
    "    for elem in row[\"corresponding\"]:\n",
    "        elem[\"query\"] = row[\"text\"]\n",
    "        elem[\"query_id\"] = row[\"_id\"]\n",
    "    return row[\"corresponding\"]\n",
    "feedbacks[\"corresponding\"] = feedbacks.apply(lambda row: change_corresponding(row) ,axis=1)\n",
    "\n",
    "feedbacks = pd.json_normalize(feedbacks.explode(\"corresponding\")[\"corresponding\"])\n",
    "feedbacks = feedbacks[feedbacks[\"labels\"].apply(lambda x: bool(x))]\n",
    "feedbacks[\"label\"] = feedbacks[\"labels\"].apply(lambda x: 1 if x[0][\"label\"][\"name\"] == \"Relevante\" else 0)\n",
    "feedbacks[\"query\"] = feedbacks[\"query\"].apply(lambda x: x.replace(\"CONSULTA: \", \"\"))\n",
    "feedbacks"
   ]
  },
  {
   "cell_type": "code",
   "execution_count": 3,
   "metadata": {},
   "outputs": [
    {
     "data": {
      "text/html": [
       "<div>\n",
       "<style scoped>\n",
       "    .dataframe tbody tr th:only-of-type {\n",
       "        vertical-align: middle;\n",
       "    }\n",
       "\n",
       "    .dataframe tbody tr th {\n",
       "        vertical-align: top;\n",
       "    }\n",
       "\n",
       "    .dataframe thead th {\n",
       "        text-align: right;\n",
       "    }\n",
       "</style>\n",
       "<table border=\"1\" class=\"dataframe\">\n",
       "  <thead>\n",
       "    <tr style=\"text-align: right;\">\n",
       "      <th></th>\n",
       "      <th>text</th>\n",
       "      <th>query</th>\n",
       "      <th>label</th>\n",
       "    </tr>\n",
       "  </thead>\n",
       "  <tbody>\n",
       "    <tr>\n",
       "      <th>0</th>\n",
       "      <td>\\n\\nDocumento:20000110607\\n\\n\\n\\n\\nPoder Judic...</td>\n",
       "      <td>planos de saúde</td>\n",
       "      <td>1</td>\n",
       "    </tr>\n",
       "    <tr>\n",
       "      <th>1</th>\n",
       "      <td>\\n\\nDocumento:20000006496\\n\\n\\n\\n\\nPoder Judic...</td>\n",
       "      <td>planos de saúde</td>\n",
       "      <td>1</td>\n",
       "    </tr>\n",
       "    <tr>\n",
       "      <th>2</th>\n",
       "      <td>\\n\\nDocumento:20000085491\\n\\n\\n\\n\\nPoder Judic...</td>\n",
       "      <td>planos de saúde</td>\n",
       "      <td>1</td>\n",
       "    </tr>\n",
       "    <tr>\n",
       "      <th>3</th>\n",
       "      <td>\\n\\nDocumento:20000020010\\n\\n\\n\\n\\nPoder Judic...</td>\n",
       "      <td>planos de saúde</td>\n",
       "      <td>1</td>\n",
       "    </tr>\n",
       "    <tr>\n",
       "      <th>4</th>\n",
       "      <td>\\n\\nDocumento:20000006495\\n\\n\\n\\n\\nPoder Judic...</td>\n",
       "      <td>planos de saúde</td>\n",
       "      <td>1</td>\n",
       "    </tr>\n",
       "    <tr>\n",
       "      <th>...</th>\n",
       "      <td>...</td>\n",
       "      <td>...</td>\n",
       "      <td>...</td>\n",
       "    </tr>\n",
       "    <tr>\n",
       "      <th>445</th>\n",
       "      <td>Capa do Processo          Nº do Processo: 5005...</td>\n",
       "      <td>agentes políticos salário</td>\n",
       "      <td>0</td>\n",
       "    </tr>\n",
       "    <tr>\n",
       "      <th>446</th>\n",
       "      <td>Capa do Processo          Nº do Processo: 5038...</td>\n",
       "      <td>agentes políticos salário</td>\n",
       "      <td>0</td>\n",
       "    </tr>\n",
       "    <tr>\n",
       "      <th>447</th>\n",
       "      <td>\\n\\nDocumento:20000035467\\n\\n\\n\\n\\nPoder Judic...</td>\n",
       "      <td>agentes políticos salário</td>\n",
       "      <td>0</td>\n",
       "    </tr>\n",
       "    <tr>\n",
       "      <th>448</th>\n",
       "      <td>Capa do Processo          Nº do Processo: 5000...</td>\n",
       "      <td>agentes políticos salário</td>\n",
       "      <td>0</td>\n",
       "    </tr>\n",
       "    <tr>\n",
       "      <th>449</th>\n",
       "      <td>Capa do Processo          Nº do Processo: 5005...</td>\n",
       "      <td>agentes políticos salário</td>\n",
       "      <td>0</td>\n",
       "    </tr>\n",
       "  </tbody>\n",
       "</table>\n",
       "<p>450 rows × 3 columns</p>\n",
       "</div>"
      ],
      "text/plain": [
       "                                                  text  \\\n",
       "0    \\n\\nDocumento:20000110607\\n\\n\\n\\n\\nPoder Judic...   \n",
       "1    \\n\\nDocumento:20000006496\\n\\n\\n\\n\\nPoder Judic...   \n",
       "2    \\n\\nDocumento:20000085491\\n\\n\\n\\n\\nPoder Judic...   \n",
       "3    \\n\\nDocumento:20000020010\\n\\n\\n\\n\\nPoder Judic...   \n",
       "4    \\n\\nDocumento:20000006495\\n\\n\\n\\n\\nPoder Judic...   \n",
       "..                                                 ...   \n",
       "445  Capa do Processo          Nº do Processo: 5005...   \n",
       "446  Capa do Processo          Nº do Processo: 5038...   \n",
       "447  \\n\\nDocumento:20000035467\\n\\n\\n\\n\\nPoder Judic...   \n",
       "448  Capa do Processo          Nº do Processo: 5000...   \n",
       "449  Capa do Processo          Nº do Processo: 5005...   \n",
       "\n",
       "                         query  label  \n",
       "0              planos de saúde      1  \n",
       "1              planos de saúde      1  \n",
       "2              planos de saúde      1  \n",
       "3              planos de saúde      1  \n",
       "4              planos de saúde      1  \n",
       "..                         ...    ...  \n",
       "445  agentes políticos salário      0  \n",
       "446  agentes políticos salário      0  \n",
       "447  agentes políticos salário      0  \n",
       "448  agentes políticos salário      0  \n",
       "449  agentes políticos salário      0  \n",
       "\n",
       "[450 rows x 3 columns]"
      ]
     },
     "execution_count": 3,
     "metadata": {},
     "output_type": "execute_result"
    }
   ],
   "source": [
    "feedbacks[[\"text\", \"query\", \"label\"]]"
   ]
  },
  {
   "cell_type": "markdown",
   "metadata": {},
   "source": [
    "## Análise"
   ]
  },
  {
   "cell_type": "code",
   "execution_count": 4,
   "metadata": {},
   "outputs": [
    {
     "data": {
      "text/html": [
       "<div>\n",
       "<style scoped>\n",
       "    .dataframe tbody tr th:only-of-type {\n",
       "        vertical-align: middle;\n",
       "    }\n",
       "\n",
       "    .dataframe tbody tr th {\n",
       "        vertical-align: top;\n",
       "    }\n",
       "\n",
       "    .dataframe thead th {\n",
       "        text-align: right;\n",
       "    }\n",
       "</style>\n",
       "<table border=\"1\" class=\"dataframe\">\n",
       "  <thead>\n",
       "    <tr style=\"text-align: right;\">\n",
       "      <th></th>\n",
       "      <th></th>\n",
       "      <th>label</th>\n",
       "      <th>count</th>\n",
       "    </tr>\n",
       "    <tr>\n",
       "      <th>_id</th>\n",
       "      <th>query_id</th>\n",
       "      <th></th>\n",
       "      <th></th>\n",
       "    </tr>\n",
       "  </thead>\n",
       "  <tbody>\n",
       "    <tr>\n",
       "      <th>-2d92H0BazwYFyieslD-</th>\n",
       "      <th>b4bb355d-e105-4b58-9bd1-c4421b89a058</th>\n",
       "      <td>1.0</td>\n",
       "      <td>1</td>\n",
       "    </tr>\n",
       "    <tr>\n",
       "      <th>-2id2H0BazwYFyiewsrT</th>\n",
       "      <th>40456087-473f-44f4-9aeb-6b8a61205c20</th>\n",
       "      <td>1.0</td>\n",
       "      <td>2</td>\n",
       "    </tr>\n",
       "    <tr>\n",
       "      <th>02Zt2H0BazwYFyiehJGF</th>\n",
       "      <th>a564b353-a905-4d5e-87d3-e50179a75e5c</th>\n",
       "      <td>0.0</td>\n",
       "      <td>1</td>\n",
       "    </tr>\n",
       "    <tr>\n",
       "      <th>02eE2H0BazwYFyie_Z-f</th>\n",
       "      <th>515c91af-935b-44a0-9034-2c067e06d796</th>\n",
       "      <td>0.0</td>\n",
       "      <td>1</td>\n",
       "    </tr>\n",
       "    <tr>\n",
       "      <th>0meK2H0BazwYFyieed7Q</th>\n",
       "      <th>a2f20a89-329a-4781-9ac3-80b3e1df8a93</th>\n",
       "      <td>1.0</td>\n",
       "      <td>2</td>\n",
       "    </tr>\n",
       "    <tr>\n",
       "      <th>...</th>\n",
       "      <th>...</th>\n",
       "      <td>...</td>\n",
       "      <td>...</td>\n",
       "    </tr>\n",
       "    <tr>\n",
       "      <th>zGmj2H0BazwYFyie5Q7v</th>\n",
       "      <th>d630e749-49cc-468e-a974-5f8cf9e609cc</th>\n",
       "      <td>1.0</td>\n",
       "      <td>1</td>\n",
       "    </tr>\n",
       "    <tr>\n",
       "      <th>zWeB2H0BazwYFyieX3dP</th>\n",
       "      <th>b4bb355d-e105-4b58-9bd1-c4421b89a058</th>\n",
       "      <td>1.0</td>\n",
       "      <td>1</td>\n",
       "    </tr>\n",
       "    <tr>\n",
       "      <th>zWid2H0BazwYFyielMjT</th>\n",
       "      <th>38ff53de-7e90-4dbb-b912-40a8c8c63de4</th>\n",
       "      <td>0.0</td>\n",
       "      <td>1</td>\n",
       "    </tr>\n",
       "    <tr>\n",
       "      <th>zWie2H0BazwYFyie8dkn</th>\n",
       "      <th>06b31304-b1bf-4d89-af61-d1d61904afe0</th>\n",
       "      <td>0.5</td>\n",
       "      <td>2</td>\n",
       "    </tr>\n",
       "    <tr>\n",
       "      <th>zmih2H0BazwYFyie8_zX</th>\n",
       "      <th>d630e749-49cc-468e-a974-5f8cf9e609cc</th>\n",
       "      <td>1.0</td>\n",
       "      <td>1</td>\n",
       "    </tr>\n",
       "  </tbody>\n",
       "</table>\n",
       "<p>300 rows × 2 columns</p>\n",
       "</div>"
      ],
      "text/plain": [
       "                                                           label  count\n",
       "_id                  query_id                                          \n",
       "-2d92H0BazwYFyieslD- b4bb355d-e105-4b58-9bd1-c4421b89a058    1.0      1\n",
       "-2id2H0BazwYFyiewsrT 40456087-473f-44f4-9aeb-6b8a61205c20    1.0      2\n",
       "02Zt2H0BazwYFyiehJGF a564b353-a905-4d5e-87d3-e50179a75e5c    0.0      1\n",
       "02eE2H0BazwYFyie_Z-f 515c91af-935b-44a0-9034-2c067e06d796    0.0      1\n",
       "0meK2H0BazwYFyieed7Q a2f20a89-329a-4781-9ac3-80b3e1df8a93    1.0      2\n",
       "...                                                          ...    ...\n",
       "zGmj2H0BazwYFyie5Q7v d630e749-49cc-468e-a974-5f8cf9e609cc    1.0      1\n",
       "zWeB2H0BazwYFyieX3dP b4bb355d-e105-4b58-9bd1-c4421b89a058    1.0      1\n",
       "zWid2H0BazwYFyielMjT 38ff53de-7e90-4dbb-b912-40a8c8c63de4    0.0      1\n",
       "zWie2H0BazwYFyie8dkn 06b31304-b1bf-4d89-af61-d1d61904afe0    0.5      2\n",
       "zmih2H0BazwYFyie8_zX d630e749-49cc-468e-a974-5f8cf9e609cc    1.0      1\n",
       "\n",
       "[300 rows x 2 columns]"
      ]
     },
     "execution_count": 4,
     "metadata": {},
     "output_type": "execute_result"
    }
   ],
   "source": [
    "scores = feedbacks.groupby([\"_id\", \"query_id\"])[\"label\"].mean().to_frame()\n",
    "scores[\"count\"] = feedbacks.groupby([\"_id\", \"query_id\"])[\"label\"].count()\n",
    "scores"
   ]
  },
  {
   "cell_type": "code",
   "execution_count": 5,
   "metadata": {},
   "outputs": [
    {
     "data": {
      "text/plain": [
       "0.0    186\n",
       "1.0     84\n",
       "0.5     30\n",
       "Name: label, dtype: int64"
      ]
     },
     "execution_count": 5,
     "metadata": {},
     "output_type": "execute_result"
    }
   ],
   "source": [
    "scores[\"label\"].value_counts()"
   ]
  },
  {
   "cell_type": "code",
   "execution_count": 6,
   "metadata": {},
   "outputs": [
    {
     "data": {
      "text/plain": [
       "<matplotlib.axes._subplots.AxesSubplot at 0x7fc133353c50>"
      ]
     },
     "execution_count": 6,
     "metadata": {},
     "output_type": "execute_result"
    }
   ],
   "source": [
    "scores[\"count\"].hist()"
   ]
  },
  {
   "cell_type": "code",
   "execution_count": 7,
   "metadata": {},
   "outputs": [],
   "source": [
    "dataset = scores #need to save it here"
   ]
  },
  {
   "cell_type": "markdown",
   "metadata": {},
   "source": [
    "### Apenas entradas com todos os rótulos"
   ]
  },
  {
   "cell_type": "code",
   "execution_count": 8,
   "metadata": {},
   "outputs": [],
   "source": [
    "all_scores = scores[scores[\"count\"] == 2]"
   ]
  },
  {
   "cell_type": "code",
   "execution_count": 9,
   "metadata": {},
   "outputs": [
    {
     "data": {
      "text/plain": [
       "<matplotlib.axes._subplots.AxesSubplot at 0x7fc12afeeef0>"
      ]
     },
     "execution_count": 9,
     "metadata": {},
     "output_type": "execute_result"
    },
    {
     "data": {
      "image/png": "[encoded data removed]",
      "text/plain": [
       "<Figure size 432x288 with 1 Axes>"
      ]
     },
     "metadata": {
      "needs_background": "light"
     },
     "output_type": "display_data"
    }
   ],
   "source": [
    "all_scores[\"label\"].hist()"
   ]
  },
  {
   "cell_type": "code",
   "execution_count": 10,
   "metadata": {},
   "outputs": [
    {
     "data": {
      "text/plain": [
       "0.0    85\n",
       "1.0    35\n",
       "0.5    30\n",
       "Name: label, dtype: int64"
      ]
     },
     "execution_count": 10,
     "metadata": {},
     "output_type": "execute_result"
    }
   ],
   "source": [
    "all_scores[\"label\"].value_counts()"
   ]
  },
  {
   "cell_type": "code",
   "execution_count": 11,
   "metadata": {},
   "outputs": [
    {
     "name": "stdout",
     "output_type": "stream",
     "text": [
      "Observed agreement:  0.8\n"
     ]
    }
   ],
   "source": [
    "print(\"Observed agreement: \", 1 - (len([i for i in list(all_scores[\"label\"]) if i == 0.5]) / len(all_scores)))"
   ]
  },
  {
   "cell_type": "code",
   "execution_count": 12,
   "metadata": {},
   "outputs": [],
   "source": [
    "# consultas sem nenhum relevante"
   ]
  },
  {
   "cell_type": "markdown",
   "metadata": {},
   "source": [
    "## Análise por modelo"
   ]
  },
  {
   "cell_type": "code",
   "execution_count": 13,
   "metadata": {},
   "outputs": [
    {
     "data": {
      "text/html": [
       "<div>\n",
       "<style scoped>\n",
       "    .dataframe tbody tr th:only-of-type {\n",
       "        vertical-align: middle;\n",
       "    }\n",
       "\n",
       "    .dataframe tbody tr th {\n",
       "        vertical-align: top;\n",
       "    }\n",
       "\n",
       "    .dataframe thead th {\n",
       "        text-align: right;\n",
       "    }\n",
       "</style>\n",
       "<table border=\"1\" class=\"dataframe\">\n",
       "  <thead>\n",
       "    <tr style=\"text-align: right;\">\n",
       "      <th></th>\n",
       "      <th>query_id</th>\n",
       "      <th>_id</th>\n",
       "      <th>origin</th>\n",
       "      <th>text</th>\n",
       "      <th>labels</th>\n",
       "      <th>query</th>\n",
       "      <th>label</th>\n",
       "    </tr>\n",
       "  </thead>\n",
       "  <tbody>\n",
       "    <tr>\n",
       "      <th>0</th>\n",
       "      <td>001404da-7082-4c96-8300-dd7836fb8f47</td>\n",
       "      <td>72ie2H0BazwYFyie8dgm</td>\n",
       "      <td>dense</td>\n",
       "      <td>\\n\\nDocumento:20000110607\\n\\n\\n\\n\\nPoder Judic...</td>\n",
       "      <td>[{'label': {'id': '9e2e8d1f-46c7-452f-a202-f25...</td>\n",
       "      <td>planos de saúde</td>\n",
       "      <td>1</td>\n",
       "    </tr>\n",
       "    <tr>\n",
       "      <th>1</th>\n",
       "      <td>001404da-7082-4c96-8300-dd7836fb8f47</td>\n",
       "      <td>72ie2H0BazwYFyie8dgm</td>\n",
       "      <td>dense</td>\n",
       "      <td>\\n\\nDocumento:20000110607\\n\\n\\n\\n\\nPoder Judic...</td>\n",
       "      <td>[{'label': {'id': '9e2e8d1f-46c7-452f-a202-f25...</td>\n",
       "      <td>planos de saúde</td>\n",
       "      <td>1</td>\n",
       "    </tr>\n",
       "    <tr>\n",
       "      <th>2</th>\n",
       "      <td>001404da-7082-4c96-8300-dd7836fb8f47</td>\n",
       "      <td>B2eH2H0BazwYFyieir4V</td>\n",
       "      <td>dense</td>\n",
       "      <td>\\n\\nDocumento:20000006496\\n\\n\\n\\n\\nPoder Judic...</td>\n",
       "      <td>[{'label': {'id': '9e2e8d1f-46c7-452f-a202-f25...</td>\n",
       "      <td>planos de saúde</td>\n",
       "      <td>1</td>\n",
       "    </tr>\n",
       "    <tr>\n",
       "      <th>3</th>\n",
       "      <td>001404da-7082-4c96-8300-dd7836fb8f47</td>\n",
       "      <td>B2eH2H0BazwYFyieir4V</td>\n",
       "      <td>dense</td>\n",
       "      <td>\\n\\nDocumento:20000006496\\n\\n\\n\\n\\nPoder Judic...</td>\n",
       "      <td>[{'label': {'id': '9e2e8d1f-46c7-452f-a202-f25...</td>\n",
       "      <td>planos de saúde</td>\n",
       "      <td>1</td>\n",
       "    </tr>\n",
       "    <tr>\n",
       "      <th>4</th>\n",
       "      <td>001404da-7082-4c96-8300-dd7836fb8f47</td>\n",
       "      <td>J2if2H0BazwYFyiel-E3</td>\n",
       "      <td>dirisparse</td>\n",
       "      <td>\\n\\nDocumento:20000085491\\n\\n\\n\\n\\nPoder Judic...</td>\n",
       "      <td>[{'label': {'id': '9e2e8d1f-46c7-452f-a202-f25...</td>\n",
       "      <td>planos de saúde</td>\n",
       "      <td>1</td>\n",
       "    </tr>\n",
       "    <tr>\n",
       "      <th>...</th>\n",
       "      <td>...</td>\n",
       "      <td>...</td>\n",
       "      <td>...</td>\n",
       "      <td>...</td>\n",
       "      <td>...</td>\n",
       "      <td>...</td>\n",
       "      <td>...</td>\n",
       "    </tr>\n",
       "    <tr>\n",
       "      <th>445</th>\n",
       "      <td>11fab1c0-d934-4084-bac5-3c67c1600f4e</td>\n",
       "      <td>U2eF2H0BazwYFyieVqRL</td>\n",
       "      <td>dense</td>\n",
       "      <td>\\n\\nDocumento:20000093124\\n\\n\\n\\n\\nPoder Judic...</td>\n",
       "      <td>[{'label': {'id': '9e2e8d1f-46c7-452f-a202-f25...</td>\n",
       "      <td>transparência no processo licitatório</td>\n",
       "      <td>1</td>\n",
       "    </tr>\n",
       "    <tr>\n",
       "      <th>446</th>\n",
       "      <td>11fab1c0-d934-4084-bac5-3c67c1600f4e</td>\n",
       "      <td>smeB2H0BazwYFyiev3sU</td>\n",
       "      <td>dirisparse</td>\n",
       "      <td>\\n\\nDocumento:20000096246\\n\\n\\n\\n\\nPoder Judic...</td>\n",
       "      <td>[{'label': {'id': '9e2e8d1f-46c7-452f-a202-f25...</td>\n",
       "      <td>transparência no processo licitatório</td>\n",
       "      <td>1</td>\n",
       "    </tr>\n",
       "    <tr>\n",
       "      <th>447</th>\n",
       "      <td>11fab1c0-d934-4084-bac5-3c67c1600f4e</td>\n",
       "      <td>XWie2H0BazwYFyieP9A6</td>\n",
       "      <td>dirisparse</td>\n",
       "      <td>\\n\\nDocumento:20000064218\\n\\n\\n\\n\\nPoder Judic...</td>\n",
       "      <td>[{'label': {'id': '791b77df-7956-41b6-8442-5ec...</td>\n",
       "      <td>transparência no processo licitatório</td>\n",
       "      <td>0</td>\n",
       "    </tr>\n",
       "    <tr>\n",
       "      <th>448</th>\n",
       "      <td>11fab1c0-d934-4084-bac5-3c67c1600f4e</td>\n",
       "      <td>XGeH2H0BazwYFyieX7yh</td>\n",
       "      <td>bm25sparse</td>\n",
       "      <td>\\n\\nDocumento:20000003375\\n\\n\\n\\n\\nPoder Judic...</td>\n",
       "      <td>[{'label': {'id': '9e2e8d1f-46c7-452f-a202-f25...</td>\n",
       "      <td>transparência no processo licitatório</td>\n",
       "      <td>1</td>\n",
       "    </tr>\n",
       "    <tr>\n",
       "      <th>449</th>\n",
       "      <td>11fab1c0-d934-4084-bac5-3c67c1600f4e</td>\n",
       "      <td>6WeG2H0BazwYFyiesrPJ</td>\n",
       "      <td>bm25sparse</td>\n",
       "      <td>\\n\\nDocumento:20000018336\\n\\n\\n\\n\\nPoder Judic...</td>\n",
       "      <td>[{'label': {'id': '791b77df-7956-41b6-8442-5ec...</td>\n",
       "      <td>transparência no processo licitatório</td>\n",
       "      <td>0</td>\n",
       "    </tr>\n",
       "  </tbody>\n",
       "</table>\n",
       "<p>450 rows × 7 columns</p>\n",
       "</div>"
      ],
      "text/plain": [
       "                                 query_id                   _id      origin  \\\n",
       "0    001404da-7082-4c96-8300-dd7836fb8f47  72ie2H0BazwYFyie8dgm       dense   \n",
       "1    001404da-7082-4c96-8300-dd7836fb8f47  72ie2H0BazwYFyie8dgm       dense   \n",
       "2    001404da-7082-4c96-8300-dd7836fb8f47  B2eH2H0BazwYFyieir4V       dense   \n",
       "3    001404da-7082-4c96-8300-dd7836fb8f47  B2eH2H0BazwYFyieir4V       dense   \n",
       "4    001404da-7082-4c96-8300-dd7836fb8f47  J2if2H0BazwYFyiel-E3  dirisparse   \n",
       "..                                    ...                   ...         ...   \n",
       "445  11fab1c0-d934-4084-bac5-3c67c1600f4e  U2eF2H0BazwYFyieVqRL       dense   \n",
       "446  11fab1c0-d934-4084-bac5-3c67c1600f4e  smeB2H0BazwYFyiev3sU  dirisparse   \n",
       "447  11fab1c0-d934-4084-bac5-3c67c1600f4e  XWie2H0BazwYFyieP9A6  dirisparse   \n",
       "448  11fab1c0-d934-4084-bac5-3c67c1600f4e  XGeH2H0BazwYFyieX7yh  bm25sparse   \n",
       "449  11fab1c0-d934-4084-bac5-3c67c1600f4e  6WeG2H0BazwYFyiesrPJ  bm25sparse   \n",
       "\n",
       "                                                  text  \\\n",
       "0    \\n\\nDocumento:20000110607\\n\\n\\n\\n\\nPoder Judic...   \n",
       "1    \\n\\nDocumento:20000110607\\n\\n\\n\\n\\nPoder Judic...   \n",
       "2    \\n\\nDocumento:20000006496\\n\\n\\n\\n\\nPoder Judic...   \n",
       "3    \\n\\nDocumento:20000006496\\n\\n\\n\\n\\nPoder Judic...   \n",
       "4    \\n\\nDocumento:20000085491\\n\\n\\n\\n\\nPoder Judic...   \n",
       "..                                                 ...   \n",
       "445  \\n\\nDocumento:20000093124\\n\\n\\n\\n\\nPoder Judic...   \n",
       "446  \\n\\nDocumento:20000096246\\n\\n\\n\\n\\nPoder Judic...   \n",
       "447  \\n\\nDocumento:20000064218\\n\\n\\n\\n\\nPoder Judic...   \n",
       "448  \\n\\nDocumento:20000003375\\n\\n\\n\\n\\nPoder Judic...   \n",
       "449  \\n\\nDocumento:20000018336\\n\\n\\n\\n\\nPoder Judic...   \n",
       "\n",
       "                                                labels  \\\n",
       "0    [{'label': {'id': '9e2e8d1f-46c7-452f-a202-f25...   \n",
       "1    [{'label': {'id': '9e2e8d1f-46c7-452f-a202-f25...   \n",
       "2    [{'label': {'id': '9e2e8d1f-46c7-452f-a202-f25...   \n",
       "3    [{'label': {'id': '9e2e8d1f-46c7-452f-a202-f25...   \n",
       "4    [{'label': {'id': '9e2e8d1f-46c7-452f-a202-f25...   \n",
       "..                                                 ...   \n",
       "445  [{'label': {'id': '9e2e8d1f-46c7-452f-a202-f25...   \n",
       "446  [{'label': {'id': '9e2e8d1f-46c7-452f-a202-f25...   \n",
       "447  [{'label': {'id': '791b77df-7956-41b6-8442-5ec...   \n",
       "448  [{'label': {'id': '9e2e8d1f-46c7-452f-a202-f25...   \n",
       "449  [{'label': {'id': '791b77df-7956-41b6-8442-5ec...   \n",
       "\n",
       "                                     query  label  \n",
       "0                          planos de saúde      1  \n",
       "1                          planos de saúde      1  \n",
       "2                          planos de saúde      1  \n",
       "3                          planos de saúde      1  \n",
       "4                          planos de saúde      1  \n",
       "..                                     ...    ...  \n",
       "445  transparência no processo licitatório      1  \n",
       "446  transparência no processo licitatório      1  \n",
       "447  transparência no processo licitatório      0  \n",
       "448  transparência no processo licitatório      1  \n",
       "449  transparência no processo licitatório      0  \n",
       "\n",
       "[450 rows x 7 columns]"
      ]
     },
     "execution_count": 13,
     "metadata": {},
     "output_type": "execute_result"
    }
   ],
   "source": [
    "original_feedbacks = []\n",
    "with open(\"feedback_queries_final.json\", \"r\") as feedback:\n",
    "    original_feedbacks += json.load(feedback)\n",
    "original_feedbacks = pd.DataFrame(original_feedbacks)\n",
    "\n",
    "def change_corresponding(row):\n",
    "    for elem in row[\"corresponding\"]:\n",
    "        elem[\"query\"] = row[\"text\"]\n",
    "        elem[\"query_id\"] = row[\"_id\"]\n",
    "    return row[\"corresponding\"]\n",
    "original_feedbacks[\"corresponding\"] = original_feedbacks.apply(lambda row: change_corresponding(row) ,axis=1)\n",
    "\n",
    "original_feedbacks = pd.json_normalize(original_feedbacks.explode(\"corresponding\")[\"corresponding\"])\n",
    "original_feedbacks[\"query\"] = original_feedbacks[\"query\"].apply(lambda x: x.replace(\"CONSULTA: \", \"\"))\n",
    "original_feedbacks = pd.merge(original_feedbacks[[\"query_id\", \"_id\", \"origin\"]], feedbacks, on=[\"query_id\", \"_id\"])\n",
    "original_feedbacks"
   ]
  },
  {
   "cell_type": "code",
   "execution_count": 14,
   "metadata": {},
   "outputs": [
    {
     "data": {
      "text/html": [
       "<div>\n",
       "<style scoped>\n",
       "    .dataframe tbody tr th:only-of-type {\n",
       "        vertical-align: middle;\n",
       "    }\n",
       "\n",
       "    .dataframe tbody tr th {\n",
       "        vertical-align: top;\n",
       "    }\n",
       "\n",
       "    .dataframe thead th {\n",
       "        text-align: right;\n",
       "    }\n",
       "</style>\n",
       "<table border=\"1\" class=\"dataframe\">\n",
       "  <thead>\n",
       "    <tr style=\"text-align: right;\">\n",
       "      <th></th>\n",
       "      <th>label</th>\n",
       "    </tr>\n",
       "    <tr>\n",
       "      <th>origin</th>\n",
       "      <th></th>\n",
       "    </tr>\n",
       "  </thead>\n",
       "  <tbody>\n",
       "    <tr>\n",
       "      <th>bm25sparse</th>\n",
       "      <td>0.313333</td>\n",
       "    </tr>\n",
       "    <tr>\n",
       "      <th>dense</th>\n",
       "      <td>0.366667</td>\n",
       "    </tr>\n",
       "    <tr>\n",
       "      <th>dirisparse</th>\n",
       "      <td>0.313333</td>\n",
       "    </tr>\n",
       "  </tbody>\n",
       "</table>\n",
       "</div>"
      ],
      "text/plain": [
       "               label\n",
       "origin              \n",
       "bm25sparse  0.313333\n",
       "dense       0.366667\n",
       "dirisparse  0.313333"
      ]
     },
     "execution_count": 14,
     "metadata": {},
     "output_type": "execute_result"
    }
   ],
   "source": [
    "original_feedbacks.groupby(\"origin\")[\"label\"].mean().to_frame()"
   ]
  },
  {
   "cell_type": "markdown",
   "metadata": {},
   "source": [
    "## Análise por avaliador"
   ]
  },
  {
   "cell_type": "code",
   "execution_count": 15,
   "metadata": {},
   "outputs": [],
   "source": [
    "feedbacks[\"user\"] = feedbacks[\"labels\"].apply(lambda x: x[0][\"user\"][\"name\"])"
   ]
  },
  {
   "cell_type": "code",
   "execution_count": 16,
   "metadata": {},
   "outputs": [
    {
     "data": {
      "text/html": [
       "<div>\n",
       "<style scoped>\n",
       "    .dataframe tbody tr th:only-of-type {\n",
       "        vertical-align: middle;\n",
       "    }\n",
       "\n",
       "    .dataframe tbody tr th {\n",
       "        vertical-align: top;\n",
       "    }\n",
       "\n",
       "    .dataframe thead th {\n",
       "        text-align: right;\n",
       "    }\n",
       "</style>\n",
       "<table border=\"1\" class=\"dataframe\">\n",
       "  <thead>\n",
       "    <tr style=\"text-align: right;\">\n",
       "      <th></th>\n",
       "      <th>label</th>\n",
       "    </tr>\n",
       "    <tr>\n",
       "      <th>user</th>\n",
       "      <th></th>\n",
       "    </tr>\n",
       "  </thead>\n",
       "  <tbody>\n",
       "    <tr>\n",
       "      <th>Elves Rodrigues</th>\n",
       "      <td>0.280000</td>\n",
       "    </tr>\n",
       "    <tr>\n",
       "      <th>Rafael Glater</th>\n",
       "      <td>0.406667</td>\n",
       "    </tr>\n",
       "    <tr>\n",
       "      <th>Rennan Cordeiro Lima</th>\n",
       "      <td>0.306667</td>\n",
       "    </tr>\n",
       "  </tbody>\n",
       "</table>\n",
       "</div>"
      ],
      "text/plain": [
       "                         label\n",
       "user                          \n",
       "Elves Rodrigues       0.280000\n",
       "Rafael Glater         0.406667\n",
       "Rennan Cordeiro Lima  0.306667"
      ]
     },
     "execution_count": 16,
     "metadata": {},
     "output_type": "execute_result"
    }
   ],
   "source": [
    "feedbacks.groupby(\"user\")[\"label\"].mean().to_frame()"
   ]
  },
  {
   "cell_type": "markdown",
   "metadata": {},
   "source": [
    "# Inter-rater agreement\n"
   ]
  },
  {
   "cell_type": "markdown",
   "metadata": {},
   "source": [
    "* Fleiss’s Kappa is an extension of Cohen’s kappa for three raters or more. In addition, the assumption with Cohen’s kappa is that your raters are deliberately chosen and fixed. With Fleiss’ kappa, the assumption is that your raters were chosen at random from a larger population.\n",
    "\n",
    "* Kendall’s Tau is used when you have ranked data, like two people ordering 10 candidates from most preferred to least preferred.\n",
    "\n",
    "* Krippendorff’s alpha is useful when you have multiple raters and multiple possible ratings."
   ]
  },
  {
   "cell_type": "markdown",
   "metadata": {},
   "source": [
    "### Kappas"
   ]
  },
  {
   "cell_type": "code",
   "execution_count": 17,
   "metadata": {},
   "outputs": [],
   "source": [
    "scores = feedbacks.groupby([\"_id\", \"query_id\"])[\"label\"].apply(list).to_frame()\n",
    "scores[\"count\"] = feedbacks.groupby([\"_id\", \"query_id\"])[\"label\"].count()\n",
    "all_scores = scores[scores[\"count\"] == 2]"
   ]
  },
  {
   "cell_type": "code",
   "execution_count": 18,
   "metadata": {},
   "outputs": [],
   "source": [
    "rater1 = [i[0] for i in list(all_scores[\"label\"])]\n",
    "rater2 = [i[1] for i in list(all_scores[\"label\"])]"
   ]
  },
  {
   "cell_type": "code",
   "execution_count": 19,
   "metadata": {},
   "outputs": [
    {
     "data": {
      "text/plain": [
       "0.5556872037914692"
      ]
     },
     "execution_count": 19,
     "metadata": {},
     "output_type": "execute_result"
    }
   ],
   "source": [
    "from sklearn.metrics import cohen_kappa_score\n",
    "cohen_kappa_score(rater1, rater2)"
   ]
  },
  {
   "cell_type": "code",
   "execution_count": 20,
   "metadata": {},
   "outputs": [
    {
     "data": {
      "text/html": [
       "<img src=\"https://miro.medium.com/max/1400/1*mHB6Ciljb4OnOacNWgc0aw.png\"/>"
      ],
      "text/plain": [
       "<IPython.core.display.Image object>"
      ]
     },
     "execution_count": 20,
     "metadata": {},
     "output_type": "execute_result"
    }
   ],
   "source": [
    "from IPython.display import Image\n",
    "Image(url='https://miro.medium.com/max/1400/1*mHB6Ciljb4OnOacNWgc0aw.png')"
   ]
  },
  {
   "cell_type": "markdown",
   "metadata": {},
   "source": [
    "### Krippendorff"
   ]
  },
  {
   "cell_type": "code",
   "execution_count": 21,
   "metadata": {},
   "outputs": [
    {
     "data": {
      "text/html": [
       "<div>\n",
       "<style scoped>\n",
       "    .dataframe tbody tr th:only-of-type {\n",
       "        vertical-align: middle;\n",
       "    }\n",
       "\n",
       "    .dataframe tbody tr th {\n",
       "        vertical-align: top;\n",
       "    }\n",
       "\n",
       "    .dataframe thead th {\n",
       "        text-align: right;\n",
       "    }\n",
       "</style>\n",
       "<table border=\"1\" class=\"dataframe\">\n",
       "  <thead>\n",
       "    <tr style=\"text-align: right;\">\n",
       "      <th></th>\n",
       "      <th>text</th>\n",
       "      <th>_id</th>\n",
       "      <th>labels</th>\n",
       "      <th>query</th>\n",
       "      <th>query_id</th>\n",
       "      <th>label</th>\n",
       "      <th>user</th>\n",
       "      <th>entry</th>\n",
       "    </tr>\n",
       "  </thead>\n",
       "  <tbody>\n",
       "    <tr>\n",
       "      <th>0</th>\n",
       "      <td>\\n\\nDocumento:20000110607\\n\\n\\n\\n\\nPoder Judic...</td>\n",
       "      <td>72ie2H0BazwYFyie8dgm</td>\n",
       "      <td>[{'label': {'id': '9e2e8d1f-46c7-452f-a202-f25...</td>\n",
       "      <td>planos de saúde</td>\n",
       "      <td>001404da-7082-4c96-8300-dd7836fb8f47</td>\n",
       "      <td>1</td>\n",
       "      <td>01c719b5-ec9b-481a-b8a4-76e85867e599</td>\n",
       "      <td>72ie2H0BazwYFyie8dgm001404da-7082-4c96-8300-dd...</td>\n",
       "    </tr>\n",
       "    <tr>\n",
       "      <th>1</th>\n",
       "      <td>\\n\\nDocumento:20000006496\\n\\n\\n\\n\\nPoder Judic...</td>\n",
       "      <td>B2eH2H0BazwYFyieir4V</td>\n",
       "      <td>[{'label': {'id': '9e2e8d1f-46c7-452f-a202-f25...</td>\n",
       "      <td>planos de saúde</td>\n",
       "      <td>001404da-7082-4c96-8300-dd7836fb8f47</td>\n",
       "      <td>1</td>\n",
       "      <td>01c719b5-ec9b-481a-b8a4-76e85867e599</td>\n",
       "      <td>B2eH2H0BazwYFyieir4V001404da-7082-4c96-8300-dd...</td>\n",
       "    </tr>\n",
       "    <tr>\n",
       "      <th>2</th>\n",
       "      <td>\\n\\nDocumento:20000085491\\n\\n\\n\\n\\nPoder Judic...</td>\n",
       "      <td>J2if2H0BazwYFyiel-E3</td>\n",
       "      <td>[{'label': {'id': '9e2e8d1f-46c7-452f-a202-f25...</td>\n",
       "      <td>planos de saúde</td>\n",
       "      <td>001404da-7082-4c96-8300-dd7836fb8f47</td>\n",
       "      <td>1</td>\n",
       "      <td>01c719b5-ec9b-481a-b8a4-76e85867e599</td>\n",
       "      <td>J2if2H0BazwYFyiel-E3001404da-7082-4c96-8300-dd...</td>\n",
       "    </tr>\n",
       "  </tbody>\n",
       "</table>\n",
       "</div>"
      ],
      "text/plain": [
       "                                                text                   _id  \\\n",
       "0  \\n\\nDocumento:20000110607\\n\\n\\n\\n\\nPoder Judic...  72ie2H0BazwYFyie8dgm   \n",
       "1  \\n\\nDocumento:20000006496\\n\\n\\n\\n\\nPoder Judic...  B2eH2H0BazwYFyieir4V   \n",
       "2  \\n\\nDocumento:20000085491\\n\\n\\n\\n\\nPoder Judic...  J2if2H0BazwYFyiel-E3   \n",
       "\n",
       "                                              labels            query  \\\n",
       "0  [{'label': {'id': '9e2e8d1f-46c7-452f-a202-f25...  planos de saúde   \n",
       "1  [{'label': {'id': '9e2e8d1f-46c7-452f-a202-f25...  planos de saúde   \n",
       "2  [{'label': {'id': '9e2e8d1f-46c7-452f-a202-f25...  planos de saúde   \n",
       "\n",
       "                               query_id  label  \\\n",
       "0  001404da-7082-4c96-8300-dd7836fb8f47      1   \n",
       "1  001404da-7082-4c96-8300-dd7836fb8f47      1   \n",
       "2  001404da-7082-4c96-8300-dd7836fb8f47      1   \n",
       "\n",
       "                                   user  \\\n",
       "0  01c719b5-ec9b-481a-b8a4-76e85867e599   \n",
       "1  01c719b5-ec9b-481a-b8a4-76e85867e599   \n",
       "2  01c719b5-ec9b-481a-b8a4-76e85867e599   \n",
       "\n",
       "                                               entry  \n",
       "0  72ie2H0BazwYFyie8dgm001404da-7082-4c96-8300-dd...  \n",
       "1  B2eH2H0BazwYFyieir4V001404da-7082-4c96-8300-dd...  \n",
       "2  J2if2H0BazwYFyiel-E3001404da-7082-4c96-8300-dd...  "
      ]
     },
     "execution_count": 21,
     "metadata": {},
     "output_type": "execute_result"
    }
   ],
   "source": [
    "feedbacks[\"entry\"] = feedbacks.apply(lambda row: row[\"_id\"] + row[\"query_id\"] ,axis=1)\n",
    "feedbacks[\"user\"] = feedbacks[\"labels\"].apply(lambda x: x[0][\"user\"][\"id\"])\n",
    "feedbacks.head(3)"
   ]
  },
  {
   "cell_type": "code",
   "execution_count": 22,
   "metadata": {},
   "outputs": [
    {
     "name": "stdout",
     "output_type": "stream",
     "text": [
      "Krippendorff's alpha:  0.5515000000000001\n"
     ]
    }
   ],
   "source": [
    "import random\n",
    "import numpy as np\n",
    "import krippendorff\n",
    "users_strings = {}\n",
    "\n",
    "for user in feedbacks[\"user\"].unique():\n",
    "    users_strings[user] = []\n",
    "\n",
    "for entry in feedbacks[\"entry\"].unique():\n",
    "    f = feedbacks[feedbacks[\"entry\"] == entry]\n",
    "    for user in feedbacks[\"user\"].unique():\n",
    "        if user in list(f[\"user\"]):\n",
    "            users_strings[user] += [f[f[\"user\"] == user].iloc[0][\"label\"]]\n",
    "        else:\n",
    "            users_strings[user] += [np.nan]\n",
    "\n",
    "reliability_data = list(users_strings.values())\n",
    "np.array(reliability_data).dtype.kind\n",
    "value = krippendorff.alpha(reliability_data=reliability_data, value_domain=[0, 1], level_of_measurement=\"nominal\")\n",
    "print(\"Krippendorff's alpha: \", value)"
   ]
  },
  {
   "cell_type": "markdown",
   "metadata": {},
   "source": [
    "The minimum acceptable alpha coefficient should be chosen according to the importance of the conclusions to be drawn from imperfect data. When the costs of mistaken conclusions are high, the minimum alpha needs to be set high as well. In the absence of knowledge of the risks of drawing false conclusions from unreliable data, social scientists commonly rely on data with reliabilities α ≥ 0.800, consider data with 0.800 > α ≥ 0.667 only to draw tentative conclusions, and discard data whose agreement measures α < 0.667"
   ]
  },
  {
   "cell_type": "markdown",
   "metadata": {},
   "source": [
    "## Criação do dataset"
   ]
  },
  {
   "cell_type": "code",
   "execution_count": 23,
   "metadata": {},
   "outputs": [
    {
     "data": {
      "text/html": [
       "<div>\n",
       "<style scoped>\n",
       "    .dataframe tbody tr th:only-of-type {\n",
       "        vertical-align: middle;\n",
       "    }\n",
       "\n",
       "    .dataframe tbody tr th {\n",
       "        vertical-align: top;\n",
       "    }\n",
       "\n",
       "    .dataframe thead th {\n",
       "        text-align: right;\n",
       "    }\n",
       "</style>\n",
       "<table border=\"1\" class=\"dataframe\">\n",
       "  <thead>\n",
       "    <tr style=\"text-align: right;\">\n",
       "      <th></th>\n",
       "      <th>_id</th>\n",
       "      <th>query_id</th>\n",
       "      <th>label</th>\n",
       "      <th>count</th>\n",
       "      <th>final_label</th>\n",
       "    </tr>\n",
       "  </thead>\n",
       "  <tbody>\n",
       "    <tr>\n",
       "      <th>0</th>\n",
       "      <td>-2d92H0BazwYFyieslD-</td>\n",
       "      <td>b4bb355d-e105-4b58-9bd1-c4421b89a058</td>\n",
       "      <td>1.0</td>\n",
       "      <td>1</td>\n",
       "      <td>1</td>\n",
       "    </tr>\n",
       "    <tr>\n",
       "      <th>1</th>\n",
       "      <td>-2id2H0BazwYFyiewsrT</td>\n",
       "      <td>40456087-473f-44f4-9aeb-6b8a61205c20</td>\n",
       "      <td>1.0</td>\n",
       "      <td>2</td>\n",
       "      <td>1</td>\n",
       "    </tr>\n",
       "    <tr>\n",
       "      <th>2</th>\n",
       "      <td>02Zt2H0BazwYFyiehJGF</td>\n",
       "      <td>a564b353-a905-4d5e-87d3-e50179a75e5c</td>\n",
       "      <td>0.0</td>\n",
       "      <td>1</td>\n",
       "      <td>0</td>\n",
       "    </tr>\n",
       "    <tr>\n",
       "      <th>3</th>\n",
       "      <td>02eE2H0BazwYFyie_Z-f</td>\n",
       "      <td>515c91af-935b-44a0-9034-2c067e06d796</td>\n",
       "      <td>0.0</td>\n",
       "      <td>1</td>\n",
       "      <td>0</td>\n",
       "    </tr>\n",
       "    <tr>\n",
       "      <th>4</th>\n",
       "      <td>0meK2H0BazwYFyieed7Q</td>\n",
       "      <td>a2f20a89-329a-4781-9ac3-80b3e1df8a93</td>\n",
       "      <td>1.0</td>\n",
       "      <td>2</td>\n",
       "      <td>1</td>\n",
       "    </tr>\n",
       "    <tr>\n",
       "      <th>...</th>\n",
       "      <td>...</td>\n",
       "      <td>...</td>\n",
       "      <td>...</td>\n",
       "      <td>...</td>\n",
       "      <td>...</td>\n",
       "    </tr>\n",
       "    <tr>\n",
       "      <th>295</th>\n",
       "      <td>zGmj2H0BazwYFyie5Q7v</td>\n",
       "      <td>d630e749-49cc-468e-a974-5f8cf9e609cc</td>\n",
       "      <td>1.0</td>\n",
       "      <td>1</td>\n",
       "      <td>1</td>\n",
       "    </tr>\n",
       "    <tr>\n",
       "      <th>296</th>\n",
       "      <td>zWeB2H0BazwYFyieX3dP</td>\n",
       "      <td>b4bb355d-e105-4b58-9bd1-c4421b89a058</td>\n",
       "      <td>1.0</td>\n",
       "      <td>1</td>\n",
       "      <td>1</td>\n",
       "    </tr>\n",
       "    <tr>\n",
       "      <th>297</th>\n",
       "      <td>zWid2H0BazwYFyielMjT</td>\n",
       "      <td>38ff53de-7e90-4dbb-b912-40a8c8c63de4</td>\n",
       "      <td>0.0</td>\n",
       "      <td>1</td>\n",
       "      <td>0</td>\n",
       "    </tr>\n",
       "    <tr>\n",
       "      <th>298</th>\n",
       "      <td>zWie2H0BazwYFyie8dkn</td>\n",
       "      <td>06b31304-b1bf-4d89-af61-d1d61904afe0</td>\n",
       "      <td>0.5</td>\n",
       "      <td>2</td>\n",
       "      <td>1</td>\n",
       "    </tr>\n",
       "    <tr>\n",
       "      <th>299</th>\n",
       "      <td>zmih2H0BazwYFyie8_zX</td>\n",
       "      <td>d630e749-49cc-468e-a974-5f8cf9e609cc</td>\n",
       "      <td>1.0</td>\n",
       "      <td>1</td>\n",
       "      <td>1</td>\n",
       "    </tr>\n",
       "  </tbody>\n",
       "</table>\n",
       "<p>300 rows × 5 columns</p>\n",
       "</div>"
      ],
      "text/plain": [
       "                      _id                              query_id  label  count  \\\n",
       "0    -2d92H0BazwYFyieslD-  b4bb355d-e105-4b58-9bd1-c4421b89a058    1.0      1   \n",
       "1    -2id2H0BazwYFyiewsrT  40456087-473f-44f4-9aeb-6b8a61205c20    1.0      2   \n",
       "2    02Zt2H0BazwYFyiehJGF  a564b353-a905-4d5e-87d3-e50179a75e5c    0.0      1   \n",
       "3    02eE2H0BazwYFyie_Z-f  515c91af-935b-44a0-9034-2c067e06d796    0.0      1   \n",
       "4    0meK2H0BazwYFyieed7Q  a2f20a89-329a-4781-9ac3-80b3e1df8a93    1.0      2   \n",
       "..                    ...                                   ...    ...    ...   \n",
       "295  zGmj2H0BazwYFyie5Q7v  d630e749-49cc-468e-a974-5f8cf9e609cc    1.0      1   \n",
       "296  zWeB2H0BazwYFyieX3dP  b4bb355d-e105-4b58-9bd1-c4421b89a058    1.0      1   \n",
       "297  zWid2H0BazwYFyielMjT  38ff53de-7e90-4dbb-b912-40a8c8c63de4    0.0      1   \n",
       "298  zWie2H0BazwYFyie8dkn  06b31304-b1bf-4d89-af61-d1d61904afe0    0.5      2   \n",
       "299  zmih2H0BazwYFyie8_zX  d630e749-49cc-468e-a974-5f8cf9e609cc    1.0      1   \n",
       "\n",
       "     final_label  \n",
       "0              1  \n",
       "1              1  \n",
       "2              0  \n",
       "3              0  \n",
       "4              1  \n",
       "..           ...  \n",
       "295            1  \n",
       "296            1  \n",
       "297            0  \n",
       "298            1  \n",
       "299            1  \n",
       "\n",
       "[300 rows x 5 columns]"
      ]
     },
     "execution_count": 23,
     "metadata": {},
     "output_type": "execute_result"
    }
   ],
   "source": [
    "dataset[\"final_label\"] = dataset[\"label\"].apply(lambda x: int(bool(x)))\n",
    "dataset = dataset.reset_index()\n",
    "dataset"
   ]
  },
  {
   "cell_type": "code",
   "execution_count": 24,
   "metadata": {},
   "outputs": [
    {
     "data": {
      "text/html": [
       "<div>\n",
       "<style scoped>\n",
       "    .dataframe tbody tr th:only-of-type {\n",
       "        vertical-align: middle;\n",
       "    }\n",
       "\n",
       "    .dataframe tbody tr th {\n",
       "        vertical-align: top;\n",
       "    }\n",
       "\n",
       "    .dataframe thead th {\n",
       "        text-align: right;\n",
       "    }\n",
       "</style>\n",
       "<table border=\"1\" class=\"dataframe\">\n",
       "  <thead>\n",
       "    <tr style=\"text-align: right;\">\n",
       "      <th></th>\n",
       "      <th>_id</th>\n",
       "      <th>query_id</th>\n",
       "      <th>final_label</th>\n",
       "      <th>query</th>\n",
       "      <th>text</th>\n",
       "    </tr>\n",
       "  </thead>\n",
       "  <tbody>\n",
       "    <tr>\n",
       "      <th>0</th>\n",
       "      <td>-2d92H0BazwYFyieslD-</td>\n",
       "      <td>b4bb355d-e105-4b58-9bd1-c4421b89a058</td>\n",
       "      <td>1</td>\n",
       "      <td>título executivo extrajudicial prescrito</td>\n",
       "      <td>\\n\\nDocumento:20000034808\\n\\n\\n\\n\\nPoder Judic...</td>\n",
       "    </tr>\n",
       "    <tr>\n",
       "      <th>1</th>\n",
       "      <td>-2id2H0BazwYFyiewsrT</td>\n",
       "      <td>40456087-473f-44f4-9aeb-6b8a61205c20</td>\n",
       "      <td>1</td>\n",
       "      <td>interesse recursal quanto ao pedido principal</td>\n",
       "      <td>\\n\\nDocumento:20000025597\\n\\n\\n\\n\\nPoder Judic...</td>\n",
       "    </tr>\n",
       "    <tr>\n",
       "      <th>3</th>\n",
       "      <td>02Zt2H0BazwYFyiehJGF</td>\n",
       "      <td>a564b353-a905-4d5e-87d3-e50179a75e5c</td>\n",
       "      <td>0</td>\n",
       "      <td>crédito já habilitado</td>\n",
       "      <td>\\n            \\n                \\n   \\n       ...</td>\n",
       "    </tr>\n",
       "    <tr>\n",
       "      <th>4</th>\n",
       "      <td>02eE2H0BazwYFyie_Z-f</td>\n",
       "      <td>515c91af-935b-44a0-9034-2c067e06d796</td>\n",
       "      <td>0</td>\n",
       "      <td>prescrição acórdão confirmatório</td>\n",
       "      <td>\\n\\nDocumento:20000044815\\n\\n\\n\\n\\nPoder Judic...</td>\n",
       "    </tr>\n",
       "    <tr>\n",
       "      <th>5</th>\n",
       "      <td>0meK2H0BazwYFyieed7Q</td>\n",
       "      <td>a2f20a89-329a-4781-9ac3-80b3e1df8a93</td>\n",
       "      <td>1</td>\n",
       "      <td>plano de partilha</td>\n",
       "      <td>\\n\\nDocumento:20000028348\\n\\n\\n\\n\\nPoder Judic...</td>\n",
       "    </tr>\n",
       "    <tr>\n",
       "      <th>...</th>\n",
       "      <td>...</td>\n",
       "      <td>...</td>\n",
       "      <td>...</td>\n",
       "      <td>...</td>\n",
       "      <td>...</td>\n",
       "    </tr>\n",
       "    <tr>\n",
       "      <th>444</th>\n",
       "      <td>zGmj2H0BazwYFyie5Q7v</td>\n",
       "      <td>d630e749-49cc-468e-a974-5f8cf9e609cc</td>\n",
       "      <td>1</td>\n",
       "      <td>ação rescisória trabalhista</td>\n",
       "      <td>\\n\\nDocumento:20000087844\\n\\n\\n\\n\\nPoder Judic...</td>\n",
       "    </tr>\n",
       "    <tr>\n",
       "      <th>445</th>\n",
       "      <td>zWeB2H0BazwYFyieX3dP</td>\n",
       "      <td>b4bb355d-e105-4b58-9bd1-c4421b89a058</td>\n",
       "      <td>1</td>\n",
       "      <td>título executivo extrajudicial prescrito</td>\n",
       "      <td>\\n\\nDocumento:20000035039\\n\\n\\n\\n\\nPoder Judic...</td>\n",
       "    </tr>\n",
       "    <tr>\n",
       "      <th>446</th>\n",
       "      <td>zWid2H0BazwYFyielMjT</td>\n",
       "      <td>38ff53de-7e90-4dbb-b912-40a8c8c63de4</td>\n",
       "      <td>0</td>\n",
       "      <td>causalidade adequada</td>\n",
       "      <td>\\n\\nDocumento:20000098766\\n\\n\\n\\n\\nPoder Judic...</td>\n",
       "    </tr>\n",
       "    <tr>\n",
       "      <th>447</th>\n",
       "      <td>zWie2H0BazwYFyie8dkn</td>\n",
       "      <td>06b31304-b1bf-4d89-af61-d1d61904afe0</td>\n",
       "      <td>1</td>\n",
       "      <td>padrão de vida do alimentando</td>\n",
       "      <td>\\n\\nDocumento:20000071783\\n\\n\\n\\n\\nPoder Judic...</td>\n",
       "    </tr>\n",
       "    <tr>\n",
       "      <th>449</th>\n",
       "      <td>zmih2H0BazwYFyie8_zX</td>\n",
       "      <td>d630e749-49cc-468e-a974-5f8cf9e609cc</td>\n",
       "      <td>1</td>\n",
       "      <td>ação rescisória trabalhista</td>\n",
       "      <td>\\n\\nDocumento:20000101628\\n\\n\\n\\n\\nPoder Judic...</td>\n",
       "    </tr>\n",
       "  </tbody>\n",
       "</table>\n",
       "<p>300 rows × 5 columns</p>\n",
       "</div>"
      ],
      "text/plain": [
       "                      _id                              query_id  final_label  \\\n",
       "0    -2d92H0BazwYFyieslD-  b4bb355d-e105-4b58-9bd1-c4421b89a058            1   \n",
       "1    -2id2H0BazwYFyiewsrT  40456087-473f-44f4-9aeb-6b8a61205c20            1   \n",
       "3    02Zt2H0BazwYFyiehJGF  a564b353-a905-4d5e-87d3-e50179a75e5c            0   \n",
       "4    02eE2H0BazwYFyie_Z-f  515c91af-935b-44a0-9034-2c067e06d796            0   \n",
       "5    0meK2H0BazwYFyieed7Q  a2f20a89-329a-4781-9ac3-80b3e1df8a93            1   \n",
       "..                    ...                                   ...          ...   \n",
       "444  zGmj2H0BazwYFyie5Q7v  d630e749-49cc-468e-a974-5f8cf9e609cc            1   \n",
       "445  zWeB2H0BazwYFyieX3dP  b4bb355d-e105-4b58-9bd1-c4421b89a058            1   \n",
       "446  zWid2H0BazwYFyielMjT  38ff53de-7e90-4dbb-b912-40a8c8c63de4            0   \n",
       "447  zWie2H0BazwYFyie8dkn  06b31304-b1bf-4d89-af61-d1d61904afe0            1   \n",
       "449  zmih2H0BazwYFyie8_zX  d630e749-49cc-468e-a974-5f8cf9e609cc            1   \n",
       "\n",
       "                                             query  \\\n",
       "0         título executivo extrajudicial prescrito   \n",
       "1    interesse recursal quanto ao pedido principal   \n",
       "3                            crédito já habilitado   \n",
       "4                 prescrição acórdão confirmatório   \n",
       "5                                plano de partilha   \n",
       "..                                             ...   \n",
       "444                    ação rescisória trabalhista   \n",
       "445       título executivo extrajudicial prescrito   \n",
       "446                           causalidade adequada   \n",
       "447                  padrão de vida do alimentando   \n",
       "449                    ação rescisória trabalhista   \n",
       "\n",
       "                                                  text  \n",
       "0    \\n\\nDocumento:20000034808\\n\\n\\n\\n\\nPoder Judic...  \n",
       "1    \\n\\nDocumento:20000025597\\n\\n\\n\\n\\nPoder Judic...  \n",
       "3    \\n            \\n                \\n   \\n       ...  \n",
       "4    \\n\\nDocumento:20000044815\\n\\n\\n\\n\\nPoder Judic...  \n",
       "5    \\n\\nDocumento:20000028348\\n\\n\\n\\n\\nPoder Judic...  \n",
       "..                                                 ...  \n",
       "444  \\n\\nDocumento:20000087844\\n\\n\\n\\n\\nPoder Judic...  \n",
       "445  \\n\\nDocumento:20000035039\\n\\n\\n\\n\\nPoder Judic...  \n",
       "446  \\n\\nDocumento:20000098766\\n\\n\\n\\n\\nPoder Judic...  \n",
       "447  \\n\\nDocumento:20000071783\\n\\n\\n\\n\\nPoder Judic...  \n",
       "449  \\n\\nDocumento:20000101628\\n\\n\\n\\n\\nPoder Judic...  \n",
       "\n",
       "[300 rows x 5 columns]"
      ]
     },
     "execution_count": 24,
     "metadata": {},
     "output_type": "execute_result"
    }
   ],
   "source": [
    "dataset = pd.merge(dataset, feedbacks,  left_on=['_id','query_id'], right_on = ['_id','query_id'])[['_id','query_id', \"final_label\",\"query\", \"text\"]]\n",
    "dataset = dataset.drop_duplicates()\n",
    "dataset"
   ]
  },
  {
   "cell_type": "code",
   "execution_count": 25,
   "metadata": {},
   "outputs": [
    {
     "data": {
      "text/plain": [
       "<matplotlib.axes._subplots.AxesSubplot at 0x7fc0f95de8d0>"
      ]
     },
     "execution_count": 25,
     "metadata": {},
     "output_type": "execute_result"
    },
    {
     "data": {
      "image/png": "[encoded data removed]",
      "text/plain": [
       "<Figure size 432x288 with 1 Axes>"
      ]
     },
     "metadata": {
      "needs_background": "light"
     },
     "output_type": "display_data"
    }
   ],
   "source": [
    "dataset[\"final_label\"].hist()"
   ]
  },
  {
   "cell_type": "markdown",
   "metadata": {},
   "source": [
    "## Pré Processamento"
   ]
  },
  {
   "cell_type": "code",
   "execution_count": 26,
   "metadata": {},
   "outputs": [
    {
     "name": "stdout",
     "output_type": "stream",
     "text": [
      "16644\n",
      "\n",
      "\n",
      "Documento:20000034808\n",
      "\n",
      "\n",
      "\n",
      "\n",
      "Poder Judiciário\n",
      "TRIBUNAL REGIONAL FEDERAL DA 2ª REGIÃO\n",
      "\n",
      "\n",
      "\n",
      "\n",
      "\n",
      "\n",
      "Agravo de Instrumento  Nº 5005172-73.2019.4.02.0000/RJ\n",
      "\n",
      "\n",
      "\n",
      "AGRAVANTE: UNIÃO - ADVOCACIA GERAL DA UNIÃOAGRAVADO: FLAVIA PANETTI SANTOSADVOGADO: ALESSANDRO MEDEIROS (OAB DF042043)AGRAVADO: FRANCELLINA DO ROSARIO BRAUNSADVOGADO: ALESSANDRO MEDEIROS (OAB DF042043)AGRAVADO: FLAVIO CANTONE CORREA DE SAADVOGADO: ALESSANDRO MEDEIROS (OAB DF042043)\n",
      "\n",
      "\n",
      "DESPACHO/DECISÃO\n",
      "\n",
      "\n",
      "Trata-se de Agravo de Instrumento interposto pela UNIÃO - ADVOCACIA GERAL DA UNIÃO em face de FLAVIA PANETTI SANTOS, FLAVIO CANTONE CORREA DE SA e FRANCELLINA DO ROSARIO BRAUNS, com pedido de liminar, objetivando cassar a decisão proferida pelo Juízo da 18ª Vara Federal do Rio de Janeiro - Seção Judiciária do Rio de Janeiro, assim vertida:\n",
      "\"Trata-se de cumprimento de sentença coletiva proferida no processo nº 0002767-94.2001.4.01.3400.\n",
      "O título executivo determinou aplicação à retribuição dos Técnicos do Tesouro Nacional - TTN o teto de oito vezes o valor do maior vencimento da própria categoria, nos termos do art. 8º, da MP 831/1995, norma posteriormente convertida na Lei 9.624/1998, conforme anexo 12 ao Evento 3.\n",
      "Desse modo, condenou a União ao pagamento - a título de atrasados - da diferença da vantagem devida no período de janeiro de 1996 a junho de 1999, consideradas a base de cálculo e o teto previstos na MP 831/95 (atual Lei 9.624/98), bem como a avaliação individual e plural realizada pela Administração,  atualizando-se tal verba monetariamente pela UFIR/IPACE e acrescendo-se de juros moratórios, na taxa de 1% (um por cento) ao mês, a partir da citação, com inversão de ônus sucumbenciais.\n",
      "Posteriormente, o Superior Tribunal de Justiça deu provimento ao agravo regimental interposto pelo autor legitimado coletivo, para determinar que os efeitos da decisão proferida nos autos da ação coletiva abranja todos os substituídos domiciliados no território nacional. (conforme fls. 45/52, do anexo 14 do Evento 3).\n",
      "A presente demanda é proposta por MARCO ANTONIO VIANNA, MARCELO LAMOSA BERGER e MARILZA CARVALHO DE FARIA em face da União.\n",
      "Indicam como devido o valor de R$ 821.574,82, em 28/05/2018.\n",
      " Evento 18 - Este juízo fixou honorários em 10% do valor exigido, de acordo com a Súmula 345 do STJ. \n",
      "Evento 22 - Intimada nos moldes do artigo 535, do CPC, a União impugnou a execução, em que alega:\n",
      "a) ausência de prévia liquidação do título executivo;\n",
      "b) que o pagamento da a RAV no valor equivalente a 08 (oito) vezes o valor de tabela do Técnico do Tesouro Nacional não teria sido determinado pela coisa julgada metaindividual,  pois \"o título executivo formado na Ação Coletiva ora executada se limitou a afastar o limite fixado pela Administração nas Resoluções CRAV, para que outro limite máximo fosse aplicado, o da Medida Provisória 831/1995. Não há, e isso ficou bem claro, determinação de se pagar a RAV utilizando na base de cálculo 08 vezes o maior vencimento de qualquer categoria – sendo absolutamente descabido, portanto, que o substituído promova execução pretendendo o que o Sindicato deixou claro que não pediu, justamente porque não poderia pedir\";\n",
      "d) excesso de execução, pois os cálculos apresentados pelos exequentes incluem o período prescrito anterior a 31/01/1996.\n",
      "Subsidiariamente, aponta como devida a quantia de R$793.207,59, em maio de 2018.\n",
      "Manifestação do impugnado no Evento 25.\n",
      "Relatado o necessário, decido.\n",
      "1 - Da liquidação do título executivo\n",
      "Quanto à ausência de prévia liquidação do título executivo, entendo que está completamente prejudicada a alegação, uma vez que os valores históricos utilizados pelos exequentes em seus cálculos são idênticos àqueles constantes da planilha da União.\n",
      "Não há controvérsia acerca da base de cálculo, período de apuração, ou qualquer outro requisito que implique na alteração dos valores históricos, o que evidencia que os cálculos são meramente aritméticos. \n",
      "Desse modo, está demonstrada de desnecessidade de prévia liquidação no presente caso, que apenas atrasaria o direito ao crédito dos exequentes, em total confronto com os princípios da celeridade e eficiência.\n",
      "2 - Da inexistência de valores a serem executados.\n",
      "De acordo com a União, o título executivo formado na Ação Coletiva ora executada limitou-se a afastar o limite fixado pela Administração nas Resoluções CRAV, para que outro limite máximo fosse aplicado, o da Medida Provisória 831/1995. Alega que não haveria determinação de se pagar a RAV  na base de cálculo 08 vezes o maior vencimento de qualquer categoria.\n",
      "Assim, conforme entendimento da União, a alteração é tão somente do teto, e não da forma de cálculo do quantum devido, que seguiu obedecendo ao critério estabelecido discricionariamente pela Administração, porque a retribuição depende, por força de lei, de ato administrativo discricionário observada a avaliação individual e plural dos servidores no período – do que não se há notícia nos autos.\n",
      "Conforme acórdão do STJ anexado no evento 7 - out12,  de fato não houve pedido de RAV sobre o valor máximo, mas sim sobre o direito à percepção da RAV nos termos da MP 831/95, atual Lei 9.624/98, considerando a base de cálculo e o teto previstos na referida MP, bem como a avaliação individual e plural realizada pela Administração.\n",
      "O título executivo detém provimento condenatório,  nos termos do art. 8° da MP 831/1995, norma posteriormente convertida na Lei 9.624/1998\" ao  fixar o pagamento, a título de atrasados, da diferença da vantagem devida, verificada no período de janeiro de 1996 a junho de 1999, considerando-se a base de cálculo e o teto previsto na MP 831/95 (atual Lei 9.624/98) - de ate 08 vezes  o valor do maior vencimento da própria categoria - bem como a avaliação individual e plural realizada pela Administração, verba sobre a qual deverão incidir juros e correção monetária.\n",
      "Todavia, até 21/12/2018, referida avaliação individual e plural não havia sido implantada, conforme declaração do Coordenador Geral de Gestão de Pessoas do Ministério da Fazenda, \"tendo em vista a edição da Resolução CRAV nº 001, de 12 de junho de 1995 (anexo Outros 6 ao Evento 25), que definiu os valores máximos a serem percebidos pelos integrantes da carreira do Tesouro Nacional, ou seja, R$ 4.194,40 (auditor) e R$ 1.258,31 / R$ 1.887,47 (analista)\", conforme anexo Out20 do Evento 25.\n",
      "Ademais, conforme resta  comprovado nos autos, as gratificações RAV foram pagas aos exequentes no valor do teto à época, R$ 1.258,31, de acordo com fichas financeiras anexadas aos autos (Cálculos 7, 10 e 13, anexos à inicial).\n",
      "Portanto, ante a inexistência de avaliação individual, é devida a título de retribuição aos TTN a diferença entre a gratificação recebida e o teto de oito vezes o valor do maior vencimento da própria categoria, nos termos do art. 8º, da MP 831/1995, norma posteriormente convertida na Lei 9.624/1998, tendo-se em conta a gratificação paga com base na maior avaliação individual permitida. \n",
      "3 - Do período prescrito\n",
      "Por fim, no que diz respeito à alegação de prescrição quanto à cobrança de valores concernentes a períodos anteriores a 31/01/1996,  vê-se que nos cálculos apresentados pela parte autora não houve inclusão de verbas referentes a períodos anteriores a 31/01/1996 (evento 1, calc7, calc10, calc13). E nem poderia o ser, eis que a coisa julgada não contempla tais valores, logo, rejeito a arguição.\n",
      "Ante o exposto, e tendo em vista que as planilhas apresentadas pela parte autora respeitaram os parâmetros fixados no título executivo, rejeito a impugnação apresentada e homologo os cálculos da exequente.\n",
      "Determino o prosseguimento da execução pelo valor de R$ 821.574,82, em 28/05/2018.\n",
      "Nos termos do artigo 85, §3º, I, do, CPC, condeno a impugnante em honorários advocatícios, que fixo em 08% do proveito econômico obtido (R$ 821.574,82)\n",
      "Intimem-se. Preclusa a presente decisão, venham-me conclusos para determinar a expedição dos requisitórios.\"\n",
      " \n",
      "A Agravante alega, em suma, como causa de pedir:\n",
      "\"(...) Trata-se de cumprimento individual de sentença coletiva movida em face da UNIÃO em que o exequente, ora impugnado, pretende executar diferenças a título de retribuição adicional variável – RAV, supostamente resultantes da coisa julgada formada no bojo da ação coletiva nº 0002767-94.2001.01.3400 (2001.34.00.002765-2). \n",
      "Afirma que o título executivo formado na referida ação coletiva garantiu aos substituídos pelo Sindicato autor diferenças a título de RAV, que deveriam ser pagas sobre a base de cálculo correspondente a oito vezes o valor do maior vencimento da categoria de Técnico do Tesouro Nacional-TTN no período compreendido entre 01/1996 e 06/1999. \n",
      "A União apresentou impugnação à execução.\n",
      "(...) Ocorre que o Parecer Necap do evento 17 deixou claro que: “‘- Não há manifestação do órgão sobre as eventuais diferenças devidas e se as partes eram TTN entre 02/1996 e 06/1999”.\n",
      "Portanto, o NECAP utilizou-se da base de cálculo apresentada pelo autor apenas para verificar valores de excesso de execução, tendo impugnado a conta por ausência de elementos a verificar o quantum devido. \n",
      "Ademais, destaque-se que a sentença exequenda (reformada pelo TRF1 e restabelecida pelo STJ no processo originário) foi clara ao determinar a liquidação por arbitramento, “uma vez que o valor da vantagem depende da avaliação individual e plural dos filiados no período”. Dessa forma, não tendo a parte adversa realizado tal liquidação, o título exequendo é ilíquido e, portanto, inexigível, atraindo a incidência do inciso III do art. 535 do Novo Código de Processo Civil.\n",
      "(...) Ademais, a parte exequente não junta aos autos elementos de cálculo suficientes para apurar eventual quantum debeatur. Conquanto a redação do 534 do NCPC8 estabeleça que “o exequente apresentará demonstrativo discriminado e atualizado do crédito“, certo é que não se poderá proceder ao cálculo de valores atrasados cujas parcelas não são conhecidas. Tal resta expresso no parecer NECAP, em anexo: ‘- Não há manifestação do órgão sobre as eventuais diferenças devidas e se as partes eram TTN entre 02/1996 e 06/1999” Destaque-se que, mesmos as informações do Ofício 27/ 2019/ SRF07/ DIGEP (em anexo), não supriram tal falta de elementos. \n",
      "A memória discriminada e atualizada do cálculo, exigida pelos arts. art. 509 e 534 do NCPC, somente poderá ser elaborada tomando-se por base o que usualmente se chama de “elementos de cálculo”. Estes elementos nada mais são do que os valores históricos devidos ao autor e os valores efetivamente por ele já percebidos, tendo em vista o procedimento administrativo de pagamentos. Tais elementos de cálculos consubstanciam-se em planilha expedida pelo órgão e origem do autor e que contenha os valores a este devidos mês a mês a título de atrasados, bem como os valores efetivamente já pagos, planilha esta a qual o autor pode ter acesso a qualquer momento, mediante a formulação de simples requerimento à respectiva unidade pagadora. Saliente-se, desde já, que a Procuradoria Regional da União no Rio de Janeiro apenas representa judicialmente a União, não sendo detentora da documentação em comento. O órgão detentor dos documentos em referência é o órgão de origem do autor.\n",
      "(...) A mera juntada de planilha desprovida de elementos de cálculo não atende, destarte, ao disposto nos artigos 509 e 534 do NCPC. \n",
      "Portanto, constata-se que, proferida sentença ilíquida quanto ao pagamento de atrasados, não vieram aos autos as planilhas contendo as diferenças devidas mês a mês. A documentação acostada aos autos até a presente data não permite calcular o valor efetivamente devido. \n",
      "Destarte, a apuração dos valores devidos a cada um dos substituídos tem de ser objeto de processo de conhecimento de liquidação da sentença coletiva. \n",
      "Requer, então, a União seja reformada a r. decisão agravada, sendo reconhecida a ausência de condição da ação (liquidação do julgado coletivo), julgando extinto o processo de execução individual, sem resolução de mérito, aplicando-se ainda o disposto no art. 535 inc. III do CPC.\n",
      "(...) Em outras palavras, o título executivo formado na Ação Coletiva ora executada se limitou a afastar o limite fixado pela Administração nas Resoluções CRAV, para que outro limite máximo fosse aplicado, o da Medida Provisória 831/1995. \n",
      "Não há, e isso ficou bem claro, determinação de se pagar a RAV utilizando na base de cálculo 08 vezes o maior vencimento de qualquer categoria – sendo absolutamente descabido, portanto, que o substituído promova execução pretendendo o que o Sindicato deixou claro que não pediu, justamente porque não poderia pedir.\n",
      "(...) Mais uma vez: o título exequendo não determinou o pagamento da RAV no limite máximo, ou seja, em quantia equivalente a 08 (oito) vezes o vencimento-básico dos TTN’s, mas apenas estabeleceu esse valor como sendo o seu teto máximo. Portanto, a alteração é tão somente do teto, e não da forma de cálculo do quantum devido, que seguiu obedecendo ao critério estabelecido discricionariamente pela Administração – sendo que a pretensão executória contraria frontalmente a posição do Sindicato autor da Ação Coletiva. Não custa lembrar que na sentença, o Juízo de primeiro grau, determinou a execução por artigos, “uma vez que o valor da vantagem depende da avaliação individual e plural dos filiados no período”, o que ressalta que a coisa julgada no presente feito não garantiu ao exequente o pagamento “cheio” da RAV (oito vezes o vencimento básico da carreira). Patente a inexigibilidade de título e a ausência de julgado na forma que se pretende executar, devendo ser provido o presente agravo de instrumento para que seja julgada procedente a impugnação à execução, nos termos do art. 535 incs. III.\n",
      "(...) O parecer técnico 489/19, deixou também que: “Ultrapassada a questão, informamos que caso, em remota hipótese, seja devida a diferença entre 8x o maior vencimento-básico da categoria e o valor recebido mês a mês., o cálculo restaria excessivo por incluir o período prescrito anterior a 31/01/1996.” \n",
      "Portanto, devem ser excluídos do cálculo os valores prescritos, de modo a ser preservada a coisa julgada (art. 502, 503 do CPC). \n",
      "Ademais, a documentação apresentada por órgão público é um documento oficial gerado pela Administração Pública e, como tal, goza de presunção de sua legitimidade e veracidade (art. 2 da Lei 9.784- art 334 IV do CPC - art. 374 inc. IV do CPC/ 2015), sendo ainda um documento emitido por órgão público e meio de prova idônea, conforme consta do 332 do CPC/ 73 e art. 369 CPC/ 2015. \n",
      "Requer o provimento do presente Agravo de Instrumento para que seja julgada procedente a presente impugnação nos termos do art. 535 incs. IV e VI do CPC.\n",
      "(...) Do Pedido: \n",
      "Por todo o exposto, requer a Agravante que, inicialmente, seja concedido efeito suspensivo ao presente Agravo de Instrumento, bem como que seja dado provimento ao mesmo, para que seja reformada a r. decisão do evento 30 de modo a que seja julgada procedente a Impugnação à Execução da União para que: \n",
      "a) seja reconhecida a ausência de condição da ação (liquidação do julgado coletivo), julgando extinto o processo de execução individual, sem resolução de mérito. \n",
      "b) seja julgada procedente a impugnação nos termos dos incs. III, IV e VI do art. 535 CPC 2015. \n",
      "c) Subsidiariamente, seja provida a impugnação à execução da União com base no art. 535 inc. IV do CPC (excesso de execução) \n",
      "d) Em todas as hipóteses, sendo invertida a condenação em honorários advocatícios. \n",
      "e) Com base no princípio da eventualidade, seja diminuído o percentual de honorários advocatício devidos pela União, por equidade; \n",
      "manifestando-se o v. acórdão a ser proferido acerca de toda a matéria legal e constitucional tratada na presente peça.\"\n",
      "Analisando os autos, concluo restarem presentes os requisitos peculiares para a concessão da liminar alvitrada, em especial a possibilidade de lesão grave e de difícil reparação, o que conduz ao deferimento da mesma.\n",
      "Isto posto, defiro, até ulterior delibação, efeito suspensivo, tão somente para retirar a eficácia da decisão objurgada.\n",
      "Intime-se a parte Agravada, nos termos do artigo 1.019, inciso II do CPC/2015.\n",
      "\n",
      "Documento eletrônico assinado por ALFREDO JARA MOURA, Juiz Federal Convocado, na forma do artigo 1º, inciso III, da Lei 11.419, de 19 de dezembro de 2006 e Resolução TRF 2ª Região nº 17, de 26 de março de 2018. A conferência da autenticidade do documento está disponível no endereço eletrônico https://eproc.trf2.jus.br, mediante o preenchimento do código verificador 20000034808v7 e do código CRC cf6c7acf.Informações adicionais da assinatura:Signatário (a): ALFREDO JARA MOURAData e Hora: 23/7/2019, às 16:47:8\n",
      "\n",
      " \n",
      "\n",
      " \n",
      "\n",
      "\n",
      "5005172-73.2019.4.02.0000\n",
      "\n",
      "\n",
      "20000034808\n",
      ".V7\n",
      "\n",
      "\n"
     ]
    }
   ],
   "source": [
    "example = dataset[\"text\"].iloc[0]\n",
    "print(len(example))\n",
    "print(example)"
   ]
  },
  {
   "cell_type": "code",
   "execution_count": 27,
   "metadata": {},
   "outputs": [
    {
     "name": "stdout",
     "output_type": "stream",
     "text": [
      "12793\n",
      "Documento Poder Judiciário TRIBUNAL REGIONAL FEDERAL ª REGIÃO Agravo Instrumento Nº RJ AGRAVANTE  UNIÃO  ADVOCACIA GERAL UNIÃOAGRAVADO  FLAVIA PANETTI SANTOSADVOGADO  ALESSANDRO MEDEIROS  OAB DF  AGRAVADO  FRANCELLINA ROSARIO BRAUNSADVOGADO  ALESSANDRO MEDEIROS  OAB DF  AGRAVADO  FLAVIO CANTONE CORREA SAADVOGADO  ALESSANDRO MEDEIROS  OAB DF  DESPACHODECISÃO Tratase Agravo Instrumento interposto UNIÃO  ADVOCACIA GERAL UNIÃO face FLAVIA PANETTI SANTOS  FLAVIO CANTONE CORREA SA FRANCELLINA ROSARIO BRAUNS  pedido liminar  objetivando cassar decisão proferida Juízo ª Vara Federal Rio Janeiro  Seção Judiciária Rio Janeiro  assim vertida   Tratase cumprimento sentença coletiva proferida processo nº   título executivo determinou aplicação retribuição Técnicos Tesouro Nacional  TTN teto oito vezes valor maior vencimento própria categoria  termos art  º  MP   norma posteriormente convertida Lei   conforme anexo  Evento   Desse modo  condenou União pagamento  título atrasados  diferença vantagem devida período janeiro  junho   consideradas base cálculo teto previstos MP   atual Lei    bem avaliação individual plural realizada Administração  atualizandose tal verba monetariamente UFIRIPACE acrescendose juros moratórios  taxa    cento  mês  partir citação  inversão ônus sucumbenciais  Posteriormente  Superior Tribunal Justiça deu provimento agravo regimental interposto autor legitimado coletivo  determinar efeitos decisão proferida autos ação coletiva abranja todos substituídos domiciliados território nacional   conforme fls    anexo  Evento    presente demanda proposta MARCO ANTONIO VIANNA  MARCELO LAMOSA BERGER MARILZA CARVALHO FARIA face União  Indicam devido valor R      Evento   juízo fixou honorários   valor exigido  acordo Súmula  STJ  Evento   Intimada moldes artigo   CPC  União impugnou execução  alega   ausência prévia liquidação título executivo  b  pagamento RAV valor equivalente   oito  vezes valor tabela Técnico Tesouro Nacional sido determinado coisa julgada metaindividual  pois  título executivo formado Ação Coletiva ora executada limitou afastar limite fixado Administração Resoluções CRAV  outro limite máximo aplicado  Medida Provisória    ficou bem claro  determinação pagar RAV utilizando base cálculo  vezes maior vencimento qualquer categoria – sendo absolutamente descabido  portanto  substituído promova execução pretendendo Sindicato deixou claro pediu  justamente porque poderia pedir   d  excesso execução  pois cálculos apresentados exequentes incluem período prescrito anterior   Subsidiariamente  aponta devida quantia R    maio   Manifestação impugnado Evento   Relatado necessário  decido    liquidação título executivo Quanto ausência prévia liquidação título executivo  entendo completamente prejudicada alegação  vez valores históricos utilizados exequentes cálculos idênticos àqueles constantes planilha União  controvérsia acerca base cálculo  período apuração  qualquer outro requisito implique alteração valores históricos  evidencia cálculos meramente aritméticos  Desse modo  demonstrada desnecessidade prévia liquidação presente caso  apenas atrasaria direito crédito exequentes  total confronto princípios celeridade eficiência    inexistência valores serem executados  acordo União  título executivo formado Ação Coletiva ora executada limitouse afastar limite fixado Administração Resoluções CRAV  outro limite máximo aplicado  Medida Provisória   Alega haveria determinação pagar RAV base cálculo  vezes maior vencimento qualquer categoria  Assim  conforme entendimento União  alteração tão somente teto  forma cálculo quantum devido  seguiu obedecendo critério estabelecido discricionariamente Administração  porque retribuição depende  força lei  ato administrativo discricionário observada avaliação individual plural servidores período – notícia autos  Conforme acórdão STJ anexado evento   out  fato pedido RAV sobre valor máximo  sim sobre direito percepção RAV termos MP   atual Lei   considerando base cálculo teto previstos referida MP  bem avaliação individual plural realizada Administração  título executivo detém provimento condenatório  termos art  ° MP   norma posteriormente convertida Lei   fixar pagamento  título atrasados  diferença vantagem devida  verificada período janeiro  junho   considerandose base cálculo teto previsto MP   atual Lei    ate  vezes valor maior vencimento própria categoria  bem avaliação individual plural realizada Administração  verba sobre deverão incidir juros correção monetária  Todavia    referida avaliação individual plural havia sido implantada  conforme declaração Coordenador Geral Gestão Pessoas Ministério Fazenda   tendo vista edição Resolução CRAV nº    junho   anexo Outros  Evento    definiu valores máximos serem percebidos integrantes carreira Tesouro Nacional   R    auditor  R    R    analista    conforme anexo Out Evento   Ademais  conforme resta comprovado autos  gratificações RAV pagas exequentes valor teto época  R    acordo fichas financeiras anexadas autos  Cálculos      anexos inicial   Portanto  ante inexistência avaliação individual  devida título retribuição TTN diferença gratificação recebida teto oito vezes valor maior vencimento própria categoria  termos art  º  MP   norma posteriormente convertida Lei   tendose conta gratificação paga base maior avaliação individual permitida    período prescrito fim  diz respeito alegação prescrição quanto cobrança valores concernentes períodos anteriores   vêse cálculos apresentados parte autora inclusão verbas referentes períodos anteriores   evento   calc  calc  calc   poderia ser  eis coisa julgada contempla tais valores  logo  rejeito arguição  Ante exposto  tendo vista planilhas apresentadas parte autora respeitaram parâmetros fixados título executivo  rejeito impugnação apresentada homologo cálculos exequente  Determino prosseguimento execução valor R      termos artigo   §º  I   CPC  condeno impugnante honorários advocatícios  fixo   proveito econômico obtido  R    Intimemse  Preclusa presente decisão  venhamme conclusos determinar expedição requisitórios   Agravante alega  suma  causa pedir      Tratase cumprimento individual sentença coletiva movida face UNIÃO exequente  ora impugnado  pretende executar diferenças título retribuição adicional variável – RAV  supostamente resultantes coisa julgada formada bojo ação coletiva nº      Afirma título executivo formado referida ação coletiva garantiu substituídos Sindicato autor diferenças título RAV  deveriam ser pagas sobre base cálculo correspondente oito vezes valor maior vencimento categoria Técnico Tesouro NacionalTTN período compreendido    União apresentou impugnação execução     Ocorre Parecer Necap evento  deixou claro  “ ‘  manifestação órgão sobre eventuais diferenças devidas partes TTN   ”  Portanto  NECAP utilizouse base cálculo apresentada autor apenas verificar valores excesso execução  tendo impugnado conta ausência elementos verificar quantum devido  Ademais  destaquese sentença exequenda  reformada TRF restabelecida STJ processo originário  clara determinar liquidação arbitramento  “ vez valor vantagem depende avaliação individual plural filiados período ”  Dessa forma  tendo parte adversa realizado tal liquidação  título exequendo ilíquido  portanto  inexigível  atraindo incidência inciso III art   Novo Código Processo Civil     Ademais  parte exequente junta autos elementos cálculo suficientes apurar eventual quantum debeatur  Conquanto redação  NCPC estabeleça “ exequente apresentará demonstrativo discriminado atualizado crédito “  certo poderá proceder cálculo valores atrasados cujas parcelas conhecidas  Tal resta expresso parecer NECAP  anexo  ‘  manifestação órgão sobre eventuais diferenças devidas partes TTN   ” Destaquese  mesmos informações Ofício   SRF DIGEP  anexo   supriram tal falta elementos  memória discriminada atualizada cálculo  exigida arts  art    NCPC  somente poderá ser elaborada tomandose base usualmente chama “ elementos cálculo ”  elementos nada valores históricos devidos autor valores efetivamente percebidos  tendo vista procedimento administrativo pagamentos  Tais elementos cálculos consubstanciamse planilha expedida órgão origem autor contenha valores devidos mês mês título atrasados  bem valores efetivamente pagos  planilha autor pode ter acesso qualquer momento  mediante formulação simples requerimento respectiva unidade pagadora  Salientese  desde  Procuradoria Regional União Rio Janeiro apenas representa judicialmente União  sendo detentora documentação comento  órgão detentor documentos referência órgão origem autor     mera juntada planilha desprovida elementos cálculo atende  destarte  disposto artigos   NCPC  Portanto  constatase  proferida sentença ilíquida quanto pagamento atrasados  vieram autos planilhas contendo diferenças devidas mês mês  documentação acostada autos presente data permite calcular valor efetivamente devido  Destarte  apuração valores devidos cada substituídos ser objeto processo conhecimento liquidação sentença coletiva  Requer  então  União reformada r decisão agravada  sendo reconhecida ausência condição ação  liquidação julgado coletivo   julgando extinto processo execução individual  resolução mérito  aplicandose ainda disposto art   inc III CPC     outras palavras  título executivo formado Ação Coletiva ora executada limitou afastar limite fixado Administração Resoluções CRAV  outro limite máximo aplicado  Medida Provisória    ficou bem claro  determinação pagar RAV utilizando base cálculo  vezes maior vencimento qualquer categoria – sendo absolutamente descabido  portanto  substituído promova execução pretendendo Sindicato deixou claro pediu  justamente porque poderia pedir     vez  título exequendo determinou pagamento RAV limite máximo   quantia equivalente   oito  vezes vencimentobásico TTN ’ s  apenas estabeleceu valor sendo teto máximo  Portanto  alteração tão somente teto  forma cálculo quantum devido  seguiu obedecendo critério estabelecido discricionariamente Administração – sendo pretensão executória contraria frontalmente posição Sindicato autor Ação Coletiva  custa lembrar sentença  Juízo primeiro grau  determinou execução artigos  “ vez valor vantagem depende avaliação individual plural filiados período ”  ressalta coisa julgada presente feito garantiu exequente pagamento “ cheio ” RAV  oito vezes vencimento básico carreira   Patente inexigibilidade título ausência julgado forma pretende executar  devendo ser provido presente agravo instrumento julgada procedente impugnação execução  termos art   incs  III     parecer técnico   deixou  “ Ultrapassada questão  informamos caso  remota hipótese  devida diferença x maior vencimentobásico categoria valor recebido mês mês  cálculo restaria excessivo incluir período prescrito anterior  ” Portanto  devem ser excluídos cálculo valores prescritos  modo ser preservada coisa julgada  art     CPC   Ademais  documentação apresentada órgão público documento oficial gerado Administração Pública  tal  goza presunção legitimidade veracidade  art   Lei  art  IV CPC  art   inc IV CPC    sendo ainda documento emitido órgão público meio prova idônea  conforme consta  CPC  art   CPC   Requer provimento presente Agravo Instrumento julgada procedente presente impugnação termos art   incs  IV VI CPC     Pedido  todo exposto  requer Agravante  inicialmente  concedido efeito suspensivo presente Agravo Instrumento  bem dado provimento  reformada r decisão evento  modo julgada procedente Impugnação Execução União   reconhecida ausência condição ação  liquidação julgado coletivo   julgando extinto processo execução individual  resolução mérito  b  julgada procedente impugnação termos incs  III  IV VI art   CPC  c  Subsidiariamente  provida impugnação execução União base art   inc IV CPC  excesso execução  d  todas hipóteses  sendo invertida condenação honorários advocatícios   base princípio eventualidade  diminuído percentual honorários advocatício devidos União  equidade  manifestandose v acórdão ser proferido acerca toda matéria legal constitucional tratada presente peça   Analisando autos  concluo restarem presentes requisitos peculiares concessão liminar alvitrada  especial possibilidade lesão grave difícil reparação  conduz deferimento mesma  posto  defiro  ulterior delibação  efeito suspensivo  tão somente retirar eficácia decisão objurgada  Intimese parte Agravada  termos artigo   inciso II CPC  Documento eletrônico assinado ALFREDO JARA MOURA  Juiz Federal Convocado  forma artigo º  inciso III  Lei    dezembro  Resolução TRF ª Região nº    março   conferência autenticidade documento disponível endereço eletrônico https  eproctrfjusbr  mediante preenchimento código verificador v código CRC cfcacfInformações adicionais assinatura  Signatário    ALFREDO JARA MOURAData Hora       V\n"
     ]
    }
   ],
   "source": [
    "from nltk.corpus import stopwords\n",
    "from nltk.tokenize import word_tokenize\n",
    "import string\n",
    "stop_words = set(stopwords.words('portuguese'))\n",
    "\n",
    "def clean_text(text):\n",
    "    text = text.replace(\"\\n\", \" \")\n",
    "    word_tokens = word_tokenize(text)\n",
    "    filtered_sentence = [w for w in word_tokens if not w.lower() in stop_words]\n",
    "    text = \" \".join(filtered_sentence)\n",
    "    text = ''.join([i for i in text if not i.isdigit()])\n",
    "    text = text.translate(str.maketrans('', '', string.punctuation))\n",
    "\n",
    "    return text\n",
    "    \n",
    "print(len(clean_text(example)))\n",
    "print(clean_text(example))"
   ]
  },
  {
   "cell_type": "markdown",
   "metadata": {},
   "source": [
    "## Treinamento e teste"
   ]
  },
  {
   "cell_type": "code",
   "execution_count": 28,
   "metadata": {},
   "outputs": [
    {
     "name": "stdout",
     "output_type": "stream",
     "text": [
      "Tue Feb  1 10:31:44 2022       \n",
      "+-----------------------------------------------------------------------------+\n",
      "| NVIDIA-SMI 418.87.00    Driver Version: 418.87.00    CUDA Version: 10.1     |\n",
      "|-------------------------------+----------------------+----------------------+\n",
      "| GPU  Name        Persistence-M| Bus-Id        Disp.A | Volatile Uncorr. ECC |\n",
      "| Fan  Temp  Perf  Pwr:Usage/Cap|         Memory-Usage | GPU-Util  Compute M. |\n",
      "|===============================+======================+======================|\n",
      "|   0  Tesla V100-PCIE...  Off  | 00000000:00:05.0 Off |                    0 |\n",
      "| N/A   30C    P0    35W / 250W |   2344MiB / 16130MiB |      0%      Default |\n",
      "+-------------------------------+----------------------+----------------------+\n",
      "                                                                               \n",
      "+-----------------------------------------------------------------------------+\n",
      "| Processes:                                                       GPU Memory |\n",
      "|  GPU       PID   Type   Process name                             Usage      |\n",
      "|=============================================================================|\n",
      "|    0     55523      C   /bin/python3                                2333MiB |\n",
      "+-----------------------------------------------------------------------------+\n"
     ]
    }
   ],
   "source": [
    "!nvidia-smi"
   ]
  },
  {
   "cell_type": "code",
   "execution_count": 41,
   "metadata": {},
   "outputs": [],
   "source": [
    "from tqdm import tqdm\n",
    "from scipy import spatial\n",
    "from sklearn.model_selection import KFold\n",
    "from sentence_transformers import SentenceTransformer, util, losses, CrossEncoder, util, losses, InputExample, models\n",
    "from tqdm import tqdm\n",
    "from sklearn.metrics import accuracy_score\n",
    "from torch.utils.data import DataLoader\n",
    "\n",
    "def report_result(ranking_cut, ndcg, recall, mrr, precision):\n",
    "    print(f\"% NDCG@{ranking_cut}: \",  np.mean(ndcg))\n",
    "    print(f\"% MRR: \",  np.mean(mrr))\n",
    "    \n",
    "def select_choosen_metrics(metrics_result, ranking_cut, queries_ids):\n",
    "    ndcg = []\n",
    "    for key in queries_ids:\n",
    "        ndcg.append(metrics_result[key][f\"ndcg_cut_{ranking_cut}\"])\n",
    "\n",
    "    recall = []\n",
    "    for key in queries_ids:\n",
    "        recall.append(metrics_result[key][f\"recall_{ranking_cut}\"])\n",
    "\n",
    "    mrr = []\n",
    "    for key in queries_ids:\n",
    "        mrr.append(metrics_result[key][\"recip_rank\"])\n",
    "\n",
    "    precision = []\n",
    "    for key in queries_ids:\n",
    "        precision.append(metrics_result[key][f\"P_{ranking_cut}\"])\n",
    "\n",
    "    return ndcg, recall, mrr, precision\n",
    "\n",
    "def statistic_relevance(first_results, second_results):\n",
    "    import scipy\n",
    "\n",
    "    query_ids = list(set(first_results.keys()) & set(second_results.keys()))\n",
    "\n",
    "    first_scores = [\n",
    "        first_results[query_id][f\"ndcg_cut_{ranking_cut}\"] for query_id in query_ids]\n",
    "    second_scores = [\n",
    "        second_results[query_id][f\"ndcg_cut_{ranking_cut}\"] for query_id in query_ids]\n",
    "\n",
    "    print(\"\\nStatistic Relevance for NDCG\")\n",
    "    print(scipy.stats.ttest_rel(first_scores, second_scores))\n",
    "\n",
    "    first_scores = [\n",
    "        first_results[query_id][f\"recip_rank\"] for query_id in query_ids]\n",
    "    second_scores = [\n",
    "        second_results[query_id][f\"recip_rank\"] for query_id in query_ids]\n",
    "\n",
    "    first_scores = [i if i >= 0.1 else 0 for i in first_scores]\n",
    "    second_scores = [i if i >= 0.1 else 0 for i in second_scores]\n",
    "\n",
    "    print(\"\\nStatistic Relevance for MRR\")\n",
    "    print(scipy.stats.ttest_rel(first_scores, second_scores))\n",
    "\n",
    "def cross_encoder_score(model, query, text):\n",
    "    sim = model.predict([query, text])\n",
    "    return float(sim)\n",
    "\n",
    "def bi_encoder_score(model, query, text):\n",
    "    output = model.encode([query, text])\n",
    "    sim = spatial.distance.cosine(output[0], output[1])\n",
    "    return sim\n",
    "\n",
    "def eval_model(dataset, scorer, model, ranking_cut=5):\n",
    "    ranking = {}\n",
    "    for idx, row in dataset.iterrows():\n",
    "        if not row[\"query_id\"] in ranking:\n",
    "            ranking[row[\"query_id\"]] = {}\n",
    "        ranking[row[\"query_id\"]][row[\"_id\"]] = scorer(model, row[\"query\"], clean_text(row[\"text\"]))\n",
    "\n",
    "    ranking_metrics = evaluator.evaluate(ranking)\n",
    "    queries_ids = list(ranking_metrics.keys())\n",
    "    return ranking_metrics, ranking_cut, queries_ids\n",
    "\n",
    "def dict_mean(dict_list):\n",
    "    mean_dict = {}\n",
    "    for key in dict_list[0].keys():\n",
    "        mean_dict[key] = {}\n",
    "        for inner_key in dict_list[0][key].keys():\n",
    "            mean_dict[key][inner_key] = sum(d[key][inner_key] for d in dict_list) / len(dict_list)\n",
    "    return mean_dict"
   ]
  },
  {
   "cell_type": "code",
   "execution_count": 42,
   "metadata": {},
   "outputs": [],
   "source": [
    "import pytrec_eval\n",
    "#load qrels\n",
    "\n",
    "qrel = {}\n",
    "for idx, row in dataset.iterrows():\n",
    "    if not row[\"query_id\"] in qrel:\n",
    "        qrel[row[\"query_id\"]] = {}\n",
    "    qrel[row[\"query_id\"]][row[\"_id\"]] = row[\"final_label\"]\n",
    "    \n",
    "evaluator = pytrec_eval.RelevanceEvaluator(qrel, {\"recip_rank\", 'ndcg_cut', \"recall\", \"P\"})"
   ]
  },
  {
   "cell_type": "code",
   "execution_count": 43,
   "metadata": {},
   "outputs": [],
   "source": [
    "from random import random"
   ]
  },
  {
   "cell_type": "markdown",
   "metadata": {},
   "source": [
    "### Baselines"
   ]
  },
  {
   "cell_type": "markdown",
   "metadata": {},
   "source": [
    "#### Random Scores Evaluation"
   ]
  },
  {
   "cell_type": "code",
   "execution_count": 44,
   "metadata": {},
   "outputs": [],
   "source": [
    "queries_set = set(dataset[dataset[\"final_label\"] == 1][\"query_id\"])"
   ]
  },
  {
   "cell_type": "code",
   "execution_count": 45,
   "metadata": {
    "scrolled": false
   },
   "outputs": [
    {
     "name": "stdout",
     "output_type": "stream",
     "text": [
      "% NDCG@5:  0.7488589163462326\n",
      "% MRR:  0.7572916666666667\n"
     ]
    }
   ],
   "source": [
    "random_metrics, ranking_cut, queries_ids = eval_model(dataset, lambda model, query, doc: random(), model=None)\n",
    "results = select_choosen_metrics(random_metrics, ranking_cut, queries_set)\n",
    "report_result(ranking_cut, *results)"
   ]
  },
  {
   "cell_type": "markdown",
   "metadata": {},
   "source": [
    "#### Same Scores Evaluation"
   ]
  },
  {
   "cell_type": "code",
   "execution_count": 46,
   "metadata": {},
   "outputs": [
    {
     "name": "stdout",
     "output_type": "stream",
     "text": [
      "% NDCG@5:  0.7178539115006042\n",
      "% MRR:  0.7213541666666667\n"
     ]
    }
   ],
   "source": [
    "same_score_metrics, ranking_cut, queries_ids = eval_model(dataset, lambda model, query, doc: 1, model=None)\n",
    "results = select_choosen_metrics(same_score_metrics, ranking_cut, queries_set)\n",
    "report_result(ranking_cut, *results)"
   ]
  },
  {
   "cell_type": "markdown",
   "metadata": {},
   "source": [
    "### Cross Encoder"
   ]
  },
  {
   "cell_type": "markdown",
   "metadata": {},
   "source": [
    "#### Training"
   ]
  },
  {
   "cell_type": "code",
   "execution_count": 47,
   "metadata": {
    "scrolled": true
   },
   "outputs": [
    {
     "name": "stderr",
     "output_type": "stream",
     "text": [
      "Some weights of the model checkpoint at neuralmind/bert-base-portuguese-cased were not used when initializing BertForSequenceClassification: ['cls.seq_relationship.weight', 'cls.predictions.transform.dense.weight', 'cls.predictions.transform.LayerNorm.bias', 'cls.seq_relationship.bias', 'cls.predictions.transform.LayerNorm.weight', 'cls.predictions.decoder.weight', 'cls.predictions.bias', 'cls.predictions.transform.dense.bias']\n",
      "- This IS expected if you are initializing BertForSequenceClassification from the checkpoint of a model trained on another task or with another architecture (e.g. initializing a BertForSequenceClassification model from a BertForPreTraining model).\n",
      "- This IS NOT expected if you are initializing BertForSequenceClassification from the checkpoint of a model that you expect to be exactly identical (initializing a BertForSequenceClassification model from a BertForSequenceClassification model).\n",
      "Some weights of BertForSequenceClassification were not initialized from the model checkpoint at neuralmind/bert-base-portuguese-cased and are newly initialized: ['classifier.bias', 'classifier.weight']\n",
      "You should probably TRAIN this model on a down-stream task to be able to use it for predictions and inference.\n",
      "\n",
      "\n",
      "\n",
      "100%|██████████| 240/240 [00:00<00:00, 7509.89it/s]\n",
      "\n",
      "\n",
      "\n",
      "  0%|          | 0/60 [00:00<?, ?it/s]\u001b[A\u001b[A\u001b[A\n",
      "\n",
      "\n",
      "  2%|▏         | 1/60 [00:01<01:13,  1.25s/it]\u001b[A\u001b[A\u001b[A\n",
      "\n",
      "\n",
      "  3%|▎         | 2/60 [00:02<01:11,  1.24s/it]\u001b[A\u001b[A\u001b[A\n",
      "\n",
      "\n",
      "  5%|▌         | 3/60 [00:03<01:10,  1.23s/it]\u001b[A\u001b[A\u001b[A\n",
      "\n",
      "\n",
      "  7%|▋         | 4/60 [00:04<01:08,  1.22s/it]\u001b[A\u001b[A\u001b[A\n",
      "\n",
      "\n",
      "  8%|▊         | 5/60 [00:06<01:06,  1.21s/it]\u001b[A\u001b[A\u001b[A\n",
      "\n",
      "\n",
      " 10%|█         | 6/60 [00:07<01:05,  1.21s/it]\u001b[A\u001b[A\u001b[A\n",
      "\n",
      "\n",
      " 12%|█▏        | 7/60 [00:08<01:04,  1.21s/it]\u001b[A\u001b[A\u001b[A\n",
      "\n",
      "\n",
      " 13%|█▎        | 8/60 [00:09<01:02,  1.20s/it]\u001b[A\u001b[A\u001b[A\n",
      "\n",
      "\n",
      " 15%|█▌        | 9/60 [00:10<01:01,  1.20s/it]\u001b[A\u001b[A\u001b[A\n",
      "\n",
      "\n",
      " 17%|█▋        | 10/60 [00:12<01:00,  1.20s/it]\u001b[A\u001b[A\u001b[A\n",
      "\n",
      "\n",
      " 18%|█▊        | 11/60 [00:13<00:58,  1.20s/it]\u001b[A\u001b[A\u001b[A\n",
      "\n",
      "\n",
      " 20%|██        | 12/60 [00:14<00:57,  1.21s/it]\u001b[A\u001b[A\u001b[A\n",
      "\n",
      "\n",
      " 22%|██▏       | 13/60 [00:15<00:56,  1.21s/it]\u001b[A\u001b[A\u001b[A\n",
      "\n",
      "\n",
      " 23%|██▎       | 14/60 [00:16<00:55,  1.21s/it]\u001b[A\u001b[A\u001b[A\n",
      "\n",
      "\n",
      " 25%|██▌       | 15/60 [00:18<00:54,  1.20s/it]\u001b[A\u001b[A\u001b[A\n",
      "\n",
      "\n",
      " 27%|██▋       | 16/60 [00:19<00:52,  1.20s/it]\u001b[A\u001b[A\u001b[A\n",
      "\n",
      "\n",
      " 28%|██▊       | 17/60 [00:20<00:51,  1.19s/it]\u001b[A\u001b[A\u001b[A\n",
      "\n",
      "\n",
      " 30%|███       | 18/60 [00:21<00:50,  1.20s/it]\u001b[A\u001b[A\u001b[A\n",
      "\n",
      "\n",
      " 32%|███▏      | 19/60 [00:22<00:48,  1.19s/it]\u001b[A\u001b[A\u001b[A\n",
      "\n",
      "\n",
      " 33%|███▎      | 20/60 [00:24<00:47,  1.19s/it]\u001b[A\u001b[A\u001b[A\n",
      "\n",
      "\n",
      " 35%|███▌      | 21/60 [00:25<00:46,  1.19s/it]\u001b[A\u001b[A\u001b[A\n",
      "\n",
      "\n",
      " 37%|███▋      | 22/60 [00:26<00:45,  1.19s/it]\u001b[A\u001b[A\u001b[A\n",
      "\n",
      "\n",
      " 38%|███▊      | 23/60 [00:27<00:44,  1.20s/it]\u001b[A\u001b[A\u001b[A\n",
      "\n",
      "\n",
      " 40%|████      | 24/60 [00:28<00:43,  1.20s/it]\u001b[A\u001b[A\u001b[A\n",
      "\n",
      "\n",
      " 42%|████▏     | 25/60 [00:30<00:42,  1.20s/it]\u001b[A\u001b[A\u001b[A\n",
      "\n",
      "\n",
      " 43%|████▎     | 26/60 [00:31<00:40,  1.20s/it]\u001b[A\u001b[A\u001b[A\n",
      "\n",
      "\n",
      " 45%|████▌     | 27/60 [00:32<00:39,  1.20s/it]\u001b[A\u001b[A\u001b[A\n",
      "\n",
      "\n",
      " 47%|████▋     | 28/60 [00:33<00:38,  1.20s/it]\u001b[A\u001b[A\u001b[A\n",
      "\n",
      "\n",
      " 48%|████▊     | 29/60 [00:34<00:37,  1.19s/it]\u001b[A\u001b[A\u001b[A\n",
      "\n",
      "\n",
      " 50%|█████     | 30/60 [00:36<00:35,  1.19s/it]\u001b[A\u001b[A\u001b[A\n",
      "\n",
      "\n",
      " 52%|█████▏    | 31/60 [00:37<00:34,  1.19s/it]\u001b[A\u001b[A\u001b[A\n",
      "\n",
      "\n",
      " 53%|█████▎    | 32/60 [00:38<00:33,  1.19s/it]\u001b[A\u001b[A\u001b[A\n",
      "\n",
      "\n",
      " 55%|█████▌    | 33/60 [00:39<00:32,  1.19s/it]\u001b[A\u001b[A\u001b[A\n",
      "\n",
      "\n",
      " 57%|█████▋    | 34/60 [00:40<00:31,  1.20s/it]\u001b[A\u001b[A\u001b[A\n",
      "\n",
      "\n",
      " 58%|█████▊    | 35/60 [00:41<00:29,  1.19s/it]\u001b[A\u001b[A\u001b[A\n",
      "\n",
      "\n",
      " 60%|██████    | 36/60 [00:43<00:28,  1.19s/it]\u001b[A\u001b[A\u001b[A\n",
      "\n",
      "\n",
      " 62%|██████▏   | 37/60 [00:44<00:27,  1.19s/it]\u001b[A\u001b[A\u001b[A\n",
      "\n",
      "\n",
      " 63%|██████▎   | 38/60 [00:45<00:26,  1.19s/it]\u001b[A\u001b[A\u001b[A\n",
      "\n",
      "\n",
      " 65%|██████▌   | 39/60 [00:46<00:25,  1.19s/it]\u001b[A\u001b[A\u001b[A\n",
      "\n",
      "\n",
      " 67%|██████▋   | 40/60 [00:47<00:23,  1.20s/it]\u001b[A\u001b[A\u001b[A\n",
      "\n",
      "\n",
      " 68%|██████▊   | 41/60 [00:49<00:22,  1.21s/it]\u001b[A\u001b[A\u001b[A\n",
      "\n",
      "\n",
      " 70%|███████   | 42/60 [00:50<00:21,  1.21s/it]\u001b[A\u001b[A\u001b[A\n",
      "\n",
      "\n",
      " 72%|███████▏  | 43/60 [00:51<00:20,  1.20s/it]\u001b[A\u001b[A\u001b[A\n",
      "\n",
      "\n",
      " 73%|███████▎  | 44/60 [00:52<00:19,  1.20s/it]\u001b[A\u001b[A\u001b[A\n",
      "\n",
      "\n",
      " 75%|███████▌  | 45/60 [00:53<00:17,  1.18s/it]\u001b[A\u001b[A\u001b[A\n",
      "\n",
      "\n",
      " 77%|███████▋  | 46/60 [00:55<00:16,  1.18s/it]\u001b[A\u001b[A\u001b[A\n",
      "\n",
      "\n",
      " 78%|███████▊  | 47/60 [00:56<00:15,  1.19s/it]\u001b[A\u001b[A\u001b[A\n",
      "\n",
      "\n",
      " 80%|████████  | 48/60 [00:57<00:14,  1.20s/it]\u001b[A\u001b[A\u001b[A\n",
      "\n",
      "\n",
      " 82%|████████▏ | 49/60 [00:58<00:13,  1.20s/it]\u001b[A\u001b[A\u001b[A\n",
      "\n",
      "\n",
      " 83%|████████▎ | 50/60 [00:59<00:11,  1.20s/it]\u001b[A\u001b[A\u001b[A\n",
      "\n",
      "\n",
      " 85%|████████▌ | 51/60 [01:01<00:10,  1.20s/it]\u001b[A\u001b[A\u001b[A\n",
      "\n",
      "\n",
      " 87%|████████▋ | 52/60 [01:02<00:09,  1.21s/it]\u001b[A\u001b[A\u001b[A\n",
      "\n",
      "\n",
      " 88%|████████▊ | 53/60 [01:03<00:08,  1.20s/it]\u001b[A\u001b[A\u001b[A\n",
      "\n",
      "\n",
      " 90%|█████████ | 54/60 [01:04<00:07,  1.20s/it]\u001b[A\u001b[A\u001b[A\n",
      "\n",
      "\n",
      " 92%|█████████▏| 55/60 [01:05<00:05,  1.20s/it]\u001b[A\u001b[A\u001b[A\n",
      "\n",
      "\n",
      " 93%|█████████▎| 56/60 [01:07<00:04,  1.20s/it]\u001b[A\u001b[A\u001b[A\n",
      "\n",
      "\n",
      " 95%|█████████▌| 57/60 [01:08<00:03,  1.22s/it]\u001b[A\u001b[A\u001b[A\n",
      "\n",
      "\n",
      " 97%|█████████▋| 58/60 [01:09<00:02,  1.21s/it]\u001b[A\u001b[A\u001b[A\n",
      "\n",
      "\n",
      " 98%|█████████▊| 59/60 [01:10<00:01,  1.20s/it]\u001b[A\u001b[A\u001b[A\n",
      "\n",
      "\n",
      "100%|██████████| 60/60 [01:11<00:00,  1.20s/it]\u001b[A\u001b[A\u001b[A\n"
     ]
    },
    {
     "data": {
      "application/vnd.jupyter.widget-view+json": {
       "model_id": "cf6bc630ce3d4132a6f3e5b9b133be13",
       "version_major": 2,
       "version_minor": 0
      },
      "text/plain": [
       "HBox(children=(FloatProgress(value=0.0, description='Epoch', max=5.0, style=ProgressStyle(description_width='i…"
      ]
     },
     "metadata": {},
     "output_type": "display_data"
    },
    {
     "data": {
      "application/vnd.jupyter.widget-view+json": {
       "model_id": "e8935ce0e008418fb5ca41fef26fb204",
       "version_major": 2,
       "version_minor": 0
      },
      "text/plain": [
       "HBox(children=(FloatProgress(value=0.0, description='Iteration', max=30.0, style=ProgressStyle(description_wid…"
      ]
     },
     "metadata": {},
     "output_type": "display_data"
    },
    {
     "name": "stdout",
     "output_type": "stream",
     "text": [
      "\n"
     ]
    },
    {
     "data": {
      "application/vnd.jupyter.widget-view+json": {
       "model_id": "d42eab7ba6964d3ab7519d3b70fa2712",
       "version_major": 2,
       "version_minor": 0
      },
      "text/plain": [
       "HBox(children=(FloatProgress(value=0.0, description='Iteration', max=30.0, style=ProgressStyle(description_wid…"
      ]
     },
     "metadata": {},
     "output_type": "display_data"
    },
    {
     "name": "stdout",
     "output_type": "stream",
     "text": [
      "\n"
     ]
    },
    {
     "data": {
      "application/vnd.jupyter.widget-view+json": {
       "model_id": "3b3dcc6f59cd4625aaf751967e827c56",
       "version_major": 2,
       "version_minor": 0
      },
      "text/plain": [
       "HBox(children=(FloatProgress(value=0.0, description='Iteration', max=30.0, style=ProgressStyle(description_wid…"
      ]
     },
     "metadata": {},
     "output_type": "display_data"
    },
    {
     "name": "stdout",
     "output_type": "stream",
     "text": [
      "\n"
     ]
    },
    {
     "data": {
      "application/vnd.jupyter.widget-view+json": {
       "model_id": "8255407017f14637b2abc830a66ecd5b",
       "version_major": 2,
       "version_minor": 0
      },
      "text/plain": [
       "HBox(children=(FloatProgress(value=0.0, description='Iteration', max=30.0, style=ProgressStyle(description_wid…"
      ]
     },
     "metadata": {},
     "output_type": "display_data"
    },
    {
     "name": "stdout",
     "output_type": "stream",
     "text": [
      "\n"
     ]
    },
    {
     "data": {
      "application/vnd.jupyter.widget-view+json": {
       "model_id": "adfeb94af20d4aef81831ab660865851",
       "version_major": 2,
       "version_minor": 0
      },
      "text/plain": [
       "HBox(children=(FloatProgress(value=0.0, description='Iteration', max=30.0, style=ProgressStyle(description_wid…"
      ]
     },
     "metadata": {},
     "output_type": "display_data"
    },
    {
     "name": "stdout",
     "output_type": "stream",
     "text": [
      "\n",
      "\n"
     ]
    },
    {
     "name": "stderr",
     "output_type": "stream",
     "text": [
      "\n",
      "\n",
      "\n",
      "  0%|          | 0/60 [00:00<?, ?it/s]\u001b[A\u001b[A\u001b[A\n",
      "\n",
      "\n",
      "  2%|▏         | 1/60 [00:01<01:11,  1.22s/it]\u001b[A\u001b[A\u001b[A\n",
      "\n",
      "\n",
      "  3%|▎         | 2/60 [00:02<01:10,  1.21s/it]\u001b[A\u001b[A\u001b[A\n",
      "\n",
      "\n",
      "  5%|▌         | 3/60 [00:03<01:08,  1.20s/it]\u001b[A\u001b[A\u001b[A\n",
      "\n",
      "\n",
      "  7%|▋         | 4/60 [00:04<01:07,  1.20s/it]\u001b[A\u001b[A\u001b[A\n",
      "\n",
      "\n",
      "  8%|▊         | 5/60 [00:05<01:05,  1.20s/it]\u001b[A\u001b[A\u001b[A\n",
      "\n",
      "\n",
      " 10%|█         | 6/60 [00:07<01:03,  1.18s/it]\u001b[A\u001b[A\u001b[A\n",
      "\n",
      "\n",
      " 12%|█▏        | 7/60 [00:08<01:02,  1.18s/it]\u001b[A\u001b[A\u001b[A\n",
      "\n",
      "\n",
      " 13%|█▎        | 8/60 [00:09<01:00,  1.17s/it]\u001b[A\u001b[A\u001b[A\n",
      "\n",
      "\n",
      " 15%|█▌        | 9/60 [00:10<00:59,  1.17s/it]\u001b[A\u001b[A\u001b[A\n",
      "\n",
      "\n",
      " 17%|█▋        | 10/60 [00:11<00:57,  1.16s/it]\u001b[A\u001b[A\u001b[A\n",
      "\n",
      "\n",
      " 18%|█▊        | 11/60 [00:12<00:56,  1.15s/it]\u001b[A\u001b[A\u001b[A\n",
      "\n",
      "\n",
      " 20%|██        | 12/60 [00:14<00:55,  1.16s/it]\u001b[A\u001b[A\u001b[A\n",
      "\n",
      "\n",
      " 22%|██▏       | 13/60 [00:15<00:55,  1.17s/it]\u001b[A\u001b[A\u001b[A\n",
      "\n",
      "\n",
      " 23%|██▎       | 14/60 [00:16<00:54,  1.18s/it]\u001b[A\u001b[A\u001b[A\n",
      "\n",
      "\n",
      " 25%|██▌       | 15/60 [00:17<00:53,  1.18s/it]\u001b[A\u001b[A\u001b[A\n",
      "\n",
      "\n",
      " 27%|██▋       | 16/60 [00:18<00:51,  1.18s/it]\u001b[A\u001b[A\u001b[A\n",
      "\n",
      "\n",
      " 28%|██▊       | 17/60 [00:19<00:50,  1.18s/it]\u001b[A\u001b[A\u001b[A\n",
      "\n",
      "\n",
      " 30%|███       | 18/60 [00:21<00:50,  1.19s/it]\u001b[A\u001b[A\u001b[A\n",
      "\n",
      "\n",
      " 32%|███▏      | 19/60 [00:22<00:48,  1.19s/it]\u001b[A\u001b[A\u001b[A\n",
      "\n",
      "\n",
      " 33%|███▎      | 20/60 [00:23<00:47,  1.18s/it]\u001b[A\u001b[A\u001b[A\n",
      "\n",
      "\n",
      " 35%|███▌      | 21/60 [00:24<00:45,  1.18s/it]\u001b[A\u001b[A\u001b[A\n",
      "\n",
      "\n",
      " 37%|███▋      | 22/60 [00:25<00:44,  1.18s/it]\u001b[A\u001b[A\u001b[A\n",
      "\n",
      "\n",
      " 38%|███▊      | 23/60 [00:27<00:44,  1.19s/it]\u001b[A\u001b[A\u001b[A\n",
      "\n",
      "\n",
      " 40%|████      | 24/60 [00:28<00:42,  1.18s/it]\u001b[A\u001b[A\u001b[A\n",
      "\n",
      "\n",
      " 42%|████▏     | 25/60 [00:29<00:41,  1.17s/it]\u001b[A\u001b[A\u001b[A\n",
      "\n",
      "\n",
      " 43%|████▎     | 26/60 [00:30<00:39,  1.17s/it]\u001b[A\u001b[A\u001b[A\n",
      "\n",
      "\n",
      " 45%|████▌     | 27/60 [00:31<00:38,  1.17s/it]\u001b[A\u001b[A\u001b[A\n",
      "\n",
      "\n",
      " 47%|████▋     | 28/60 [00:32<00:37,  1.17s/it]\u001b[A\u001b[A\u001b[A\n",
      "\n",
      "\n",
      " 48%|████▊     | 29/60 [00:34<00:36,  1.18s/it]\u001b[A\u001b[A\u001b[A\n",
      "\n",
      "\n",
      " 50%|█████     | 30/60 [00:35<00:35,  1.18s/it]\u001b[A\u001b[A\u001b[A\n",
      "\n",
      "\n",
      " 52%|█████▏    | 31/60 [00:36<00:34,  1.18s/it]\u001b[A\u001b[A\u001b[A\n",
      "\n",
      "\n",
      " 53%|█████▎    | 32/60 [00:37<00:32,  1.18s/it]\u001b[A\u001b[A\u001b[A\n",
      "\n",
      "\n",
      " 55%|█████▌    | 33/60 [00:38<00:31,  1.18s/it]\u001b[A\u001b[A\u001b[A\n",
      "\n",
      "\n",
      " 57%|█████▋    | 34/60 [00:40<00:30,  1.18s/it]\u001b[A\u001b[A\u001b[A\n",
      "\n",
      "\n",
      " 58%|█████▊    | 35/60 [00:41<00:29,  1.19s/it]\u001b[A\u001b[A\u001b[A\n",
      "\n",
      "\n",
      " 60%|██████    | 36/60 [00:42<00:28,  1.18s/it]\u001b[A\u001b[A\u001b[A\n",
      "\n",
      "\n",
      " 62%|██████▏   | 37/60 [00:43<00:27,  1.19s/it]\u001b[A\u001b[A\u001b[A\n",
      "\n",
      "\n",
      " 63%|██████▎   | 38/60 [00:44<00:26,  1.19s/it]\u001b[A\u001b[A\u001b[A\n",
      "\n",
      "\n",
      " 65%|██████▌   | 39/60 [00:46<00:24,  1.18s/it]\u001b[A\u001b[A\u001b[A\n",
      "\n",
      "\n",
      " 67%|██████▋   | 40/60 [00:47<00:23,  1.19s/it]\u001b[A\u001b[A\u001b[A\n",
      "\n",
      "\n",
      " 68%|██████▊   | 41/60 [00:48<00:22,  1.21s/it]\u001b[A\u001b[A\u001b[A\n",
      "\n",
      "\n",
      " 70%|███████   | 42/60 [00:49<00:21,  1.20s/it]\u001b[A\u001b[A\u001b[A\n",
      "\n",
      "\n",
      " 72%|███████▏  | 43/60 [00:50<00:20,  1.20s/it]\u001b[A\u001b[A\u001b[A\n",
      "\n",
      "\n",
      " 73%|███████▎  | 44/60 [00:52<00:19,  1.20s/it]\u001b[A\u001b[A\u001b[A\n",
      "\n",
      "\n",
      " 75%|███████▌  | 45/60 [00:53<00:17,  1.20s/it]\u001b[A\u001b[A\u001b[A\n",
      "\n",
      "\n",
      " 77%|███████▋  | 46/60 [00:54<00:16,  1.20s/it]\u001b[A\u001b[A\u001b[A\n",
      "\n",
      "\n",
      " 78%|███████▊  | 47/60 [00:55<00:15,  1.19s/it]\u001b[A\u001b[A\u001b[A\n",
      "\n",
      "\n",
      " 80%|████████  | 48/60 [00:56<00:14,  1.20s/it]\u001b[A\u001b[A\u001b[A\n",
      "\n",
      "\n",
      " 82%|████████▏ | 49/60 [00:58<00:13,  1.19s/it]\u001b[A\u001b[A\u001b[A\n",
      "\n",
      "\n",
      " 83%|████████▎ | 50/60 [00:59<00:11,  1.19s/it]\u001b[A\u001b[A\u001b[A\n",
      "\n",
      "\n",
      " 85%|████████▌ | 51/60 [01:00<00:10,  1.20s/it]\u001b[A\u001b[A\u001b[A\n",
      "\n",
      "\n",
      " 87%|████████▋ | 52/60 [01:01<00:09,  1.20s/it]\u001b[A\u001b[A\u001b[A\n",
      "\n",
      "\n",
      " 88%|████████▊ | 53/60 [01:02<00:08,  1.19s/it]\u001b[A\u001b[A\u001b[A\n",
      "\n",
      "\n",
      " 90%|█████████ | 54/60 [01:03<00:07,  1.19s/it]\u001b[A\u001b[A\u001b[A\n",
      "\n",
      "\n",
      " 92%|█████████▏| 55/60 [01:05<00:05,  1.19s/it]\u001b[A\u001b[A\u001b[A\n",
      "\n",
      "\n",
      " 93%|█████████▎| 56/60 [01:06<00:04,  1.20s/it]\u001b[A\u001b[A\u001b[A\n",
      "\n",
      "\n",
      " 95%|█████████▌| 57/60 [01:07<00:03,  1.21s/it]\u001b[A\u001b[A\u001b[A\n",
      "\n",
      "\n",
      " 97%|█████████▋| 58/60 [01:08<00:02,  1.20s/it]\u001b[A\u001b[A\u001b[A\n",
      "\n",
      "\n",
      " 98%|█████████▊| 59/60 [01:09<00:01,  1.20s/it]\u001b[A\u001b[A\u001b[A\n",
      "\n",
      "\n",
      "100%|██████████| 60/60 [01:11<00:00,  1.19s/it]\u001b[A\u001b[A\u001b[A\n",
      "Some weights of the model checkpoint at neuralmind/bert-base-portuguese-cased were not used when initializing BertForSequenceClassification: ['cls.seq_relationship.weight', 'cls.predictions.transform.dense.weight', 'cls.predictions.transform.LayerNorm.bias', 'cls.seq_relationship.bias', 'cls.predictions.transform.LayerNorm.weight', 'cls.predictions.decoder.weight', 'cls.predictions.bias', 'cls.predictions.transform.dense.bias']\n",
      "- This IS expected if you are initializing BertForSequenceClassification from the checkpoint of a model trained on another task or with another architecture (e.g. initializing a BertForSequenceClassification model from a BertForPreTraining model).\n",
      "- This IS NOT expected if you are initializing BertForSequenceClassification from the checkpoint of a model that you expect to be exactly identical (initializing a BertForSequenceClassification model from a BertForSequenceClassification model).\n",
      "Some weights of BertForSequenceClassification were not initialized from the model checkpoint at neuralmind/bert-base-portuguese-cased and are newly initialized: ['classifier.bias', 'classifier.weight']\n",
      "You should probably TRAIN this model on a down-stream task to be able to use it for predictions and inference.\n",
      "\n",
      "\n",
      "\n",
      "100%|██████████| 240/240 [00:00<00:00, 7457.70it/s]\n",
      "\n",
      "\n",
      "\n",
      "  0%|          | 0/60 [00:00<?, ?it/s]\u001b[A\u001b[A\u001b[A\n",
      "\n",
      "\n",
      "  2%|▏         | 1/60 [00:01<01:10,  1.20s/it]\u001b[A\u001b[A\u001b[A\n",
      "\n",
      "\n",
      "  3%|▎         | 2/60 [00:02<01:09,  1.21s/it]\u001b[A\u001b[A\u001b[A\n",
      "\n",
      "\n",
      "  5%|▌         | 3/60 [00:03<01:09,  1.21s/it]\u001b[A\u001b[A\u001b[A\n",
      "\n",
      "\n",
      "  7%|▋         | 4/60 [00:04<01:07,  1.21s/it]\u001b[A\u001b[A\u001b[A\n",
      "\n",
      "\n",
      "  8%|▊         | 5/60 [00:06<01:07,  1.22s/it]\u001b[A\u001b[A\u001b[A\n",
      "\n",
      "\n",
      " 10%|█         | 6/60 [00:07<01:06,  1.23s/it]\u001b[A\u001b[A\u001b[A\n",
      "\n",
      "\n",
      " 12%|█▏        | 7/60 [00:08<01:05,  1.24s/it]\u001b[A\u001b[A\u001b[A\n",
      "\n",
      "\n",
      " 13%|█▎        | 8/60 [00:09<01:03,  1.23s/it]\u001b[A\u001b[A\u001b[A\n",
      "\n",
      "\n",
      " 15%|█▌        | 9/60 [00:11<01:02,  1.22s/it]\u001b[A\u001b[A\u001b[A\n",
      "\n",
      "\n",
      " 17%|█▋        | 10/60 [00:12<01:00,  1.22s/it]\u001b[A\u001b[A\u001b[A\n",
      "\n",
      "\n",
      " 18%|█▊        | 11/60 [00:13<00:59,  1.21s/it]\u001b[A\u001b[A\u001b[A\n",
      "\n",
      "\n",
      " 20%|██        | 12/60 [00:14<00:57,  1.21s/it]\u001b[A\u001b[A\u001b[A\n",
      "\n",
      "\n",
      " 22%|██▏       | 13/60 [00:15<00:56,  1.21s/it]\u001b[A\u001b[A\u001b[A\n",
      "\n",
      "\n",
      " 23%|██▎       | 14/60 [00:17<00:55,  1.20s/it]\u001b[A\u001b[A\u001b[A\n",
      "\n",
      "\n",
      " 25%|██▌       | 15/60 [00:18<00:53,  1.20s/it]\u001b[A\u001b[A\u001b[A\n",
      "\n",
      "\n",
      " 27%|██▋       | 16/60 [00:19<00:52,  1.19s/it]\u001b[A\u001b[A\u001b[A\n",
      "\n",
      "\n",
      " 28%|██▊       | 17/60 [00:20<00:51,  1.20s/it]\u001b[A\u001b[A\u001b[A\n",
      "\n",
      "\n",
      " 30%|███       | 18/60 [00:21<00:50,  1.20s/it]\u001b[A\u001b[A\u001b[A\n",
      "\n",
      "\n",
      " 32%|███▏      | 19/60 [00:22<00:48,  1.19s/it]\u001b[A\u001b[A\u001b[A\n",
      "\n",
      "\n",
      " 33%|███▎      | 20/60 [00:24<00:47,  1.19s/it]\u001b[A\u001b[A\u001b[A\n",
      "\n",
      "\n",
      " 35%|███▌      | 21/60 [00:25<00:47,  1.21s/it]\u001b[A\u001b[A\u001b[A\n",
      "\n",
      "\n",
      " 37%|███▋      | 22/60 [00:26<00:46,  1.21s/it]\u001b[A\u001b[A\u001b[A\n",
      "\n",
      "\n",
      " 38%|███▊      | 23/60 [00:27<00:45,  1.22s/it]\u001b[A\u001b[A\u001b[A\n",
      "\n",
      "\n",
      " 40%|████      | 24/60 [00:29<00:43,  1.21s/it]\u001b[A\u001b[A\u001b[A\n",
      "\n",
      "\n",
      " 42%|████▏     | 25/60 [00:30<00:41,  1.18s/it]\u001b[A\u001b[A\u001b[A\n",
      "\n",
      "\n",
      " 43%|████▎     | 26/60 [00:31<00:39,  1.18s/it]\u001b[A\u001b[A\u001b[A\n",
      "\n",
      "\n",
      " 45%|████▌     | 27/60 [00:32<00:38,  1.18s/it]\u001b[A\u001b[A\u001b[A\n",
      "\n",
      "\n",
      " 47%|████▋     | 28/60 [00:33<00:37,  1.18s/it]\u001b[A\u001b[A\u001b[A\n",
      "\n",
      "\n",
      " 48%|████▊     | 29/60 [00:34<00:36,  1.18s/it]\u001b[A\u001b[A\u001b[A\n",
      "\n",
      "\n",
      " 50%|█████     | 30/60 [00:36<00:35,  1.18s/it]\u001b[A\u001b[A\u001b[A\n",
      "\n",
      "\n",
      " 52%|█████▏    | 31/60 [00:37<00:34,  1.20s/it]\u001b[A\u001b[A\u001b[A\n",
      "\n",
      "\n",
      " 53%|█████▎    | 32/60 [00:38<00:33,  1.19s/it]\u001b[A\u001b[A\u001b[A\n",
      "\n",
      "\n",
      " 55%|█████▌    | 33/60 [00:39<00:32,  1.21s/it]\u001b[A\u001b[A\u001b[A\n",
      "\n",
      "\n",
      " 57%|█████▋    | 34/60 [00:40<00:30,  1.19s/it]\u001b[A\u001b[A\u001b[A\n",
      "\n",
      "\n",
      " 58%|█████▊    | 35/60 [00:42<00:29,  1.18s/it]\u001b[A\u001b[A\u001b[A\n",
      "\n",
      "\n",
      " 60%|██████    | 36/60 [00:43<00:28,  1.17s/it]\u001b[A\u001b[A\u001b[A\n",
      "\n",
      "\n",
      " 62%|██████▏   | 37/60 [00:44<00:27,  1.17s/it]\u001b[A\u001b[A\u001b[A\n",
      "\n",
      "\n",
      " 63%|██████▎   | 38/60 [00:45<00:25,  1.18s/it]\u001b[A\u001b[A\u001b[A\n",
      "\n",
      "\n",
      " 65%|██████▌   | 39/60 [00:46<00:24,  1.18s/it]\u001b[A\u001b[A\u001b[A\n",
      "\n",
      "\n",
      " 67%|██████▋   | 40/60 [00:47<00:23,  1.17s/it]\u001b[A\u001b[A\u001b[A\n",
      "\n",
      "\n",
      " 68%|██████▊   | 41/60 [00:49<00:22,  1.18s/it]\u001b[A\u001b[A\u001b[A\n",
      "\n",
      "\n",
      " 70%|███████   | 42/60 [00:50<00:21,  1.19s/it]\u001b[A\u001b[A\u001b[A\n",
      "\n",
      "\n",
      " 72%|███████▏  | 43/60 [00:51<00:20,  1.20s/it]\u001b[A\u001b[A\u001b[A\n",
      "\n",
      "\n",
      " 73%|███████▎  | 44/60 [00:52<00:19,  1.20s/it]\u001b[A\u001b[A\u001b[A\n",
      "\n",
      "\n",
      " 75%|███████▌  | 45/60 [00:53<00:17,  1.20s/it]\u001b[A\u001b[A\u001b[A\n",
      "\n",
      "\n",
      " 77%|███████▋  | 46/60 [00:55<00:16,  1.19s/it]\u001b[A\u001b[A\u001b[A\n",
      "\n",
      "\n",
      " 78%|███████▊  | 47/60 [00:56<00:15,  1.19s/it]\u001b[A\u001b[A\u001b[A\n",
      "\n",
      "\n",
      " 80%|████████  | 48/60 [00:57<00:14,  1.18s/it]\u001b[A\u001b[A\u001b[A\n",
      "\n",
      "\n",
      " 82%|████████▏ | 49/60 [00:58<00:13,  1.19s/it]\u001b[A\u001b[A\u001b[A\n",
      "\n",
      "\n",
      " 83%|████████▎ | 50/60 [00:59<00:11,  1.19s/it]\u001b[A\u001b[A\u001b[A\n",
      "\n",
      "\n",
      " 85%|████████▌ | 51/60 [01:01<00:10,  1.19s/it]\u001b[A\u001b[A\u001b[A\n",
      "\n",
      "\n",
      " 87%|████████▋ | 52/60 [01:02<00:09,  1.19s/it]\u001b[A\u001b[A\u001b[A\n",
      "\n",
      "\n",
      " 88%|████████▊ | 53/60 [01:03<00:08,  1.19s/it]\u001b[A\u001b[A\u001b[A\n",
      "\n",
      "\n",
      " 90%|█████████ | 54/60 [01:04<00:07,  1.20s/it]\u001b[A\u001b[A\u001b[A\n",
      "\n",
      "\n",
      " 92%|█████████▏| 55/60 [01:05<00:05,  1.19s/it]\u001b[A\u001b[A\u001b[A\n",
      "\n",
      "\n",
      " 93%|█████████▎| 56/60 [01:07<00:04,  1.19s/it]\u001b[A\u001b[A\u001b[A\n",
      "\n",
      "\n",
      " 95%|█████████▌| 57/60 [01:08<00:03,  1.19s/it]\u001b[A\u001b[A\u001b[A\n",
      "\n",
      "\n",
      " 97%|█████████▋| 58/60 [01:09<00:02,  1.19s/it]\u001b[A\u001b[A\u001b[A\n",
      "\n",
      "\n",
      " 98%|█████████▊| 59/60 [01:10<00:01,  1.27s/it]\u001b[A\u001b[A\u001b[A\n",
      "\n",
      "\n",
      "100%|██████████| 60/60 [01:12<00:00,  1.20s/it]\u001b[A\u001b[A\u001b[A\n"
     ]
    },
    {
     "data": {
      "application/vnd.jupyter.widget-view+json": {
       "model_id": "e18b5a1f86d14975b4189bc492bae4c4",
       "version_major": 2,
       "version_minor": 0
      },
      "text/plain": [
       "HBox(children=(FloatProgress(value=0.0, description='Epoch', max=5.0, style=ProgressStyle(description_width='i…"
      ]
     },
     "metadata": {},
     "output_type": "display_data"
    },
    {
     "data": {
      "application/vnd.jupyter.widget-view+json": {
       "model_id": "f9dacc3904234f33907bc989c26f30b3",
       "version_major": 2,
       "version_minor": 0
      },
      "text/plain": [
       "HBox(children=(FloatProgress(value=0.0, description='Iteration', max=30.0, style=ProgressStyle(description_wid…"
      ]
     },
     "metadata": {},
     "output_type": "display_data"
    },
    {
     "name": "stdout",
     "output_type": "stream",
     "text": [
      "\n"
     ]
    },
    {
     "data": {
      "application/vnd.jupyter.widget-view+json": {
       "model_id": "2d99c5edcb3d4761a75e2467ef307c93",
       "version_major": 2,
       "version_minor": 0
      },
      "text/plain": [
       "HBox(children=(FloatProgress(value=0.0, description='Iteration', max=30.0, style=ProgressStyle(description_wid…"
      ]
     },
     "metadata": {},
     "output_type": "display_data"
    },
    {
     "name": "stdout",
     "output_type": "stream",
     "text": [
      "\n"
     ]
    },
    {
     "data": {
      "application/vnd.jupyter.widget-view+json": {
       "model_id": "cabb09b92dfb4317aa86b1ac3892de62",
       "version_major": 2,
       "version_minor": 0
      },
      "text/plain": [
       "HBox(children=(FloatProgress(value=0.0, description='Iteration', max=30.0, style=ProgressStyle(description_wid…"
      ]
     },
     "metadata": {},
     "output_type": "display_data"
    },
    {
     "name": "stdout",
     "output_type": "stream",
     "text": [
      "\n"
     ]
    },
    {
     "data": {
      "application/vnd.jupyter.widget-view+json": {
       "model_id": "7895086ccb7f4c9a82b4d4795f5edd11",
       "version_major": 2,
       "version_minor": 0
      },
      "text/plain": [
       "HBox(children=(FloatProgress(value=0.0, description='Iteration', max=30.0, style=ProgressStyle(description_wid…"
      ]
     },
     "metadata": {},
     "output_type": "display_data"
    },
    {
     "name": "stdout",
     "output_type": "stream",
     "text": [
      "\n"
     ]
    },
    {
     "data": {
      "application/vnd.jupyter.widget-view+json": {
       "model_id": "905eb3a159f240ae9112a49c8985bd89",
       "version_major": 2,
       "version_minor": 0
      },
      "text/plain": [
       "HBox(children=(FloatProgress(value=0.0, description='Iteration', max=30.0, style=ProgressStyle(description_wid…"
      ]
     },
     "metadata": {},
     "output_type": "display_data"
    },
    {
     "name": "stdout",
     "output_type": "stream",
     "text": [
      "\n",
      "\n"
     ]
    },
    {
     "name": "stderr",
     "output_type": "stream",
     "text": [
      "\n",
      "\n",
      "\n",
      "  0%|          | 0/60 [00:00<?, ?it/s]\u001b[A\u001b[A\u001b[A\n",
      "\n",
      "\n",
      "  2%|▏         | 1/60 [00:01<01:08,  1.16s/it]\u001b[A\u001b[A\u001b[A\n",
      "\n",
      "\n",
      "  3%|▎         | 2/60 [00:02<01:07,  1.17s/it]\u001b[A\u001b[A\u001b[A\n",
      "\n",
      "\n",
      "  5%|▌         | 3/60 [00:03<01:06,  1.17s/it]\u001b[A\u001b[A\u001b[A\n",
      "\n",
      "\n",
      "  7%|▋         | 4/60 [00:04<01:05,  1.17s/it]\u001b[A\u001b[A\u001b[A\n",
      "\n",
      "\n",
      "  8%|▊         | 5/60 [00:05<01:04,  1.17s/it]\u001b[A\u001b[A\u001b[A\n",
      "\n",
      "\n",
      " 10%|█         | 6/60 [00:07<01:03,  1.18s/it]\u001b[A\u001b[A\u001b[A\n",
      "\n",
      "\n",
      " 12%|█▏        | 7/60 [00:08<01:03,  1.19s/it]\u001b[A\u001b[A\u001b[A\n",
      "\n",
      "\n",
      " 13%|█▎        | 8/60 [00:09<01:01,  1.18s/it]\u001b[A\u001b[A\u001b[A\n",
      "\n",
      "\n",
      " 15%|█▌        | 9/60 [00:10<01:00,  1.18s/it]\u001b[A\u001b[A\u001b[A\n",
      "\n",
      "\n",
      " 17%|█▋        | 10/60 [00:11<00:58,  1.18s/it]\u001b[A\u001b[A\u001b[A\n",
      "\n",
      "\n",
      " 18%|█▊        | 11/60 [00:12<00:57,  1.17s/it]\u001b[A\u001b[A\u001b[A\n",
      "\n",
      "\n",
      " 20%|██        | 12/60 [00:14<00:55,  1.16s/it]\u001b[A\u001b[A\u001b[A\n",
      "\n",
      "\n",
      " 22%|██▏       | 13/60 [00:15<00:54,  1.16s/it]\u001b[A\u001b[A\u001b[A\n",
      "\n",
      "\n",
      " 23%|██▎       | 14/60 [00:16<00:53,  1.16s/it]\u001b[A\u001b[A\u001b[A\n",
      "\n",
      "\n",
      " 25%|██▌       | 15/60 [00:17<00:52,  1.16s/it]\u001b[A\u001b[A\u001b[A\n",
      "\n",
      "\n",
      " 27%|██▋       | 16/60 [00:18<00:51,  1.16s/it]\u001b[A\u001b[A\u001b[A\n",
      "\n",
      "\n",
      " 28%|██▊       | 17/60 [00:19<00:49,  1.16s/it]\u001b[A\u001b[A\u001b[A\n",
      "\n",
      "\n",
      " 30%|███       | 18/60 [00:21<00:48,  1.16s/it]\u001b[A\u001b[A\u001b[A\n",
      "\n",
      "\n",
      " 32%|███▏      | 19/60 [00:22<00:47,  1.16s/it]\u001b[A\u001b[A\u001b[A\n",
      "\n",
      "\n",
      " 33%|███▎      | 20/60 [00:23<00:47,  1.19s/it]\u001b[A\u001b[A\u001b[A\n",
      "\n",
      "\n",
      " 35%|███▌      | 21/60 [00:24<00:47,  1.22s/it]\u001b[A\u001b[A\u001b[A\n",
      "\n",
      "\n",
      " 37%|███▋      | 22/60 [00:26<00:46,  1.23s/it]\u001b[A\u001b[A\u001b[A\n",
      "\n",
      "\n",
      " 38%|███▊      | 23/60 [00:27<00:45,  1.23s/it]\u001b[A\u001b[A\u001b[A\n",
      "\n",
      "\n",
      " 40%|████      | 24/60 [00:28<00:44,  1.23s/it]\u001b[A\u001b[A\u001b[A\n",
      "\n",
      "\n",
      " 42%|████▏     | 25/60 [00:29<00:42,  1.21s/it]\u001b[A\u001b[A\u001b[A\n",
      "\n",
      "\n",
      " 43%|████▎     | 26/60 [00:30<00:40,  1.20s/it]\u001b[A\u001b[A\u001b[A\n",
      "\n",
      "\n",
      " 45%|████▌     | 27/60 [00:32<00:39,  1.19s/it]\u001b[A\u001b[A\u001b[A\n",
      "\n",
      "\n",
      " 47%|████▋     | 28/60 [00:33<00:37,  1.19s/it]\u001b[A\u001b[A\u001b[A\n",
      "\n",
      "\n",
      " 48%|████▊     | 29/60 [00:34<00:36,  1.19s/it]\u001b[A\u001b[A\u001b[A\n",
      "\n",
      "\n",
      " 50%|█████     | 30/60 [00:35<00:35,  1.18s/it]\u001b[A\u001b[A\u001b[A\n",
      "\n",
      "\n",
      " 52%|█████▏    | 31/60 [00:36<00:34,  1.19s/it]\u001b[A\u001b[A\u001b[A\n",
      "\n",
      "\n",
      " 53%|█████▎    | 32/60 [00:37<00:32,  1.18s/it]\u001b[A\u001b[A\u001b[A\n",
      "\n",
      "\n",
      " 55%|█████▌    | 33/60 [00:39<00:31,  1.18s/it]\u001b[A\u001b[A\u001b[A\n",
      "\n",
      "\n",
      " 57%|█████▋    | 34/60 [00:40<00:30,  1.17s/it]\u001b[A\u001b[A\u001b[A\n",
      "\n",
      "\n",
      " 58%|█████▊    | 35/60 [00:41<00:29,  1.16s/it]\u001b[A\u001b[A\u001b[A\n",
      "\n",
      "\n",
      " 60%|██████    | 36/60 [00:42<00:28,  1.17s/it]\u001b[A\u001b[A\u001b[A\n",
      "\n",
      "\n",
      " 62%|██████▏   | 37/60 [00:43<00:26,  1.17s/it]\u001b[A\u001b[A\u001b[A\n",
      "\n",
      "\n",
      " 63%|██████▎   | 38/60 [00:44<00:25,  1.16s/it]\u001b[A\u001b[A\u001b[A\n",
      "\n",
      "\n",
      " 65%|██████▌   | 39/60 [00:46<00:24,  1.16s/it]\u001b[A\u001b[A\u001b[A\n",
      "\n",
      "\n",
      " 67%|██████▋   | 40/60 [00:47<00:22,  1.15s/it]\u001b[A\u001b[A\u001b[A\n",
      "\n",
      "\n",
      " 68%|██████▊   | 41/60 [00:48<00:21,  1.14s/it]\u001b[A\u001b[A\u001b[A\n",
      "\n",
      "\n",
      " 70%|███████   | 42/60 [00:49<00:20,  1.16s/it]\u001b[A\u001b[A\u001b[A\n",
      "\n",
      "\n",
      " 72%|███████▏  | 43/60 [00:50<00:20,  1.19s/it]\u001b[A\u001b[A\u001b[A\n",
      "\n",
      "\n",
      " 73%|███████▎  | 44/60 [00:51<00:19,  1.20s/it]\u001b[A\u001b[A\u001b[A\n",
      "\n",
      "\n",
      " 75%|███████▌  | 45/60 [00:53<00:17,  1.20s/it]\u001b[A\u001b[A\u001b[A\n",
      "\n",
      "\n",
      " 77%|███████▋  | 46/60 [00:54<00:16,  1.19s/it]\u001b[A\u001b[A\u001b[A\n",
      "\n",
      "\n",
      " 78%|███████▊  | 47/60 [00:55<00:15,  1.19s/it]\u001b[A\u001b[A\u001b[A\n",
      "\n",
      "\n",
      " 80%|████████  | 48/60 [00:56<00:14,  1.18s/it]\u001b[A\u001b[A\u001b[A\n",
      "\n",
      "\n",
      " 82%|████████▏ | 49/60 [00:57<00:12,  1.18s/it]\u001b[A\u001b[A\u001b[A\n",
      "\n",
      "\n",
      " 83%|████████▎ | 50/60 [00:59<00:11,  1.18s/it]\u001b[A\u001b[A\u001b[A\n",
      "\n",
      "\n",
      " 85%|████████▌ | 51/60 [01:00<00:10,  1.17s/it]\u001b[A\u001b[A\u001b[A\n",
      "\n",
      "\n",
      " 87%|████████▋ | 52/60 [01:01<00:09,  1.17s/it]\u001b[A\u001b[A\u001b[A\n",
      "\n",
      "\n",
      " 88%|████████▊ | 53/60 [01:02<00:08,  1.16s/it]\u001b[A\u001b[A\u001b[A\n",
      "\n",
      "\n",
      " 90%|█████████ | 54/60 [01:03<00:07,  1.18s/it]\u001b[A\u001b[A\u001b[A\n",
      "\n",
      "\n",
      " 92%|█████████▏| 55/60 [01:04<00:05,  1.18s/it]\u001b[A\u001b[A\u001b[A\n",
      "\n",
      "\n",
      " 93%|█████████▎| 56/60 [01:06<00:04,  1.17s/it]\u001b[A\u001b[A\u001b[A\n",
      "\n",
      "\n",
      " 95%|█████████▌| 57/60 [01:07<00:03,  1.17s/it]\u001b[A\u001b[A\u001b[A\n",
      "\n",
      "\n",
      " 97%|█████████▋| 58/60 [01:08<00:02,  1.17s/it]\u001b[A\u001b[A\u001b[A\n",
      "\n",
      "\n",
      " 98%|█████████▊| 59/60 [01:09<00:01,  1.29s/it]\u001b[A\u001b[A\u001b[A\n",
      "\n",
      "\n",
      "100%|██████████| 60/60 [01:11<00:00,  1.19s/it]\u001b[A\u001b[A\u001b[A\n",
      "Some weights of the model checkpoint at neuralmind/bert-base-portuguese-cased were not used when initializing BertForSequenceClassification: ['cls.seq_relationship.weight', 'cls.predictions.transform.dense.weight', 'cls.predictions.transform.LayerNorm.bias', 'cls.seq_relationship.bias', 'cls.predictions.transform.LayerNorm.weight', 'cls.predictions.decoder.weight', 'cls.predictions.bias', 'cls.predictions.transform.dense.bias']\n",
      "- This IS expected if you are initializing BertForSequenceClassification from the checkpoint of a model trained on another task or with another architecture (e.g. initializing a BertForSequenceClassification model from a BertForPreTraining model).\n",
      "- This IS NOT expected if you are initializing BertForSequenceClassification from the checkpoint of a model that you expect to be exactly identical (initializing a BertForSequenceClassification model from a BertForSequenceClassification model).\n",
      "Some weights of BertForSequenceClassification were not initialized from the model checkpoint at neuralmind/bert-base-portuguese-cased and are newly initialized: ['classifier.bias', 'classifier.weight']\n",
      "You should probably TRAIN this model on a down-stream task to be able to use it for predictions and inference.\n",
      "\n",
      "\n",
      "\n",
      "100%|██████████| 240/240 [00:00<00:00, 7762.92it/s]\n",
      "\n",
      "\n",
      "\n",
      "  0%|          | 0/60 [00:00<?, ?it/s]\u001b[A\u001b[A\u001b[A\n",
      "\n",
      "\n",
      "  2%|▏         | 1/60 [00:01<01:12,  1.22s/it]\u001b[A\u001b[A\u001b[A\n",
      "\n",
      "\n",
      "  3%|▎         | 2/60 [00:02<01:09,  1.20s/it]\u001b[A\u001b[A\u001b[A\n",
      "\n",
      "\n",
      "  5%|▌         | 3/60 [00:03<01:07,  1.19s/it]\u001b[A\u001b[A\u001b[A\n",
      "\n",
      "\n",
      "  7%|▋         | 4/60 [00:04<01:06,  1.18s/it]\u001b[A\u001b[A\u001b[A\n",
      "\n",
      "\n",
      "  8%|▊         | 5/60 [00:05<01:04,  1.18s/it]\u001b[A\u001b[A\u001b[A\n",
      "\n",
      "\n",
      " 10%|█         | 6/60 [00:07<01:03,  1.18s/it]\u001b[A\u001b[A\u001b[A\n",
      "\n",
      "\n",
      " 12%|█▏        | 7/60 [00:08<01:02,  1.17s/it]\u001b[A\u001b[A\u001b[A\n",
      "\n",
      "\n",
      " 13%|█▎        | 8/60 [00:09<01:01,  1.18s/it]\u001b[A\u001b[A\u001b[A\n",
      "\n",
      "\n",
      " 15%|█▌        | 9/60 [00:10<01:00,  1.19s/it]\u001b[A\u001b[A\u001b[A\n",
      "\n",
      "\n",
      " 17%|█▋        | 10/60 [00:11<00:58,  1.18s/it]\u001b[A\u001b[A\u001b[A\n",
      "\n",
      "\n",
      " 18%|█▊        | 11/60 [00:12<00:57,  1.18s/it]\u001b[A\u001b[A\u001b[A\n",
      "\n",
      "\n",
      " 20%|██        | 12/60 [00:14<00:56,  1.18s/it]\u001b[A\u001b[A\u001b[A\n",
      "\n",
      "\n",
      " 22%|██▏       | 13/60 [00:15<00:55,  1.18s/it]\u001b[A\u001b[A\u001b[A\n",
      "\n",
      "\n",
      " 23%|██▎       | 14/60 [00:16<00:55,  1.20s/it]\u001b[A\u001b[A\u001b[A\n",
      "\n",
      "\n",
      " 25%|██▌       | 15/60 [00:17<00:53,  1.19s/it]\u001b[A\u001b[A\u001b[A\n",
      "\n",
      "\n",
      " 27%|██▋       | 16/60 [00:18<00:53,  1.21s/it]\u001b[A\u001b[A\u001b[A\n",
      "\n",
      "\n",
      " 28%|██▊       | 17/60 [00:20<00:52,  1.22s/it]\u001b[A\u001b[A\u001b[A\n",
      "\n",
      "\n",
      " 30%|███       | 18/60 [00:21<00:50,  1.21s/it]\u001b[A\u001b[A\u001b[A\n",
      "\n",
      "\n",
      " 32%|███▏      | 19/60 [00:22<00:49,  1.20s/it]\u001b[A\u001b[A\u001b[A\n",
      "\n",
      "\n",
      " 33%|███▎      | 20/60 [00:23<00:47,  1.19s/it]\u001b[A\u001b[A\u001b[A\n",
      "\n",
      "\n",
      " 35%|███▌      | 21/60 [00:24<00:44,  1.15s/it]\u001b[A\u001b[A\u001b[A\n",
      "\n",
      "\n",
      " 37%|███▋      | 22/60 [00:25<00:44,  1.16s/it]\u001b[A\u001b[A\u001b[A\n",
      "\n",
      "\n",
      " 38%|███▊      | 23/60 [00:27<00:43,  1.17s/it]\u001b[A\u001b[A\u001b[A\n",
      "\n",
      "\n",
      " 40%|████      | 24/60 [00:28<00:42,  1.18s/it]\u001b[A\u001b[A\u001b[A\n",
      "\n",
      "\n",
      " 42%|████▏     | 25/60 [00:29<00:41,  1.17s/it]\u001b[A\u001b[A\u001b[A\n",
      "\n",
      "\n",
      " 43%|████▎     | 26/60 [00:30<00:40,  1.18s/it]\u001b[A\u001b[A\u001b[A\n",
      "\n",
      "\n",
      " 45%|████▌     | 27/60 [00:31<00:38,  1.17s/it]\u001b[A\u001b[A\u001b[A\n",
      "\n",
      "\n",
      " 47%|████▋     | 28/60 [00:33<00:37,  1.19s/it]\u001b[A\u001b[A\u001b[A\n",
      "\n",
      "\n",
      " 48%|████▊     | 29/60 [00:34<00:37,  1.21s/it]\u001b[A\u001b[A\u001b[A\n",
      "\n",
      "\n",
      " 50%|█████     | 30/60 [00:35<00:36,  1.20s/it]\u001b[A\u001b[A\u001b[A\n",
      "\n",
      "\n",
      " 52%|█████▏    | 31/60 [00:36<00:34,  1.19s/it]\u001b[A\u001b[A\u001b[A\n",
      "\n",
      "\n",
      " 53%|█████▎    | 32/60 [00:38<00:34,  1.22s/it]\u001b[A\u001b[A\u001b[A\n",
      "\n",
      "\n",
      " 55%|█████▌    | 33/60 [00:39<00:32,  1.21s/it]\u001b[A\u001b[A\u001b[A\n",
      "\n",
      "\n",
      " 57%|█████▋    | 34/60 [00:40<00:32,  1.24s/it]\u001b[A\u001b[A\u001b[A\n",
      "\n",
      "\n",
      " 58%|█████▊    | 35/60 [00:41<00:30,  1.22s/it]\u001b[A\u001b[A\u001b[A\n",
      "\n",
      "\n",
      " 60%|██████    | 36/60 [00:42<00:29,  1.21s/it]\u001b[A\u001b[A\u001b[A\n",
      "\n",
      "\n",
      " 62%|██████▏   | 37/60 [00:44<00:27,  1.20s/it]\u001b[A\u001b[A\u001b[A\n",
      "\n",
      "\n",
      " 63%|██████▎   | 38/60 [00:45<00:26,  1.19s/it]\u001b[A\u001b[A\u001b[A\n",
      "\n",
      "\n",
      " 65%|██████▌   | 39/60 [00:46<00:24,  1.18s/it]\u001b[A\u001b[A\u001b[A\n",
      "\n",
      "\n",
      " 67%|██████▋   | 40/60 [00:47<00:23,  1.18s/it]\u001b[A\u001b[A\u001b[A\n",
      "\n",
      "\n",
      " 68%|██████▊   | 41/60 [00:48<00:22,  1.18s/it]\u001b[A\u001b[A\u001b[A\n",
      "\n",
      "\n",
      " 70%|███████   | 42/60 [00:49<00:21,  1.17s/it]\u001b[A\u001b[A\u001b[A\n",
      "\n",
      "\n",
      " 72%|███████▏  | 43/60 [00:51<00:20,  1.18s/it]\u001b[A\u001b[A\u001b[A\n",
      "\n",
      "\n",
      " 73%|███████▎  | 44/60 [00:52<00:18,  1.18s/it]\u001b[A\u001b[A\u001b[A\n",
      "\n",
      "\n",
      " 75%|███████▌  | 45/60 [00:53<00:17,  1.19s/it]\u001b[A\u001b[A\u001b[A\n",
      "\n",
      "\n",
      " 77%|███████▋  | 46/60 [00:54<00:16,  1.18s/it]\u001b[A\u001b[A\u001b[A\n",
      "\n",
      "\n",
      " 78%|███████▊  | 47/60 [00:55<00:15,  1.17s/it]\u001b[A\u001b[A\u001b[A\n",
      "\n",
      "\n",
      " 80%|████████  | 48/60 [00:56<00:13,  1.15s/it]\u001b[A\u001b[A\u001b[A\n",
      "\n",
      "\n",
      " 82%|████████▏ | 49/60 [00:58<00:12,  1.17s/it]\u001b[A\u001b[A\u001b[A\n",
      "\n",
      "\n",
      " 83%|████████▎ | 50/60 [00:59<00:11,  1.17s/it]\u001b[A\u001b[A\u001b[A\n",
      "\n",
      "\n",
      " 85%|████████▌ | 51/60 [01:00<00:10,  1.17s/it]\u001b[A\u001b[A\u001b[A\n",
      "\n",
      "\n",
      " 87%|████████▋ | 52/60 [01:01<00:09,  1.16s/it]\u001b[A\u001b[A\u001b[A\n",
      "\n",
      "\n",
      " 88%|████████▊ | 53/60 [01:02<00:08,  1.16s/it]\u001b[A\u001b[A\u001b[A\n",
      "\n",
      "\n",
      " 90%|█████████ | 54/60 [01:03<00:07,  1.17s/it]\u001b[A\u001b[A\u001b[A\n",
      "\n",
      "\n",
      " 92%|█████████▏| 55/60 [01:05<00:05,  1.18s/it]\u001b[A\u001b[A\u001b[A\n",
      "\n",
      "\n",
      " 93%|█████████▎| 56/60 [01:06<00:04,  1.18s/it]\u001b[A\u001b[A\u001b[A\n",
      "\n",
      "\n",
      " 95%|█████████▌| 57/60 [01:07<00:03,  1.18s/it]\u001b[A\u001b[A\u001b[A\n",
      "\n",
      "\n",
      " 97%|█████████▋| 58/60 [01:08<00:02,  1.18s/it]\u001b[A\u001b[A\u001b[A\n",
      "\n",
      "\n",
      " 98%|█████████▊| 59/60 [01:09<00:01,  1.17s/it]\u001b[A\u001b[A\u001b[A\n",
      "\n",
      "\n",
      "100%|██████████| 60/60 [01:10<00:00,  1.18s/it]\u001b[A\u001b[A\u001b[A\n"
     ]
    },
    {
     "data": {
      "application/vnd.jupyter.widget-view+json": {
       "model_id": "c6d36ee7b9cb42598b866b0cae53cbb6",
       "version_major": 2,
       "version_minor": 0
      },
      "text/plain": [
       "HBox(children=(FloatProgress(value=0.0, description='Epoch', max=5.0, style=ProgressStyle(description_width='i…"
      ]
     },
     "metadata": {},
     "output_type": "display_data"
    },
    {
     "data": {
      "application/vnd.jupyter.widget-view+json": {
       "model_id": "b0ae838059eb45f59b90bb0cb66257d3",
       "version_major": 2,
       "version_minor": 0
      },
      "text/plain": [
       "HBox(children=(FloatProgress(value=0.0, description='Iteration', max=30.0, style=ProgressStyle(description_wid…"
      ]
     },
     "metadata": {},
     "output_type": "display_data"
    },
    {
     "name": "stdout",
     "output_type": "stream",
     "text": [
      "\n"
     ]
    },
    {
     "data": {
      "application/vnd.jupyter.widget-view+json": {
       "model_id": "03c139d4d799461488df3472d4169452",
       "version_major": 2,
       "version_minor": 0
      },
      "text/plain": [
       "HBox(children=(FloatProgress(value=0.0, description='Iteration', max=30.0, style=ProgressStyle(description_wid…"
      ]
     },
     "metadata": {},
     "output_type": "display_data"
    },
    {
     "name": "stdout",
     "output_type": "stream",
     "text": [
      "\n"
     ]
    },
    {
     "data": {
      "application/vnd.jupyter.widget-view+json": {
       "model_id": "6e438008e5f1418bb4885ab30dbc191f",
       "version_major": 2,
       "version_minor": 0
      },
      "text/plain": [
       "HBox(children=(FloatProgress(value=0.0, description='Iteration', max=30.0, style=ProgressStyle(description_wid…"
      ]
     },
     "metadata": {},
     "output_type": "display_data"
    },
    {
     "name": "stdout",
     "output_type": "stream",
     "text": [
      "\n"
     ]
    },
    {
     "data": {
      "application/vnd.jupyter.widget-view+json": {
       "model_id": "1c62c0cbce8b4947aa3b1d2346002574",
       "version_major": 2,
       "version_minor": 0
      },
      "text/plain": [
       "HBox(children=(FloatProgress(value=0.0, description='Iteration', max=30.0, style=ProgressStyle(description_wid…"
      ]
     },
     "metadata": {},
     "output_type": "display_data"
    },
    {
     "name": "stdout",
     "output_type": "stream",
     "text": [
      "\n"
     ]
    },
    {
     "data": {
      "application/vnd.jupyter.widget-view+json": {
       "model_id": "1928a0e7636847f4bd4065b51e2c1da3",
       "version_major": 2,
       "version_minor": 0
      },
      "text/plain": [
       "HBox(children=(FloatProgress(value=0.0, description='Iteration', max=30.0, style=ProgressStyle(description_wid…"
      ]
     },
     "metadata": {},
     "output_type": "display_data"
    },
    {
     "name": "stdout",
     "output_type": "stream",
     "text": [
      "\n",
      "\n"
     ]
    },
    {
     "name": "stderr",
     "output_type": "stream",
     "text": [
      "\n",
      "\n",
      "\n",
      "  0%|          | 0/60 [00:00<?, ?it/s]\u001b[A\u001b[A\u001b[A\n",
      "\n",
      "\n",
      "  2%|▏         | 1/60 [00:01<01:12,  1.23s/it]\u001b[A\u001b[A\u001b[A\n",
      "\n",
      "\n",
      "  3%|▎         | 2/60 [00:02<01:10,  1.21s/it]\u001b[A\u001b[A\u001b[A\n",
      "\n",
      "\n",
      "  5%|▌         | 3/60 [00:03<01:08,  1.20s/it]\u001b[A\u001b[A\u001b[A\n",
      "\n",
      "\n",
      "  7%|▋         | 4/60 [00:04<01:06,  1.19s/it]\u001b[A\u001b[A\u001b[A\n",
      "\n",
      "\n",
      "  8%|▊         | 5/60 [00:05<01:05,  1.19s/it]\u001b[A\u001b[A\u001b[A\n",
      "\n",
      "\n",
      " 10%|█         | 6/60 [00:07<01:03,  1.18s/it]\u001b[A\u001b[A\u001b[A\n",
      "\n",
      "\n",
      " 12%|█▏        | 7/60 [00:08<01:02,  1.17s/it]\u001b[A\u001b[A\u001b[A\n",
      "\n",
      "\n",
      " 13%|█▎        | 8/60 [00:09<01:01,  1.18s/it]\u001b[A\u001b[A\u001b[A\n",
      "\n",
      "\n",
      " 15%|█▌        | 9/60 [00:10<00:59,  1.16s/it]\u001b[A\u001b[A\u001b[A\n",
      "\n",
      "\n",
      " 17%|█▋        | 10/60 [00:11<00:56,  1.13s/it]\u001b[A\u001b[A\u001b[A\n",
      "\n",
      "\n",
      " 18%|█▊        | 11/60 [00:12<00:55,  1.14s/it]\u001b[A\u001b[A\u001b[A\n",
      "\n",
      "\n",
      " 20%|██        | 12/60 [00:13<00:53,  1.12s/it]\u001b[A\u001b[A\u001b[A\n",
      "\n",
      "\n",
      " 22%|██▏       | 13/60 [00:15<00:53,  1.14s/it]\u001b[A\u001b[A\u001b[A\n",
      "\n",
      "\n",
      " 23%|██▎       | 14/60 [00:16<00:52,  1.14s/it]\u001b[A\u001b[A\u001b[A\n",
      "\n",
      "\n",
      " 25%|██▌       | 15/60 [00:17<00:51,  1.15s/it]\u001b[A\u001b[A\u001b[A\n",
      "\n",
      "\n",
      " 27%|██▋       | 16/60 [00:18<00:50,  1.16s/it]\u001b[A\u001b[A\u001b[A\n",
      "\n",
      "\n",
      " 28%|██▊       | 17/60 [00:19<00:50,  1.16s/it]\u001b[A\u001b[A\u001b[A\n",
      "\n",
      "\n",
      " 30%|███       | 18/60 [00:20<00:48,  1.16s/it]\u001b[A\u001b[A\u001b[A\n",
      "\n",
      "\n",
      " 32%|███▏      | 19/60 [00:22<00:47,  1.16s/it]\u001b[A\u001b[A\u001b[A\n",
      "\n",
      "\n",
      " 33%|███▎      | 20/60 [00:23<00:46,  1.17s/it]\u001b[A\u001b[A\u001b[A\n",
      "\n",
      "\n",
      " 35%|███▌      | 21/60 [00:24<00:45,  1.16s/it]\u001b[A\u001b[A\u001b[A\n",
      "\n",
      "\n",
      " 37%|███▋      | 22/60 [00:25<00:44,  1.17s/it]\u001b[A\u001b[A\u001b[A\n",
      "\n",
      "\n",
      " 38%|███▊      | 23/60 [00:26<00:43,  1.18s/it]\u001b[A\u001b[A\u001b[A\n",
      "\n",
      "\n",
      " 40%|████      | 24/60 [00:27<00:42,  1.18s/it]\u001b[A\u001b[A\u001b[A\n",
      "\n",
      "\n",
      " 42%|████▏     | 25/60 [00:29<00:41,  1.18s/it]\u001b[A\u001b[A\u001b[A\n",
      "\n",
      "\n",
      " 43%|████▎     | 26/60 [00:30<00:40,  1.18s/it]\u001b[A\u001b[A\u001b[A\n",
      "\n",
      "\n",
      " 45%|████▌     | 27/60 [00:31<00:38,  1.18s/it]\u001b[A\u001b[A\u001b[A\n",
      "\n",
      "\n",
      " 47%|████▋     | 28/60 [00:32<00:37,  1.17s/it]\u001b[A\u001b[A\u001b[A\n",
      "\n",
      "\n",
      " 48%|████▊     | 29/60 [00:33<00:36,  1.17s/it]\u001b[A\u001b[A\u001b[A\n",
      "\n",
      "\n",
      " 50%|█████     | 30/60 [00:34<00:34,  1.17s/it]\u001b[A\u001b[A\u001b[A\n",
      "\n",
      "\n",
      " 52%|█████▏    | 31/60 [00:36<00:33,  1.17s/it]\u001b[A\u001b[A\u001b[A\n",
      "\n",
      "\n",
      " 53%|█████▎    | 32/60 [00:37<00:32,  1.17s/it]\u001b[A\u001b[A\u001b[A\n",
      "\n",
      "\n",
      " 55%|█████▌    | 33/60 [00:38<00:31,  1.17s/it]\u001b[A\u001b[A\u001b[A\n",
      "\n",
      "\n",
      " 57%|█████▋    | 34/60 [00:39<00:30,  1.17s/it]\u001b[A\u001b[A\u001b[A\n",
      "\n",
      "\n",
      " 58%|█████▊    | 35/60 [00:40<00:29,  1.17s/it]\u001b[A\u001b[A\u001b[A\n",
      "\n",
      "\n",
      " 60%|██████    | 36/60 [00:41<00:28,  1.17s/it]\u001b[A\u001b[A\u001b[A\n",
      "\n",
      "\n",
      " 62%|██████▏   | 37/60 [00:43<00:26,  1.17s/it]\u001b[A\u001b[A\u001b[A\n",
      "\n",
      "\n",
      " 63%|██████▎   | 38/60 [00:44<00:25,  1.17s/it]\u001b[A\u001b[A\u001b[A\n",
      "\n",
      "\n",
      " 65%|██████▌   | 39/60 [00:45<00:24,  1.16s/it]\u001b[A\u001b[A\u001b[A\n",
      "\n",
      "\n",
      " 67%|██████▋   | 40/60 [00:46<00:23,  1.16s/it]\u001b[A\u001b[A\u001b[A\n",
      "\n",
      "\n",
      " 68%|██████▊   | 41/60 [00:47<00:22,  1.16s/it]\u001b[A\u001b[A\u001b[A\n",
      "\n",
      "\n",
      " 70%|███████   | 42/60 [00:48<00:21,  1.17s/it]\u001b[A\u001b[A\u001b[A\n",
      "\n",
      "\n",
      " 72%|███████▏  | 43/60 [00:49<00:19,  1.12s/it]\u001b[A\u001b[A\u001b[A\n",
      "\n",
      "\n",
      " 73%|███████▎  | 44/60 [00:51<00:18,  1.15s/it]\u001b[A\u001b[A\u001b[A\n",
      "\n",
      "\n",
      " 75%|███████▌  | 45/60 [00:52<00:17,  1.16s/it]\u001b[A\u001b[A\u001b[A\n",
      "\n",
      "\n",
      " 77%|███████▋  | 46/60 [00:53<00:16,  1.16s/it]\u001b[A\u001b[A\u001b[A\n",
      "\n",
      "\n",
      " 78%|███████▊  | 47/60 [00:54<00:14,  1.15s/it]\u001b[A\u001b[A\u001b[A\n",
      "\n",
      "\n",
      " 80%|████████  | 48/60 [00:55<00:13,  1.14s/it]\u001b[A\u001b[A\u001b[A\n",
      "\n",
      "\n",
      " 82%|████████▏ | 49/60 [00:56<00:12,  1.13s/it]\u001b[A\u001b[A\u001b[A\n",
      "\n",
      "\n",
      " 83%|████████▎ | 50/60 [00:58<00:11,  1.14s/it]\u001b[A\u001b[A\u001b[A\n",
      "\n",
      "\n",
      " 85%|████████▌ | 51/60 [00:59<00:10,  1.14s/it]\u001b[A\u001b[A\u001b[A\n",
      "\n",
      "\n",
      " 87%|████████▋ | 52/60 [01:00<00:09,  1.15s/it]\u001b[A\u001b[A\u001b[A\n",
      "\n",
      "\n",
      " 88%|████████▊ | 53/60 [01:01<00:08,  1.15s/it]\u001b[A\u001b[A\u001b[A\n",
      "\n",
      "\n",
      " 90%|█████████ | 54/60 [01:02<00:06,  1.15s/it]\u001b[A\u001b[A\u001b[A\n",
      "\n",
      "\n",
      " 92%|█████████▏| 55/60 [01:03<00:05,  1.16s/it]\u001b[A\u001b[A\u001b[A\n",
      "\n",
      "\n",
      " 93%|█████████▎| 56/60 [01:05<00:04,  1.16s/it]\u001b[A\u001b[A\u001b[A\n",
      "\n",
      "\n",
      " 95%|█████████▌| 57/60 [01:06<00:03,  1.12s/it]\u001b[A\u001b[A\u001b[A\n",
      "\n",
      "\n",
      " 97%|█████████▋| 58/60 [01:07<00:02,  1.13s/it]\u001b[A\u001b[A\u001b[A\n",
      "\n",
      "\n",
      " 98%|█████████▊| 59/60 [01:08<00:01,  1.14s/it]\u001b[A\u001b[A\u001b[A\n",
      "\n",
      "\n",
      "100%|██████████| 60/60 [01:09<00:00,  1.16s/it]\u001b[A\u001b[A\u001b[A\n",
      "Some weights of the model checkpoint at neuralmind/bert-base-portuguese-cased were not used when initializing BertForSequenceClassification: ['cls.seq_relationship.weight', 'cls.predictions.transform.dense.weight', 'cls.predictions.transform.LayerNorm.bias', 'cls.seq_relationship.bias', 'cls.predictions.transform.LayerNorm.weight', 'cls.predictions.decoder.weight', 'cls.predictions.bias', 'cls.predictions.transform.dense.bias']\n",
      "- This IS expected if you are initializing BertForSequenceClassification from the checkpoint of a model trained on another task or with another architecture (e.g. initializing a BertForSequenceClassification model from a BertForPreTraining model).\n",
      "- This IS NOT expected if you are initializing BertForSequenceClassification from the checkpoint of a model that you expect to be exactly identical (initializing a BertForSequenceClassification model from a BertForSequenceClassification model).\n",
      "Some weights of BertForSequenceClassification were not initialized from the model checkpoint at neuralmind/bert-base-portuguese-cased and are newly initialized: ['classifier.bias', 'classifier.weight']\n",
      "You should probably TRAIN this model on a down-stream task to be able to use it for predictions and inference.\n",
      "\n",
      "\n",
      "\n",
      "100%|██████████| 240/240 [00:00<00:00, 8064.22it/s]\n",
      "\n",
      "\n",
      "\n",
      "  0%|          | 0/60 [00:00<?, ?it/s]\u001b[A\u001b[A\u001b[A\n",
      "\n",
      "\n",
      "  2%|▏         | 1/60 [00:01<01:10,  1.19s/it]\u001b[A\u001b[A\u001b[A\n",
      "\n",
      "\n",
      "  3%|▎         | 2/60 [00:02<01:08,  1.18s/it]\u001b[A\u001b[A\u001b[A\n",
      "\n",
      "\n",
      "  5%|▌         | 3/60 [00:03<01:07,  1.18s/it]\u001b[A\u001b[A\u001b[A\n",
      "\n",
      "\n",
      "  7%|▋         | 4/60 [00:04<01:06,  1.18s/it]\u001b[A\u001b[A\u001b[A\n",
      "\n",
      "\n",
      "  8%|▊         | 5/60 [00:05<01:04,  1.18s/it]\u001b[A\u001b[A\u001b[A\n",
      "\n",
      "\n",
      " 10%|█         | 6/60 [00:07<01:04,  1.20s/it]\u001b[A\u001b[A\u001b[A\n",
      "\n",
      "\n",
      " 12%|█▏        | 7/60 [00:08<01:02,  1.19s/it]\u001b[A\u001b[A\u001b[A\n",
      "\n",
      "\n",
      " 13%|█▎        | 8/60 [00:09<01:01,  1.18s/it]\u001b[A\u001b[A\u001b[A\n",
      "\n",
      "\n",
      " 15%|█▌        | 9/60 [00:10<00:59,  1.17s/it]\u001b[A\u001b[A\u001b[A\n",
      "\n",
      "\n",
      " 17%|█▋        | 10/60 [00:11<00:58,  1.17s/it]\u001b[A\u001b[A\u001b[A\n",
      "\n",
      "\n",
      " 18%|█▊        | 11/60 [00:12<00:57,  1.18s/it]\u001b[A\u001b[A\u001b[A\n",
      "\n",
      "\n",
      " 20%|██        | 12/60 [00:14<00:56,  1.18s/it]\u001b[A\u001b[A\u001b[A\n",
      "\n",
      "\n",
      " 22%|██▏       | 13/60 [00:15<00:55,  1.18s/it]\u001b[A\u001b[A\u001b[A\n",
      "\n",
      "\n",
      " 23%|██▎       | 14/60 [00:16<00:53,  1.15s/it]\u001b[A\u001b[A\u001b[A\n",
      "\n",
      "\n",
      " 25%|██▌       | 15/60 [00:17<00:51,  1.16s/it]\u001b[A\u001b[A\u001b[A\n",
      "\n",
      "\n",
      " 27%|██▋       | 16/60 [00:18<00:50,  1.16s/it]\u001b[A\u001b[A\u001b[A\n",
      "\n",
      "\n",
      " 28%|██▊       | 17/60 [00:19<00:50,  1.17s/it]\u001b[A\u001b[A\u001b[A\n",
      "\n",
      "\n",
      " 30%|███       | 18/60 [00:21<00:48,  1.17s/it]\u001b[A\u001b[A\u001b[A\n",
      "\n",
      "\n",
      " 32%|███▏      | 19/60 [00:22<00:47,  1.17s/it]\u001b[A\u001b[A\u001b[A\n",
      "\n",
      "\n",
      " 33%|███▎      | 20/60 [00:23<00:45,  1.13s/it]\u001b[A\u001b[A\u001b[A\n",
      "\n",
      "\n",
      " 35%|███▌      | 21/60 [00:24<00:44,  1.15s/it]\u001b[A\u001b[A\u001b[A\n",
      "\n",
      "\n",
      " 37%|███▋      | 22/60 [00:25<00:43,  1.16s/it]\u001b[A\u001b[A\u001b[A\n",
      "\n",
      "\n",
      " 38%|███▊      | 23/60 [00:26<00:42,  1.16s/it]\u001b[A\u001b[A\u001b[A\n",
      "\n",
      "\n",
      " 40%|████      | 24/60 [00:28<00:41,  1.17s/it]\u001b[A\u001b[A\u001b[A\n",
      "\n",
      "\n",
      " 42%|████▏     | 25/60 [00:29<00:40,  1.17s/it]\u001b[A\u001b[A\u001b[A\n",
      "\n",
      "\n",
      " 43%|████▎     | 26/60 [00:30<00:40,  1.18s/it]\u001b[A\u001b[A\u001b[A\n",
      "\n",
      "\n",
      " 45%|████▌     | 27/60 [00:31<00:39,  1.19s/it]\u001b[A\u001b[A\u001b[A\n",
      "\n",
      "\n",
      " 47%|████▋     | 28/60 [00:32<00:37,  1.18s/it]\u001b[A\u001b[A\u001b[A\n",
      "\n",
      "\n",
      " 48%|████▊     | 29/60 [00:34<00:36,  1.19s/it]\u001b[A\u001b[A\u001b[A\n",
      "\n",
      "\n",
      " 50%|█████     | 30/60 [00:35<00:35,  1.19s/it]\u001b[A\u001b[A\u001b[A\n",
      "\n",
      "\n",
      " 52%|█████▏    | 31/60 [00:36<00:33,  1.16s/it]\u001b[A\u001b[A\u001b[A\n",
      "\n",
      "\n",
      " 53%|█████▎    | 32/60 [00:37<00:31,  1.14s/it]\u001b[A\u001b[A\u001b[A\n",
      "\n",
      "\n",
      " 55%|█████▌    | 33/60 [00:38<00:30,  1.15s/it]\u001b[A\u001b[A\u001b[A\n",
      "\n",
      "\n",
      " 57%|█████▋    | 34/60 [00:39<00:29,  1.15s/it]\u001b[A\u001b[A\u001b[A\n",
      "\n",
      "\n",
      " 58%|█████▊    | 35/60 [00:40<00:29,  1.17s/it]\u001b[A\u001b[A\u001b[A\n",
      "\n",
      "\n",
      " 60%|██████    | 36/60 [00:42<00:28,  1.18s/it]\u001b[A\u001b[A\u001b[A\n",
      "\n",
      "\n",
      " 62%|██████▏   | 37/60 [00:43<00:26,  1.17s/it]\u001b[A\u001b[A\u001b[A\n",
      "\n",
      "\n",
      " 63%|██████▎   | 38/60 [00:44<00:25,  1.17s/it]\u001b[A\u001b[A\u001b[A\n",
      "\n",
      "\n",
      " 65%|██████▌   | 39/60 [00:45<00:24,  1.18s/it]\u001b[A\u001b[A\u001b[A\n",
      "\n",
      "\n",
      " 67%|██████▋   | 40/60 [00:46<00:23,  1.18s/it]\u001b[A\u001b[A\u001b[A\n",
      "\n",
      "\n",
      " 68%|██████▊   | 41/60 [00:47<00:22,  1.18s/it]\u001b[A\u001b[A\u001b[A\n",
      "\n",
      "\n",
      " 70%|███████   | 42/60 [00:49<00:21,  1.17s/it]\u001b[A\u001b[A\u001b[A\n",
      "\n",
      "\n",
      " 72%|███████▏  | 43/60 [00:50<00:19,  1.17s/it]\u001b[A\u001b[A\u001b[A\n",
      "\n",
      "\n",
      " 73%|███████▎  | 44/60 [00:51<00:18,  1.18s/it]\u001b[A\u001b[A\u001b[A\n",
      "\n",
      "\n",
      " 75%|███████▌  | 45/60 [00:52<00:17,  1.18s/it]\u001b[A\u001b[A\u001b[A\n",
      "\n",
      "\n",
      " 77%|███████▋  | 46/60 [00:53<00:16,  1.18s/it]\u001b[A\u001b[A\u001b[A\n",
      "\n",
      "\n",
      " 78%|███████▊  | 47/60 [00:54<00:14,  1.14s/it]\u001b[A\u001b[A\u001b[A\n",
      "\n",
      "\n",
      " 80%|████████  | 48/60 [00:56<00:13,  1.15s/it]\u001b[A\u001b[A\u001b[A\n",
      "\n",
      "\n",
      " 82%|████████▏ | 49/60 [00:57<00:12,  1.16s/it]\u001b[A\u001b[A\u001b[A\n",
      "\n",
      "\n",
      " 83%|████████▎ | 50/60 [00:58<00:11,  1.15s/it]\u001b[A\u001b[A\u001b[A\n",
      "\n",
      "\n",
      " 85%|████████▌ | 51/60 [00:59<00:10,  1.16s/it]\u001b[A\u001b[A\u001b[A\n",
      "\n",
      "\n",
      " 87%|████████▋ | 52/60 [01:00<00:09,  1.17s/it]\u001b[A\u001b[A\u001b[A\n",
      "\n",
      "\n",
      " 88%|████████▊ | 53/60 [01:01<00:08,  1.18s/it]\u001b[A\u001b[A\u001b[A\n",
      "\n",
      "\n",
      " 90%|█████████ | 54/60 [01:03<00:07,  1.18s/it]\u001b[A\u001b[A\u001b[A\n",
      "\n",
      "\n",
      " 92%|█████████▏| 55/60 [01:04<00:05,  1.17s/it]\u001b[A\u001b[A\u001b[A\n",
      "\n",
      "\n",
      " 93%|█████████▎| 56/60 [01:05<00:04,  1.17s/it]\u001b[A\u001b[A\u001b[A\n",
      "\n",
      "\n",
      " 95%|█████████▌| 57/60 [01:06<00:03,  1.18s/it]\u001b[A\u001b[A\u001b[A\n",
      "\n",
      "\n",
      " 97%|█████████▋| 58/60 [01:07<00:02,  1.17s/it]\u001b[A\u001b[A\u001b[A\n",
      "\n",
      "\n",
      " 98%|█████████▊| 59/60 [01:09<00:01,  1.17s/it]\u001b[A\u001b[A\u001b[A\n",
      "\n",
      "\n",
      "100%|██████████| 60/60 [01:10<00:00,  1.17s/it]\u001b[A\u001b[A\u001b[A\n"
     ]
    },
    {
     "data": {
      "application/vnd.jupyter.widget-view+json": {
       "model_id": "706c532321b04f429337b1169006b13d",
       "version_major": 2,
       "version_minor": 0
      },
      "text/plain": [
       "HBox(children=(FloatProgress(value=0.0, description='Epoch', max=5.0, style=ProgressStyle(description_width='i…"
      ]
     },
     "metadata": {},
     "output_type": "display_data"
    },
    {
     "data": {
      "application/vnd.jupyter.widget-view+json": {
       "model_id": "c987d3ed8f9247e49bbda1145f02d918",
       "version_major": 2,
       "version_minor": 0
      },
      "text/plain": [
       "HBox(children=(FloatProgress(value=0.0, description='Iteration', max=30.0, style=ProgressStyle(description_wid…"
      ]
     },
     "metadata": {},
     "output_type": "display_data"
    },
    {
     "name": "stdout",
     "output_type": "stream",
     "text": [
      "\n"
     ]
    },
    {
     "data": {
      "application/vnd.jupyter.widget-view+json": {
       "model_id": "10938309277c4b859e3a9c7625c411c3",
       "version_major": 2,
       "version_minor": 0
      },
      "text/plain": [
       "HBox(children=(FloatProgress(value=0.0, description='Iteration', max=30.0, style=ProgressStyle(description_wid…"
      ]
     },
     "metadata": {},
     "output_type": "display_data"
    },
    {
     "name": "stdout",
     "output_type": "stream",
     "text": [
      "\n"
     ]
    },
    {
     "data": {
      "application/vnd.jupyter.widget-view+json": {
       "model_id": "cc117f108a654ca19aad4a6e32fc6426",
       "version_major": 2,
       "version_minor": 0
      },
      "text/plain": [
       "HBox(children=(FloatProgress(value=0.0, description='Iteration', max=30.0, style=ProgressStyle(description_wid…"
      ]
     },
     "metadata": {},
     "output_type": "display_data"
    },
    {
     "name": "stdout",
     "output_type": "stream",
     "text": [
      "\n"
     ]
    },
    {
     "data": {
      "application/vnd.jupyter.widget-view+json": {
       "model_id": "abdce6ff0d7f41a4a915b9ecd19d8976",
       "version_major": 2,
       "version_minor": 0
      },
      "text/plain": [
       "HBox(children=(FloatProgress(value=0.0, description='Iteration', max=30.0, style=ProgressStyle(description_wid…"
      ]
     },
     "metadata": {},
     "output_type": "display_data"
    },
    {
     "name": "stdout",
     "output_type": "stream",
     "text": [
      "\n"
     ]
    },
    {
     "data": {
      "application/vnd.jupyter.widget-view+json": {
       "model_id": "6a5009fa87c24cf485cbd6be9591758e",
       "version_major": 2,
       "version_minor": 0
      },
      "text/plain": [
       "HBox(children=(FloatProgress(value=0.0, description='Iteration', max=30.0, style=ProgressStyle(description_wid…"
      ]
     },
     "metadata": {},
     "output_type": "display_data"
    },
    {
     "name": "stdout",
     "output_type": "stream",
     "text": [
      "\n",
      "\n"
     ]
    },
    {
     "name": "stderr",
     "output_type": "stream",
     "text": [
      "\n",
      "\n",
      "\n",
      "  0%|          | 0/60 [00:00<?, ?it/s]\u001b[A\u001b[A\u001b[A\n",
      "\n",
      "\n",
      "  2%|▏         | 1/60 [00:01<01:10,  1.19s/it]\u001b[A\u001b[A\u001b[A\n",
      "\n",
      "\n",
      "  3%|▎         | 2/60 [00:02<01:08,  1.19s/it]\u001b[A\u001b[A\u001b[A\n",
      "\n",
      "\n",
      "  5%|▌         | 3/60 [00:03<01:07,  1.18s/it]\u001b[A\u001b[A\u001b[A\n",
      "\n",
      "\n",
      "  7%|▋         | 4/60 [00:04<01:06,  1.19s/it]\u001b[A\u001b[A\u001b[A\n",
      "\n",
      "\n",
      "  8%|▊         | 5/60 [00:05<01:04,  1.18s/it]\u001b[A\u001b[A\u001b[A\n",
      "\n",
      "\n",
      " 10%|█         | 6/60 [00:07<01:03,  1.17s/it]\u001b[A\u001b[A\u001b[A\n",
      "\n",
      "\n",
      " 12%|█▏        | 7/60 [00:08<01:02,  1.17s/it]\u001b[A\u001b[A\u001b[A\n",
      "\n",
      "\n",
      " 13%|█▎        | 8/60 [00:09<01:00,  1.17s/it]\u001b[A\u001b[A\u001b[A\n",
      "\n",
      "\n",
      " 15%|█▌        | 9/60 [00:10<00:59,  1.17s/it]\u001b[A\u001b[A\u001b[A\n",
      "\n",
      "\n",
      " 17%|█▋        | 10/60 [00:11<00:58,  1.17s/it]\u001b[A\u001b[A\u001b[A\n",
      "\n",
      "\n",
      " 18%|█▊        | 11/60 [00:12<00:57,  1.18s/it]\u001b[A\u001b[A\u001b[A\n",
      "\n",
      "\n",
      " 20%|██        | 12/60 [00:14<00:56,  1.18s/it]\u001b[A\u001b[A\u001b[A\n",
      "\n",
      "\n",
      " 22%|██▏       | 13/60 [00:15<00:55,  1.18s/it]\u001b[A\u001b[A\u001b[A\n",
      "\n",
      "\n",
      " 23%|██▎       | 14/60 [00:16<00:53,  1.17s/it]\u001b[A\u001b[A\u001b[A\n",
      "\n",
      "\n",
      " 25%|██▌       | 15/60 [00:17<00:52,  1.17s/it]\u001b[A\u001b[A\u001b[A\n",
      "\n",
      "\n",
      " 27%|██▋       | 16/60 [00:18<00:51,  1.17s/it]\u001b[A\u001b[A\u001b[A\n",
      "\n",
      "\n",
      " 28%|██▊       | 17/60 [00:19<00:50,  1.17s/it]\u001b[A\u001b[A\u001b[A\n",
      "\n",
      "\n",
      " 30%|███       | 18/60 [00:21<00:49,  1.17s/it]\u001b[A\u001b[A\u001b[A\n",
      "\n",
      "\n",
      " 32%|███▏      | 19/60 [00:22<00:47,  1.16s/it]\u001b[A\u001b[A\u001b[A\n",
      "\n",
      "\n",
      " 33%|███▎      | 20/60 [00:23<00:46,  1.17s/it]\u001b[A\u001b[A\u001b[A\n",
      "\n",
      "\n",
      " 35%|███▌      | 21/60 [00:24<00:45,  1.17s/it]\u001b[A\u001b[A\u001b[A\n",
      "\n",
      "\n",
      " 37%|███▋      | 22/60 [00:25<00:44,  1.16s/it]\u001b[A\u001b[A\u001b[A\n",
      "\n",
      "\n",
      " 38%|███▊      | 23/60 [00:26<00:42,  1.14s/it]\u001b[A\u001b[A\u001b[A\n",
      "\n",
      "\n",
      " 40%|████      | 24/60 [00:28<00:41,  1.15s/it]\u001b[A\u001b[A\u001b[A\n",
      "\n",
      "\n",
      " 42%|████▏     | 25/60 [00:29<00:40,  1.16s/it]\u001b[A\u001b[A\u001b[A\n",
      "\n",
      "\n",
      " 43%|████▎     | 26/60 [00:30<00:39,  1.17s/it]\u001b[A\u001b[A\u001b[A\n",
      "\n",
      "\n",
      " 45%|████▌     | 27/60 [00:31<00:38,  1.17s/it]\u001b[A\u001b[A\u001b[A\n",
      "\n",
      "\n",
      " 47%|████▋     | 28/60 [00:32<00:37,  1.17s/it]\u001b[A\u001b[A\u001b[A\n",
      "\n",
      "\n",
      " 48%|████▊     | 29/60 [00:33<00:36,  1.18s/it]\u001b[A\u001b[A\u001b[A\n",
      "\n",
      "\n",
      " 50%|█████     | 30/60 [00:35<00:34,  1.15s/it]\u001b[A\u001b[A\u001b[A\n",
      "\n",
      "\n",
      " 52%|█████▏    | 31/60 [00:36<00:33,  1.16s/it]\u001b[A\u001b[A\u001b[A\n",
      "\n",
      "\n",
      " 53%|█████▎    | 32/60 [00:37<00:32,  1.17s/it]\u001b[A\u001b[A\u001b[A\n",
      "\n",
      "\n",
      " 55%|█████▌    | 33/60 [00:38<00:31,  1.17s/it]\u001b[A\u001b[A\u001b[A\n",
      "\n",
      "\n",
      " 57%|█████▋    | 34/60 [00:39<00:30,  1.17s/it]\u001b[A\u001b[A\u001b[A\n",
      "\n",
      "\n",
      " 58%|█████▊    | 35/60 [00:40<00:29,  1.18s/it]\u001b[A\u001b[A\u001b[A\n",
      "\n",
      "\n",
      " 60%|██████    | 36/60 [00:42<00:28,  1.19s/it]\u001b[A\u001b[A\u001b[A\n",
      "\n",
      "\n",
      " 62%|██████▏   | 37/60 [00:43<00:27,  1.18s/it]\u001b[A\u001b[A\u001b[A\n",
      "\n",
      "\n",
      " 63%|██████▎   | 38/60 [00:44<00:25,  1.18s/it]\u001b[A\u001b[A\u001b[A\n",
      "\n",
      "\n",
      " 65%|██████▌   | 39/60 [00:45<00:24,  1.18s/it]\u001b[A\u001b[A\u001b[A\n",
      "\n",
      "\n",
      " 67%|██████▋   | 40/60 [00:46<00:23,  1.18s/it]\u001b[A\u001b[A\u001b[A\n",
      "\n",
      "\n",
      " 68%|██████▊   | 41/60 [00:47<00:22,  1.17s/it]\u001b[A\u001b[A\u001b[A\n",
      "\n",
      "\n",
      " 70%|███████   | 42/60 [00:49<00:20,  1.16s/it]\u001b[A\u001b[A\u001b[A\n",
      "\n",
      "\n",
      " 72%|███████▏  | 43/60 [00:50<00:19,  1.16s/it]\u001b[A\u001b[A\u001b[A\n",
      "\n",
      "\n",
      " 73%|███████▎  | 44/60 [00:51<00:18,  1.16s/it]\u001b[A\u001b[A\u001b[A\n",
      "\n",
      "\n",
      " 75%|███████▌  | 45/60 [00:52<00:17,  1.17s/it]\u001b[A\u001b[A\u001b[A\n",
      "\n",
      "\n",
      " 77%|███████▋  | 46/60 [00:53<00:16,  1.15s/it]\u001b[A\u001b[A\u001b[A\n",
      "\n",
      "\n",
      " 78%|███████▊  | 47/60 [00:54<00:15,  1.16s/it]\u001b[A\u001b[A\u001b[A\n",
      "\n",
      "\n",
      " 80%|████████  | 48/60 [00:56<00:13,  1.16s/it]\u001b[A\u001b[A\u001b[A\n",
      "\n",
      "\n",
      " 82%|████████▏ | 49/60 [00:57<00:12,  1.16s/it]\u001b[A\u001b[A\u001b[A\n",
      "\n",
      "\n",
      " 83%|████████▎ | 50/60 [00:58<00:11,  1.16s/it]\u001b[A\u001b[A\u001b[A\n",
      "\n",
      "\n",
      " 85%|████████▌ | 51/60 [00:59<00:10,  1.18s/it]\u001b[A\u001b[A\u001b[A\n",
      "\n",
      "\n",
      " 87%|████████▋ | 52/60 [01:00<00:09,  1.18s/it]\u001b[A\u001b[A\u001b[A\n",
      "\n",
      "\n",
      " 88%|████████▊ | 53/60 [01:01<00:08,  1.18s/it]\u001b[A\u001b[A\u001b[A\n",
      "\n",
      "\n",
      " 90%|█████████ | 54/60 [01:03<00:07,  1.18s/it]\u001b[A\u001b[A\u001b[A\n",
      "\n",
      "\n",
      " 92%|█████████▏| 55/60 [01:04<00:05,  1.18s/it]\u001b[A\u001b[A\u001b[A\n",
      "\n",
      "\n",
      " 93%|█████████▎| 56/60 [01:05<00:04,  1.17s/it]\u001b[A\u001b[A\u001b[A\n",
      "\n",
      "\n",
      " 95%|█████████▌| 57/60 [01:06<00:03,  1.18s/it]\u001b[A\u001b[A\u001b[A\n",
      "\n",
      "\n",
      " 97%|█████████▋| 58/60 [01:07<00:02,  1.17s/it]\u001b[A\u001b[A\u001b[A\n",
      "\n",
      "\n",
      " 98%|█████████▊| 59/60 [01:09<00:01,  1.17s/it]\u001b[A\u001b[A\u001b[A\n",
      "\n",
      "\n",
      "100%|██████████| 60/60 [01:10<00:00,  1.17s/it]\u001b[A\u001b[A\u001b[A\n",
      "Some weights of the model checkpoint at neuralmind/bert-base-portuguese-cased were not used when initializing BertForSequenceClassification: ['cls.seq_relationship.weight', 'cls.predictions.transform.dense.weight', 'cls.predictions.transform.LayerNorm.bias', 'cls.seq_relationship.bias', 'cls.predictions.transform.LayerNorm.weight', 'cls.predictions.decoder.weight', 'cls.predictions.bias', 'cls.predictions.transform.dense.bias']\n",
      "- This IS expected if you are initializing BertForSequenceClassification from the checkpoint of a model trained on another task or with another architecture (e.g. initializing a BertForSequenceClassification model from a BertForPreTraining model).\n",
      "- This IS NOT expected if you are initializing BertForSequenceClassification from the checkpoint of a model that you expect to be exactly identical (initializing a BertForSequenceClassification model from a BertForSequenceClassification model).\n",
      "Some weights of BertForSequenceClassification were not initialized from the model checkpoint at neuralmind/bert-base-portuguese-cased and are newly initialized: ['classifier.bias', 'classifier.weight']\n",
      "You should probably TRAIN this model on a down-stream task to be able to use it for predictions and inference.\n",
      "\n",
      "\n",
      "\n",
      "100%|██████████| 240/240 [00:00<00:00, 5950.42it/s]\n",
      "\n",
      "\n",
      "\n",
      "  0%|          | 0/60 [00:00<?, ?it/s]\u001b[A\u001b[A\u001b[A\n",
      "\n",
      "\n",
      "  2%|▏         | 1/60 [00:01<01:11,  1.21s/it]\u001b[A\u001b[A\u001b[A\n",
      "\n",
      "\n",
      "  3%|▎         | 2/60 [00:02<01:10,  1.21s/it]\u001b[A\u001b[A\u001b[A\n",
      "\n",
      "\n",
      "  5%|▌         | 3/60 [00:03<01:08,  1.20s/it]\u001b[A\u001b[A\u001b[A\n",
      "\n",
      "\n",
      "  7%|▋         | 4/60 [00:04<01:07,  1.20s/it]\u001b[A\u001b[A\u001b[A\n",
      "\n",
      "\n",
      "  8%|▊         | 5/60 [00:06<01:06,  1.20s/it]\u001b[A\u001b[A\u001b[A\n",
      "\n",
      "\n",
      " 10%|█         | 6/60 [00:07<01:04,  1.19s/it]\u001b[A\u001b[A\u001b[A\n",
      "\n",
      "\n",
      " 12%|█▏        | 7/60 [00:08<01:03,  1.19s/it]\u001b[A\u001b[A\u001b[A\n",
      "\n",
      "\n",
      " 13%|█▎        | 8/60 [00:09<01:01,  1.19s/it]\u001b[A\u001b[A\u001b[A\n",
      "\n",
      "\n",
      " 15%|█▌        | 9/60 [00:10<01:00,  1.18s/it]\u001b[A\u001b[A\u001b[A\n",
      "\n",
      "\n",
      " 17%|█▋        | 10/60 [00:11<00:59,  1.19s/it]\u001b[A\u001b[A\u001b[A\n",
      "\n",
      "\n",
      " 18%|█▊        | 11/60 [00:13<00:58,  1.20s/it]\u001b[A\u001b[A\u001b[A\n",
      "\n",
      "\n",
      " 20%|██        | 12/60 [00:14<00:57,  1.20s/it]\u001b[A\u001b[A\u001b[A\n",
      "\n",
      "\n",
      " 22%|██▏       | 13/60 [00:15<00:56,  1.20s/it]\u001b[A\u001b[A\u001b[A\n",
      "\n",
      "\n",
      " 23%|██▎       | 14/60 [00:16<00:54,  1.19s/it]\u001b[A\u001b[A\u001b[A\n",
      "\n",
      "\n",
      " 25%|██▌       | 15/60 [00:17<00:53,  1.18s/it]\u001b[A\u001b[A\u001b[A\n",
      "\n",
      "\n",
      " 27%|██▋       | 16/60 [00:19<00:51,  1.18s/it]\u001b[A\u001b[A\u001b[A\n",
      "\n",
      "\n",
      " 28%|██▊       | 17/60 [00:20<00:50,  1.18s/it]\u001b[A\u001b[A\u001b[A\n",
      "\n",
      "\n",
      " 30%|███       | 18/60 [00:21<00:49,  1.18s/it]\u001b[A\u001b[A\u001b[A\n",
      "\n",
      "\n",
      " 32%|███▏      | 19/60 [00:22<00:48,  1.18s/it]\u001b[A\u001b[A\u001b[A\n",
      "\n",
      "\n",
      " 33%|███▎      | 20/60 [00:23<00:47,  1.18s/it]\u001b[A\u001b[A\u001b[A\n",
      "\n",
      "\n",
      " 35%|███▌      | 21/60 [00:24<00:46,  1.19s/it]\u001b[A\u001b[A\u001b[A\n",
      "\n",
      "\n",
      " 37%|███▋      | 22/60 [00:26<00:45,  1.19s/it]\u001b[A\u001b[A\u001b[A\n",
      "\n",
      "\n",
      " 38%|███▊      | 23/60 [00:27<00:44,  1.21s/it]\u001b[A\u001b[A\u001b[A\n",
      "\n",
      "\n",
      " 40%|████      | 24/60 [00:28<00:43,  1.20s/it]\u001b[A\u001b[A\u001b[A\n",
      "\n",
      "\n",
      " 42%|████▏     | 25/60 [00:29<00:41,  1.19s/it]\u001b[A\u001b[A\u001b[A\n",
      "\n",
      "\n",
      " 43%|████▎     | 26/60 [00:30<00:39,  1.18s/it]\u001b[A\u001b[A\u001b[A\n",
      "\n",
      "\n",
      " 45%|████▌     | 27/60 [00:32<00:40,  1.22s/it]\u001b[A\u001b[A\u001b[A\n",
      "\n",
      "\n",
      " 47%|████▋     | 28/60 [00:33<00:38,  1.21s/it]\u001b[A\u001b[A\u001b[A\n",
      "\n",
      "\n",
      " 48%|████▊     | 29/60 [00:34<00:37,  1.20s/it]\u001b[A\u001b[A\u001b[A\n",
      "\n",
      "\n",
      " 50%|█████     | 30/60 [00:35<00:35,  1.20s/it]\u001b[A\u001b[A\u001b[A\n",
      "\n",
      "\n",
      " 52%|█████▏    | 31/60 [00:37<00:35,  1.21s/it]\u001b[A\u001b[A\u001b[A\n",
      "\n",
      "\n",
      " 53%|█████▎    | 32/60 [00:38<00:33,  1.20s/it]\u001b[A\u001b[A\u001b[A\n",
      "\n",
      "\n",
      " 55%|█████▌    | 33/60 [00:39<00:32,  1.20s/it]\u001b[A\u001b[A\u001b[A\n",
      "\n",
      "\n",
      " 57%|█████▋    | 34/60 [00:40<00:31,  1.20s/it]\u001b[A\u001b[A\u001b[A\n",
      "\n",
      "\n",
      " 58%|█████▊    | 35/60 [00:41<00:29,  1.20s/it]\u001b[A\u001b[A\u001b[A\n",
      "\n",
      "\n",
      " 60%|██████    | 36/60 [00:42<00:28,  1.19s/it]\u001b[A\u001b[A\u001b[A\n",
      "\n",
      "\n",
      " 62%|██████▏   | 37/60 [00:44<00:27,  1.19s/it]\u001b[A\u001b[A\u001b[A\n",
      "\n",
      "\n",
      " 63%|██████▎   | 38/60 [00:45<00:26,  1.20s/it]\u001b[A\u001b[A\u001b[A\n",
      "\n",
      "\n",
      " 65%|██████▌   | 39/60 [00:46<00:25,  1.20s/it]\u001b[A\u001b[A\u001b[A\n",
      "\n",
      "\n",
      " 67%|██████▋   | 40/60 [00:47<00:23,  1.19s/it]\u001b[A\u001b[A\u001b[A\n",
      "\n",
      "\n",
      " 68%|██████▊   | 41/60 [00:48<00:22,  1.20s/it]\u001b[A\u001b[A\u001b[A\n",
      "\n",
      "\n",
      " 70%|███████   | 42/60 [00:50<00:21,  1.20s/it]\u001b[A\u001b[A\u001b[A\n",
      "\n",
      "\n",
      " 72%|███████▏  | 43/60 [00:51<00:20,  1.20s/it]\u001b[A\u001b[A\u001b[A\n",
      "\n",
      "\n",
      " 73%|███████▎  | 44/60 [00:52<00:18,  1.19s/it]\u001b[A\u001b[A\u001b[A\n",
      "\n",
      "\n",
      " 75%|███████▌  | 45/60 [00:53<00:17,  1.19s/it]\u001b[A\u001b[A\u001b[A\n",
      "\n",
      "\n",
      " 77%|███████▋  | 46/60 [00:54<00:16,  1.18s/it]\u001b[A\u001b[A\u001b[A\n",
      "\n",
      "\n",
      " 78%|███████▊  | 47/60 [00:56<00:15,  1.18s/it]\u001b[A\u001b[A\u001b[A\n",
      "\n",
      "\n",
      " 80%|████████  | 48/60 [00:57<00:14,  1.17s/it]\u001b[A\u001b[A\u001b[A\n",
      "\n",
      "\n",
      " 82%|████████▏ | 49/60 [00:58<00:12,  1.17s/it]\u001b[A\u001b[A\u001b[A\n",
      "\n",
      "\n",
      " 83%|████████▎ | 50/60 [00:59<00:11,  1.18s/it]\u001b[A\u001b[A\u001b[A\n",
      "\n",
      "\n",
      " 85%|████████▌ | 51/60 [01:00<00:10,  1.18s/it]\u001b[A\u001b[A\u001b[A\n",
      "\n",
      "\n",
      " 87%|████████▋ | 52/60 [01:01<00:09,  1.19s/it]\u001b[A\u001b[A\u001b[A\n",
      "\n",
      "\n",
      " 88%|████████▊ | 53/60 [01:03<00:08,  1.19s/it]\u001b[A\u001b[A\u001b[A\n",
      "\n",
      "\n",
      " 90%|█████████ | 54/60 [01:05<00:09,  1.65s/it]\u001b[A\u001b[A\u001b[A\n",
      "\n",
      "\n",
      " 92%|█████████▏| 55/60 [01:08<00:09,  1.81s/it]\u001b[A\u001b[A\u001b[A\n",
      "\n",
      "\n",
      " 93%|█████████▎| 56/60 [01:09<00:06,  1.62s/it]\u001b[A\u001b[A\u001b[A\n",
      "\n",
      "\n",
      " 95%|█████████▌| 57/60 [01:10<00:04,  1.49s/it]\u001b[A\u001b[A\u001b[A\n",
      "\n",
      "\n",
      " 97%|█████████▋| 58/60 [01:11<00:02,  1.39s/it]\u001b[A\u001b[A\u001b[A\n",
      "\n",
      "\n",
      " 98%|█████████▊| 59/60 [01:12<00:01,  1.31s/it]\u001b[A\u001b[A\u001b[A\n",
      "\n",
      "\n",
      "100%|██████████| 60/60 [01:13<00:00,  1.23s/it]\u001b[A\u001b[A\u001b[A\n"
     ]
    },
    {
     "data": {
      "application/vnd.jupyter.widget-view+json": {
       "model_id": "bffb297b247e481ab26084e059620762",
       "version_major": 2,
       "version_minor": 0
      },
      "text/plain": [
       "HBox(children=(FloatProgress(value=0.0, description='Epoch', max=5.0, style=ProgressStyle(description_width='i…"
      ]
     },
     "metadata": {},
     "output_type": "display_data"
    },
    {
     "data": {
      "application/vnd.jupyter.widget-view+json": {
       "model_id": "3cea5d09641f4cf2b391ae2c1132f806",
       "version_major": 2,
       "version_minor": 0
      },
      "text/plain": [
       "HBox(children=(FloatProgress(value=0.0, description='Iteration', max=30.0, style=ProgressStyle(description_wid…"
      ]
     },
     "metadata": {},
     "output_type": "display_data"
    },
    {
     "name": "stdout",
     "output_type": "stream",
     "text": [
      "\n"
     ]
    },
    {
     "data": {
      "application/vnd.jupyter.widget-view+json": {
       "model_id": "7493b698d790431aa891f19d62136dd8",
       "version_major": 2,
       "version_minor": 0
      },
      "text/plain": [
       "HBox(children=(FloatProgress(value=0.0, description='Iteration', max=30.0, style=ProgressStyle(description_wid…"
      ]
     },
     "metadata": {},
     "output_type": "display_data"
    },
    {
     "name": "stdout",
     "output_type": "stream",
     "text": [
      "\n"
     ]
    },
    {
     "data": {
      "application/vnd.jupyter.widget-view+json": {
       "model_id": "e61159d98685443d95aa453e9784c69e",
       "version_major": 2,
       "version_minor": 0
      },
      "text/plain": [
       "HBox(children=(FloatProgress(value=0.0, description='Iteration', max=30.0, style=ProgressStyle(description_wid…"
      ]
     },
     "metadata": {},
     "output_type": "display_data"
    },
    {
     "name": "stdout",
     "output_type": "stream",
     "text": [
      "\n"
     ]
    },
    {
     "data": {
      "application/vnd.jupyter.widget-view+json": {
       "model_id": "882093d16f3e4730a2d41503e2cb0919",
       "version_major": 2,
       "version_minor": 0
      },
      "text/plain": [
       "HBox(children=(FloatProgress(value=0.0, description='Iteration', max=30.0, style=ProgressStyle(description_wid…"
      ]
     },
     "metadata": {},
     "output_type": "display_data"
    },
    {
     "name": "stdout",
     "output_type": "stream",
     "text": [
      "\n"
     ]
    },
    {
     "data": {
      "application/vnd.jupyter.widget-view+json": {
       "model_id": "d8f1b04bdc4244959810dc127f06488c",
       "version_major": 2,
       "version_minor": 0
      },
      "text/plain": [
       "HBox(children=(FloatProgress(value=0.0, description='Iteration', max=30.0, style=ProgressStyle(description_wid…"
      ]
     },
     "metadata": {},
     "output_type": "display_data"
    },
    {
     "name": "stdout",
     "output_type": "stream",
     "text": [
      "\n",
      "\n"
     ]
    },
    {
     "name": "stderr",
     "output_type": "stream",
     "text": [
      "\n",
      "\n",
      "\n",
      "  0%|          | 0/60 [00:00<?, ?it/s]\u001b[A\u001b[A\u001b[A\n",
      "\n",
      "\n",
      "  2%|▏         | 1/60 [00:01<01:09,  1.18s/it]\u001b[A\u001b[A\u001b[A\n",
      "\n",
      "\n",
      "  3%|▎         | 2/60 [00:02<01:09,  1.19s/it]\u001b[A\u001b[A\u001b[A\n",
      "\n",
      "\n",
      "  5%|▌         | 3/60 [00:03<01:07,  1.19s/it]\u001b[A\u001b[A\u001b[A\n",
      "\n",
      "\n",
      "  7%|▋         | 4/60 [00:04<01:07,  1.20s/it]\u001b[A\u001b[A\u001b[A\n",
      "\n",
      "\n",
      "  8%|▊         | 5/60 [00:06<01:06,  1.22s/it]\u001b[A\u001b[A\u001b[A\n",
      "\n",
      "\n",
      " 10%|█         | 6/60 [00:07<01:05,  1.21s/it]\u001b[A\u001b[A\u001b[A\n",
      "\n",
      "\n",
      " 12%|█▏        | 7/60 [00:08<01:04,  1.21s/it]\u001b[A\u001b[A\u001b[A\n",
      "\n",
      "\n",
      " 13%|█▎        | 8/60 [00:09<01:02,  1.21s/it]\u001b[A\u001b[A\u001b[A\n",
      "\n",
      "\n",
      " 15%|█▌        | 9/60 [00:10<01:01,  1.20s/it]\u001b[A\u001b[A\u001b[A\n",
      "\n",
      "\n",
      " 17%|█▋        | 10/60 [00:12<01:00,  1.20s/it]\u001b[A\u001b[A\u001b[A\n",
      "\n",
      "\n",
      " 18%|█▊        | 11/60 [00:13<00:59,  1.21s/it]\u001b[A\u001b[A\u001b[A\n",
      "\n",
      "\n",
      " 20%|██        | 12/60 [00:14<00:58,  1.21s/it]\u001b[A\u001b[A\u001b[A\n",
      "\n",
      "\n",
      " 22%|██▏       | 13/60 [00:15<00:56,  1.21s/it]\u001b[A\u001b[A\u001b[A\n",
      "\n",
      "\n",
      " 23%|██▎       | 14/60 [00:16<00:55,  1.20s/it]\u001b[A\u001b[A\u001b[A\n",
      "\n",
      "\n",
      " 25%|██▌       | 15/60 [00:18<00:53,  1.20s/it]\u001b[A\u001b[A\u001b[A\n",
      "\n",
      "\n",
      " 27%|██▋       | 16/60 [00:19<00:52,  1.19s/it]\u001b[A\u001b[A\u001b[A\n",
      "\n",
      "\n",
      " 28%|██▊       | 17/60 [00:20<00:51,  1.20s/it]\u001b[A\u001b[A\u001b[A\n",
      "\n",
      "\n",
      " 30%|███       | 18/60 [00:21<00:50,  1.20s/it]\u001b[A\u001b[A\u001b[A\n",
      "\n",
      "\n",
      " 32%|███▏      | 19/60 [00:22<00:49,  1.20s/it]\u001b[A\u001b[A\u001b[A\n",
      "\n",
      "\n",
      " 33%|███▎      | 20/60 [00:24<00:47,  1.19s/it]\u001b[A\u001b[A\u001b[A\n",
      "\n",
      "\n",
      " 35%|███▌      | 21/60 [00:25<00:46,  1.19s/it]\u001b[A\u001b[A\u001b[A\n",
      "\n",
      "\n",
      " 37%|███▋      | 22/60 [00:26<00:44,  1.18s/it]\u001b[A\u001b[A\u001b[A\n",
      "\n",
      "\n",
      " 38%|███▊      | 23/60 [00:27<00:44,  1.19s/it]\u001b[A\u001b[A\u001b[A\n",
      "\n",
      "\n",
      " 40%|████      | 24/60 [00:28<00:42,  1.19s/it]\u001b[A\u001b[A\u001b[A\n",
      "\n",
      "\n",
      " 42%|████▏     | 25/60 [00:30<00:41,  1.19s/it]\u001b[A\u001b[A\u001b[A\n",
      "\n",
      "\n",
      " 43%|████▎     | 26/60 [00:31<00:41,  1.22s/it]\u001b[A\u001b[A\u001b[A\n",
      "\n",
      "\n",
      " 45%|████▌     | 27/60 [00:32<00:41,  1.25s/it]\u001b[A\u001b[A\u001b[A\n",
      "\n",
      "\n",
      " 47%|████▋     | 28/60 [00:33<00:39,  1.23s/it]\u001b[A\u001b[A\u001b[A\n",
      "\n",
      "\n",
      " 48%|████▊     | 29/60 [00:34<00:37,  1.22s/it]\u001b[A\u001b[A\u001b[A\n",
      "\n",
      "\n",
      " 50%|█████     | 30/60 [00:36<00:36,  1.22s/it]\u001b[A\u001b[A\u001b[A\n",
      "\n",
      "\n",
      " 52%|█████▏    | 31/60 [00:37<00:36,  1.24s/it]\u001b[A\u001b[A\u001b[A\n",
      "\n",
      "\n",
      " 53%|█████▎    | 32/60 [00:38<00:34,  1.23s/it]\u001b[A\u001b[A\u001b[A\n",
      "\n",
      "\n",
      " 55%|█████▌    | 33/60 [00:39<00:32,  1.22s/it]\u001b[A\u001b[A\u001b[A\n",
      "\n",
      "\n",
      " 57%|█████▋    | 34/60 [00:41<00:31,  1.22s/it]\u001b[A\u001b[A\u001b[A\n",
      "\n",
      "\n",
      " 58%|█████▊    | 35/60 [00:42<00:31,  1.24s/it]\u001b[A\u001b[A\u001b[A\n",
      "\n",
      "\n",
      " 60%|██████    | 36/60 [00:43<00:29,  1.23s/it]\u001b[A\u001b[A\u001b[A\n",
      "\n",
      "\n",
      " 62%|██████▏   | 37/60 [00:44<00:28,  1.22s/it]\u001b[A\u001b[A\u001b[A\n",
      "\n",
      "\n",
      " 63%|██████▎   | 38/60 [00:46<00:27,  1.23s/it]\u001b[A\u001b[A\u001b[A\n",
      "\n",
      "\n",
      " 65%|██████▌   | 39/60 [00:47<00:25,  1.22s/it]\u001b[A\u001b[A\u001b[A\n",
      "\n",
      "\n",
      " 67%|██████▋   | 40/60 [00:48<00:24,  1.21s/it]\u001b[A\u001b[A\u001b[A\n",
      "\n",
      "\n",
      " 68%|██████▊   | 41/60 [00:49<00:23,  1.22s/it]\u001b[A\u001b[A\u001b[A\n",
      "\n",
      "\n",
      " 70%|███████   | 42/60 [00:50<00:21,  1.21s/it]\u001b[A\u001b[A\u001b[A\n",
      "\n",
      "\n",
      " 72%|███████▏  | 43/60 [00:52<00:20,  1.22s/it]\u001b[A\u001b[A\u001b[A\n",
      "\n",
      "\n",
      " 73%|███████▎  | 44/60 [00:53<00:19,  1.21s/it]\u001b[A\u001b[A\u001b[A\n",
      "\n",
      "\n",
      " 75%|███████▌  | 45/60 [00:54<00:18,  1.21s/it]\u001b[A\u001b[A\u001b[A\n",
      "\n",
      "\n",
      " 77%|███████▋  | 46/60 [00:55<00:16,  1.21s/it]\u001b[A\u001b[A\u001b[A\n",
      "\n",
      "\n",
      " 78%|███████▊  | 47/60 [00:56<00:15,  1.20s/it]\u001b[A\u001b[A\u001b[A\n",
      "\n",
      "\n",
      " 80%|████████  | 48/60 [00:58<00:14,  1.19s/it]\u001b[A\u001b[A\u001b[A\n",
      "\n",
      "\n",
      " 82%|████████▏ | 49/60 [00:59<00:13,  1.18s/it]\u001b[A\u001b[A\u001b[A\n",
      "\n",
      "\n",
      " 83%|████████▎ | 50/60 [01:00<00:11,  1.19s/it]\u001b[A\u001b[A\u001b[A\n",
      "\n",
      "\n",
      " 85%|████████▌ | 51/60 [01:01<00:10,  1.19s/it]\u001b[A\u001b[A\u001b[A\n",
      "\n",
      "\n",
      " 87%|████████▋ | 52/60 [01:02<00:09,  1.20s/it]\u001b[A\u001b[A\u001b[A\n",
      "\n",
      "\n",
      " 88%|████████▊ | 53/60 [01:04<00:08,  1.20s/it]\u001b[A\u001b[A\u001b[A\n",
      "\n",
      "\n",
      " 90%|█████████ | 54/60 [01:05<00:07,  1.19s/it]\u001b[A\u001b[A\u001b[A\n",
      "\n",
      "\n",
      " 92%|█████████▏| 55/60 [01:06<00:05,  1.19s/it]\u001b[A\u001b[A\u001b[A\n",
      "\n",
      "\n",
      " 93%|█████████▎| 56/60 [01:07<00:04,  1.19s/it]\u001b[A\u001b[A\u001b[A\n",
      "\n",
      "\n",
      " 95%|█████████▌| 57/60 [01:08<00:03,  1.20s/it]\u001b[A\u001b[A\u001b[A\n",
      "\n",
      "\n",
      " 97%|█████████▋| 58/60 [01:09<00:02,  1.19s/it]\u001b[A\u001b[A\u001b[A\n",
      "\n",
      "\n",
      " 98%|█████████▊| 59/60 [01:11<00:01,  1.19s/it]\u001b[A\u001b[A\u001b[A\n",
      "\n",
      "\n",
      "100%|██████████| 60/60 [01:12<00:00,  1.21s/it]\u001b[A\u001b[A\u001b[A\n"
     ]
    }
   ],
   "source": [
    "kf = KFold(n_splits=5)\n",
    "kf.get_n_splits(dataset)\n",
    "predictions = []\n",
    "ground_truth = []\n",
    "before_predictions = []\n",
    "before_ground_truth = []\n",
    "fine_tune_metrics_list = []\n",
    "pretrained_metrics_list = []\n",
    "for train_index, test_index in kf.split(dataset['query_id'].unique()):\n",
    "    training_queries = dataset['query_id'].unique()[train_index]\n",
    "    training = dataset[dataset['query_id'].isin(training_queries)]\n",
    "    testing_queries = dataset['query_id'].unique()[test_index]\n",
    "    testing = dataset[dataset['query_id'].isin(testing_queries)]\n",
    "\n",
    "    sbert_model = []\n",
    "    sbert_model = CrossEncoder('neuralmind/bert-base-portuguese-cased', max_length=300)\n",
    "    examples = []\n",
    "    for idx, row in tqdm(training.iterrows(), total=len(training)):\n",
    "        examples.append(InputExample(texts=[row[\"query\"], row[\"text\"]], label=int(row[\"final_label\"])))\n",
    "    dataloader = DataLoader(examples, shuffle=True, batch_size=8)\n",
    "\n",
    "    for idx, row in tqdm(testing.iterrows(), total=len(testing)):\n",
    "        output = sbert_model.predict([row[\"query\"], clean_text(row[\"text\"])])\n",
    "        before_predictions.append(output)\n",
    "        before_ground_truth.append(row[\"final_label\"])\n",
    "        before_predictions = [1 if output > 0.5 else 0 for output in before_predictions]\n",
    "\n",
    "    cross_pretrained_metrics, ranking_cut, queries_ids = eval_model(testing, cross_encoder_score, sbert_model)\n",
    "    pretrained_metrics_list.append(cross_pretrained_metrics)\n",
    "\n",
    "    sbert_model.fit(train_dataloader=dataloader, epochs=5, warmup_steps=100)\n",
    "    \n",
    "    fine_tune_metrics, ranking_cut, queries_ids = eval_model(testing, cross_encoder_score, sbert_model)\n",
    "    fine_tune_metrics_list.append(fine_tune_metrics)\n",
    "    \n",
    "    for idx, row in tqdm(testing.iterrows(), total=len(testing)):\n",
    "        output = sbert_model.predict([row[\"query\"], clean_text(row[\"text\"])])\n",
    "        predictions.append(output)\n",
    "        ground_truth.append(row[\"final_label\"])\n",
    "        predictions = [1 if output > 0.5 else 0 for output in predictions]\n",
    "        \n",
    "pretrained_metrics_list = dict(pair for d in pretrained_metrics_list for pair in d.items())\n",
    "fine_tune_metrics_list = dict(pair for d in fine_tune_metrics_list for pair in d.items())\n"
   ]
  },
  {
   "cell_type": "code",
   "execution_count": 48,
   "metadata": {
    "scrolled": true
   },
   "outputs": [
    {
     "name": "stdout",
     "output_type": "stream",
     "text": [
      "Accuracy before training:  0.5\n",
      "Accuracy after training:  0.6366666666666667\n"
     ]
    }
   ],
   "source": [
    "print(\"Accuracy before training: \", accuracy_score(before_ground_truth,before_predictions))\n",
    "print(\"Accuracy after training: \", accuracy_score(ground_truth,predictions))"
   ]
  },
  {
   "cell_type": "markdown",
   "metadata": {},
   "source": [
    "#### Cross Encoder Zero Shot Evaluation"
   ]
  },
  {
   "cell_type": "code",
   "execution_count": 49,
   "metadata": {},
   "outputs": [
    {
     "name": "stdout",
     "output_type": "stream",
     "text": [
      "% NDCG@5:  0.7539137142426331\n",
      "% MRR:  0.7458333333333333\n"
     ]
    }
   ],
   "source": [
    "queries_set = set(dataset[dataset[\"final_label\"] == 1][\"query_id\"])\n",
    "results = select_choosen_metrics(pretrained_metrics_list, ranking_cut, queries_set)\n",
    "report_result(ranking_cut, *results)"
   ]
  },
  {
   "cell_type": "markdown",
   "metadata": {},
   "source": [
    "#### Cross Encoder Fine Tune Evaluation"
   ]
  },
  {
   "cell_type": "code",
   "execution_count": 50,
   "metadata": {},
   "outputs": [
    {
     "name": "stdout",
     "output_type": "stream",
     "text": [
      "% NDCG@5:  0.742484245244902\n",
      "% MRR:  0.7145833333333333\n"
     ]
    }
   ],
   "source": [
    "queries_set = set(dataset[dataset[\"final_label\"] == 1][\"query_id\"])\n",
    "results = select_choosen_metrics(fine_tune_metrics_list, ranking_cut, queries_set)\n",
    "report_result(ranking_cut, *results)"
   ]
  },
  {
   "cell_type": "code",
   "execution_count": 51,
   "metadata": {},
   "outputs": [
    {
     "name": "stdout",
     "output_type": "stream",
     "text": [
      "\n",
      "Statistic Relevance for NDCG\n",
      "Ttest_relResult(statistic=-0.32609612137497174, pvalue=0.7457402883111202)\n",
      "\n",
      "Statistic Relevance for MRR\n",
      "Ttest_relResult(statistic=-0.6369487984517483, pvalue=0.5271229682116553)\n"
     ]
    }
   ],
   "source": [
    "statistic_relevance(fine_tune_metrics_list, pretrained_metrics_list)"
   ]
  },
  {
   "cell_type": "markdown",
   "metadata": {},
   "source": [
    "### Bi Encoder"
   ]
  },
  {
   "cell_type": "markdown",
   "metadata": {},
   "source": [
    "#### Training"
   ]
  },
  {
   "cell_type": "code",
   "execution_count": 54,
   "metadata": {
    "scrolled": true
   },
   "outputs": [
    {
     "name": "stderr",
     "output_type": "stream",
     "text": [
      "Some weights of the model checkpoint at neuralmind/bert-base-portuguese-cased were not used when initializing BertModel: ['cls.seq_relationship.weight', 'cls.predictions.transform.dense.weight', 'cls.predictions.transform.LayerNorm.bias', 'cls.seq_relationship.bias', 'cls.predictions.transform.LayerNorm.weight', 'cls.predictions.decoder.weight', 'cls.predictions.bias', 'cls.predictions.transform.dense.bias']\n",
      "- This IS expected if you are initializing BertModel from the checkpoint of a model trained on another task or with another architecture (e.g. initializing a BertForSequenceClassification model from a BertForPreTraining model).\n",
      "- This IS NOT expected if you are initializing BertModel from the checkpoint of a model that you expect to be exactly identical (initializing a BertForSequenceClassification model from a BertForSequenceClassification model).\n",
      "\n",
      "\n",
      "\n",
      "\n",
      "\n",
      "100%|██████████| 300/300 [00:00<00:00, 7615.53it/s]\u001b[A\n"
     ]
    },
    {
     "data": {
      "application/vnd.jupyter.widget-view+json": {
       "model_id": "2e0a5127f4c249ba9511c5aa8a585f73",
       "version_major": 2,
       "version_minor": 0
      },
      "text/plain": [
       "HBox(children=(FloatProgress(value=0.0, description='Epoch', max=5.0, style=ProgressStyle(description_width='i…"
      ]
     },
     "metadata": {},
     "output_type": "display_data"
    },
    {
     "data": {
      "application/vnd.jupyter.widget-view+json": {
       "model_id": "1f0faffba3954d439d04d5ee078ec76a",
       "version_major": 2,
       "version_minor": 0
      },
      "text/plain": [
       "HBox(children=(FloatProgress(value=0.0, description='Iteration', max=38.0, style=ProgressStyle(description_wid…"
      ]
     },
     "metadata": {},
     "output_type": "display_data"
    },
    {
     "name": "stdout",
     "output_type": "stream",
     "text": [
      "\n"
     ]
    },
    {
     "data": {
      "application/vnd.jupyter.widget-view+json": {
       "model_id": "e7e9860682b54947bc8b89374f65f746",
       "version_major": 2,
       "version_minor": 0
      },
      "text/plain": [
       "HBox(children=(FloatProgress(value=0.0, description='Iteration', max=38.0, style=ProgressStyle(description_wid…"
      ]
     },
     "metadata": {},
     "output_type": "display_data"
    },
    {
     "name": "stdout",
     "output_type": "stream",
     "text": [
      "\n"
     ]
    },
    {
     "data": {
      "application/vnd.jupyter.widget-view+json": {
       "model_id": "a1c8a642f6d64475a8ec7e747d9dcdd8",
       "version_major": 2,
       "version_minor": 0
      },
      "text/plain": [
       "HBox(children=(FloatProgress(value=0.0, description='Iteration', max=38.0, style=ProgressStyle(description_wid…"
      ]
     },
     "metadata": {},
     "output_type": "display_data"
    },
    {
     "name": "stdout",
     "output_type": "stream",
     "text": [
      "\n"
     ]
    },
    {
     "data": {
      "application/vnd.jupyter.widget-view+json": {
       "model_id": "063a1de430e64da9b6953dc359fca98b",
       "version_major": 2,
       "version_minor": 0
      },
      "text/plain": [
       "HBox(children=(FloatProgress(value=0.0, description='Iteration', max=38.0, style=ProgressStyle(description_wid…"
      ]
     },
     "metadata": {},
     "output_type": "display_data"
    },
    {
     "name": "stdout",
     "output_type": "stream",
     "text": [
      "\n"
     ]
    },
    {
     "data": {
      "application/vnd.jupyter.widget-view+json": {
       "model_id": "7a405c291c6b4b3781dcb7ca5734f63a",
       "version_major": 2,
       "version_minor": 0
      },
      "text/plain": [
       "HBox(children=(FloatProgress(value=0.0, description='Iteration', max=38.0, style=ProgressStyle(description_wid…"
      ]
     },
     "metadata": {},
     "output_type": "display_data"
    },
    {
     "name": "stdout",
     "output_type": "stream",
     "text": [
      "\n",
      "\n"
     ]
    },
    {
     "name": "stderr",
     "output_type": "stream",
     "text": [
      "Some weights of the model checkpoint at neuralmind/bert-base-portuguese-cased were not used when initializing BertModel: ['cls.seq_relationship.weight', 'cls.predictions.transform.dense.weight', 'cls.predictions.transform.LayerNorm.bias', 'cls.seq_relationship.bias', 'cls.predictions.transform.LayerNorm.weight', 'cls.predictions.decoder.weight', 'cls.predictions.bias', 'cls.predictions.transform.dense.bias']\n",
      "- This IS expected if you are initializing BertModel from the checkpoint of a model trained on another task or with another architecture (e.g. initializing a BertForSequenceClassification model from a BertForPreTraining model).\n",
      "- This IS NOT expected if you are initializing BertModel from the checkpoint of a model that you expect to be exactly identical (initializing a BertForSequenceClassification model from a BertForSequenceClassification model).\n",
      "\n",
      "\n",
      "\n",
      "\n",
      "\n",
      "100%|██████████| 300/300 [00:00<00:00, 7500.19it/s]\u001b[A\n"
     ]
    },
    {
     "data": {
      "application/vnd.jupyter.widget-view+json": {
       "model_id": "93f328fc59364de2af89bd3c3ca18aef",
       "version_major": 2,
       "version_minor": 0
      },
      "text/plain": [
       "HBox(children=(FloatProgress(value=0.0, description='Epoch', max=5.0, style=ProgressStyle(description_width='i…"
      ]
     },
     "metadata": {},
     "output_type": "display_data"
    },
    {
     "data": {
      "application/vnd.jupyter.widget-view+json": {
       "model_id": "84231b515eb146fa9e7e5554a8a171fa",
       "version_major": 2,
       "version_minor": 0
      },
      "text/plain": [
       "HBox(children=(FloatProgress(value=0.0, description='Iteration', max=38.0, style=ProgressStyle(description_wid…"
      ]
     },
     "metadata": {},
     "output_type": "display_data"
    },
    {
     "name": "stdout",
     "output_type": "stream",
     "text": [
      "\n"
     ]
    },
    {
     "data": {
      "application/vnd.jupyter.widget-view+json": {
       "model_id": "9ae81d55994c4959b032de546912fc47",
       "version_major": 2,
       "version_minor": 0
      },
      "text/plain": [
       "HBox(children=(FloatProgress(value=0.0, description='Iteration', max=38.0, style=ProgressStyle(description_wid…"
      ]
     },
     "metadata": {},
     "output_type": "display_data"
    },
    {
     "name": "stdout",
     "output_type": "stream",
     "text": [
      "\n"
     ]
    },
    {
     "data": {
      "application/vnd.jupyter.widget-view+json": {
       "model_id": "c8549127a05748ef89fe77fc517b2488",
       "version_major": 2,
       "version_minor": 0
      },
      "text/plain": [
       "HBox(children=(FloatProgress(value=0.0, description='Iteration', max=38.0, style=ProgressStyle(description_wid…"
      ]
     },
     "metadata": {},
     "output_type": "display_data"
    },
    {
     "name": "stdout",
     "output_type": "stream",
     "text": [
      "\n"
     ]
    },
    {
     "data": {
      "application/vnd.jupyter.widget-view+json": {
       "model_id": "c634b9c5676943e2b798cb0e17028a75",
       "version_major": 2,
       "version_minor": 0
      },
      "text/plain": [
       "HBox(children=(FloatProgress(value=0.0, description='Iteration', max=38.0, style=ProgressStyle(description_wid…"
      ]
     },
     "metadata": {},
     "output_type": "display_data"
    },
    {
     "name": "stdout",
     "output_type": "stream",
     "text": [
      "\n"
     ]
    },
    {
     "data": {
      "application/vnd.jupyter.widget-view+json": {
       "model_id": "a615057ab3f54ff199d7d6ab0ecea05d",
       "version_major": 2,
       "version_minor": 0
      },
      "text/plain": [
       "HBox(children=(FloatProgress(value=0.0, description='Iteration', max=38.0, style=ProgressStyle(description_wid…"
      ]
     },
     "metadata": {},
     "output_type": "display_data"
    },
    {
     "name": "stdout",
     "output_type": "stream",
     "text": [
      "\n",
      "\n"
     ]
    },
    {
     "name": "stderr",
     "output_type": "stream",
     "text": [
      "Some weights of the model checkpoint at neuralmind/bert-base-portuguese-cased were not used when initializing BertModel: ['cls.seq_relationship.weight', 'cls.predictions.transform.dense.weight', 'cls.predictions.transform.LayerNorm.bias', 'cls.seq_relationship.bias', 'cls.predictions.transform.LayerNorm.weight', 'cls.predictions.decoder.weight', 'cls.predictions.bias', 'cls.predictions.transform.dense.bias']\n",
      "- This IS expected if you are initializing BertModel from the checkpoint of a model trained on another task or with another architecture (e.g. initializing a BertForSequenceClassification model from a BertForPreTraining model).\n",
      "- This IS NOT expected if you are initializing BertModel from the checkpoint of a model that you expect to be exactly identical (initializing a BertForSequenceClassification model from a BertForSequenceClassification model).\n",
      "\n",
      "\n",
      "\n",
      "\n",
      "\n",
      "100%|██████████| 300/300 [00:00<00:00, 6828.85it/s]\u001b[A\n"
     ]
    },
    {
     "data": {
      "application/vnd.jupyter.widget-view+json": {
       "model_id": "c78e3295a61a450db5fc0e7f046c5b4b",
       "version_major": 2,
       "version_minor": 0
      },
      "text/plain": [
       "HBox(children=(FloatProgress(value=0.0, description='Epoch', max=5.0, style=ProgressStyle(description_width='i…"
      ]
     },
     "metadata": {},
     "output_type": "display_data"
    },
    {
     "data": {
      "application/vnd.jupyter.widget-view+json": {
       "model_id": "0da824307368416bbadf07088e8614f2",
       "version_major": 2,
       "version_minor": 0
      },
      "text/plain": [
       "HBox(children=(FloatProgress(value=0.0, description='Iteration', max=38.0, style=ProgressStyle(description_wid…"
      ]
     },
     "metadata": {},
     "output_type": "display_data"
    },
    {
     "name": "stdout",
     "output_type": "stream",
     "text": [
      "\n"
     ]
    },
    {
     "data": {
      "application/vnd.jupyter.widget-view+json": {
       "model_id": "2764ecbac35e44059dcfdfaeb4e24a59",
       "version_major": 2,
       "version_minor": 0
      },
      "text/plain": [
       "HBox(children=(FloatProgress(value=0.0, description='Iteration', max=38.0, style=ProgressStyle(description_wid…"
      ]
     },
     "metadata": {},
     "output_type": "display_data"
    },
    {
     "name": "stdout",
     "output_type": "stream",
     "text": [
      "\n"
     ]
    },
    {
     "data": {
      "application/vnd.jupyter.widget-view+json": {
       "model_id": "21f29452e23d48878ad396fe895fbeca",
       "version_major": 2,
       "version_minor": 0
      },
      "text/plain": [
       "HBox(children=(FloatProgress(value=0.0, description='Iteration', max=38.0, style=ProgressStyle(description_wid…"
      ]
     },
     "metadata": {},
     "output_type": "display_data"
    },
    {
     "name": "stdout",
     "output_type": "stream",
     "text": [
      "\n"
     ]
    },
    {
     "data": {
      "application/vnd.jupyter.widget-view+json": {
       "model_id": "d584db9ef8a3441b86f69243208109be",
       "version_major": 2,
       "version_minor": 0
      },
      "text/plain": [
       "HBox(children=(FloatProgress(value=0.0, description='Iteration', max=38.0, style=ProgressStyle(description_wid…"
      ]
     },
     "metadata": {},
     "output_type": "display_data"
    },
    {
     "name": "stdout",
     "output_type": "stream",
     "text": [
      "\n"
     ]
    },
    {
     "data": {
      "application/vnd.jupyter.widget-view+json": {
       "model_id": "96afba261deb4eae8ab70870b6a0735f",
       "version_major": 2,
       "version_minor": 0
      },
      "text/plain": [
       "HBox(children=(FloatProgress(value=0.0, description='Iteration', max=38.0, style=ProgressStyle(description_wid…"
      ]
     },
     "metadata": {},
     "output_type": "display_data"
    },
    {
     "name": "stdout",
     "output_type": "stream",
     "text": [
      "\n",
      "\n"
     ]
    },
    {
     "name": "stderr",
     "output_type": "stream",
     "text": [
      "Some weights of the model checkpoint at neuralmind/bert-base-portuguese-cased were not used when initializing BertModel: ['cls.seq_relationship.weight', 'cls.predictions.transform.dense.weight', 'cls.predictions.transform.LayerNorm.bias', 'cls.seq_relationship.bias', 'cls.predictions.transform.LayerNorm.weight', 'cls.predictions.decoder.weight', 'cls.predictions.bias', 'cls.predictions.transform.dense.bias']\n",
      "- This IS expected if you are initializing BertModel from the checkpoint of a model trained on another task or with another architecture (e.g. initializing a BertForSequenceClassification model from a BertForPreTraining model).\n",
      "- This IS NOT expected if you are initializing BertModel from the checkpoint of a model that you expect to be exactly identical (initializing a BertForSequenceClassification model from a BertForSequenceClassification model).\n",
      "\n",
      "\n",
      "\n",
      "\n",
      "\n",
      "100%|██████████| 300/300 [00:00<00:00, 8027.22it/s]\u001b[A\n"
     ]
    },
    {
     "data": {
      "application/vnd.jupyter.widget-view+json": {
       "model_id": "c22ce79515e048e9b72e8957e4afddee",
       "version_major": 2,
       "version_minor": 0
      },
      "text/plain": [
       "HBox(children=(FloatProgress(value=0.0, description='Epoch', max=5.0, style=ProgressStyle(description_width='i…"
      ]
     },
     "metadata": {},
     "output_type": "display_data"
    },
    {
     "data": {
      "application/vnd.jupyter.widget-view+json": {
       "model_id": "ae80fec3166444d99ff23abe841db83a",
       "version_major": 2,
       "version_minor": 0
      },
      "text/plain": [
       "HBox(children=(FloatProgress(value=0.0, description='Iteration', max=38.0, style=ProgressStyle(description_wid…"
      ]
     },
     "metadata": {},
     "output_type": "display_data"
    },
    {
     "name": "stdout",
     "output_type": "stream",
     "text": [
      "\n"
     ]
    },
    {
     "data": {
      "application/vnd.jupyter.widget-view+json": {
       "model_id": "fa7ac0d754b64141bfbbe39c7486d472",
       "version_major": 2,
       "version_minor": 0
      },
      "text/plain": [
       "HBox(children=(FloatProgress(value=0.0, description='Iteration', max=38.0, style=ProgressStyle(description_wid…"
      ]
     },
     "metadata": {},
     "output_type": "display_data"
    },
    {
     "name": "stdout",
     "output_type": "stream",
     "text": [
      "\n"
     ]
    },
    {
     "data": {
      "application/vnd.jupyter.widget-view+json": {
       "model_id": "30779d9fa3a844519ccb764256441e41",
       "version_major": 2,
       "version_minor": 0
      },
      "text/plain": [
       "HBox(children=(FloatProgress(value=0.0, description='Iteration', max=38.0, style=ProgressStyle(description_wid…"
      ]
     },
     "metadata": {},
     "output_type": "display_data"
    },
    {
     "name": "stdout",
     "output_type": "stream",
     "text": [
      "\n"
     ]
    },
    {
     "data": {
      "application/vnd.jupyter.widget-view+json": {
       "model_id": "5307699411cb48eaac18ada1d79eddcb",
       "version_major": 2,
       "version_minor": 0
      },
      "text/plain": [
       "HBox(children=(FloatProgress(value=0.0, description='Iteration', max=38.0, style=ProgressStyle(description_wid…"
      ]
     },
     "metadata": {},
     "output_type": "display_data"
    },
    {
     "name": "stdout",
     "output_type": "stream",
     "text": [
      "\n"
     ]
    },
    {
     "data": {
      "application/vnd.jupyter.widget-view+json": {
       "model_id": "553cf150ccb646d8962de4778ef34f30",
       "version_major": 2,
       "version_minor": 0
      },
      "text/plain": [
       "HBox(children=(FloatProgress(value=0.0, description='Iteration', max=38.0, style=ProgressStyle(description_wid…"
      ]
     },
     "metadata": {},
     "output_type": "display_data"
    },
    {
     "name": "stdout",
     "output_type": "stream",
     "text": [
      "\n",
      "\n"
     ]
    },
    {
     "name": "stderr",
     "output_type": "stream",
     "text": [
      "Some weights of the model checkpoint at neuralmind/bert-base-portuguese-cased were not used when initializing BertModel: ['cls.seq_relationship.weight', 'cls.predictions.transform.dense.weight', 'cls.predictions.transform.LayerNorm.bias', 'cls.seq_relationship.bias', 'cls.predictions.transform.LayerNorm.weight', 'cls.predictions.decoder.weight', 'cls.predictions.bias', 'cls.predictions.transform.dense.bias']\n",
      "- This IS expected if you are initializing BertModel from the checkpoint of a model trained on another task or with another architecture (e.g. initializing a BertForSequenceClassification model from a BertForPreTraining model).\n",
      "- This IS NOT expected if you are initializing BertModel from the checkpoint of a model that you expect to be exactly identical (initializing a BertForSequenceClassification model from a BertForSequenceClassification model).\n",
      "\n",
      "\n",
      "\n",
      "\n",
      "\n",
      "100%|██████████| 300/300 [00:00<00:00, 6636.87it/s]\u001b[A\n"
     ]
    },
    {
     "data": {
      "application/vnd.jupyter.widget-view+json": {
       "model_id": "a4dd20f307814349832b2088d6bbf24a",
       "version_major": 2,
       "version_minor": 0
      },
      "text/plain": [
       "HBox(children=(FloatProgress(value=0.0, description='Epoch', max=5.0, style=ProgressStyle(description_width='i…"
      ]
     },
     "metadata": {},
     "output_type": "display_data"
    },
    {
     "data": {
      "application/vnd.jupyter.widget-view+json": {
       "model_id": "c12cab9875944e54a478f0d6b8ebf89f",
       "version_major": 2,
       "version_minor": 0
      },
      "text/plain": [
       "HBox(children=(FloatProgress(value=0.0, description='Iteration', max=38.0, style=ProgressStyle(description_wid…"
      ]
     },
     "metadata": {},
     "output_type": "display_data"
    },
    {
     "name": "stdout",
     "output_type": "stream",
     "text": [
      "\n"
     ]
    },
    {
     "data": {
      "application/vnd.jupyter.widget-view+json": {
       "model_id": "584c0853cd714bcb9e1ccaa3f54c0c97",
       "version_major": 2,
       "version_minor": 0
      },
      "text/plain": [
       "HBox(children=(FloatProgress(value=0.0, description='Iteration', max=38.0, style=ProgressStyle(description_wid…"
      ]
     },
     "metadata": {},
     "output_type": "display_data"
    },
    {
     "name": "stdout",
     "output_type": "stream",
     "text": [
      "\n"
     ]
    },
    {
     "data": {
      "application/vnd.jupyter.widget-view+json": {
       "model_id": "f11e3d533faa474d934cdbf4b7035fa9",
       "version_major": 2,
       "version_minor": 0
      },
      "text/plain": [
       "HBox(children=(FloatProgress(value=0.0, description='Iteration', max=38.0, style=ProgressStyle(description_wid…"
      ]
     },
     "metadata": {},
     "output_type": "display_data"
    },
    {
     "name": "stdout",
     "output_type": "stream",
     "text": [
      "\n"
     ]
    },
    {
     "data": {
      "application/vnd.jupyter.widget-view+json": {
       "model_id": "98f29921960e499bb9091373f679db89",
       "version_major": 2,
       "version_minor": 0
      },
      "text/plain": [
       "HBox(children=(FloatProgress(value=0.0, description='Iteration', max=38.0, style=ProgressStyle(description_wid…"
      ]
     },
     "metadata": {},
     "output_type": "display_data"
    },
    {
     "name": "stdout",
     "output_type": "stream",
     "text": [
      "\n"
     ]
    },
    {
     "data": {
      "application/vnd.jupyter.widget-view+json": {
       "model_id": "9877d47fd9c245fbbe404e62dcdcc66c",
       "version_major": 2,
       "version_minor": 0
      },
      "text/plain": [
       "HBox(children=(FloatProgress(value=0.0, description='Iteration', max=38.0, style=ProgressStyle(description_wid…"
      ]
     },
     "metadata": {},
     "output_type": "display_data"
    },
    {
     "name": "stdout",
     "output_type": "stream",
     "text": [
      "\n",
      "\n"
     ]
    }
   ],
   "source": [
    "kf = KFold(n_splits=5)\n",
    "kf.get_n_splits(dataset)\n",
    "predictions = []\n",
    "ground_truth = []\n",
    "before_predictions = []\n",
    "before_ground_truth = []\n",
    "fine_tune_metrics_list = []\n",
    "pretrained_metrics_list = []\n",
    "for train_index, test_index in kf.split(dataset['query_id'].unique()):\n",
    "    training_queries = dataset['query_id'].unique()[train_index]\n",
    "    training = dataset[dataset['query_id'].isin(training_queries)]\n",
    "    testing_queries = dataset['query_id'].unique()[test_index]\n",
    "    testing = dataset[dataset['query_id'].isin(testing_queries)]\n",
    "\n",
    "    #load model\n",
    "    model = []\n",
    "    word_embedding_model = models.Transformer('neuralmind/bert-base-portuguese-cased', max_seq_length=300)\n",
    "    pooling_model = models.Pooling(word_embedding_model.get_word_embedding_dimension())\n",
    "    model = SentenceTransformer(modules=[word_embedding_model, pooling_model])\n",
    "\n",
    "    #load data\n",
    "    examples = []\n",
    "    for idx, row in tqdm(dataset.iterrows(), total=len(dataset)):\n",
    "        examples.append(InputExample(texts=[row[\"query\"], row[\"text\"]], label=float(row[\"final_label\"])))\n",
    "    dataloader = DataLoader(examples, shuffle=True, batch_size=8)\n",
    "\n",
    "    pretrained_metrics, ranking_cut, queries_ids = eval_model(testing, bi_encoder_score, model)\n",
    "    pretrained_metrics_list.append(pretrained_metrics)\n",
    "\n",
    "    train_loss = losses.CosineSimilarityLoss(model)\n",
    "    model.fit(train_objectives=[(dataloader, train_loss)], epochs=5, warmup_steps=50)    \n",
    "    \n",
    "    fine_tune_metrics, ranking_cut, queries_ids = eval_model(testing, bi_encoder_score, model)\n",
    "    fine_tune_metrics_list.append(fine_tune_metrics)"
   ]
  },
  {
   "cell_type": "markdown",
   "metadata": {},
   "source": [
    "#### Bi Encoder Zero Shot Evaluation"
   ]
  },
  {
   "cell_type": "code",
   "execution_count": 55,
   "metadata": {},
   "outputs": [
    {
     "name": "stdout",
     "output_type": "stream",
     "text": [
      "% NDCG@5:  0.5824295783165165\n",
      "% MRR:  0.5255208333333333\n"
     ]
    }
   ],
   "source": [
    "fine_tune_metrics_list = dict(pair for d in fine_tune_metrics_list for pair in d.items())\n",
    "results = select_choosen_metrics(fine_tune_metrics_list, ranking_cut, queries_set)\n",
    "report_result(ranking_cut, *results)"
   ]
  },
  {
   "cell_type": "markdown",
   "metadata": {},
   "source": [
    "#### Bi Encoder Fine Tune Evaluation"
   ]
  },
  {
   "cell_type": "code",
   "execution_count": 56,
   "metadata": {},
   "outputs": [
    {
     "name": "stdout",
     "output_type": "stream",
     "text": [
      "% NDCG@5:  0.7097078614145842\n",
      "% MRR:  0.6578125\n"
     ]
    }
   ],
   "source": [
    "pretrained_metrics_list = dict(pair for d in pretrained_metrics_list for pair in d.items())\n",
    "results = select_choosen_metrics(pretrained_metrics_list, ranking_cut, queries_set)\n",
    "report_result(ranking_cut, *results)"
   ]
  },
  {
   "cell_type": "code",
   "execution_count": 57,
   "metadata": {},
   "outputs": [
    {
     "name": "stdout",
     "output_type": "stream",
     "text": [
      "\n",
      "Statistic Relevance for NDCG\n",
      "Ttest_relResult(statistic=-4.221000824449853, pvalue=0.00010490308465564452)\n",
      "\n",
      "Statistic Relevance for MRR\n",
      "Ttest_relResult(statistic=-2.678962828710952, pvalue=0.01002573008694433)\n"
     ]
    }
   ],
   "source": [
    "statistic_relevance(fine_tune_metrics_list, pretrained_metrics_list)"
   ]
  }
 ],
 "metadata": {
  "kernelspec": {
   "display_name": "Python 3",
   "language": "python",
   "name": "python3"
  },
  "language_info": {
   "codemirror_mode": {
    "name": "ipython",
    "version": 3
   },
   "file_extension": ".py",
   "mimetype": "text/x-python",
   "name": "python",
   "nbconvert_exporter": "python",
   "pygments_lexer": "ipython3",
   "version": "3.7.5"
  }
 },
 "nbformat": 4,
 "nbformat_minor": 4
}
